{
 "cells": [
  {
   "cell_type": "code",
   "execution_count": 1,
   "id": "4db0ab4b-2291-44a1-81d6-24d533d7d225",
   "metadata": {},
   "outputs": [],
   "source": [
    "#Libraries for data processing\n",
    "import pandas as pd\n",
    "\n",
    "\n",
    "#Libraries for plotting\n",
    "\n",
    "\n",
    "#Libraries for Machine Learning"
   ]
  },
  {
   "cell_type": "code",
   "execution_count": null,
   "id": "1da8114c-9d83-4857-adf6-ef129ac1bc0c",
   "metadata": {},
   "outputs": [],
   "source": []
  }
 ],
 "metadata": {
  "kernelspec": {
   "display_name": "Python 3 (ipykernel)",
   "language": "python",
   "name": "python3"
  },
  "language_info": {
   "codemirror_mode": {
    "name": "ipython",
    "version": 3
   },
   "file_extension": ".py",
   "mimetype": "text/x-python",
   "name": "python",
   "nbconvert_exporter": "python",
   "pygments_lexer": "ipython3",
   "version": "3.11.3"
  }
 },
 "nbformat": 4,
 "nbformat_minor": 5
}
