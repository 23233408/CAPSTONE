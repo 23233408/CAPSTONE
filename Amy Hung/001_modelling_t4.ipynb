{
 "cells": [
  {
   "cell_type": "markdown",
   "id": "9d3dacd6",
   "metadata": {},
   "source": [
    "## 1. Loading libraries"
   ]
  },
  {
   "cell_type": "code",
   "execution_count": 1,
   "id": "23d3f477",
   "metadata": {},
   "outputs": [],
   "source": [
    "import pandas as pd\n",
    "import numpy as np, warnings\n",
    "from pathlib import Path\n",
    "import os\n",
    "import sweetviz as sv\n",
    "from importlib import reload\n",
    "import matplotlib.pyplot as plt\n",
    "import seaborn as sns\n",
    "\n",
    "np.warnings = warnings"
   ]
  },
  {
   "cell_type": "code",
   "execution_count": 2,
   "id": "71a14ba9",
   "metadata": {},
   "outputs": [],
   "source": [
    "import sys\n",
    "sys.path.append(\"..\")\n",
    "\n",
    "# import utility functions\n",
    "import src.utils as util\n",
    "reload(util)\n",
    "\n",
    "import src.load_parquet as load_parquet\n",
    "reload(load_parquet)\n",
    "\n",
    "# setup OS agnostic pathnames\n",
    "ROOT_DIR = Path('..')\n",
    "\n",
    "# Note: to run main notebook from root directory, use:\n",
    "# ROOT_DIR = Path('')"
   ]
  },
  {
   "cell_type": "code",
   "execution_count": 3,
   "id": "0d297580",
   "metadata": {},
   "outputs": [],
   "source": [
    "# load libraries and modules\n",
    "import pandas as pd\n",
    "import numpy as np\n",
    "\n",
    "from sklearn.model_selection import train_test_split, GridSearchCV, KFold, cross_validate, cross_val_score, RandomizedSearchCV\n",
    "from sklearn.preprocessing import MinMaxScaler\n",
    "from sklearn.utils.class_weight import compute_class_weight\n",
    "from sklearn.feature_selection import SelectFromModel\n",
    "\n",
    "# model comparison\n",
    "from sklearn.ensemble import RandomForestClassifier, GradientBoostingClassifier,AdaBoostClassifier\n",
    "from sklearn.linear_model import LogisticRegression, SGDClassifier\n",
    "from sklearn.neighbors import KNeighborsClassifier\n",
    "from xgboost import XGBClassifier\n",
    "\n",
    "# evaluation metrics\n",
    "from sklearn.metrics import cohen_kappa_score,classification_report \n",
    "from sklearn.metrics import mean_squared_error, confusion_matrix, roc_auc_score, precision_score, recall_score, f1_score, auc, make_scorer\n",
    "from sklearn.metrics import precision_recall_curve, average_precision_score, roc_curve, accuracy_score, classification_report"
   ]
  },
  {
   "cell_type": "markdown",
   "id": "804ae94c",
   "metadata": {},
   "source": [
    "## 2. Train/ Test Split"
   ]
  },
  {
   "cell_type": "code",
   "execution_count": 4,
   "id": "5d194107",
   "metadata": {},
   "outputs": [
    {
     "data": {
      "text/html": [
       "<div>\n",
       "<style scoped>\n",
       "    .dataframe tbody tr th:only-of-type {\n",
       "        vertical-align: middle;\n",
       "    }\n",
       "\n",
       "    .dataframe tbody tr th {\n",
       "        vertical-align: top;\n",
       "    }\n",
       "\n",
       "    .dataframe thead th {\n",
       "        text-align: right;\n",
       "    }\n",
       "</style>\n",
       "<table border=\"1\" class=\"dataframe\">\n",
       "  <thead>\n",
       "    <tr style=\"text-align: right;\">\n",
       "      <th></th>\n",
       "      <th>AGE</th>\n",
       "      <th>GENDER</th>\n",
       "      <th>IS_SEPSIS</th>\n",
       "      <th>ITEMID_51279</th>\n",
       "      <th>ITEMID_51222</th>\n",
       "      <th>ITEMID_51221</th>\n",
       "      <th>ITEMID_50931</th>\n",
       "      <th>ITEMID_51006</th>\n",
       "      <th>ITEMID_51244</th>\n",
       "      <th>ITEMID_51256</th>\n",
       "      <th>ITEMID_51301</th>\n",
       "      <th>ITEMID_51274</th>\n",
       "      <th>ITEMID_50912</th>\n",
       "    </tr>\n",
       "  </thead>\n",
       "  <tbody>\n",
       "    <tr>\n",
       "      <th>0</th>\n",
       "      <td>76</td>\n",
       "      <td>M</td>\n",
       "      <td>0</td>\n",
       "      <td>2.79</td>\n",
       "      <td>8.2</td>\n",
       "      <td>25.6</td>\n",
       "      <td>281.0</td>\n",
       "      <td>43.0</td>\n",
       "      <td>8.0</td>\n",
       "      <td>81.0</td>\n",
       "      <td>19.1</td>\n",
       "      <td>15.6</td>\n",
       "      <td>2.5</td>\n",
       "    </tr>\n",
       "    <tr>\n",
       "      <th>1</th>\n",
       "      <td>47</td>\n",
       "      <td>F</td>\n",
       "      <td>0</td>\n",
       "      <td>3.80</td>\n",
       "      <td>11.5</td>\n",
       "      <td>34.2</td>\n",
       "      <td>140.0</td>\n",
       "      <td>9.0</td>\n",
       "      <td>6.9</td>\n",
       "      <td>89.6</td>\n",
       "      <td>9.7</td>\n",
       "      <td>12.3</td>\n",
       "      <td>0.5</td>\n",
       "    </tr>\n",
       "    <tr>\n",
       "      <th>2</th>\n",
       "      <td>41</td>\n",
       "      <td>M</td>\n",
       "      <td>0</td>\n",
       "      <td>5.46</td>\n",
       "      <td>15.4</td>\n",
       "      <td>45.2</td>\n",
       "      <td>129.0</td>\n",
       "      <td>16.0</td>\n",
       "      <td>41.6</td>\n",
       "      <td>50.1</td>\n",
       "      <td>7.5</td>\n",
       "      <td>12.7</td>\n",
       "      <td>1.2</td>\n",
       "    </tr>\n",
       "    <tr>\n",
       "      <th>3</th>\n",
       "      <td>50</td>\n",
       "      <td>F</td>\n",
       "      <td>0</td>\n",
       "      <td>4.31</td>\n",
       "      <td>12.5</td>\n",
       "      <td>36.9</td>\n",
       "      <td>121.0</td>\n",
       "      <td>12.0</td>\n",
       "      <td>7.6</td>\n",
       "      <td>91.4</td>\n",
       "      <td>8.5</td>\n",
       "      <td>13.0</td>\n",
       "      <td>0.7</td>\n",
       "    </tr>\n",
       "    <tr>\n",
       "      <th>4</th>\n",
       "      <td>39</td>\n",
       "      <td>F</td>\n",
       "      <td>0</td>\n",
       "      <td>4.08</td>\n",
       "      <td>12.3</td>\n",
       "      <td>35.6</td>\n",
       "      <td>169.0</td>\n",
       "      <td>13.0</td>\n",
       "      <td>-999.0</td>\n",
       "      <td>-999.0</td>\n",
       "      <td>16.6</td>\n",
       "      <td>13.7</td>\n",
       "      <td>0.6</td>\n",
       "    </tr>\n",
       "    <tr>\n",
       "      <th>...</th>\n",
       "      <td>...</td>\n",
       "      <td>...</td>\n",
       "      <td>...</td>\n",
       "      <td>...</td>\n",
       "      <td>...</td>\n",
       "      <td>...</td>\n",
       "      <td>...</td>\n",
       "      <td>...</td>\n",
       "      <td>...</td>\n",
       "      <td>...</td>\n",
       "      <td>...</td>\n",
       "      <td>...</td>\n",
       "      <td>...</td>\n",
       "    </tr>\n",
       "    <tr>\n",
       "      <th>49229</th>\n",
       "      <td>0</td>\n",
       "      <td>F</td>\n",
       "      <td>0</td>\n",
       "      <td>-999.00</td>\n",
       "      <td>-999.0</td>\n",
       "      <td>-999.0</td>\n",
       "      <td>-999.0</td>\n",
       "      <td>-999.0</td>\n",
       "      <td>-999.0</td>\n",
       "      <td>-999.0</td>\n",
       "      <td>9.5</td>\n",
       "      <td>-999.0</td>\n",
       "      <td>-999.0</td>\n",
       "    </tr>\n",
       "    <tr>\n",
       "      <th>49230</th>\n",
       "      <td>0</td>\n",
       "      <td>M</td>\n",
       "      <td>0</td>\n",
       "      <td>-999.00</td>\n",
       "      <td>-999.0</td>\n",
       "      <td>-999.0</td>\n",
       "      <td>-999.0</td>\n",
       "      <td>-999.0</td>\n",
       "      <td>-999.0</td>\n",
       "      <td>-999.0</td>\n",
       "      <td>15.6</td>\n",
       "      <td>-999.0</td>\n",
       "      <td>-999.0</td>\n",
       "    </tr>\n",
       "    <tr>\n",
       "      <th>49231</th>\n",
       "      <td>0</td>\n",
       "      <td>M</td>\n",
       "      <td>0</td>\n",
       "      <td>-999.00</td>\n",
       "      <td>-999.0</td>\n",
       "      <td>-999.0</td>\n",
       "      <td>-999.0</td>\n",
       "      <td>-999.0</td>\n",
       "      <td>-999.0</td>\n",
       "      <td>-999.0</td>\n",
       "      <td>11.6</td>\n",
       "      <td>-999.0</td>\n",
       "      <td>-999.0</td>\n",
       "    </tr>\n",
       "    <tr>\n",
       "      <th>49232</th>\n",
       "      <td>0</td>\n",
       "      <td>M</td>\n",
       "      <td>0</td>\n",
       "      <td>-999.00</td>\n",
       "      <td>-999.0</td>\n",
       "      <td>-999.0</td>\n",
       "      <td>-999.0</td>\n",
       "      <td>-999.0</td>\n",
       "      <td>23.0</td>\n",
       "      <td>62.0</td>\n",
       "      <td>28.3</td>\n",
       "      <td>-999.0</td>\n",
       "      <td>-999.0</td>\n",
       "    </tr>\n",
       "    <tr>\n",
       "      <th>49233</th>\n",
       "      <td>0</td>\n",
       "      <td>M</td>\n",
       "      <td>0</td>\n",
       "      <td>-999.00</td>\n",
       "      <td>-999.0</td>\n",
       "      <td>-999.0</td>\n",
       "      <td>-999.0</td>\n",
       "      <td>-999.0</td>\n",
       "      <td>34.0</td>\n",
       "      <td>57.0</td>\n",
       "      <td>-999.0</td>\n",
       "      <td>-999.0</td>\n",
       "      <td>-999.0</td>\n",
       "    </tr>\n",
       "  </tbody>\n",
       "</table>\n",
       "<p>49234 rows × 13 columns</p>\n",
       "</div>"
      ],
      "text/plain": [
       "       AGE GENDER  IS_SEPSIS  ITEMID_51279  ITEMID_51222  ITEMID_51221  \\\n",
       "0       76      M          0          2.79           8.2          25.6   \n",
       "1       47      F          0          3.80          11.5          34.2   \n",
       "2       41      M          0          5.46          15.4          45.2   \n",
       "3       50      F          0          4.31          12.5          36.9   \n",
       "4       39      F          0          4.08          12.3          35.6   \n",
       "...    ...    ...        ...           ...           ...           ...   \n",
       "49229    0      F          0       -999.00        -999.0        -999.0   \n",
       "49230    0      M          0       -999.00        -999.0        -999.0   \n",
       "49231    0      M          0       -999.00        -999.0        -999.0   \n",
       "49232    0      M          0       -999.00        -999.0        -999.0   \n",
       "49233    0      M          0       -999.00        -999.0        -999.0   \n",
       "\n",
       "       ITEMID_50931  ITEMID_51006  ITEMID_51244  ITEMID_51256  ITEMID_51301  \\\n",
       "0             281.0          43.0           8.0          81.0          19.1   \n",
       "1             140.0           9.0           6.9          89.6           9.7   \n",
       "2             129.0          16.0          41.6          50.1           7.5   \n",
       "3             121.0          12.0           7.6          91.4           8.5   \n",
       "4             169.0          13.0        -999.0        -999.0          16.6   \n",
       "...             ...           ...           ...           ...           ...   \n",
       "49229        -999.0        -999.0        -999.0        -999.0           9.5   \n",
       "49230        -999.0        -999.0        -999.0        -999.0          15.6   \n",
       "49231        -999.0        -999.0        -999.0        -999.0          11.6   \n",
       "49232        -999.0        -999.0          23.0          62.0          28.3   \n",
       "49233        -999.0        -999.0          34.0          57.0        -999.0   \n",
       "\n",
       "       ITEMID_51274  ITEMID_50912  \n",
       "0              15.6           2.5  \n",
       "1              12.3           0.5  \n",
       "2              12.7           1.2  \n",
       "3              13.0           0.7  \n",
       "4              13.7           0.6  \n",
       "...             ...           ...  \n",
       "49229        -999.0        -999.0  \n",
       "49230        -999.0        -999.0  \n",
       "49231        -999.0        -999.0  \n",
       "49232        -999.0        -999.0  \n",
       "49233        -999.0        -999.0  \n",
       "\n",
       "[49234 rows x 13 columns]"
      ]
     },
     "execution_count": 4,
     "metadata": {},
     "output_type": "execute_result"
    }
   ],
   "source": [
    "path_t0_df = ROOT_DIR / 'data' / \"t4.csv\"  \n",
    "t0_df = pd.read_csv(path_t0_df)\n",
    "t0_df = t0_df.drop(columns=[\"SUBJECT_ID\", \"HADM_ID\"])\n",
    "t0_df"
   ]
  },
  {
   "cell_type": "code",
   "execution_count": 5,
   "id": "78418a85",
   "metadata": {},
   "outputs": [
    {
     "data": {
      "text/html": [
       "<div>\n",
       "<style scoped>\n",
       "    .dataframe tbody tr th:only-of-type {\n",
       "        vertical-align: middle;\n",
       "    }\n",
       "\n",
       "    .dataframe tbody tr th {\n",
       "        vertical-align: top;\n",
       "    }\n",
       "\n",
       "    .dataframe thead th {\n",
       "        text-align: right;\n",
       "    }\n",
       "</style>\n",
       "<table border=\"1\" class=\"dataframe\">\n",
       "  <thead>\n",
       "    <tr style=\"text-align: right;\">\n",
       "      <th></th>\n",
       "      <th>AGE</th>\n",
       "      <th>IS_SEPSIS</th>\n",
       "      <th>ITEMID_51279</th>\n",
       "      <th>ITEMID_51222</th>\n",
       "      <th>ITEMID_51221</th>\n",
       "      <th>ITEMID_50931</th>\n",
       "      <th>ITEMID_51006</th>\n",
       "      <th>ITEMID_51244</th>\n",
       "      <th>ITEMID_51256</th>\n",
       "      <th>ITEMID_51301</th>\n",
       "      <th>ITEMID_51274</th>\n",
       "      <th>ITEMID_50912</th>\n",
       "      <th>GENDER_NUM</th>\n",
       "    </tr>\n",
       "  </thead>\n",
       "  <tbody>\n",
       "    <tr>\n",
       "      <th>0</th>\n",
       "      <td>76</td>\n",
       "      <td>0</td>\n",
       "      <td>2.79</td>\n",
       "      <td>8.2</td>\n",
       "      <td>25.6</td>\n",
       "      <td>281.0</td>\n",
       "      <td>43.0</td>\n",
       "      <td>8.0</td>\n",
       "      <td>81.0</td>\n",
       "      <td>19.1</td>\n",
       "      <td>15.6</td>\n",
       "      <td>2.5</td>\n",
       "      <td>0</td>\n",
       "    </tr>\n",
       "    <tr>\n",
       "      <th>1</th>\n",
       "      <td>47</td>\n",
       "      <td>0</td>\n",
       "      <td>3.80</td>\n",
       "      <td>11.5</td>\n",
       "      <td>34.2</td>\n",
       "      <td>140.0</td>\n",
       "      <td>9.0</td>\n",
       "      <td>6.9</td>\n",
       "      <td>89.6</td>\n",
       "      <td>9.7</td>\n",
       "      <td>12.3</td>\n",
       "      <td>0.5</td>\n",
       "      <td>1</td>\n",
       "    </tr>\n",
       "    <tr>\n",
       "      <th>2</th>\n",
       "      <td>41</td>\n",
       "      <td>0</td>\n",
       "      <td>5.46</td>\n",
       "      <td>15.4</td>\n",
       "      <td>45.2</td>\n",
       "      <td>129.0</td>\n",
       "      <td>16.0</td>\n",
       "      <td>41.6</td>\n",
       "      <td>50.1</td>\n",
       "      <td>7.5</td>\n",
       "      <td>12.7</td>\n",
       "      <td>1.2</td>\n",
       "      <td>0</td>\n",
       "    </tr>\n",
       "    <tr>\n",
       "      <th>3</th>\n",
       "      <td>50</td>\n",
       "      <td>0</td>\n",
       "      <td>4.31</td>\n",
       "      <td>12.5</td>\n",
       "      <td>36.9</td>\n",
       "      <td>121.0</td>\n",
       "      <td>12.0</td>\n",
       "      <td>7.6</td>\n",
       "      <td>91.4</td>\n",
       "      <td>8.5</td>\n",
       "      <td>13.0</td>\n",
       "      <td>0.7</td>\n",
       "      <td>1</td>\n",
       "    </tr>\n",
       "    <tr>\n",
       "      <th>4</th>\n",
       "      <td>39</td>\n",
       "      <td>0</td>\n",
       "      <td>4.08</td>\n",
       "      <td>12.3</td>\n",
       "      <td>35.6</td>\n",
       "      <td>169.0</td>\n",
       "      <td>13.0</td>\n",
       "      <td>-999.0</td>\n",
       "      <td>-999.0</td>\n",
       "      <td>16.6</td>\n",
       "      <td>13.7</td>\n",
       "      <td>0.6</td>\n",
       "      <td>1</td>\n",
       "    </tr>\n",
       "    <tr>\n",
       "      <th>...</th>\n",
       "      <td>...</td>\n",
       "      <td>...</td>\n",
       "      <td>...</td>\n",
       "      <td>...</td>\n",
       "      <td>...</td>\n",
       "      <td>...</td>\n",
       "      <td>...</td>\n",
       "      <td>...</td>\n",
       "      <td>...</td>\n",
       "      <td>...</td>\n",
       "      <td>...</td>\n",
       "      <td>...</td>\n",
       "      <td>...</td>\n",
       "    </tr>\n",
       "    <tr>\n",
       "      <th>49229</th>\n",
       "      <td>0</td>\n",
       "      <td>0</td>\n",
       "      <td>-999.00</td>\n",
       "      <td>-999.0</td>\n",
       "      <td>-999.0</td>\n",
       "      <td>-999.0</td>\n",
       "      <td>-999.0</td>\n",
       "      <td>-999.0</td>\n",
       "      <td>-999.0</td>\n",
       "      <td>9.5</td>\n",
       "      <td>-999.0</td>\n",
       "      <td>-999.0</td>\n",
       "      <td>1</td>\n",
       "    </tr>\n",
       "    <tr>\n",
       "      <th>49230</th>\n",
       "      <td>0</td>\n",
       "      <td>0</td>\n",
       "      <td>-999.00</td>\n",
       "      <td>-999.0</td>\n",
       "      <td>-999.0</td>\n",
       "      <td>-999.0</td>\n",
       "      <td>-999.0</td>\n",
       "      <td>-999.0</td>\n",
       "      <td>-999.0</td>\n",
       "      <td>15.6</td>\n",
       "      <td>-999.0</td>\n",
       "      <td>-999.0</td>\n",
       "      <td>0</td>\n",
       "    </tr>\n",
       "    <tr>\n",
       "      <th>49231</th>\n",
       "      <td>0</td>\n",
       "      <td>0</td>\n",
       "      <td>-999.00</td>\n",
       "      <td>-999.0</td>\n",
       "      <td>-999.0</td>\n",
       "      <td>-999.0</td>\n",
       "      <td>-999.0</td>\n",
       "      <td>-999.0</td>\n",
       "      <td>-999.0</td>\n",
       "      <td>11.6</td>\n",
       "      <td>-999.0</td>\n",
       "      <td>-999.0</td>\n",
       "      <td>0</td>\n",
       "    </tr>\n",
       "    <tr>\n",
       "      <th>49232</th>\n",
       "      <td>0</td>\n",
       "      <td>0</td>\n",
       "      <td>-999.00</td>\n",
       "      <td>-999.0</td>\n",
       "      <td>-999.0</td>\n",
       "      <td>-999.0</td>\n",
       "      <td>-999.0</td>\n",
       "      <td>23.0</td>\n",
       "      <td>62.0</td>\n",
       "      <td>28.3</td>\n",
       "      <td>-999.0</td>\n",
       "      <td>-999.0</td>\n",
       "      <td>0</td>\n",
       "    </tr>\n",
       "    <tr>\n",
       "      <th>49233</th>\n",
       "      <td>0</td>\n",
       "      <td>0</td>\n",
       "      <td>-999.00</td>\n",
       "      <td>-999.0</td>\n",
       "      <td>-999.0</td>\n",
       "      <td>-999.0</td>\n",
       "      <td>-999.0</td>\n",
       "      <td>34.0</td>\n",
       "      <td>57.0</td>\n",
       "      <td>-999.0</td>\n",
       "      <td>-999.0</td>\n",
       "      <td>-999.0</td>\n",
       "      <td>0</td>\n",
       "    </tr>\n",
       "  </tbody>\n",
       "</table>\n",
       "<p>49234 rows × 13 columns</p>\n",
       "</div>"
      ],
      "text/plain": [
       "       AGE  IS_SEPSIS  ITEMID_51279  ITEMID_51222  ITEMID_51221  ITEMID_50931  \\\n",
       "0       76          0          2.79           8.2          25.6         281.0   \n",
       "1       47          0          3.80          11.5          34.2         140.0   \n",
       "2       41          0          5.46          15.4          45.2         129.0   \n",
       "3       50          0          4.31          12.5          36.9         121.0   \n",
       "4       39          0          4.08          12.3          35.6         169.0   \n",
       "...    ...        ...           ...           ...           ...           ...   \n",
       "49229    0          0       -999.00        -999.0        -999.0        -999.0   \n",
       "49230    0          0       -999.00        -999.0        -999.0        -999.0   \n",
       "49231    0          0       -999.00        -999.0        -999.0        -999.0   \n",
       "49232    0          0       -999.00        -999.0        -999.0        -999.0   \n",
       "49233    0          0       -999.00        -999.0        -999.0        -999.0   \n",
       "\n",
       "       ITEMID_51006  ITEMID_51244  ITEMID_51256  ITEMID_51301  ITEMID_51274  \\\n",
       "0              43.0           8.0          81.0          19.1          15.6   \n",
       "1               9.0           6.9          89.6           9.7          12.3   \n",
       "2              16.0          41.6          50.1           7.5          12.7   \n",
       "3              12.0           7.6          91.4           8.5          13.0   \n",
       "4              13.0        -999.0        -999.0          16.6          13.7   \n",
       "...             ...           ...           ...           ...           ...   \n",
       "49229        -999.0        -999.0        -999.0           9.5        -999.0   \n",
       "49230        -999.0        -999.0        -999.0          15.6        -999.0   \n",
       "49231        -999.0        -999.0        -999.0          11.6        -999.0   \n",
       "49232        -999.0          23.0          62.0          28.3        -999.0   \n",
       "49233        -999.0          34.0          57.0        -999.0        -999.0   \n",
       "\n",
       "       ITEMID_50912  GENDER_NUM  \n",
       "0               2.5           0  \n",
       "1               0.5           1  \n",
       "2               1.2           0  \n",
       "3               0.7           1  \n",
       "4               0.6           1  \n",
       "...             ...         ...  \n",
       "49229        -999.0           1  \n",
       "49230        -999.0           0  \n",
       "49231        -999.0           0  \n",
       "49232        -999.0           0  \n",
       "49233        -999.0           0  \n",
       "\n",
       "[49234 rows x 13 columns]"
      ]
     },
     "execution_count": 5,
     "metadata": {},
     "output_type": "execute_result"
    }
   ],
   "source": [
    "# One-hot encoding GENDER\n",
    "t0_df['GENDER_NUM'] = t0_df['GENDER'].replace({'M': 0, 'F': 1})\n",
    "t0_df.drop(columns=[\"GENDER\"], inplace=True)\n",
    "t0_df"
   ]
  },
  {
   "cell_type": "code",
   "execution_count": 6,
   "id": "05b11d43",
   "metadata": {},
   "outputs": [
    {
     "data": {
      "text/html": [
       "<div>\n",
       "<style scoped>\n",
       "    .dataframe tbody tr th:only-of-type {\n",
       "        vertical-align: middle;\n",
       "    }\n",
       "\n",
       "    .dataframe tbody tr th {\n",
       "        vertical-align: top;\n",
       "    }\n",
       "\n",
       "    .dataframe thead th {\n",
       "        text-align: right;\n",
       "    }\n",
       "</style>\n",
       "<table border=\"1\" class=\"dataframe\">\n",
       "  <thead>\n",
       "    <tr style=\"text-align: right;\">\n",
       "      <th></th>\n",
       "      <th>AGE</th>\n",
       "      <th>ITEMID_51279</th>\n",
       "      <th>ITEMID_51222</th>\n",
       "      <th>ITEMID_51221</th>\n",
       "      <th>ITEMID_50931</th>\n",
       "      <th>ITEMID_51006</th>\n",
       "      <th>ITEMID_51244</th>\n",
       "      <th>ITEMID_51256</th>\n",
       "      <th>ITEMID_51301</th>\n",
       "      <th>ITEMID_51274</th>\n",
       "      <th>ITEMID_50912</th>\n",
       "      <th>GENDER_NUM</th>\n",
       "      <th>IS_SEPSIS</th>\n",
       "    </tr>\n",
       "  </thead>\n",
       "  <tbody>\n",
       "    <tr>\n",
       "      <th>37962</th>\n",
       "      <td>60</td>\n",
       "      <td>5.15</td>\n",
       "      <td>15.0</td>\n",
       "      <td>41.5</td>\n",
       "      <td>93.0</td>\n",
       "      <td>17.0</td>\n",
       "      <td>-999.0</td>\n",
       "      <td>-999.0</td>\n",
       "      <td>5.8</td>\n",
       "      <td>12.3</td>\n",
       "      <td>1.0</td>\n",
       "      <td>0</td>\n",
       "      <td>0</td>\n",
       "    </tr>\n",
       "    <tr>\n",
       "      <th>17906</th>\n",
       "      <td>27</td>\n",
       "      <td>4.70</td>\n",
       "      <td>13.6</td>\n",
       "      <td>40.0</td>\n",
       "      <td>479.0</td>\n",
       "      <td>26.0</td>\n",
       "      <td>4.6</td>\n",
       "      <td>92.6</td>\n",
       "      <td>11.7</td>\n",
       "      <td>-999.0</td>\n",
       "      <td>1.6</td>\n",
       "      <td>0</td>\n",
       "      <td>0</td>\n",
       "    </tr>\n",
       "    <tr>\n",
       "      <th>12799</th>\n",
       "      <td>61</td>\n",
       "      <td>3.52</td>\n",
       "      <td>9.9</td>\n",
       "      <td>30.1</td>\n",
       "      <td>124.0</td>\n",
       "      <td>32.0</td>\n",
       "      <td>17.2</td>\n",
       "      <td>75.8</td>\n",
       "      <td>4.2</td>\n",
       "      <td>13.4</td>\n",
       "      <td>1.3</td>\n",
       "      <td>1</td>\n",
       "      <td>0</td>\n",
       "    </tr>\n",
       "    <tr>\n",
       "      <th>27841</th>\n",
       "      <td>61</td>\n",
       "      <td>3.75</td>\n",
       "      <td>11.0</td>\n",
       "      <td>32.9</td>\n",
       "      <td>226.0</td>\n",
       "      <td>14.0</td>\n",
       "      <td>5.3</td>\n",
       "      <td>92.3</td>\n",
       "      <td>15.5</td>\n",
       "      <td>14.1</td>\n",
       "      <td>0.8</td>\n",
       "      <td>0</td>\n",
       "      <td>0</td>\n",
       "    </tr>\n",
       "    <tr>\n",
       "      <th>32989</th>\n",
       "      <td>57</td>\n",
       "      <td>3.97</td>\n",
       "      <td>12.2</td>\n",
       "      <td>34.0</td>\n",
       "      <td>-999.0</td>\n",
       "      <td>49.0</td>\n",
       "      <td>2.0</td>\n",
       "      <td>60.0</td>\n",
       "      <td>28.1</td>\n",
       "      <td>15.6</td>\n",
       "      <td>2.6</td>\n",
       "      <td>0</td>\n",
       "      <td>0</td>\n",
       "    </tr>\n",
       "    <tr>\n",
       "      <th>...</th>\n",
       "      <td>...</td>\n",
       "      <td>...</td>\n",
       "      <td>...</td>\n",
       "      <td>...</td>\n",
       "      <td>...</td>\n",
       "      <td>...</td>\n",
       "      <td>...</td>\n",
       "      <td>...</td>\n",
       "      <td>...</td>\n",
       "      <td>...</td>\n",
       "      <td>...</td>\n",
       "      <td>...</td>\n",
       "      <td>...</td>\n",
       "    </tr>\n",
       "    <tr>\n",
       "      <th>5366</th>\n",
       "      <td>67</td>\n",
       "      <td>4.22</td>\n",
       "      <td>10.9</td>\n",
       "      <td>35.3</td>\n",
       "      <td>299.0</td>\n",
       "      <td>21.0</td>\n",
       "      <td>-999.0</td>\n",
       "      <td>-999.0</td>\n",
       "      <td>9.4</td>\n",
       "      <td>13.1</td>\n",
       "      <td>1.3</td>\n",
       "      <td>1</td>\n",
       "      <td>0</td>\n",
       "    </tr>\n",
       "    <tr>\n",
       "      <th>36341</th>\n",
       "      <td>48</td>\n",
       "      <td>2.92</td>\n",
       "      <td>8.5</td>\n",
       "      <td>24.8</td>\n",
       "      <td>160.0</td>\n",
       "      <td>12.0</td>\n",
       "      <td>-999.0</td>\n",
       "      <td>-999.0</td>\n",
       "      <td>17.4</td>\n",
       "      <td>15.0</td>\n",
       "      <td>0.6</td>\n",
       "      <td>0</td>\n",
       "      <td>0</td>\n",
       "    </tr>\n",
       "    <tr>\n",
       "      <th>31006</th>\n",
       "      <td>78</td>\n",
       "      <td>2.76</td>\n",
       "      <td>8.2</td>\n",
       "      <td>24.9</td>\n",
       "      <td>161.0</td>\n",
       "      <td>65.0</td>\n",
       "      <td>24.6</td>\n",
       "      <td>63.9</td>\n",
       "      <td>5.0</td>\n",
       "      <td>14.1</td>\n",
       "      <td>1.8</td>\n",
       "      <td>1</td>\n",
       "      <td>0</td>\n",
       "    </tr>\n",
       "    <tr>\n",
       "      <th>6480</th>\n",
       "      <td>69</td>\n",
       "      <td>4.09</td>\n",
       "      <td>13.0</td>\n",
       "      <td>39.1</td>\n",
       "      <td>96.0</td>\n",
       "      <td>9.0</td>\n",
       "      <td>-999.0</td>\n",
       "      <td>-999.0</td>\n",
       "      <td>7.5</td>\n",
       "      <td>12.3</td>\n",
       "      <td>1.1</td>\n",
       "      <td>0</td>\n",
       "      <td>0</td>\n",
       "    </tr>\n",
       "    <tr>\n",
       "      <th>43775</th>\n",
       "      <td>0</td>\n",
       "      <td>3.93</td>\n",
       "      <td>14.1</td>\n",
       "      <td>40.8</td>\n",
       "      <td>-999.0</td>\n",
       "      <td>-999.0</td>\n",
       "      <td>34.0</td>\n",
       "      <td>48.0</td>\n",
       "      <td>11.6</td>\n",
       "      <td>-999.0</td>\n",
       "      <td>-999.0</td>\n",
       "      <td>0</td>\n",
       "      <td>0</td>\n",
       "    </tr>\n",
       "  </tbody>\n",
       "</table>\n",
       "<p>39387 rows × 13 columns</p>\n",
       "</div>"
      ],
      "text/plain": [
       "       AGE  ITEMID_51279  ITEMID_51222  ITEMID_51221  ITEMID_50931  \\\n",
       "37962   60          5.15          15.0          41.5          93.0   \n",
       "17906   27          4.70          13.6          40.0         479.0   \n",
       "12799   61          3.52           9.9          30.1         124.0   \n",
       "27841   61          3.75          11.0          32.9         226.0   \n",
       "32989   57          3.97          12.2          34.0        -999.0   \n",
       "...    ...           ...           ...           ...           ...   \n",
       "5366    67          4.22          10.9          35.3         299.0   \n",
       "36341   48          2.92           8.5          24.8         160.0   \n",
       "31006   78          2.76           8.2          24.9         161.0   \n",
       "6480    69          4.09          13.0          39.1          96.0   \n",
       "43775    0          3.93          14.1          40.8        -999.0   \n",
       "\n",
       "       ITEMID_51006  ITEMID_51244  ITEMID_51256  ITEMID_51301  ITEMID_51274  \\\n",
       "37962          17.0        -999.0        -999.0           5.8          12.3   \n",
       "17906          26.0           4.6          92.6          11.7        -999.0   \n",
       "12799          32.0          17.2          75.8           4.2          13.4   \n",
       "27841          14.0           5.3          92.3          15.5          14.1   \n",
       "32989          49.0           2.0          60.0          28.1          15.6   \n",
       "...             ...           ...           ...           ...           ...   \n",
       "5366           21.0        -999.0        -999.0           9.4          13.1   \n",
       "36341          12.0        -999.0        -999.0          17.4          15.0   \n",
       "31006          65.0          24.6          63.9           5.0          14.1   \n",
       "6480            9.0        -999.0        -999.0           7.5          12.3   \n",
       "43775        -999.0          34.0          48.0          11.6        -999.0   \n",
       "\n",
       "       ITEMID_50912  GENDER_NUM  IS_SEPSIS  \n",
       "37962           1.0           0          0  \n",
       "17906           1.6           0          0  \n",
       "12799           1.3           1          0  \n",
       "27841           0.8           0          0  \n",
       "32989           2.6           0          0  \n",
       "...             ...         ...        ...  \n",
       "5366            1.3           1          0  \n",
       "36341           0.6           0          0  \n",
       "31006           1.8           1          0  \n",
       "6480            1.1           0          0  \n",
       "43775        -999.0           0          0  \n",
       "\n",
       "[39387 rows x 13 columns]"
      ]
     },
     "execution_count": 6,
     "metadata": {},
     "output_type": "execute_result"
    }
   ],
   "source": [
    "X_t0_train, X_t0_test, y_t0_train, y_t0_test = train_test_split(\n",
    "    t0_df.drop('IS_SEPSIS', axis=1),  # dropping the target column for X values\n",
    "    t0_df['IS_SEPSIS'],\n",
    "    test_size=0.2,  # this means 20% test set\n",
    "    stratify=t0_df['IS_SEPSIS'],  # stratify by the target variable\n",
    "    random_state=42  # to ensure reproducibility\n",
    ")\n",
    "\n",
    "# If you want to get the train and test set as dataframes:\n",
    "train_t0_df = pd.concat([X_t0_train, y_t0_train], axis=1)\n",
    "test_t0_df = pd.concat([X_t0_test, y_t0_test], axis=1)\n",
    "\n",
    "train_t0_df"
   ]
  },
  {
   "cell_type": "code",
   "execution_count": 7,
   "id": "687895ae",
   "metadata": {},
   "outputs": [
    {
     "name": "stdout",
     "output_type": "stream",
     "text": [
      "           Count Proportion\n",
      "IS_SEPSIS                  \n",
      "0          35311     89.65%\n",
      "1           4076     10.35%\n"
     ]
    }
   ],
   "source": [
    "# Counting the number of instance in each class in the training dataset\n",
    "label_counts = train_t0_df[\"IS_SEPSIS\"].value_counts()\n",
    "label_proportions = label_counts / len(train_t0_df)*100\n",
    "\n",
    "label_info = pd.DataFrame({'Count': label_counts, 'Proportion': label_proportions.map(\"{:.2f}%\".format)})\n",
    "print(label_info)"
   ]
  },
  {
   "cell_type": "markdown",
   "id": "1dbf7470",
   "metadata": {},
   "source": [
    "## 3. Features Scaling"
   ]
  },
  {
   "cell_type": "code",
   "execution_count": 8,
   "id": "314de6c7",
   "metadata": {},
   "outputs": [
    {
     "data": {
      "text/html": [
       "<div>\n",
       "<style scoped>\n",
       "    .dataframe tbody tr th:only-of-type {\n",
       "        vertical-align: middle;\n",
       "    }\n",
       "\n",
       "    .dataframe tbody tr th {\n",
       "        vertical-align: top;\n",
       "    }\n",
       "\n",
       "    .dataframe thead th {\n",
       "        text-align: right;\n",
       "    }\n",
       "</style>\n",
       "<table border=\"1\" class=\"dataframe\">\n",
       "  <thead>\n",
       "    <tr style=\"text-align: right;\">\n",
       "      <th></th>\n",
       "      <th>AGE</th>\n",
       "      <th>IS_SEPSIS</th>\n",
       "      <th>ITEMID_51279</th>\n",
       "      <th>ITEMID_51222</th>\n",
       "      <th>ITEMID_51221</th>\n",
       "      <th>ITEMID_50931</th>\n",
       "      <th>ITEMID_51006</th>\n",
       "      <th>ITEMID_51244</th>\n",
       "      <th>ITEMID_51256</th>\n",
       "      <th>ITEMID_51301</th>\n",
       "      <th>ITEMID_51274</th>\n",
       "      <th>ITEMID_50912</th>\n",
       "      <th>GENDER_NUM</th>\n",
       "    </tr>\n",
       "  </thead>\n",
       "  <tbody>\n",
       "    <tr>\n",
       "      <th>count</th>\n",
       "      <td>49234.000000</td>\n",
       "      <td>49234.000000</td>\n",
       "      <td>49234.000000</td>\n",
       "      <td>49234.000000</td>\n",
       "      <td>49234.000000</td>\n",
       "      <td>49234.000000</td>\n",
       "      <td>49234.000000</td>\n",
       "      <td>49234.000000</td>\n",
       "      <td>49234.000000</td>\n",
       "      <td>49234.000000</td>\n",
       "      <td>49234.000000</td>\n",
       "      <td>49234.000000</td>\n",
       "      <td>49234.000000</td>\n",
       "    </tr>\n",
       "    <tr>\n",
       "      <th>mean</th>\n",
       "      <td>54.180343</td>\n",
       "      <td>0.103485</td>\n",
       "      <td>-30.152198</td>\n",
       "      <td>-20.849555</td>\n",
       "      <td>13.796393</td>\n",
       "      <td>-120.885343</td>\n",
       "      <td>-138.036154</td>\n",
       "      <td>-258.730637</td>\n",
       "      <td>-220.800455</td>\n",
       "      <td>-18.518893</td>\n",
       "      <td>-277.018157</td>\n",
       "      <td>-159.221101</td>\n",
       "      <td>0.443027</td>\n",
       "    </tr>\n",
       "    <tr>\n",
       "      <th>std</th>\n",
       "      <td>25.608922</td>\n",
       "      <td>0.304595</td>\n",
       "      <td>181.938006</td>\n",
       "      <td>180.448531</td>\n",
       "      <td>153.257162</td>\n",
       "      <td>497.040953</td>\n",
       "      <td>379.185718</td>\n",
       "      <td>453.879216</td>\n",
       "      <td>477.190260</td>\n",
       "      <td>173.893703</td>\n",
       "      <td>460.152232</td>\n",
       "      <td>367.473388</td>\n",
       "      <td>0.496749</td>\n",
       "    </tr>\n",
       "    <tr>\n",
       "      <th>min</th>\n",
       "      <td>0.000000</td>\n",
       "      <td>0.000000</td>\n",
       "      <td>-999.000000</td>\n",
       "      <td>-999.000000</td>\n",
       "      <td>-999.000000</td>\n",
       "      <td>-999.000000</td>\n",
       "      <td>-999.000000</td>\n",
       "      <td>-999.000000</td>\n",
       "      <td>-999.000000</td>\n",
       "      <td>-999.000000</td>\n",
       "      <td>-999.000000</td>\n",
       "      <td>-999.000000</td>\n",
       "      <td>0.000000</td>\n",
       "    </tr>\n",
       "    <tr>\n",
       "      <th>25%</th>\n",
       "      <td>44.000000</td>\n",
       "      <td>0.000000</td>\n",
       "      <td>3.400000</td>\n",
       "      <td>10.300000</td>\n",
       "      <td>31.000000</td>\n",
       "      <td>67.000000</td>\n",
       "      <td>11.000000</td>\n",
       "      <td>-999.000000</td>\n",
       "      <td>-999.000000</td>\n",
       "      <td>7.200000</td>\n",
       "      <td>-999.000000</td>\n",
       "      <td>0.600000</td>\n",
       "      <td>0.000000</td>\n",
       "    </tr>\n",
       "    <tr>\n",
       "      <th>50%</th>\n",
       "      <td>61.000000</td>\n",
       "      <td>0.000000</td>\n",
       "      <td>4.000000</td>\n",
       "      <td>12.100000</td>\n",
       "      <td>36.100000</td>\n",
       "      <td>112.000000</td>\n",
       "      <td>18.000000</td>\n",
       "      <td>9.200000</td>\n",
       "      <td>67.100000</td>\n",
       "      <td>10.300000</td>\n",
       "      <td>12.800000</td>\n",
       "      <td>0.900000</td>\n",
       "      <td>0.000000</td>\n",
       "    </tr>\n",
       "    <tr>\n",
       "      <th>75%</th>\n",
       "      <td>73.000000</td>\n",
       "      <td>0.000000</td>\n",
       "      <td>4.540000</td>\n",
       "      <td>14.100000</td>\n",
       "      <td>41.400000</td>\n",
       "      <td>151.000000</td>\n",
       "      <td>30.000000</td>\n",
       "      <td>20.200000</td>\n",
       "      <td>82.400000</td>\n",
       "      <td>14.700000</td>\n",
       "      <td>14.500000</td>\n",
       "      <td>1.400000</td>\n",
       "      <td>1.000000</td>\n",
       "    </tr>\n",
       "    <tr>\n",
       "      <th>max</th>\n",
       "      <td>89.000000</td>\n",
       "      <td>1.000000</td>\n",
       "      <td>13.400000</td>\n",
       "      <td>24.400000</td>\n",
       "      <td>75.000000</td>\n",
       "      <td>2440.000000</td>\n",
       "      <td>280.000000</td>\n",
       "      <td>100.000000</td>\n",
       "      <td>99.000000</td>\n",
       "      <td>846.700000</td>\n",
       "      <td>150.000000</td>\n",
       "      <td>43.000000</td>\n",
       "      <td>1.000000</td>\n",
       "    </tr>\n",
       "  </tbody>\n",
       "</table>\n",
       "</div>"
      ],
      "text/plain": [
       "                AGE     IS_SEPSIS  ITEMID_51279  ITEMID_51222  ITEMID_51221  \\\n",
       "count  49234.000000  49234.000000  49234.000000  49234.000000  49234.000000   \n",
       "mean      54.180343      0.103485    -30.152198    -20.849555     13.796393   \n",
       "std       25.608922      0.304595    181.938006    180.448531    153.257162   \n",
       "min        0.000000      0.000000   -999.000000   -999.000000   -999.000000   \n",
       "25%       44.000000      0.000000      3.400000     10.300000     31.000000   \n",
       "50%       61.000000      0.000000      4.000000     12.100000     36.100000   \n",
       "75%       73.000000      0.000000      4.540000     14.100000     41.400000   \n",
       "max       89.000000      1.000000     13.400000     24.400000     75.000000   \n",
       "\n",
       "       ITEMID_50931  ITEMID_51006  ITEMID_51244  ITEMID_51256  ITEMID_51301  \\\n",
       "count  49234.000000  49234.000000  49234.000000  49234.000000  49234.000000   \n",
       "mean    -120.885343   -138.036154   -258.730637   -220.800455    -18.518893   \n",
       "std      497.040953    379.185718    453.879216    477.190260    173.893703   \n",
       "min     -999.000000   -999.000000   -999.000000   -999.000000   -999.000000   \n",
       "25%       67.000000     11.000000   -999.000000   -999.000000      7.200000   \n",
       "50%      112.000000     18.000000      9.200000     67.100000     10.300000   \n",
       "75%      151.000000     30.000000     20.200000     82.400000     14.700000   \n",
       "max     2440.000000    280.000000    100.000000     99.000000    846.700000   \n",
       "\n",
       "       ITEMID_51274  ITEMID_50912    GENDER_NUM  \n",
       "count  49234.000000  49234.000000  49234.000000  \n",
       "mean    -277.018157   -159.221101      0.443027  \n",
       "std      460.152232    367.473388      0.496749  \n",
       "min     -999.000000   -999.000000      0.000000  \n",
       "25%     -999.000000      0.600000      0.000000  \n",
       "50%       12.800000      0.900000      0.000000  \n",
       "75%       14.500000      1.400000      1.000000  \n",
       "max      150.000000     43.000000      1.000000  "
      ]
     },
     "execution_count": 8,
     "metadata": {},
     "output_type": "execute_result"
    }
   ],
   "source": [
    "t0_df.describe()"
   ]
  },
  {
   "cell_type": "code",
   "execution_count": 9,
   "id": "73de543d",
   "metadata": {},
   "outputs": [],
   "source": [
    "# Initialize the MinMaxScaler\n",
    "scaler = MinMaxScaler()\n",
    "\n",
    "# Normalisation\n",
    "X_t0_train = scaler.fit_transform(X_t0_train)\n",
    "X_t0_test = scaler.transform(X_t0_test)"
   ]
  },
  {
   "cell_type": "markdown",
   "id": "f27ffc34",
   "metadata": {},
   "source": [
    "## 4. Model Fitting"
   ]
  },
  {
   "cell_type": "markdown",
   "id": "c913ebec",
   "metadata": {},
   "source": [
    "### 4.1 Logistic Regression"
   ]
  },
  {
   "cell_type": "markdown",
   "id": "dd0011e6",
   "metadata": {},
   "source": [
    "#### 4.1.1 Model Training"
   ]
  },
  {
   "cell_type": "code",
   "execution_count": 10,
   "id": "bbb78df3",
   "metadata": {},
   "outputs": [
    {
     "name": "stderr",
     "output_type": "stream",
     "text": [
      "/Users/amyhung/Documents/CITS5553_project/data-science-capstone-project/.venv/lib/python3.9/site-packages/sklearn/linear_model/_logistic.py:460: ConvergenceWarning: lbfgs failed to converge (status=1):\n",
      "STOP: TOTAL NO. of ITERATIONS REACHED LIMIT.\n",
      "\n",
      "Increase the number of iterations (max_iter) or scale the data as shown in:\n",
      "    https://scikit-learn.org/stable/modules/preprocessing.html\n",
      "Please also refer to the documentation for alternative solver options:\n",
      "    https://scikit-learn.org/stable/modules/linear_model.html#logistic-regression\n",
      "  n_iter_i = _check_optimize_result(\n"
     ]
    },
    {
     "data": {
      "text/html": [
       "<style>#sk-container-id-1 {color: black;}#sk-container-id-1 pre{padding: 0;}#sk-container-id-1 div.sk-toggleable {background-color: white;}#sk-container-id-1 label.sk-toggleable__label {cursor: pointer;display: block;width: 100%;margin-bottom: 0;padding: 0.3em;box-sizing: border-box;text-align: center;}#sk-container-id-1 label.sk-toggleable__label-arrow:before {content: \"▸\";float: left;margin-right: 0.25em;color: #696969;}#sk-container-id-1 label.sk-toggleable__label-arrow:hover:before {color: black;}#sk-container-id-1 div.sk-estimator:hover label.sk-toggleable__label-arrow:before {color: black;}#sk-container-id-1 div.sk-toggleable__content {max-height: 0;max-width: 0;overflow: hidden;text-align: left;background-color: #f0f8ff;}#sk-container-id-1 div.sk-toggleable__content pre {margin: 0.2em;color: black;border-radius: 0.25em;background-color: #f0f8ff;}#sk-container-id-1 input.sk-toggleable__control:checked~div.sk-toggleable__content {max-height: 200px;max-width: 100%;overflow: auto;}#sk-container-id-1 input.sk-toggleable__control:checked~label.sk-toggleable__label-arrow:before {content: \"▾\";}#sk-container-id-1 div.sk-estimator input.sk-toggleable__control:checked~label.sk-toggleable__label {background-color: #d4ebff;}#sk-container-id-1 div.sk-label input.sk-toggleable__control:checked~label.sk-toggleable__label {background-color: #d4ebff;}#sk-container-id-1 input.sk-hidden--visually {border: 0;clip: rect(1px 1px 1px 1px);clip: rect(1px, 1px, 1px, 1px);height: 1px;margin: -1px;overflow: hidden;padding: 0;position: absolute;width: 1px;}#sk-container-id-1 div.sk-estimator {font-family: monospace;background-color: #f0f8ff;border: 1px dotted black;border-radius: 0.25em;box-sizing: border-box;margin-bottom: 0.5em;}#sk-container-id-1 div.sk-estimator:hover {background-color: #d4ebff;}#sk-container-id-1 div.sk-parallel-item::after {content: \"\";width: 100%;border-bottom: 1px solid gray;flex-grow: 1;}#sk-container-id-1 div.sk-label:hover label.sk-toggleable__label {background-color: #d4ebff;}#sk-container-id-1 div.sk-serial::before {content: \"\";position: absolute;border-left: 1px solid gray;box-sizing: border-box;top: 0;bottom: 0;left: 50%;z-index: 0;}#sk-container-id-1 div.sk-serial {display: flex;flex-direction: column;align-items: center;background-color: white;padding-right: 0.2em;padding-left: 0.2em;position: relative;}#sk-container-id-1 div.sk-item {position: relative;z-index: 1;}#sk-container-id-1 div.sk-parallel {display: flex;align-items: stretch;justify-content: center;background-color: white;position: relative;}#sk-container-id-1 div.sk-item::before, #sk-container-id-1 div.sk-parallel-item::before {content: \"\";position: absolute;border-left: 1px solid gray;box-sizing: border-box;top: 0;bottom: 0;left: 50%;z-index: -1;}#sk-container-id-1 div.sk-parallel-item {display: flex;flex-direction: column;z-index: 1;position: relative;background-color: white;}#sk-container-id-1 div.sk-parallel-item:first-child::after {align-self: flex-end;width: 50%;}#sk-container-id-1 div.sk-parallel-item:last-child::after {align-self: flex-start;width: 50%;}#sk-container-id-1 div.sk-parallel-item:only-child::after {width: 0;}#sk-container-id-1 div.sk-dashed-wrapped {border: 1px dashed gray;margin: 0 0.4em 0.5em 0.4em;box-sizing: border-box;padding-bottom: 0.4em;background-color: white;}#sk-container-id-1 div.sk-label label {font-family: monospace;font-weight: bold;display: inline-block;line-height: 1.2em;}#sk-container-id-1 div.sk-label-container {text-align: center;}#sk-container-id-1 div.sk-container {/* jupyter's `normalize.less` sets `[hidden] { display: none; }` but bootstrap.min.css set `[hidden] { display: none !important; }` so we also need the `!important` here to be able to override the default hidden behavior on the sphinx rendered scikit-learn.org. See: https://github.com/scikit-learn/scikit-learn/issues/21755 */display: inline-block !important;position: relative;}#sk-container-id-1 div.sk-text-repr-fallback {display: none;}</style><div id=\"sk-container-id-1\" class=\"sk-top-container\"><div class=\"sk-text-repr-fallback\"><pre>LogisticRegression(random_state=901)</pre><b>In a Jupyter environment, please rerun this cell to show the HTML representation or trust the notebook. <br />On GitHub, the HTML representation is unable to render, please try loading this page with nbviewer.org.</b></div><div class=\"sk-container\" hidden><div class=\"sk-item\"><div class=\"sk-estimator sk-toggleable\"><input class=\"sk-toggleable__control sk-hidden--visually\" id=\"sk-estimator-id-1\" type=\"checkbox\" checked><label for=\"sk-estimator-id-1\" class=\"sk-toggleable__label sk-toggleable__label-arrow\">LogisticRegression</label><div class=\"sk-toggleable__content\"><pre>LogisticRegression(random_state=901)</pre></div></div></div></div></div>"
      ],
      "text/plain": [
       "LogisticRegression(random_state=901)"
      ]
     },
     "execution_count": 10,
     "metadata": {},
     "output_type": "execute_result"
    }
   ],
   "source": [
    "# Fitting a Logistic Regression Classifier\n",
    "t0_lr = LogisticRegression(random_state=901)\n",
    "t0_lr.fit(X_t0_train, y_t0_train)"
   ]
  },
  {
   "cell_type": "markdown",
   "id": "33b6d84e",
   "metadata": {},
   "source": [
    "#### 4.1.2 Performance Measurement"
   ]
  },
  {
   "cell_type": "code",
   "execution_count": 11,
   "id": "aa931cf5",
   "metadata": {},
   "outputs": [],
   "source": [
    "# Function for performance measures on (i) confusion matrix, (ii) precision, (iii) recall and (iv) NPV\n",
    "def performance_measure(model, X_train, X_test, y_train, y_test):\n",
    "    y_pred_train = model.predict(X_train)\n",
    "    y_pred_test = model.predict(X_test)\n",
    "    \n",
    "    # Computating the confusion matrix\n",
    "    cm_train = confusion_matrix(y_train, y_pred_train)\n",
    "    cm_test = confusion_matrix(y_test, y_pred_test)    \n",
    "\n",
    "    fig, axes = plt.subplots(nrows=1, ncols=2, figsize=(10,4))\n",
    "    \n",
    "    x_labels = [\"Predicted\\nNon-Sepsis\", \"Predicted\\nSepsis\"]\n",
    "    y_labels = [\"Actual Non-Sepsis\", \"Actual Sepsis\"]\n",
    "    sns.heatmap(cm_train, annot=True, fmt='d', xticklabels=x_labels, yticklabels=y_labels, ax=axes[0])\n",
    "    sns.heatmap(cm_test, annot=True, fmt='d', xticklabels=x_labels, yticklabels=y_labels, ax=axes[1])\n",
    "    \n",
    "    axes[0].set_title(\"CM in training set\", fontsize = 10)\n",
    "    axes[1].set_title(\"CM in test set\", fontsize = 10)\n",
    "    axes[0].tick_params(labelsize=9)\n",
    "    axes[1].tick_params(labelsize=9)\n",
    "    plt.tight_layout()\n",
    "    plt.show()    \n",
    "\n",
    "    # Computing precision and recall\n",
    "    precision_train = precision_score(y_train, y_pred_train)\n",
    "    precision_test = precision_score(y_test, y_pred_test)\n",
    "    recall_train = recall_score(y_train, y_pred_train)\n",
    "    recall_test = recall_score(y_test, y_pred_test)\n",
    "    print(\"\\nPrecision: Training set {:.4f}\".format(precision_train), \"; Test set {:.4f}\".format(precision_test))\n",
    "    print(\"Recall: Training set {:.4f}\".format(recall_train), \"; Test set {:.4f}\".format(recall_test))\n",
    "\n",
    "     # Computing predictive values of a negative test\n",
    "    tn_train, fp_train, fn_train, tp_train = confusion_matrix(y_train, y_pred_train).ravel()\n",
    "    NPV_train = tn_train / (tn_train + fn_train)\n",
    "    tn_test, fp_test, fn_test, tp_test = confusion_matrix(y_test, y_pred_test).ravel()\n",
    "    NPV_test = tn_test / (tn_test + fn_test)\n",
    "    print(\"Predictive value of a negative test: Training set {:.4f}\".format(NPV_train), \"; Test set {:.4f}\".format(NPV_test))"
   ]
  },
  {
   "cell_type": "code",
   "execution_count": 12,
   "id": "912fb306",
   "metadata": {},
   "outputs": [],
   "source": [
    "# Plotting ROC curve to determine the threshold\n",
    "def plot_roc_curve(fpr, tpr, label = None):\n",
    "    plt.plot(fpr, tpr, linewidth=2, label = label)\n",
    "    plt.plot([0, 1], [0, 1], 'k--') # dashed diagonal\n",
    "    plt.axis([0, 1, 0, 1])                                    \n",
    "    plt.xlabel('False Positive Rate (Fall-Out)', fontsize=11) \n",
    "    plt.ylabel('True Positive Rate (Recall)', fontsize=11)\n",
    "    plt.grid(True)"
   ]
  },
  {
   "cell_type": "markdown",
   "id": "f18b1d04",
   "metadata": {},
   "source": [
    "##### 4.1.2.1 Evaluate on training set"
   ]
  },
  {
   "cell_type": "markdown",
   "id": "84f11692",
   "metadata": {},
   "source": [
    "##### 4.1.2.2 Evaluate on test set"
   ]
  },
  {
   "cell_type": "code",
   "execution_count": 13,
   "id": "00de7df1",
   "metadata": {},
   "outputs": [
    {
     "name": "stdout",
     "output_type": "stream",
     "text": [
      "Predictions: [0 0 0 0 0]\n",
      "Labels: [0, 0, 0, 0, 0]\n"
     ]
    }
   ],
   "source": [
    "# Looking at some predictions from the testing set\n",
    "some_data = X_t0_test[:5]\n",
    "some_labels = y_t0_test[:5]\n",
    "print(\"Predictions:\", t0_lr.predict(some_data))\n",
    "print(\"Labels:\", some_labels.values.flatten().tolist())"
   ]
  },
  {
   "cell_type": "code",
   "execution_count": 14,
   "id": "4d82bf4b",
   "metadata": {},
   "outputs": [],
   "source": [
    "t0_lr_predictions = t0_lr.predict(X_t0_test)\n",
    "t0_lr_predicted_probabilities = t0_lr.predict_proba(X_t0_test)"
   ]
  },
  {
   "cell_type": "code",
   "execution_count": 15,
   "id": "5ba2be41",
   "metadata": {},
   "outputs": [
    {
     "name": "stdout",
     "output_type": "stream",
     "text": [
      "Preliminary performance measures for Logistic Regression Classifier:\n",
      "\n",
      "Confusion Matrix: \n",
      "[[8826    2]\n",
      " [1019    0]]\n",
      "\n",
      "Accuracy score: 0.8963\n",
      "RMSE: 0.3220\n"
     ]
    }
   ],
   "source": [
    "# Computing the confusion matrix\n",
    "print(\"Preliminary performance measures for Logistic Regression Classifier:\\n\")\n",
    "print(\"Confusion Matrix: \")\n",
    "print(confusion_matrix(y_t0_test, t0_lr_predictions))\n",
    "\n",
    "# Computing the accuracy score\n",
    "t0_lr_score = t0_lr.score(X_t0_test, y_t0_test)\n",
    "print(\"\\nAccuracy score: {:.4f}\".format(t0_lr_score))\n",
    "\n",
    "# Computing the root mean squared error (RMSE)\n",
    "t0_lr_mse = mean_squared_error(y_t0_test, t0_lr_predictions) \n",
    "t0_lr_rmse = np.sqrt(t0_lr_mse)\n",
    "print(\"RMSE: {:.4f}\".format(t0_lr_rmse))"
   ]
  },
  {
   "cell_type": "code",
   "execution_count": 16,
   "id": "1408e11d",
   "metadata": {},
   "outputs": [
    {
     "name": "stdout",
     "output_type": "stream",
     "text": [
      "Performance measures on Logistic Regression Classifier:\n",
      "\n"
     ]
    },
    {
     "data": {
      "image/png": "[encoded data removed]",
      "text/plain": [
       "<Figure size 1000x400 with 4 Axes>"
      ]
     },
     "metadata": {},
     "output_type": "display_data"
    },
    {
     "name": "stdout",
     "output_type": "stream",
     "text": [
      "\n",
      "Precision: Training set 0.0000 ; Test set 0.0000\n",
      "Recall: Training set 0.0000 ; Test set 0.0000\n",
      "Predictive value of a negative test: Training set 0.8965 ; Test set 0.8965\n"
     ]
    }
   ],
   "source": [
    "print(\"Performance measures on Logistic Regression Classifier:\\n\")\n",
    "performance_measure(t0_lr, X_t0_train, X_t0_test, y_t0_train, y_t0_test)"
   ]
  },
  {
   "cell_type": "code",
   "execution_count": 17,
   "id": "1ac5ac50",
   "metadata": {},
   "outputs": [
    {
     "name": "stdout",
     "output_type": "stream",
     "text": [
      "AUC = 0.6764\n"
     ]
    },
    {
     "data": {
      "image/png": "[encoded data removed]",
      "text/plain": [
       "<Figure size 600x600 with 1 Axes>"
      ]
     },
     "metadata": {},
     "output_type": "display_data"
    }
   ],
   "source": [
    "# Plotting ROC curve\n",
    "fpr_lr_test, tpr_lr_test, thresholds_roc_lr_test = roc_curve(y_t0_test, t0_lr_predicted_probabilities[:, 1], pos_label=1)\n",
    "auc_t0_lr = auc(fpr_lr_test, tpr_lr_test)\n",
    "print(\"AUC = {:.4f}\".format(auc_t0_lr))\n",
    "\n",
    "plt.figure(figsize=(6, 6))\n",
    "plot_roc_curve(fpr_lr_test, tpr_lr_test)\n",
    "plt.title(\"ROC Curve - Logistic Regression\")\n",
    "plt.grid(False)\n",
    "plt.show()"
   ]
  },
  {
   "cell_type": "markdown",
   "id": "5988dcf6",
   "metadata": {},
   "source": [
    "#### 4.1.3 Individual features - ITEM_ID 50912 (for reference)"
   ]
  },
  {
   "cell_type": "code",
   "execution_count": 18,
   "id": "c185c699",
   "metadata": {},
   "outputs": [
    {
     "data": {
      "text/html": [
       "<style>#sk-container-id-2 {color: black;}#sk-container-id-2 pre{padding: 0;}#sk-container-id-2 div.sk-toggleable {background-color: white;}#sk-container-id-2 label.sk-toggleable__label {cursor: pointer;display: block;width: 100%;margin-bottom: 0;padding: 0.3em;box-sizing: border-box;text-align: center;}#sk-container-id-2 label.sk-toggleable__label-arrow:before {content: \"▸\";float: left;margin-right: 0.25em;color: #696969;}#sk-container-id-2 label.sk-toggleable__label-arrow:hover:before {color: black;}#sk-container-id-2 div.sk-estimator:hover label.sk-toggleable__label-arrow:before {color: black;}#sk-container-id-2 div.sk-toggleable__content {max-height: 0;max-width: 0;overflow: hidden;text-align: left;background-color: #f0f8ff;}#sk-container-id-2 div.sk-toggleable__content pre {margin: 0.2em;color: black;border-radius: 0.25em;background-color: #f0f8ff;}#sk-container-id-2 input.sk-toggleable__control:checked~div.sk-toggleable__content {max-height: 200px;max-width: 100%;overflow: auto;}#sk-container-id-2 input.sk-toggleable__control:checked~label.sk-toggleable__label-arrow:before {content: \"▾\";}#sk-container-id-2 div.sk-estimator input.sk-toggleable__control:checked~label.sk-toggleable__label {background-color: #d4ebff;}#sk-container-id-2 div.sk-label input.sk-toggleable__control:checked~label.sk-toggleable__label {background-color: #d4ebff;}#sk-container-id-2 input.sk-hidden--visually {border: 0;clip: rect(1px 1px 1px 1px);clip: rect(1px, 1px, 1px, 1px);height: 1px;margin: -1px;overflow: hidden;padding: 0;position: absolute;width: 1px;}#sk-container-id-2 div.sk-estimator {font-family: monospace;background-color: #f0f8ff;border: 1px dotted black;border-radius: 0.25em;box-sizing: border-box;margin-bottom: 0.5em;}#sk-container-id-2 div.sk-estimator:hover {background-color: #d4ebff;}#sk-container-id-2 div.sk-parallel-item::after {content: \"\";width: 100%;border-bottom: 1px solid gray;flex-grow: 1;}#sk-container-id-2 div.sk-label:hover label.sk-toggleable__label {background-color: #d4ebff;}#sk-container-id-2 div.sk-serial::before {content: \"\";position: absolute;border-left: 1px solid gray;box-sizing: border-box;top: 0;bottom: 0;left: 50%;z-index: 0;}#sk-container-id-2 div.sk-serial {display: flex;flex-direction: column;align-items: center;background-color: white;padding-right: 0.2em;padding-left: 0.2em;position: relative;}#sk-container-id-2 div.sk-item {position: relative;z-index: 1;}#sk-container-id-2 div.sk-parallel {display: flex;align-items: stretch;justify-content: center;background-color: white;position: relative;}#sk-container-id-2 div.sk-item::before, #sk-container-id-2 div.sk-parallel-item::before {content: \"\";position: absolute;border-left: 1px solid gray;box-sizing: border-box;top: 0;bottom: 0;left: 50%;z-index: -1;}#sk-container-id-2 div.sk-parallel-item {display: flex;flex-direction: column;z-index: 1;position: relative;background-color: white;}#sk-container-id-2 div.sk-parallel-item:first-child::after {align-self: flex-end;width: 50%;}#sk-container-id-2 div.sk-parallel-item:last-child::after {align-self: flex-start;width: 50%;}#sk-container-id-2 div.sk-parallel-item:only-child::after {width: 0;}#sk-container-id-2 div.sk-dashed-wrapped {border: 1px dashed gray;margin: 0 0.4em 0.5em 0.4em;box-sizing: border-box;padding-bottom: 0.4em;background-color: white;}#sk-container-id-2 div.sk-label label {font-family: monospace;font-weight: bold;display: inline-block;line-height: 1.2em;}#sk-container-id-2 div.sk-label-container {text-align: center;}#sk-container-id-2 div.sk-container {/* jupyter's `normalize.less` sets `[hidden] { display: none; }` but bootstrap.min.css set `[hidden] { display: none !important; }` so we also need the `!important` here to be able to override the default hidden behavior on the sphinx rendered scikit-learn.org. See: https://github.com/scikit-learn/scikit-learn/issues/21755 */display: inline-block !important;position: relative;}#sk-container-id-2 div.sk-text-repr-fallback {display: none;}</style><div id=\"sk-container-id-2\" class=\"sk-top-container\"><div class=\"sk-text-repr-fallback\"><pre>LogisticRegression(random_state=901)</pre><b>In a Jupyter environment, please rerun this cell to show the HTML representation or trust the notebook. <br />On GitHub, the HTML representation is unable to render, please try loading this page with nbviewer.org.</b></div><div class=\"sk-container\" hidden><div class=\"sk-item\"><div class=\"sk-estimator sk-toggleable\"><input class=\"sk-toggleable__control sk-hidden--visually\" id=\"sk-estimator-id-2\" type=\"checkbox\" checked><label for=\"sk-estimator-id-2\" class=\"sk-toggleable__label sk-toggleable__label-arrow\">LogisticRegression</label><div class=\"sk-toggleable__content\"><pre>LogisticRegression(random_state=901)</pre></div></div></div></div></div>"
      ],
      "text/plain": [
       "LogisticRegression(random_state=901)"
      ]
     },
     "execution_count": 18,
     "metadata": {},
     "output_type": "execute_result"
    }
   ],
   "source": [
    "feature_columns = t0_df.columns.drop(\"IS_SEPSIS\").tolist()\n",
    "target_column = [\"IS_SEPSIS\"]\n",
    "\n",
    "# Convert numpy array back to DataFrame\n",
    "X_t0_train_df = pd.DataFrame(X_t0_train, columns=feature_columns)\n",
    "y_t0_train_df = pd.DataFrame(y_t0_train, columns=target_column)\n",
    "\n",
    "X_t0_test_df = pd.DataFrame(X_t0_test, columns=feature_columns)\n",
    "y_t0_test_df = pd.DataFrame(y_t0_test, columns=target_column)\n",
    "\n",
    "# Extract specific feature for Logistic Regression\n",
    "X_t0_train_50912 = X_t0_train_df[\"ITEMID_50912\"].values.reshape(-1, 1)\n",
    "y_t0_train_50912 = y_t0_train_df[\"IS_SEPSIS\"]\n",
    "\n",
    "X_t0_test_50912 = X_t0_test_df[\"ITEMID_50912\"].values.reshape(-1, 1)\n",
    "y_t0_test_50912 = y_t0_test_df[\"IS_SEPSIS\"]\n",
    "\n",
    "t0_lr.fit(X_t0_train_50912, y_t0_train_50912)"
   ]
  },
  {
   "cell_type": "code",
   "execution_count": 19,
   "id": "670a7178",
   "metadata": {},
   "outputs": [
    {
     "name": "stdout",
     "output_type": "stream",
     "text": [
      "Decision boundary of ITEM_ID 50912 is 0.0000\n"
     ]
    }
   ],
   "source": [
    "# Estimated probabilities and decision boundary of \"ITEM_ID 50912\"\n",
    "min_50912 = np.min(X_t0_train_df[\"ITEMID_50912\"].values)\n",
    "max_50912 = np.max(X_t0_train_df[\"ITEMID_50912\"].values)\n",
    "\n",
    "X_new_50912 = np.linspace(min_50912, max_50912, 1000).reshape(-1,1)\n",
    "y_train_50912_proba = t0_lr.predict_proba(X_new_50912)\n",
    "\n",
    "threshold_50912 = 0.5\n",
    "decision_boundary_50912 = X_new_50912[y_train_50912_proba[:, 0] >= threshold_50912][0]\n",
    "print(\"Decision boundary of ITEM_ID 50912 is {:.4f}\".format(decision_boundary_50912[0]))"
   ]
  },
  {
   "cell_type": "code",
   "execution_count": 20,
   "id": "68c4bd77",
   "metadata": {},
   "outputs": [
    {
     "data": {
      "image/png": "[encoded data removed]",
      "text/plain": [
       "<Figure size 800x300 with 1 Axes>"
      ]
     },
     "metadata": {},
     "output_type": "display_data"
    }
   ],
   "source": [
    "# Plotting the estimated probabilities and decision boundary\n",
    "plt.figure(figsize=(8, 3))\n",
    "plt.plot(X_t0_train_50912[y_t0_train_50912 == 0], y_t0_train_50912[y_t0_train_50912 == 0], \"bs\")\n",
    "plt.plot(X_t0_train_50912[y_t0_train_50912 == 1], y_t0_train_50912[y_t0_train_50912 == 1], \"g^\")\n",
    "#plt.plot([decision_boundary_50912, decision_boundary_50912], [-3, 3], \"k:\", linewidth=2)\n",
    "plt.plot(X_new_50912, y_train_50912_proba[:, 1], \"g-\", linewidth = 2, label = \"Non-Sepsis\")\n",
    "plt.plot(X_new_50912, y_train_50912_proba[:, 0], \"b--\", linewidth = 2, label = \"Sepsis\")\n",
    "plt.xlabel(\"ITEM_ID 50912\", fontsize = 12)\n",
    "plt.ylabel(\"Probability\", fontsize = 12)\n",
    "plt.legend(loc = \"center right\", fontsize = 10)\n",
    "\n",
    "plt.show()"
   ]
  },
  {
   "cell_type": "markdown",
   "id": "f57da6b2",
   "metadata": {},
   "source": [
    "### 4.2 Random Forest"
   ]
  },
  {
   "cell_type": "markdown",
   "id": "833d6254",
   "metadata": {},
   "source": [
    "#### 4.2.1 Model Training"
   ]
  },
  {
   "cell_type": "code",
   "execution_count": 21,
   "id": "2d023a01",
   "metadata": {},
   "outputs": [],
   "source": [
    "# Define the RMSE scoring metric as a callable\n",
    "def rmse(y_true, y_pred):\n",
    "    mse = mean_squared_error(y_true, y_pred)\n",
    "    return sqrt(mse)\n",
    "\n",
    "rmse_scorer = make_scorer(rmse, greater_is_better=False)"
   ]
  },
  {
   "cell_type": "code",
   "execution_count": 22,
   "id": "d78c7239",
   "metadata": {},
   "outputs": [
    {
     "data": {
      "text/html": [
       "<style>#sk-container-id-3 {color: black;}#sk-container-id-3 pre{padding: 0;}#sk-container-id-3 div.sk-toggleable {background-color: white;}#sk-container-id-3 label.sk-toggleable__label {cursor: pointer;display: block;width: 100%;margin-bottom: 0;padding: 0.3em;box-sizing: border-box;text-align: center;}#sk-container-id-3 label.sk-toggleable__label-arrow:before {content: \"▸\";float: left;margin-right: 0.25em;color: #696969;}#sk-container-id-3 label.sk-toggleable__label-arrow:hover:before {color: black;}#sk-container-id-3 div.sk-estimator:hover label.sk-toggleable__label-arrow:before {color: black;}#sk-container-id-3 div.sk-toggleable__content {max-height: 0;max-width: 0;overflow: hidden;text-align: left;background-color: #f0f8ff;}#sk-container-id-3 div.sk-toggleable__content pre {margin: 0.2em;color: black;border-radius: 0.25em;background-color: #f0f8ff;}#sk-container-id-3 input.sk-toggleable__control:checked~div.sk-toggleable__content {max-height: 200px;max-width: 100%;overflow: auto;}#sk-container-id-3 input.sk-toggleable__control:checked~label.sk-toggleable__label-arrow:before {content: \"▾\";}#sk-container-id-3 div.sk-estimator input.sk-toggleable__control:checked~label.sk-toggleable__label {background-color: #d4ebff;}#sk-container-id-3 div.sk-label input.sk-toggleable__control:checked~label.sk-toggleable__label {background-color: #d4ebff;}#sk-container-id-3 input.sk-hidden--visually {border: 0;clip: rect(1px 1px 1px 1px);clip: rect(1px, 1px, 1px, 1px);height: 1px;margin: -1px;overflow: hidden;padding: 0;position: absolute;width: 1px;}#sk-container-id-3 div.sk-estimator {font-family: monospace;background-color: #f0f8ff;border: 1px dotted black;border-radius: 0.25em;box-sizing: border-box;margin-bottom: 0.5em;}#sk-container-id-3 div.sk-estimator:hover {background-color: #d4ebff;}#sk-container-id-3 div.sk-parallel-item::after {content: \"\";width: 100%;border-bottom: 1px solid gray;flex-grow: 1;}#sk-container-id-3 div.sk-label:hover label.sk-toggleable__label {background-color: #d4ebff;}#sk-container-id-3 div.sk-serial::before {content: \"\";position: absolute;border-left: 1px solid gray;box-sizing: border-box;top: 0;bottom: 0;left: 50%;z-index: 0;}#sk-container-id-3 div.sk-serial {display: flex;flex-direction: column;align-items: center;background-color: white;padding-right: 0.2em;padding-left: 0.2em;position: relative;}#sk-container-id-3 div.sk-item {position: relative;z-index: 1;}#sk-container-id-3 div.sk-parallel {display: flex;align-items: stretch;justify-content: center;background-color: white;position: relative;}#sk-container-id-3 div.sk-item::before, #sk-container-id-3 div.sk-parallel-item::before {content: \"\";position: absolute;border-left: 1px solid gray;box-sizing: border-box;top: 0;bottom: 0;left: 50%;z-index: -1;}#sk-container-id-3 div.sk-parallel-item {display: flex;flex-direction: column;z-index: 1;position: relative;background-color: white;}#sk-container-id-3 div.sk-parallel-item:first-child::after {align-self: flex-end;width: 50%;}#sk-container-id-3 div.sk-parallel-item:last-child::after {align-self: flex-start;width: 50%;}#sk-container-id-3 div.sk-parallel-item:only-child::after {width: 0;}#sk-container-id-3 div.sk-dashed-wrapped {border: 1px dashed gray;margin: 0 0.4em 0.5em 0.4em;box-sizing: border-box;padding-bottom: 0.4em;background-color: white;}#sk-container-id-3 div.sk-label label {font-family: monospace;font-weight: bold;display: inline-block;line-height: 1.2em;}#sk-container-id-3 div.sk-label-container {text-align: center;}#sk-container-id-3 div.sk-container {/* jupyter's `normalize.less` sets `[hidden] { display: none; }` but bootstrap.min.css set `[hidden] { display: none !important; }` so we also need the `!important` here to be able to override the default hidden behavior on the sphinx rendered scikit-learn.org. See: https://github.com/scikit-learn/scikit-learn/issues/21755 */display: inline-block !important;position: relative;}#sk-container-id-3 div.sk-text-repr-fallback {display: none;}</style><div id=\"sk-container-id-3\" class=\"sk-top-container\"><div class=\"sk-text-repr-fallback\"><pre>RandomForestClassifier(random_state=901)</pre><b>In a Jupyter environment, please rerun this cell to show the HTML representation or trust the notebook. <br />On GitHub, the HTML representation is unable to render, please try loading this page with nbviewer.org.</b></div><div class=\"sk-container\" hidden><div class=\"sk-item\"><div class=\"sk-estimator sk-toggleable\"><input class=\"sk-toggleable__control sk-hidden--visually\" id=\"sk-estimator-id-3\" type=\"checkbox\" checked><label for=\"sk-estimator-id-3\" class=\"sk-toggleable__label sk-toggleable__label-arrow\">RandomForestClassifier</label><div class=\"sk-toggleable__content\"><pre>RandomForestClassifier(random_state=901)</pre></div></div></div></div></div>"
      ],
      "text/plain": [
       "RandomForestClassifier(random_state=901)"
      ]
     },
     "execution_count": 22,
     "metadata": {},
     "output_type": "execute_result"
    }
   ],
   "source": [
    "t0_rf = RandomForestClassifier(random_state=901)\n",
    "t0_rf.fit(X_t0_train, y_t0_train)\n"
   ]
  },
  {
   "cell_type": "code",
   "execution_count": 23,
   "id": "cc25f33a",
   "metadata": {},
   "outputs": [],
   "source": [
    "# Predict the test set using the best random forest regressor\n",
    "y_pred_rf = t0_rf.predict(X_t0_test)\n",
    "y_pred_rf = np.round(y_pred_rf) # Round the predictions to the nearest integer\n",
    "t0_rf_predicted_probabilities = t0_rf.predict_proba(X_t0_test)"
   ]
  },
  {
   "cell_type": "markdown",
   "id": "89e993d0",
   "metadata": {},
   "source": [
    "#### 4.2.2 Performance Measurement"
   ]
  },
  {
   "cell_type": "code",
   "execution_count": 24,
   "id": "3edb88fd",
   "metadata": {},
   "outputs": [
    {
     "name": "stdout",
     "output_type": "stream",
     "text": [
      "Random Forest Classifier Test set RMSE: 0.3234\n"
     ]
    }
   ],
   "source": [
    "# Compute the RMSE of the predictions on the test set\n",
    "rmse_rf = np.sqrt(mean_squared_error(y_t0_test, y_pred_rf))\n",
    "print(\"Random Forest Classifier Test set RMSE: {:.4f}\".format(rmse_rf))"
   ]
  },
  {
   "cell_type": "code",
   "execution_count": 25,
   "id": "6b887783",
   "metadata": {},
   "outputs": [
    {
     "name": "stdout",
     "output_type": "stream",
     "text": [
      "Performance measures on Random Forest Classifier:\n",
      "\n"
     ]
    },
    {
     "data": {
      "image/png": "[encoded data removed]",
      "text/plain": [
       "<Figure size 1000x400 with 4 Axes>"
      ]
     },
     "metadata": {},
     "output_type": "display_data"
    },
    {
     "name": "stdout",
     "output_type": "stream",
     "text": [
      "\n",
      "Precision: Training set 0.9998 ; Test set 0.4610\n",
      "Recall: Training set 1.0000 ; Test set 0.0638\n",
      "Predictive value of a negative test: Training set 1.0000 ; Test set 0.9017\n"
     ]
    }
   ],
   "source": [
    "print(\"Performance measures on Random Forest Classifier:\\n\")\n",
    "performance_measure(t0_rf, X_t0_train, X_t0_test, y_t0_train, y_t0_test)"
   ]
  },
  {
   "cell_type": "code",
   "execution_count": 26,
   "id": "3ba1cd2d",
   "metadata": {},
   "outputs": [
    {
     "name": "stdout",
     "output_type": "stream",
     "text": [
      "AUC = 0.7918\n"
     ]
    },
    {
     "data": {
      "image/png": "[encoded data removed]",
      "text/plain": [
       "<Figure size 600x600 with 1 Axes>"
      ]
     },
     "metadata": {},
     "output_type": "display_data"
    }
   ],
   "source": [
    "# Plotting ROC curve\n",
    "fpr_rf_test, tpr_rf_test, thresholds_roc_rf_test = roc_curve(y_t0_test, t0_rf_predicted_probabilities[:, 1], pos_label=1)\n",
    "auc_t0_rf = auc(fpr_rf_test, tpr_rf_test)\n",
    "print(\"AUC = {:.4f}\".format(auc_t0_rf))\n",
    "\n",
    "plt.figure(figsize=(6, 6))\n",
    "plot_roc_curve(fpr_rf_test, tpr_rf_test)\n",
    "plt.title(\"ROC Curve - Random Forest\")\n",
    "plt.grid(False)\n",
    "plt.show()"
   ]
  },
  {
   "cell_type": "markdown",
   "id": "1c78bc2f",
   "metadata": {},
   "source": [
    "#### 4.2.3 Feature Selections"
   ]
  },
  {
   "cell_type": "code",
   "execution_count": 27,
   "id": "c4410a2a",
   "metadata": {},
   "outputs": [
    {
     "name": "stdout",
     "output_type": "stream",
     "text": [
      "Selected features:\n",
      "ITEMID_51301    Importance Score: 0.1236\n",
      "ITEMID_51256    Importance Score: 0.0995\n",
      "ITEMID_51244    Importance Score: 0.0993\n",
      "ITEMID_51279    Importance Score: 0.0889\n",
      "ITEMID_51221    Importance Score: 0.0857\n",
      "ITEMID_51006    Importance Score: 0.0849\n",
      "ITEMID_50931    Importance Score: 0.0844\n",
      "ITEMID_51274    Importance Score: 0.0833\n",
      "ITEMID_50912    Importance Score: 0.0810\n",
      "ITEMID_51222    Importance Score: 0.0779\n",
      "AGE             Importance Score: 0.0767\n",
      "\n",
      "Total feature importance: 0.9851\n"
     ]
    }
   ],
   "source": [
    "# Create a SelectFromModel object to remove features with importance values below 0.05\n",
    "selector = SelectFromModel(t0_rf, threshold=0.05, prefit=True)\n",
    "\n",
    "# Transform the training and test data to retain only the selected features\n",
    "X_t0_train_reduced = selector.transform(X_t0_train)\n",
    "X_t0_test_reduced = selector.transform(X_t0_test)\n",
    "\n",
    "# Print the names of the retained features\n",
    "feature_names = train_t0_df.columns[:-1][selector.get_support()]\n",
    "\n",
    "importance_scores = t0_rf.feature_importances_[selector.get_support()]\n",
    "\n",
    "# Combine feature names and their importance scores\n",
    "feature_importance = list(zip(feature_names, importance_scores))\n",
    "\n",
    "# Sort the features by importance score in descending order\n",
    "sorted_features = sorted(feature_importance, key=lambda x: x[1], reverse=True)\n",
    "\n",
    "print('Selected features:')\n",
    "for feature, score in sorted_features:\n",
    "    print('{:15} Importance Score: {:.4f}'.format(feature, score))\n",
    "\n",
    "# Print the total feature importance value that is retained after dimension reduction\n",
    "total_importance = np.sum(t0_rf.feature_importances_[selector.get_support()])\n",
    "print('\\nTotal feature importance: {:.4f}'.format(total_importance))"
   ]
  },
  {
   "cell_type": "markdown",
   "id": "da9e45e7",
   "metadata": {},
   "source": [
    "### 4.3 Gradient Boosting"
   ]
  },
  {
   "cell_type": "markdown",
   "id": "2de876f6",
   "metadata": {},
   "source": [
    "#### 4.3.1 Model Training"
   ]
  },
  {
   "cell_type": "code",
   "execution_count": 28,
   "id": "e022e64f",
   "metadata": {},
   "outputs": [
    {
     "data": {
      "text/html": [
       "<style>#sk-container-id-4 {color: black;}#sk-container-id-4 pre{padding: 0;}#sk-container-id-4 div.sk-toggleable {background-color: white;}#sk-container-id-4 label.sk-toggleable__label {cursor: pointer;display: block;width: 100%;margin-bottom: 0;padding: 0.3em;box-sizing: border-box;text-align: center;}#sk-container-id-4 label.sk-toggleable__label-arrow:before {content: \"▸\";float: left;margin-right: 0.25em;color: #696969;}#sk-container-id-4 label.sk-toggleable__label-arrow:hover:before {color: black;}#sk-container-id-4 div.sk-estimator:hover label.sk-toggleable__label-arrow:before {color: black;}#sk-container-id-4 div.sk-toggleable__content {max-height: 0;max-width: 0;overflow: hidden;text-align: left;background-color: #f0f8ff;}#sk-container-id-4 div.sk-toggleable__content pre {margin: 0.2em;color: black;border-radius: 0.25em;background-color: #f0f8ff;}#sk-container-id-4 input.sk-toggleable__control:checked~div.sk-toggleable__content {max-height: 200px;max-width: 100%;overflow: auto;}#sk-container-id-4 input.sk-toggleable__control:checked~label.sk-toggleable__label-arrow:before {content: \"▾\";}#sk-container-id-4 div.sk-estimator input.sk-toggleable__control:checked~label.sk-toggleable__label {background-color: #d4ebff;}#sk-container-id-4 div.sk-label input.sk-toggleable__control:checked~label.sk-toggleable__label {background-color: #d4ebff;}#sk-container-id-4 input.sk-hidden--visually {border: 0;clip: rect(1px 1px 1px 1px);clip: rect(1px, 1px, 1px, 1px);height: 1px;margin: -1px;overflow: hidden;padding: 0;position: absolute;width: 1px;}#sk-container-id-4 div.sk-estimator {font-family: monospace;background-color: #f0f8ff;border: 1px dotted black;border-radius: 0.25em;box-sizing: border-box;margin-bottom: 0.5em;}#sk-container-id-4 div.sk-estimator:hover {background-color: #d4ebff;}#sk-container-id-4 div.sk-parallel-item::after {content: \"\";width: 100%;border-bottom: 1px solid gray;flex-grow: 1;}#sk-container-id-4 div.sk-label:hover label.sk-toggleable__label {background-color: #d4ebff;}#sk-container-id-4 div.sk-serial::before {content: \"\";position: absolute;border-left: 1px solid gray;box-sizing: border-box;top: 0;bottom: 0;left: 50%;z-index: 0;}#sk-container-id-4 div.sk-serial {display: flex;flex-direction: column;align-items: center;background-color: white;padding-right: 0.2em;padding-left: 0.2em;position: relative;}#sk-container-id-4 div.sk-item {position: relative;z-index: 1;}#sk-container-id-4 div.sk-parallel {display: flex;align-items: stretch;justify-content: center;background-color: white;position: relative;}#sk-container-id-4 div.sk-item::before, #sk-container-id-4 div.sk-parallel-item::before {content: \"\";position: absolute;border-left: 1px solid gray;box-sizing: border-box;top: 0;bottom: 0;left: 50%;z-index: -1;}#sk-container-id-4 div.sk-parallel-item {display: flex;flex-direction: column;z-index: 1;position: relative;background-color: white;}#sk-container-id-4 div.sk-parallel-item:first-child::after {align-self: flex-end;width: 50%;}#sk-container-id-4 div.sk-parallel-item:last-child::after {align-self: flex-start;width: 50%;}#sk-container-id-4 div.sk-parallel-item:only-child::after {width: 0;}#sk-container-id-4 div.sk-dashed-wrapped {border: 1px dashed gray;margin: 0 0.4em 0.5em 0.4em;box-sizing: border-box;padding-bottom: 0.4em;background-color: white;}#sk-container-id-4 div.sk-label label {font-family: monospace;font-weight: bold;display: inline-block;line-height: 1.2em;}#sk-container-id-4 div.sk-label-container {text-align: center;}#sk-container-id-4 div.sk-container {/* jupyter's `normalize.less` sets `[hidden] { display: none; }` but bootstrap.min.css set `[hidden] { display: none !important; }` so we also need the `!important` here to be able to override the default hidden behavior on the sphinx rendered scikit-learn.org. See: https://github.com/scikit-learn/scikit-learn/issues/21755 */display: inline-block !important;position: relative;}#sk-container-id-4 div.sk-text-repr-fallback {display: none;}</style><div id=\"sk-container-id-4\" class=\"sk-top-container\"><div class=\"sk-text-repr-fallback\"><pre>GradientBoostingClassifier(random_state=901)</pre><b>In a Jupyter environment, please rerun this cell to show the HTML representation or trust the notebook. <br />On GitHub, the HTML representation is unable to render, please try loading this page with nbviewer.org.</b></div><div class=\"sk-container\" hidden><div class=\"sk-item\"><div class=\"sk-estimator sk-toggleable\"><input class=\"sk-toggleable__control sk-hidden--visually\" id=\"sk-estimator-id-4\" type=\"checkbox\" checked><label for=\"sk-estimator-id-4\" class=\"sk-toggleable__label sk-toggleable__label-arrow\">GradientBoostingClassifier</label><div class=\"sk-toggleable__content\"><pre>GradientBoostingClassifier(random_state=901)</pre></div></div></div></div></div>"
      ],
      "text/plain": [
       "GradientBoostingClassifier(random_state=901)"
      ]
     },
     "execution_count": 28,
     "metadata": {},
     "output_type": "execute_result"
    }
   ],
   "source": [
    "# Initialize the Gradient Boosting Classifier\n",
    "t0_gb = GradientBoostingClassifier(n_estimators=100, learning_rate=0.1, max_depth=3, random_state=901)\n",
    "\n",
    "# Train the classifier on the training data\n",
    "t0_gb.fit(X_t0_train, y_t0_train)"
   ]
  },
  {
   "cell_type": "code",
   "execution_count": 29,
   "id": "c130a497",
   "metadata": {},
   "outputs": [],
   "source": [
    "# Predict on the test set\n",
    "y_t0_pred = t0_gb.predict(X_t0_test)\n",
    "t0_gb_predicted_probabilities = t0_gb.predict_proba(X_t0_test)"
   ]
  },
  {
   "cell_type": "markdown",
   "id": "33a07b19",
   "metadata": {},
   "source": [
    "#### 4.3.2 Performance Measurement"
   ]
  },
  {
   "cell_type": "code",
   "execution_count": 30,
   "id": "ffe1bbb1",
   "metadata": {},
   "outputs": [
    {
     "name": "stdout",
     "output_type": "stream",
     "text": [
      "Performance measures on Gradient Boosting Classifier:\n",
      "\n"
     ]
    },
    {
     "data": {
      "image/png": "[encoded data removed]",
      "text/plain": [
       "<Figure size 1000x400 with 4 Axes>"
      ]
     },
     "metadata": {},
     "output_type": "display_data"
    },
    {
     "name": "stdout",
     "output_type": "stream",
     "text": [
      "\n",
      "Precision: Training set 0.6289 ; Test set 0.4489\n",
      "Recall: Training set 0.1143 ; Test set 0.0775\n",
      "Predictive value of a negative test: Training set 0.9066 ; Test set 0.9028\n"
     ]
    }
   ],
   "source": [
    "print(\"Performance measures on Gradient Boosting Classifier:\\n\")\n",
    "performance_measure(t0_gb, X_t0_train, X_t0_test, y_t0_train, y_t0_test)"
   ]
  },
  {
   "cell_type": "code",
   "execution_count": 31,
   "id": "8b7be4a1",
   "metadata": {},
   "outputs": [
    {
     "name": "stdout",
     "output_type": "stream",
     "text": [
      "AUC = 0.7901\n"
     ]
    },
    {
     "data": {
      "image/png": "[encoded data removed]",
      "text/plain": [
       "<Figure size 600x600 with 1 Axes>"
      ]
     },
     "metadata": {},
     "output_type": "display_data"
    }
   ],
   "source": [
    "# Plotting ROC curve\n",
    "fpr_gb_test, tpr_gb_test, thresholds_roc_gb_test = roc_curve(y_t0_test, t0_gb_predicted_probabilities[:, 1], pos_label=1)\n",
    "auc_t0_gb = auc(fpr_gb_test, tpr_gb_test)\n",
    "print(\"AUC = {:.4f}\".format(auc_t0_gb))\n",
    "\n",
    "plt.figure(figsize=(6, 6))\n",
    "plot_roc_curve(fpr_gb_test, tpr_gb_test)\n",
    "plt.title(\"ROC Curve - Gradient Boosting\")\n",
    "plt.grid(False)\n",
    "plt.show()"
   ]
  },
  {
   "cell_type": "markdown",
   "id": "66272791",
   "metadata": {},
   "source": [
    "#### 4.3.3 Feature selection"
   ]
  },
  {
   "cell_type": "code",
   "execution_count": 32,
   "id": "e517c23f",
   "metadata": {},
   "outputs": [
    {
     "name": "stdout",
     "output_type": "stream",
     "text": [
      "Selected features (Gradient Boosting):\n",
      "ITEMID_51301    Importance Score: 0.2125\n",
      "ITEMID_50912    Importance Score: 0.2057\n",
      "ITEMID_51256    Importance Score: 0.2001\n",
      "ITEMID_51244    Importance Score: 0.1364\n",
      "ITEMID_51274    Importance Score: 0.0826\n",
      "ITEMID_51006    Importance Score: 0.0470\n",
      "ITEMID_51279    Importance Score: 0.0349\n",
      "ITEMID_51222    Importance Score: 0.0316\n",
      "ITEMID_50931    Importance Score: 0.0201\n",
      "\n",
      "Total feature importance (Gradient Boosting): 0.9711\n"
     ]
    }
   ],
   "source": [
    "# Create a SelectFromModel object to remove features with importance values below 0.02\n",
    "selector_gb = SelectFromModel(t0_gb, threshold=0.02, prefit=True)\n",
    "\n",
    "# Transform the training and test data to retain only the selected features\n",
    "X_t0_train_gb_reduced = selector_gb.transform(X_t0_train)\n",
    "X_t0_test_gb_reduced = selector_gb.transform(X_t0_test)\n",
    "\n",
    "# Print the names of the retained features\n",
    "feature_names = train_t0_df.columns[:-1][selector_gb.get_support()]\n",
    "importance_scores_gb = t0_gb.feature_importances_[selector_gb.get_support()]\n",
    "\n",
    "# Combine feature names and their importance scores\n",
    "feature_importance_gb = list(zip(feature_names, importance_scores_gb))\n",
    "\n",
    "# Sort the features by importance score in descending order\n",
    "sorted_features_gb = sorted(feature_importance_gb, key=lambda x: x[1], reverse=True)\n",
    "\n",
    "print('Selected features (Gradient Boosting):')\n",
    "for feature, score in sorted_features_gb:\n",
    "    print('{:15} Importance Score: {:.4f}'.format(feature, score))\n",
    "\n",
    "# Print the total feature importance value that is retained after dimension reduction\n",
    "total_importance_gb = np.sum(t0_gb.feature_importances_[selector_gb.get_support()])\n",
    "print('\\nTotal feature importance (Gradient Boosting): {:.4f}'.format(total_importance_gb))"
   ]
  }
 ],
 "metadata": {
  "kernelspec": {
   "display_name": "Python 3 (ipykernel)",
   "language": "python",
   "name": "python3"
  },
  "language_info": {
   "codemirror_mode": {
    "name": "ipython",
    "version": 3
   },
   "file_extension": ".py",
   "mimetype": "text/x-python",
   "name": "python",
   "nbconvert_exporter": "python",
   "pygments_lexer": "ipython3",
   "version": "3.9.13"
  }
 },
 "nbformat": 4,
 "nbformat_minor": 5
}
