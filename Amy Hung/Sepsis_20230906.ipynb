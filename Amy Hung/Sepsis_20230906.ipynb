{
 "cells": [
  {
   "cell_type": "code",
   "execution_count": 7,
   "id": "7fa5bc20",
   "metadata": {},
   "outputs": [
    {
     "name": "stdout",
     "output_type": "stream",
     "text": [
      "Yes, A (uti) can cause B (sepsis).\n"
     ]
    },
    {
     "data": {
      "text/plain": [
       "'Yes, A (uti) can cause B (sepsis).'"
      ]
     },
     "execution_count": 7,
     "metadata": {},
     "output_type": "execute_result"
    }
   ],
   "source": [
    "import requests\n",
    "import re\n",
    "\n",
    "# For local streaming, the websockets are hosted without ssl - http://\n",
    "HOST = 'localhost:5000'\n",
    "URI = f'http://{HOST}/api/v1/generate'\n",
    "\n",
    "# For reverse-proxied streaming, the remote will likely host with ssl - https://\n",
    "# URI = 'https://your-uri-here.trycloudflare.com/api/v1/generate'\n",
    "\n",
    "\n",
    "def run(prompt,test):\n",
    "    request = {\n",
    "        'prompt': prompt.replace(\"{test}\",test),\n",
    "        'max_new_tokens': 250,\n",
    "        'temperature': 0.0,\n",
    "        'top_p': 0.1,\n",
    "        'length_penalty': 5,\n",
    "        'early_stopping': True,\n",
    "        'seed': 0,\n",
    "    }\n",
    "\n",
    "    response = requests.post(URI, json=request)\n",
    "    print(response.json()['results'][0]['text'])\n",
    "\n",
    "    return response.json()['results'][0]['text']\n",
    "\n",
    "\n",
    "prompt = '''\n",
    "[INST]\n",
    "You are a medical expert. You are tasked to identify causality between two conditions.\n",
    "Return yes if A causes B. If B causes A or if you are not sure, return no. Keep your response short and succinct.\n",
    "Input\n",
    "{test}\n",
    "[/INST]\n",
    "'''\n",
    "run(prompt,\"A: uti, B: sepsis\")"
   ]
  },
  {
   "cell_type": "code",
   "execution_count": 8,
   "id": "d7724480",
   "metadata": {},
   "outputs": [],
   "source": [
    "import pandas as pd"
   ]
  },
  {
   "cell_type": "code",
   "execution_count": 10,
   "id": "92d6ae0d",
   "metadata": {},
   "outputs": [],
   "source": [
    "symptom=[\"uti\", \"low oxygen\", \"low neutrophils\", \"low BP\", \"high BP\", \"age>50\"]\n",
    "df = pd.DataFrame(symptom, columns=['symptom'])"
   ]
  },
  {
   "cell_type": "code",
   "execution_count": 11,
   "id": "9218d9ed",
   "metadata": {},
   "outputs": [
    {
     "name": "stdout",
     "output_type": "stream",
     "text": [
      "Yes, A (uti) can cause B (sepsis).\n",
      "Yes, A (low oxygen) causes B (sepsis). Low oxygen levels can lead to sepsis, a life-threatening condition that can cause organ failure and death.\n",
      "Yes, A (low neutrophils) causes B (sepsis). Low neutrophil counts can impair the body's ability to fight off infections, which can lead to the development of sepsis.\n",
      "No. Sepsis can cause low blood pressure (BP), but low BP does not cause sepsis.\n",
      "Yes, A (high BP) can cause B (sepsis). High blood pressure can lead to damage to blood vessels, which can increase the risk of bacterial infection and sepsis.\n",
      "Yes, A (age > 50) causes B (sepsis). As people age, their immune systems weaken, making them more susceptible to infections like sepsis.\n"
     ]
    }
   ],
   "source": [
    "df['relation'] = df.apply(lambda x: run(prompt, f\"A: {x.symptom}, B: sepsis\"), axis=1)"
   ]
  },
  {
   "cell_type": "code",
   "execution_count": 12,
   "id": "f8d80f68",
   "metadata": {},
   "outputs": [],
   "source": [
    "df['result'] = df.apply(lambda x: 'Yes' if 'Yes' in x.relation else 'No', axis=1)"
   ]
  },
  {
   "cell_type": "code",
   "execution_count": 13,
   "id": "1910e223",
   "metadata": {},
   "outputs": [
    {
     "data": {
      "text/html": [
       "<div>\n",
       "<style scoped>\n",
       "    .dataframe tbody tr th:only-of-type {\n",
       "        vertical-align: middle;\n",
       "    }\n",
       "\n",
       "    .dataframe tbody tr th {\n",
       "        vertical-align: top;\n",
       "    }\n",
       "\n",
       "    .dataframe thead th {\n",
       "        text-align: right;\n",
       "    }\n",
       "</style>\n",
       "<table border=\"1\" class=\"dataframe\">\n",
       "  <thead>\n",
       "    <tr style=\"text-align: right;\">\n",
       "      <th></th>\n",
       "      <th>symptom</th>\n",
       "      <th>relation</th>\n",
       "      <th>result</th>\n",
       "    </tr>\n",
       "  </thead>\n",
       "  <tbody>\n",
       "    <tr>\n",
       "      <th>0</th>\n",
       "      <td>uti</td>\n",
       "      <td>Yes, A (uti) can cause B (sepsis).</td>\n",
       "      <td>Yes</td>\n",
       "    </tr>\n",
       "    <tr>\n",
       "      <th>1</th>\n",
       "      <td>low oxygen</td>\n",
       "      <td>Yes, A (low oxygen) causes B (sepsis). Low oxy...</td>\n",
       "      <td>Yes</td>\n",
       "    </tr>\n",
       "    <tr>\n",
       "      <th>2</th>\n",
       "      <td>low neutrophils</td>\n",
       "      <td>Yes, A (low neutrophils) causes B (sepsis). Lo...</td>\n",
       "      <td>Yes</td>\n",
       "    </tr>\n",
       "    <tr>\n",
       "      <th>3</th>\n",
       "      <td>low BP</td>\n",
       "      <td>No. Sepsis can cause low blood pressure (BP), ...</td>\n",
       "      <td>No</td>\n",
       "    </tr>\n",
       "    <tr>\n",
       "      <th>4</th>\n",
       "      <td>high BP</td>\n",
       "      <td>Yes, A (high BP) can cause B (sepsis). High bl...</td>\n",
       "      <td>Yes</td>\n",
       "    </tr>\n",
       "    <tr>\n",
       "      <th>5</th>\n",
       "      <td>age&gt;50</td>\n",
       "      <td>Yes, A (age &gt; 50) causes B (sepsis). As people...</td>\n",
       "      <td>Yes</td>\n",
       "    </tr>\n",
       "  </tbody>\n",
       "</table>\n",
       "</div>"
      ],
      "text/plain": [
       "           symptom                                           relation result\n",
       "0              uti                 Yes, A (uti) can cause B (sepsis).    Yes\n",
       "1       low oxygen  Yes, A (low oxygen) causes B (sepsis). Low oxy...    Yes\n",
       "2  low neutrophils  Yes, A (low neutrophils) causes B (sepsis). Lo...    Yes\n",
       "3           low BP  No. Sepsis can cause low blood pressure (BP), ...     No\n",
       "4          high BP  Yes, A (high BP) can cause B (sepsis). High bl...    Yes\n",
       "5           age>50  Yes, A (age > 50) causes B (sepsis). As people...    Yes"
      ]
     },
     "execution_count": 13,
     "metadata": {},
     "output_type": "execute_result"
    }
   ],
   "source": [
    "df"
   ]
  },
  {
   "cell_type": "code",
   "execution_count": null,
   "id": "5770c08c",
   "metadata": {},
   "outputs": [],
   "source": []
  }
 ],
 "metadata": {
  "kernelspec": {
   "display_name": "Python 3 (ipykernel)",
   "language": "python",
   "name": "python3"
  },
  "language_info": {
   "codemirror_mode": {
    "name": "ipython",
    "version": 3
   },
   "file_extension": ".py",
   "mimetype": "text/x-python",
   "name": "python",
   "nbconvert_exporter": "python",
   "pygments_lexer": "ipython3",
   "version": "3.9.13"
  }
 },
 "nbformat": 4,
 "nbformat_minor": 5
}
