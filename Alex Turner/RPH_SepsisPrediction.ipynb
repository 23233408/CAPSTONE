{
 "cells": [
  {
   "cell_type": "markdown",
   "metadata": {
    "id": "iLSvrFtkoJCq"
   },
   "source": [
    "# PREDICTING SEPSIS RISK DURING IN-PATIENT ADMISSIONS\n",
    "*Client: Royal Perth Hospital*\n",
    "\n",
    "*Team: Group 7*"
   ]
  },
  {
   "cell_type": "markdown",
   "metadata": {
    "id": "Bh5XhpzXoJCs"
   },
   "source": [
    "# Readme\n",
    "The following libraries need to be installed in order to run the source code."
   ]
  },
  {
   "cell_type": "code",
   "execution_count": 31,
   "metadata": {
    "id": "dez_74VxoJCs"
   },
   "outputs": [],
   "source": [
    "import pandas as pd\n",
    "import numpy as np, warnings\n",
    "import pathlib\n",
    "import os\n",
    "import sweetviz as sv\n",
    "\n",
    "np.warnings = warnings"
   ]
  },
  {
   "cell_type": "code",
   "execution_count": 58,
   "metadata": {},
   "outputs": [
    {
     "data": {
      "text/html": [
       "<div>\n",
       "<style scoped>\n",
       "    .dataframe tbody tr th:only-of-type {\n",
       "        vertical-align: middle;\n",
       "    }\n",
       "\n",
       "    .dataframe tbody tr th {\n",
       "        vertical-align: top;\n",
       "    }\n",
       "\n",
       "    .dataframe thead th {\n",
       "        text-align: right;\n",
       "    }\n",
       "</style>\n",
       "<table border=\"1\" class=\"dataframe\">\n",
       "  <thead>\n",
       "    <tr style=\"text-align: right;\">\n",
       "      <th></th>\n",
       "      <th>ROW_ID</th>\n",
       "      <th>SUBJECT_ID</th>\n",
       "      <th>GENDER</th>\n",
       "      <th>DOB</th>\n",
       "      <th>DOD</th>\n",
       "      <th>DOD_HOSP</th>\n",
       "      <th>DOD_SSN</th>\n",
       "      <th>EXPIRE_FLAG</th>\n",
       "    </tr>\n",
       "  </thead>\n",
       "  <tbody>\n",
       "    <tr>\n",
       "      <th>0</th>\n",
       "      <td>234</td>\n",
       "      <td>249</td>\n",
       "      <td>F</td>\n",
       "      <td>2075-03-13 00:00:00</td>\n",
       "      <td>NaN</td>\n",
       "      <td>NaN</td>\n",
       "      <td>NaN</td>\n",
       "      <td>0</td>\n",
       "    </tr>\n",
       "    <tr>\n",
       "      <th>1</th>\n",
       "      <td>235</td>\n",
       "      <td>250</td>\n",
       "      <td>F</td>\n",
       "      <td>2164-12-27 00:00:00</td>\n",
       "      <td>2188-11-22 00:00:00</td>\n",
       "      <td>2188-11-22 00:00:00</td>\n",
       "      <td>NaN</td>\n",
       "      <td>1</td>\n",
       "    </tr>\n",
       "    <tr>\n",
       "      <th>2</th>\n",
       "      <td>236</td>\n",
       "      <td>251</td>\n",
       "      <td>M</td>\n",
       "      <td>2090-03-15 00:00:00</td>\n",
       "      <td>NaN</td>\n",
       "      <td>NaN</td>\n",
       "      <td>NaN</td>\n",
       "      <td>0</td>\n",
       "    </tr>\n",
       "    <tr>\n",
       "      <th>3</th>\n",
       "      <td>237</td>\n",
       "      <td>252</td>\n",
       "      <td>M</td>\n",
       "      <td>2078-03-06 00:00:00</td>\n",
       "      <td>NaN</td>\n",
       "      <td>NaN</td>\n",
       "      <td>NaN</td>\n",
       "      <td>0</td>\n",
       "    </tr>\n",
       "    <tr>\n",
       "      <th>4</th>\n",
       "      <td>238</td>\n",
       "      <td>253</td>\n",
       "      <td>F</td>\n",
       "      <td>2089-11-26 00:00:00</td>\n",
       "      <td>NaN</td>\n",
       "      <td>NaN</td>\n",
       "      <td>NaN</td>\n",
       "      <td>0</td>\n",
       "    </tr>\n",
       "    <tr>\n",
       "      <th>...</th>\n",
       "      <td>...</td>\n",
       "      <td>...</td>\n",
       "      <td>...</td>\n",
       "      <td>...</td>\n",
       "      <td>...</td>\n",
       "      <td>...</td>\n",
       "      <td>...</td>\n",
       "      <td>...</td>\n",
       "    </tr>\n",
       "    <tr>\n",
       "      <th>46515</th>\n",
       "      <td>31840</td>\n",
       "      <td>44089</td>\n",
       "      <td>M</td>\n",
       "      <td>2026-05-25 00:00:00</td>\n",
       "      <td>NaN</td>\n",
       "      <td>NaN</td>\n",
       "      <td>NaN</td>\n",
       "      <td>0</td>\n",
       "    </tr>\n",
       "    <tr>\n",
       "      <th>46516</th>\n",
       "      <td>31841</td>\n",
       "      <td>44115</td>\n",
       "      <td>F</td>\n",
       "      <td>2124-07-27 00:00:00</td>\n",
       "      <td>NaN</td>\n",
       "      <td>NaN</td>\n",
       "      <td>NaN</td>\n",
       "      <td>0</td>\n",
       "    </tr>\n",
       "    <tr>\n",
       "      <th>46517</th>\n",
       "      <td>31842</td>\n",
       "      <td>44123</td>\n",
       "      <td>F</td>\n",
       "      <td>2049-11-26 00:00:00</td>\n",
       "      <td>2135-01-12 00:00:00</td>\n",
       "      <td>2135-01-12 00:00:00</td>\n",
       "      <td>NaN</td>\n",
       "      <td>1</td>\n",
       "    </tr>\n",
       "    <tr>\n",
       "      <th>46518</th>\n",
       "      <td>31843</td>\n",
       "      <td>44126</td>\n",
       "      <td>F</td>\n",
       "      <td>2076-07-25 00:00:00</td>\n",
       "      <td>NaN</td>\n",
       "      <td>NaN</td>\n",
       "      <td>NaN</td>\n",
       "      <td>0</td>\n",
       "    </tr>\n",
       "    <tr>\n",
       "      <th>46519</th>\n",
       "      <td>31844</td>\n",
       "      <td>44128</td>\n",
       "      <td>M</td>\n",
       "      <td>2098-07-25 00:00:00</td>\n",
       "      <td>NaN</td>\n",
       "      <td>NaN</td>\n",
       "      <td>NaN</td>\n",
       "      <td>0</td>\n",
       "    </tr>\n",
       "  </tbody>\n",
       "</table>\n",
       "<p>46520 rows × 8 columns</p>\n",
       "</div>"
      ],
      "text/plain": [
       "       ROW_ID  SUBJECT_ID GENDER                  DOB                  DOD  \\\n",
       "0         234         249      F  2075-03-13 00:00:00                  NaN   \n",
       "1         235         250      F  2164-12-27 00:00:00  2188-11-22 00:00:00   \n",
       "2         236         251      M  2090-03-15 00:00:00                  NaN   \n",
       "3         237         252      M  2078-03-06 00:00:00                  NaN   \n",
       "4         238         253      F  2089-11-26 00:00:00                  NaN   \n",
       "...       ...         ...    ...                  ...                  ...   \n",
       "46515   31840       44089      M  2026-05-25 00:00:00                  NaN   \n",
       "46516   31841       44115      F  2124-07-27 00:00:00                  NaN   \n",
       "46517   31842       44123      F  2049-11-26 00:00:00  2135-01-12 00:00:00   \n",
       "46518   31843       44126      F  2076-07-25 00:00:00                  NaN   \n",
       "46519   31844       44128      M  2098-07-25 00:00:00                  NaN   \n",
       "\n",
       "                  DOD_HOSP DOD_SSN  EXPIRE_FLAG  \n",
       "0                      NaN     NaN            0  \n",
       "1      2188-11-22 00:00:00     NaN            1  \n",
       "2                      NaN     NaN            0  \n",
       "3                      NaN     NaN            0  \n",
       "4                      NaN     NaN            0  \n",
       "...                    ...     ...          ...  \n",
       "46515                  NaN     NaN            0  \n",
       "46516                  NaN     NaN            0  \n",
       "46517  2135-01-12 00:00:00     NaN            1  \n",
       "46518                  NaN     NaN            0  \n",
       "46519                  NaN     NaN            0  \n",
       "\n",
       "[46520 rows x 8 columns]"
      ]
     },
     "execution_count": 58,
     "metadata": {},
     "output_type": "execute_result"
    }
   ],
   "source": [
    "# setup OS agnostic pathnames\n",
    "ROOT_DIR = Path('..')\n",
    "\n",
    "# Note: to run main notebook from root directory, use:\n",
    "# ROOT_DIR = Path('')\n",
    "\n",
    "path_patients = ROOT_DIR / 'data' / \"PATIENTS.csv\"  \n",
    "path_admissions = ROOT_DIR / 'data' / \"ADMISSIONS.csv\"\n",
    "path_diagnoses_icd = ROOT_DIR / 'data' / \"DIAGNOSES_ICD.csv\"\n",
    "path_labevents = ROOT_DIR / 'data' / \"LABEVENTS.csv')\n",
    "path_microbiologyevents = ROOT_DIR / 'data' / \"MICROBIOLOGYEVENTS.csv\"\n",
    "path_desc_icd = ROOT_DIR / 'data' / \"D_ICD_DIAGNOSES.csv\"\n",
    "path_desc_labitems = ROOT_DIR / 'data' / \"D_LABITEMS.csv\"\n",
    "path_desc_items = ROOT_DIR / 'data' /  \"D_ITEMS.csv\""
   ]
  },
  {
   "cell_type": "markdown",
   "metadata": {
    "id": "j5Qkb70boJCt"
   },
   "source": [
    "# 1.Dataset Processing"
   ]
  },
  {
   "cell_type": "markdown",
   "metadata": {
    "id": "fzimIvgloJCt"
   },
   "source": [
    "## 1.1 Data Cleaning"
   ]
  },
  {
   "cell_type": "markdown",
   "metadata": {},
   "source": [
    "Load the dataset. The following tables are loaded for this project:\n",
    "- PATIENTS\n",
    "- ADMISSIONS\n",
    "- DIAGNOSES_ICD\n",
    "- LABEVENTS\n",
    "- MICROBIOLOGYEVENTS\n",
    "- D_ICD_DIAGNOSES\n",
    "- D_ITEMS"
   ]
  },
  {
   "cell_type": "code",
   "execution_count": 2,
   "metadata": {},
   "outputs": [],
   "source": [
    "# load transaction dataset\n",
    "df_patients = pd.read_csv(path_patients)\n",
    "df_admissions = pd.read_csv(path_admissions)\n",
    "df_diagnoses_icd = pd.read_csv(path_diagnoses_icd)\n",
    "df_labevents = pd.read_csv(path_labevents)\n",
    "df_microbiologyevents = pd.read_csv(path_microbiologyevents)\n",
    "\n",
    "# load description tables\n",
    "df_desc_icd = pd.read_csv(path_desc_icd)\n",
    "df_desc_labitems = pd.read_csv(path_desc_labitems)\n",
    "df_desc_items = pd.read_csv(path_desc_items)"
   ]
  },
  {
   "cell_type": "code",
   "execution_count": 3,
   "metadata": {},
   "outputs": [],
   "source": [
    "# Convert the following datetime columns to datetime format\n",
    "# patients: DOB to date format, we not care about the birth time\n",
    "df_patients['DOB'] = pd.to_datetime(df_patients['DOB'], format='%Y-%m-%d %H:%M:%S')\n",
    "# admissions: ADMITTIME, DISCHTIME, EDREGTIME, EDOUTTIME\n",
    "df_admissions['ADMITTIME'] = pd.to_datetime(df_admissions['ADMITTIME'], format='%Y-%m-%d %H:%M:%S')\n",
    "df_admissions['DISCHTIME'] = pd.to_datetime(df_admissions['DISCHTIME'], format='%Y-%m-%d %H:%M:%S')\n",
    "# labevents: CHARTTIME\n",
    "df_labevents['CHARTTIME'] = pd.to_datetime(df_labevents['CHARTTIME'], format='%Y-%m-%d %H:%M:%S')\n",
    "# microbiologyevents: CHARTDATE to date format and CHARTTIME to datetime format\n",
    "df_microbiologyevents['CHARTDATE'] = pd.to_datetime(df_microbiologyevents['CHARTDATE'], format='%Y-%m-%d')\n",
    "df_microbiologyevents['CHARTTIME'] = pd.to_datetime(df_microbiologyevents['CHARTTIME'], format='%Y-%m-%d %H:%M:%S')"
   ]
  },
  {
   "cell_type": "markdown",
   "metadata": {},
   "source": [
    "The DIAGNOSES_ICD tables has a column ICD9_CODE which is the code for each disease diagnosed for the patient.\n",
    "\n",
    "The Sepsis has 6 codes: ['77181', '99591', '99592', '67020', '67022', '67024']\n",
    "\n",
    "We'll introduce a new column, IS_SEPSIS, as a binary classifier (1 for 6 sepsis ICD9 codes, 0 otherwise) for the target variable."
   ]
  },
  {
   "cell_type": "code",
   "execution_count": 4,
   "metadata": {},
   "outputs": [],
   "source": [
    "# retrieve all sepsis icd code\n",
    "sepsis_icd =  df_desc_icd[df_desc_icd.apply(lambda x:'sepsis' in x['SHORT_TITLE'].lower(),axis=1)]['ICD9_CODE'].values\n",
    "# add new binary classifier target variable\n",
    "df_diagnoses_icd['IS_SEPSIS'] = df_diagnoses_icd.apply(lambda x: 1 if x['ICD9_CODE'] in sepsis_icd else 0, axis=1)"
   ]
  },
  {
   "cell_type": "code",
   "execution_count": 9,
   "metadata": {},
   "outputs": [],
   "source": [
    "df_demographic = pd.merge(df_admissions, df_patients[['SUBJECT_ID', 'GENDER', 'DOB', 'EXPIRE_FLAG']], on='SUBJECT_ID')"
   ]
  },
  {
   "cell_type": "code",
   "execution_count": 5,
   "metadata": {},
   "outputs": [],
   "source": [
    "# filter missing data from Labevents table\n",
    "missing_hadm_df = df_labevents[df_labevents['HADM_ID'].isnull()]"
   ]
  },
  {
   "cell_type": "markdown",
   "metadata": {
    "id": "BynxBJyjoJCt"
   },
   "source": [
    "## 1.2 Data Exploration"
   ]
  },
  {
   "cell_type": "code",
   "execution_count": null,
   "metadata": {},
   "outputs": [],
   "source": [
    "df_processed = pd.read_csv('data/data-main/labevents_transform_v3_202308260031.csv')\n"
   ]
  },
  {
   "cell_type": "markdown",
   "metadata": {
    "id": "sa0vmSCyoJCt"
   },
   "source": [
    "## 1.3 Feature Selection"
   ]
  },
  {
   "cell_type": "code",
   "execution_count": null,
   "metadata": {},
   "outputs": [],
   "source": [
    "df_processed = pd.read_csv('/Users/alexturner/CITS5553/Project/data-science-capstone-project/data/datapro/labevents_transform_v3_202308260031.csv')\n",
    "#df_processed = pd.read_csv('data/data-main/labevents_transform_v3_202308260031.csv')"
   ]
  },
  {
   "cell_type": "markdown",
   "metadata": {
    "id": "SN271srIoJCu"
   },
   "source": [
    "# 2.Sepsis Risk Predicting Model Implementation"
   ]
  },
  {
   "cell_type": "markdown",
   "metadata": {
    "id": "t6U0mrw1oJCu"
   },
   "source": [
    "## 2.1 Logistics Regression Model"
   ]
  },
  {
   "cell_type": "code",
   "execution_count": null,
   "metadata": {},
   "outputs": [],
   "source": []
  },
  {
   "cell_type": "markdown",
   "metadata": {
    "id": "j60ILnKZoJCu"
   },
   "source": [
    "## 2.2 Random Forest Model"
   ]
  },
  {
   "cell_type": "code",
   "execution_count": null,
   "metadata": {},
   "outputs": [],
   "source": []
  },
  {
   "cell_type": "markdown",
   "metadata": {
    "id": "9KRDjGP_oJCu"
   },
   "source": [
    "## 2.3 Gradient Boosted Model"
   ]
  },
  {
   "cell_type": "code",
   "execution_count": null,
   "metadata": {},
   "outputs": [],
   "source": []
  },
  {
   "cell_type": "markdown",
   "metadata": {
    "id": "fgaUcAAeoJCu"
   },
   "source": [
    "## 2.4 LSTM Model"
   ]
  },
  {
   "cell_type": "code",
   "execution_count": null,
   "metadata": {},
   "outputs": [],
   "source": []
  },
  {
   "cell_type": "markdown",
   "metadata": {
    "id": "n3DakgKuoJCu"
   },
   "source": [
    "## 2.5 LSTM + Attention Model"
   ]
  },
  {
   "cell_type": "code",
   "execution_count": null,
   "metadata": {},
   "outputs": [],
   "source": []
  },
  {
   "cell_type": "markdown",
   "metadata": {
    "id": "m9P86G5VoJCu"
   },
   "source": [
    "# 3.Clustering Model"
   ]
  },
  {
   "cell_type": "code",
   "execution_count": null,
   "metadata": {},
   "outputs": [],
   "source": []
  },
  {
   "cell_type": "markdown",
   "metadata": {
    "id": "pGsW9n1zoJCu"
   },
   "source": [
    "# 4.Model Testing"
   ]
  },
  {
   "cell_type": "code",
   "execution_count": null,
   "metadata": {},
   "outputs": [],
   "source": []
  },
  {
   "cell_type": "markdown",
   "metadata": {
    "id": "k56f3Pj_oJCu"
   },
   "source": [
    "# 5.Local and Global Feature Explanation"
   ]
  },
  {
   "cell_type": "code",
   "execution_count": null,
   "metadata": {},
   "outputs": [],
   "source": []
  }
 ],
 "metadata": {
  "colab": {
   "provenance": [],
   "toc_visible": true
  },
  "kernelspec": {
   "display_name": "Python 3 (ipykernel)",
   "language": "python",
   "name": "python3"
  },
  "language_info": {
   "codemirror_mode": {
    "name": "ipython",
    "version": 3
   },
   "file_extension": ".py",
   "mimetype": "text/x-python",
   "name": "python",
   "nbconvert_exporter": "python",
   "pygments_lexer": "ipython3",
   "version": "3.10.5"
  }
 },
 "nbformat": 4,
 "nbformat_minor": 1
}
