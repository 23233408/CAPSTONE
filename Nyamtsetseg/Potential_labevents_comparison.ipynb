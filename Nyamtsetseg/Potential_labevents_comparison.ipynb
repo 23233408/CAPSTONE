{
 "cells": [
  {
   "cell_type": "markdown",
   "metadata": {},
   "source": [
    "Loading libraries"
   ]
  },
  {
   "cell_type": "code",
   "execution_count": 1,
   "metadata": {},
   "outputs": [],
   "source": [
    "import pandas as pd\n",
    "import numpy as np, warnings\n",
    "from pathlib import Path\n",
    "import os\n",
    "import sweetviz as sv\n",
    "from importlib import reload\n",
    "import matplotlib.pyplot as plt\n",
    "import seaborn as sns\n",
    "\n",
    "np.warnings = warnings"
   ]
  },
  {
   "cell_type": "code",
   "execution_count": null,
   "metadata": {},
   "outputs": [],
   "source": [
    "import sys\n",
    "sys.path.append(\"..\")\n",
    "\n",
    "# import utility functions\n",
    "import src.utils as util\n",
    "reload(util)\n",
    "\n",
    "import src.load_parquet as load_parquet\n",
    "reload(load_parquet)\n",
    "\n",
    "# setup OS agnostic pathnames\n",
    "ROOT_DIR = Path('..')\n",
    "\n",
    "# Note: to run main notebook from root directory, use:\n",
    "# ROOT_DIR = Path('')"
   ]
  },
  {
   "cell_type": "markdown",
   "metadata": {},
   "source": [
    "# 1. Loading datasets"
   ]
  },
  {
   "cell_type": "code",
   "execution_count": null,
   "metadata": {},
   "outputs": [],
   "source": [
    "path_labevents = ROOT_DIR / 'data' / \"LABEVENTS.csv\"\n",
    "path_desc_icd = ROOT_DIR / 'data' / \"demographic_data.csv\"\n"
   ]
  },
  {
   "cell_type": "code",
   "execution_count": null,
   "metadata": {},
   "outputs": [],
   "source": [
    "# load transaction dataset\n",
    "df_patients = pd.read_csv(path_patients)\n",
    "df_admissions = pd.read_csv(path_admissions)\n",
    "df_diagnoses_icd = pd.read_csv(path_diagnoses_icd)\n",
    "df_labevents = pd.read_csv(path_labevents)\n",
    "df_microbiologyevents = pd.read_csv(path_microbiologyevents)\n",
    "\n",
    "# load description tables\n",
    "df_desc_icd = pd.read_csv(path_desc_icd)\n",
    "df_desc_labitems = pd.read_csv(path_desc_labitems)\n",
    "df_desc_items = pd.read_csv(path_desc_items)"
   ]
  }
 ],
 "metadata": {
  "kernelspec": {
   "display_name": "base",
   "language": "python",
   "name": "python3"
  },
  "language_info": {
   "codemirror_mode": {
    "name": "ipython",
    "version": 3
   },
   "file_extension": ".py",
   "mimetype": "text/x-python",
   "name": "python",
   "nbconvert_exporter": "python",
   "pygments_lexer": "ipython3",
   "version": "3.10.9"
  },
  "orig_nbformat": 4
 },
 "nbformat": 4,
 "nbformat_minor": 2
}
