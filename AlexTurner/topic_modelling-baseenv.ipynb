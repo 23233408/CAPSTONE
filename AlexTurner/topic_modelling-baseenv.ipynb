{
 "cells": [
  {
   "cell_type": "markdown",
   "metadata": {},
   "source": [
    "# Note Events"
   ]
  },
  {
   "cell_type": "code",
   "execution_count": 1,
   "metadata": {},
   "outputs": [],
   "source": [
    "import pandas as pd\n",
    "import numpy as np, warnings\n",
    "from pathlib import Path\n",
    "import os\n",
    "from importlib import reload\n",
    "\n",
    "np.warnings = warnings"
   ]
  },
  {
   "cell_type": "code",
   "execution_count": 3,
   "metadata": {},
   "outputs": [],
   "source": [
    "import sys\n",
    "sys.path.append('..')  # Replace with the actual path to ROOT\n",
    "\n",
    "# setup OS agnostic pathnames\n",
    "ROOT_DIR = Path('..')\n",
    "\n",
    "# Note: to run main notebook from root directory, use:\n",
    "#ROOT_DIR = Path('')"
   ]
  },
  {
   "cell_type": "markdown",
   "metadata": {},
   "source": [
    "## Load data"
   ]
  },
  {
   "cell_type": "code",
   "execution_count": 31,
   "metadata": {},
   "outputs": [],
   "source": [
    "from datetime import timedelta"
   ]
  },
  {
   "cell_type": "code",
   "execution_count": 13,
   "metadata": {},
   "outputs": [],
   "source": [
    "path_noteeveents = ROOT_DIR / 'data' /  \"NOTEEVENTS.csv\"\n",
    "path_admissions = ROOT_DIR / 'data' /  \"ADMISSIONS.csv\"\n",
    "path_labevents = ROOT_DIR / 'data' /  \"LABEVENTS.csv\""
   ]
  },
  {
   "cell_type": "code",
   "execution_count": 5,
   "metadata": {},
   "outputs": [
    {
     "name": "stderr",
     "output_type": "stream",
     "text": [
      "/var/folders/88/v73j8qys0vjg1tz4wb20c2kh0000gn/T/ipykernel_12585/1797669815.py:1: DtypeWarning: Columns (4,5) have mixed types. Specify dtype option on import or set low_memory=False.\n",
      "  df_noteevents = pd.read_csv(path_noteeveents)\n"
     ]
    }
   ],
   "source": [
    "df_noteevents = pd.read_csv(path_noteeveents)"
   ]
  },
  {
   "cell_type": "code",
   "execution_count": 9,
   "metadata": {},
   "outputs": [],
   "source": [
    "df_admissions = pd.read_csv(path_admissions)"
   ]
  },
  {
   "cell_type": "code",
   "execution_count": 14,
   "metadata": {},
   "outputs": [],
   "source": [
    "df_labevents = pd.read_csv(path_labevents)"
   ]
  },
  {
   "cell_type": "markdown",
   "metadata": {},
   "source": [
    "## Data Exploration"
   ]
  },
  {
   "cell_type": "code",
   "execution_count": 6,
   "metadata": {},
   "outputs": [
    {
     "data": {
      "text/html": [
       "<div>\n",
       "<style scoped>\n",
       "    .dataframe tbody tr th:only-of-type {\n",
       "        vertical-align: middle;\n",
       "    }\n",
       "\n",
       "    .dataframe tbody tr th {\n",
       "        vertical-align: top;\n",
       "    }\n",
       "\n",
       "    .dataframe thead th {\n",
       "        text-align: right;\n",
       "    }\n",
       "</style>\n",
       "<table border=\"1\" class=\"dataframe\">\n",
       "  <thead>\n",
       "    <tr style=\"text-align: right;\">\n",
       "      <th></th>\n",
       "      <th>ROW_ID</th>\n",
       "      <th>SUBJECT_ID</th>\n",
       "      <th>HADM_ID</th>\n",
       "      <th>CHARTDATE</th>\n",
       "      <th>CHARTTIME</th>\n",
       "      <th>STORETIME</th>\n",
       "      <th>CATEGORY</th>\n",
       "      <th>DESCRIPTION</th>\n",
       "      <th>CGID</th>\n",
       "      <th>ISERROR</th>\n",
       "      <th>TEXT</th>\n",
       "    </tr>\n",
       "  </thead>\n",
       "  <tbody>\n",
       "    <tr>\n",
       "      <th>0</th>\n",
       "      <td>174</td>\n",
       "      <td>22532</td>\n",
       "      <td>167853.0</td>\n",
       "      <td>2151-08-04</td>\n",
       "      <td>NaN</td>\n",
       "      <td>NaN</td>\n",
       "      <td>Discharge summary</td>\n",
       "      <td>Report</td>\n",
       "      <td>NaN</td>\n",
       "      <td>NaN</td>\n",
       "      <td>Admission Date:  [**2151-7-16**]       Dischar...</td>\n",
       "    </tr>\n",
       "    <tr>\n",
       "      <th>1</th>\n",
       "      <td>175</td>\n",
       "      <td>13702</td>\n",
       "      <td>107527.0</td>\n",
       "      <td>2118-06-14</td>\n",
       "      <td>NaN</td>\n",
       "      <td>NaN</td>\n",
       "      <td>Discharge summary</td>\n",
       "      <td>Report</td>\n",
       "      <td>NaN</td>\n",
       "      <td>NaN</td>\n",
       "      <td>Admission Date:  [**2118-6-2**]       Discharg...</td>\n",
       "    </tr>\n",
       "    <tr>\n",
       "      <th>2</th>\n",
       "      <td>176</td>\n",
       "      <td>13702</td>\n",
       "      <td>167118.0</td>\n",
       "      <td>2119-05-25</td>\n",
       "      <td>NaN</td>\n",
       "      <td>NaN</td>\n",
       "      <td>Discharge summary</td>\n",
       "      <td>Report</td>\n",
       "      <td>NaN</td>\n",
       "      <td>NaN</td>\n",
       "      <td>Admission Date:  [**2119-5-4**]              D...</td>\n",
       "    </tr>\n",
       "    <tr>\n",
       "      <th>3</th>\n",
       "      <td>177</td>\n",
       "      <td>13702</td>\n",
       "      <td>196489.0</td>\n",
       "      <td>2124-08-18</td>\n",
       "      <td>NaN</td>\n",
       "      <td>NaN</td>\n",
       "      <td>Discharge summary</td>\n",
       "      <td>Report</td>\n",
       "      <td>NaN</td>\n",
       "      <td>NaN</td>\n",
       "      <td>Admission Date:  [**2124-7-21**]              ...</td>\n",
       "    </tr>\n",
       "    <tr>\n",
       "      <th>4</th>\n",
       "      <td>178</td>\n",
       "      <td>26880</td>\n",
       "      <td>135453.0</td>\n",
       "      <td>2162-03-25</td>\n",
       "      <td>NaN</td>\n",
       "      <td>NaN</td>\n",
       "      <td>Discharge summary</td>\n",
       "      <td>Report</td>\n",
       "      <td>NaN</td>\n",
       "      <td>NaN</td>\n",
       "      <td>Admission Date:  [**2162-3-3**]              D...</td>\n",
       "    </tr>\n",
       "  </tbody>\n",
       "</table>\n",
       "</div>"
      ],
      "text/plain": [
       "   ROW_ID  SUBJECT_ID   HADM_ID   CHARTDATE CHARTTIME STORETIME  \\\n",
       "0     174       22532  167853.0  2151-08-04       NaN       NaN   \n",
       "1     175       13702  107527.0  2118-06-14       NaN       NaN   \n",
       "2     176       13702  167118.0  2119-05-25       NaN       NaN   \n",
       "3     177       13702  196489.0  2124-08-18       NaN       NaN   \n",
       "4     178       26880  135453.0  2162-03-25       NaN       NaN   \n",
       "\n",
       "            CATEGORY DESCRIPTION  CGID  ISERROR  \\\n",
       "0  Discharge summary      Report   NaN      NaN   \n",
       "1  Discharge summary      Report   NaN      NaN   \n",
       "2  Discharge summary      Report   NaN      NaN   \n",
       "3  Discharge summary      Report   NaN      NaN   \n",
       "4  Discharge summary      Report   NaN      NaN   \n",
       "\n",
       "                                                TEXT  \n",
       "0  Admission Date:  [**2151-7-16**]       Dischar...  \n",
       "1  Admission Date:  [**2118-6-2**]       Discharg...  \n",
       "2  Admission Date:  [**2119-5-4**]              D...  \n",
       "3  Admission Date:  [**2124-7-21**]              ...  \n",
       "4  Admission Date:  [**2162-3-3**]              D...  "
      ]
     },
     "execution_count": 6,
     "metadata": {},
     "output_type": "execute_result"
    }
   ],
   "source": [
    "df_noteevents.head()"
   ]
  },
  {
   "cell_type": "code",
   "execution_count": 30,
   "metadata": {},
   "outputs": [
    {
     "data": {
      "text/html": [
       "<div>\n",
       "<style scoped>\n",
       "    .dataframe tbody tr th:only-of-type {\n",
       "        vertical-align: middle;\n",
       "    }\n",
       "\n",
       "    .dataframe tbody tr th {\n",
       "        vertical-align: top;\n",
       "    }\n",
       "\n",
       "    .dataframe thead th {\n",
       "        text-align: right;\n",
       "    }\n",
       "</style>\n",
       "<table border=\"1\" class=\"dataframe\">\n",
       "  <thead>\n",
       "    <tr style=\"text-align: right;\">\n",
       "      <th></th>\n",
       "      <th>ROW_ID</th>\n",
       "      <th>SUBJECT_ID</th>\n",
       "      <th>HADM_ID</th>\n",
       "      <th>ADMITTIME</th>\n",
       "      <th>DISCHTIME</th>\n",
       "      <th>DEATHTIME</th>\n",
       "      <th>ADMISSION_TYPE</th>\n",
       "      <th>ADMISSION_LOCATION</th>\n",
       "      <th>DISCHARGE_LOCATION</th>\n",
       "      <th>INSURANCE</th>\n",
       "      <th>LANGUAGE</th>\n",
       "      <th>RELIGION</th>\n",
       "      <th>MARITAL_STATUS</th>\n",
       "      <th>ETHNICITY</th>\n",
       "      <th>EDREGTIME</th>\n",
       "      <th>EDOUTTIME</th>\n",
       "      <th>DIAGNOSIS</th>\n",
       "      <th>HOSPITAL_EXPIRE_FLAG</th>\n",
       "      <th>HAS_CHARTEVENTS_DATA</th>\n",
       "    </tr>\n",
       "  </thead>\n",
       "  <tbody>\n",
       "    <tr>\n",
       "      <th>0</th>\n",
       "      <td>21</td>\n",
       "      <td>22</td>\n",
       "      <td>165315</td>\n",
       "      <td>2196-04-09 12:26:00</td>\n",
       "      <td>2196-04-10 15:54:00</td>\n",
       "      <td>NaN</td>\n",
       "      <td>EMERGENCY</td>\n",
       "      <td>EMERGENCY ROOM ADMIT</td>\n",
       "      <td>DISC-TRAN CANCER/CHLDRN H</td>\n",
       "      <td>Private</td>\n",
       "      <td>NaN</td>\n",
       "      <td>UNOBTAINABLE</td>\n",
       "      <td>MARRIED</td>\n",
       "      <td>WHITE</td>\n",
       "      <td>2196-04-09 10:06:00</td>\n",
       "      <td>2196-04-09 13:24:00</td>\n",
       "      <td>BENZODIAZEPINE OVERDOSE</td>\n",
       "      <td>0</td>\n",
       "      <td>1</td>\n",
       "    </tr>\n",
       "    <tr>\n",
       "      <th>1</th>\n",
       "      <td>22</td>\n",
       "      <td>23</td>\n",
       "      <td>152223</td>\n",
       "      <td>2153-09-03 07:15:00</td>\n",
       "      <td>2153-09-08 19:10:00</td>\n",
       "      <td>NaN</td>\n",
       "      <td>ELECTIVE</td>\n",
       "      <td>PHYS REFERRAL/NORMAL DELI</td>\n",
       "      <td>HOME HEALTH CARE</td>\n",
       "      <td>Medicare</td>\n",
       "      <td>NaN</td>\n",
       "      <td>CATHOLIC</td>\n",
       "      <td>MARRIED</td>\n",
       "      <td>WHITE</td>\n",
       "      <td>NaN</td>\n",
       "      <td>NaN</td>\n",
       "      <td>CORONARY ARTERY DISEASE\\CORONARY ARTERY BYPASS...</td>\n",
       "      <td>0</td>\n",
       "      <td>1</td>\n",
       "    </tr>\n",
       "    <tr>\n",
       "      <th>2</th>\n",
       "      <td>23</td>\n",
       "      <td>23</td>\n",
       "      <td>124321</td>\n",
       "      <td>2157-10-18 19:34:00</td>\n",
       "      <td>2157-10-25 14:00:00</td>\n",
       "      <td>NaN</td>\n",
       "      <td>EMERGENCY</td>\n",
       "      <td>TRANSFER FROM HOSP/EXTRAM</td>\n",
       "      <td>HOME HEALTH CARE</td>\n",
       "      <td>Medicare</td>\n",
       "      <td>ENGL</td>\n",
       "      <td>CATHOLIC</td>\n",
       "      <td>MARRIED</td>\n",
       "      <td>WHITE</td>\n",
       "      <td>NaN</td>\n",
       "      <td>NaN</td>\n",
       "      <td>BRAIN MASS</td>\n",
       "      <td>0</td>\n",
       "      <td>1</td>\n",
       "    </tr>\n",
       "    <tr>\n",
       "      <th>3</th>\n",
       "      <td>24</td>\n",
       "      <td>24</td>\n",
       "      <td>161859</td>\n",
       "      <td>2139-06-06 16:14:00</td>\n",
       "      <td>2139-06-09 12:48:00</td>\n",
       "      <td>NaN</td>\n",
       "      <td>EMERGENCY</td>\n",
       "      <td>TRANSFER FROM HOSP/EXTRAM</td>\n",
       "      <td>HOME</td>\n",
       "      <td>Private</td>\n",
       "      <td>NaN</td>\n",
       "      <td>PROTESTANT QUAKER</td>\n",
       "      <td>SINGLE</td>\n",
       "      <td>WHITE</td>\n",
       "      <td>NaN</td>\n",
       "      <td>NaN</td>\n",
       "      <td>INTERIOR MYOCARDIAL INFARCTION</td>\n",
       "      <td>0</td>\n",
       "      <td>1</td>\n",
       "    </tr>\n",
       "    <tr>\n",
       "      <th>4</th>\n",
       "      <td>25</td>\n",
       "      <td>25</td>\n",
       "      <td>129635</td>\n",
       "      <td>2160-11-02 02:06:00</td>\n",
       "      <td>2160-11-05 14:55:00</td>\n",
       "      <td>NaN</td>\n",
       "      <td>EMERGENCY</td>\n",
       "      <td>EMERGENCY ROOM ADMIT</td>\n",
       "      <td>HOME</td>\n",
       "      <td>Private</td>\n",
       "      <td>NaN</td>\n",
       "      <td>UNOBTAINABLE</td>\n",
       "      <td>MARRIED</td>\n",
       "      <td>WHITE</td>\n",
       "      <td>2160-11-02 01:01:00</td>\n",
       "      <td>2160-11-02 04:27:00</td>\n",
       "      <td>ACUTE CORONARY SYNDROME</td>\n",
       "      <td>0</td>\n",
       "      <td>1</td>\n",
       "    </tr>\n",
       "    <tr>\n",
       "      <th>...</th>\n",
       "      <td>...</td>\n",
       "      <td>...</td>\n",
       "      <td>...</td>\n",
       "      <td>...</td>\n",
       "      <td>...</td>\n",
       "      <td>...</td>\n",
       "      <td>...</td>\n",
       "      <td>...</td>\n",
       "      <td>...</td>\n",
       "      <td>...</td>\n",
       "      <td>...</td>\n",
       "      <td>...</td>\n",
       "      <td>...</td>\n",
       "      <td>...</td>\n",
       "      <td>...</td>\n",
       "      <td>...</td>\n",
       "      <td>...</td>\n",
       "      <td>...</td>\n",
       "      <td>...</td>\n",
       "    </tr>\n",
       "    <tr>\n",
       "      <th>58971</th>\n",
       "      <td>58594</td>\n",
       "      <td>98800</td>\n",
       "      <td>191113</td>\n",
       "      <td>2131-03-30 21:13:00</td>\n",
       "      <td>2131-04-02 15:02:00</td>\n",
       "      <td>NaN</td>\n",
       "      <td>EMERGENCY</td>\n",
       "      <td>CLINIC REFERRAL/PREMATURE</td>\n",
       "      <td>HOME</td>\n",
       "      <td>Private</td>\n",
       "      <td>ENGL</td>\n",
       "      <td>NOT SPECIFIED</td>\n",
       "      <td>SINGLE</td>\n",
       "      <td>WHITE</td>\n",
       "      <td>2131-03-30 19:44:00</td>\n",
       "      <td>2131-03-30 22:41:00</td>\n",
       "      <td>TRAUMA</td>\n",
       "      <td>0</td>\n",
       "      <td>1</td>\n",
       "    </tr>\n",
       "    <tr>\n",
       "      <th>58972</th>\n",
       "      <td>58595</td>\n",
       "      <td>98802</td>\n",
       "      <td>101071</td>\n",
       "      <td>2151-03-05 20:00:00</td>\n",
       "      <td>2151-03-06 09:10:00</td>\n",
       "      <td>2151-03-06 09:10:00</td>\n",
       "      <td>EMERGENCY</td>\n",
       "      <td>CLINIC REFERRAL/PREMATURE</td>\n",
       "      <td>DEAD/EXPIRED</td>\n",
       "      <td>Medicare</td>\n",
       "      <td>ENGL</td>\n",
       "      <td>CATHOLIC</td>\n",
       "      <td>WIDOWED</td>\n",
       "      <td>WHITE</td>\n",
       "      <td>2151-03-05 17:23:00</td>\n",
       "      <td>2151-03-05 21:06:00</td>\n",
       "      <td>SAH</td>\n",
       "      <td>1</td>\n",
       "      <td>1</td>\n",
       "    </tr>\n",
       "    <tr>\n",
       "      <th>58973</th>\n",
       "      <td>58596</td>\n",
       "      <td>98805</td>\n",
       "      <td>122631</td>\n",
       "      <td>2200-09-12 07:15:00</td>\n",
       "      <td>2200-09-20 12:08:00</td>\n",
       "      <td>NaN</td>\n",
       "      <td>ELECTIVE</td>\n",
       "      <td>PHYS REFERRAL/NORMAL DELI</td>\n",
       "      <td>HOME HEALTH CARE</td>\n",
       "      <td>Private</td>\n",
       "      <td>ENGL</td>\n",
       "      <td>NOT SPECIFIED</td>\n",
       "      <td>MARRIED</td>\n",
       "      <td>WHITE</td>\n",
       "      <td>NaN</td>\n",
       "      <td>NaN</td>\n",
       "      <td>RENAL CANCER/SDA</td>\n",
       "      <td>0</td>\n",
       "      <td>1</td>\n",
       "    </tr>\n",
       "    <tr>\n",
       "      <th>58974</th>\n",
       "      <td>58597</td>\n",
       "      <td>98813</td>\n",
       "      <td>170407</td>\n",
       "      <td>2128-11-11 02:29:00</td>\n",
       "      <td>2128-12-22 13:11:00</td>\n",
       "      <td>NaN</td>\n",
       "      <td>EMERGENCY</td>\n",
       "      <td>EMERGENCY ROOM ADMIT</td>\n",
       "      <td>SNF</td>\n",
       "      <td>Private</td>\n",
       "      <td>ENGL</td>\n",
       "      <td>CATHOLIC</td>\n",
       "      <td>MARRIED</td>\n",
       "      <td>WHITE</td>\n",
       "      <td>2128-11-10 23:48:00</td>\n",
       "      <td>2128-11-11 03:16:00</td>\n",
       "      <td>S/P FALL</td>\n",
       "      <td>0</td>\n",
       "      <td>0</td>\n",
       "    </tr>\n",
       "    <tr>\n",
       "      <th>58975</th>\n",
       "      <td>58598</td>\n",
       "      <td>98813</td>\n",
       "      <td>190264</td>\n",
       "      <td>2131-10-25 03:09:00</td>\n",
       "      <td>2131-10-26 17:44:00</td>\n",
       "      <td>NaN</td>\n",
       "      <td>EMERGENCY</td>\n",
       "      <td>CLINIC REFERRAL/PREMATURE</td>\n",
       "      <td>HOME</td>\n",
       "      <td>Private</td>\n",
       "      <td>ENGL</td>\n",
       "      <td>CATHOLIC</td>\n",
       "      <td>MARRIED</td>\n",
       "      <td>WHITE</td>\n",
       "      <td>2131-10-25 00:08:00</td>\n",
       "      <td>2131-10-25 04:35:00</td>\n",
       "      <td>INTRACRANIAL HEMORRHAGE</td>\n",
       "      <td>0</td>\n",
       "      <td>1</td>\n",
       "    </tr>\n",
       "  </tbody>\n",
       "</table>\n",
       "<p>58976 rows × 19 columns</p>\n",
       "</div>"
      ],
      "text/plain": [
       "       ROW_ID  SUBJECT_ID  HADM_ID            ADMITTIME            DISCHTIME  \\\n",
       "0          21          22   165315  2196-04-09 12:26:00  2196-04-10 15:54:00   \n",
       "1          22          23   152223  2153-09-03 07:15:00  2153-09-08 19:10:00   \n",
       "2          23          23   124321  2157-10-18 19:34:00  2157-10-25 14:00:00   \n",
       "3          24          24   161859  2139-06-06 16:14:00  2139-06-09 12:48:00   \n",
       "4          25          25   129635  2160-11-02 02:06:00  2160-11-05 14:55:00   \n",
       "...       ...         ...      ...                  ...                  ...   \n",
       "58971   58594       98800   191113  2131-03-30 21:13:00  2131-04-02 15:02:00   \n",
       "58972   58595       98802   101071  2151-03-05 20:00:00  2151-03-06 09:10:00   \n",
       "58973   58596       98805   122631  2200-09-12 07:15:00  2200-09-20 12:08:00   \n",
       "58974   58597       98813   170407  2128-11-11 02:29:00  2128-12-22 13:11:00   \n",
       "58975   58598       98813   190264  2131-10-25 03:09:00  2131-10-26 17:44:00   \n",
       "\n",
       "                 DEATHTIME ADMISSION_TYPE         ADMISSION_LOCATION  \\\n",
       "0                      NaN      EMERGENCY       EMERGENCY ROOM ADMIT   \n",
       "1                      NaN       ELECTIVE  PHYS REFERRAL/NORMAL DELI   \n",
       "2                      NaN      EMERGENCY  TRANSFER FROM HOSP/EXTRAM   \n",
       "3                      NaN      EMERGENCY  TRANSFER FROM HOSP/EXTRAM   \n",
       "4                      NaN      EMERGENCY       EMERGENCY ROOM ADMIT   \n",
       "...                    ...            ...                        ...   \n",
       "58971                  NaN      EMERGENCY  CLINIC REFERRAL/PREMATURE   \n",
       "58972  2151-03-06 09:10:00      EMERGENCY  CLINIC REFERRAL/PREMATURE   \n",
       "58973                  NaN       ELECTIVE  PHYS REFERRAL/NORMAL DELI   \n",
       "58974                  NaN      EMERGENCY       EMERGENCY ROOM ADMIT   \n",
       "58975                  NaN      EMERGENCY  CLINIC REFERRAL/PREMATURE   \n",
       "\n",
       "              DISCHARGE_LOCATION INSURANCE LANGUAGE           RELIGION  \\\n",
       "0      DISC-TRAN CANCER/CHLDRN H   Private      NaN       UNOBTAINABLE   \n",
       "1               HOME HEALTH CARE  Medicare      NaN           CATHOLIC   \n",
       "2               HOME HEALTH CARE  Medicare     ENGL           CATHOLIC   \n",
       "3                           HOME   Private      NaN  PROTESTANT QUAKER   \n",
       "4                           HOME   Private      NaN       UNOBTAINABLE   \n",
       "...                          ...       ...      ...                ...   \n",
       "58971                       HOME   Private     ENGL      NOT SPECIFIED   \n",
       "58972               DEAD/EXPIRED  Medicare     ENGL           CATHOLIC   \n",
       "58973           HOME HEALTH CARE   Private     ENGL      NOT SPECIFIED   \n",
       "58974                        SNF   Private     ENGL           CATHOLIC   \n",
       "58975                       HOME   Private     ENGL           CATHOLIC   \n",
       "\n",
       "      MARITAL_STATUS ETHNICITY            EDREGTIME            EDOUTTIME  \\\n",
       "0            MARRIED     WHITE  2196-04-09 10:06:00  2196-04-09 13:24:00   \n",
       "1            MARRIED     WHITE                  NaN                  NaN   \n",
       "2            MARRIED     WHITE                  NaN                  NaN   \n",
       "3             SINGLE     WHITE                  NaN                  NaN   \n",
       "4            MARRIED     WHITE  2160-11-02 01:01:00  2160-11-02 04:27:00   \n",
       "...              ...       ...                  ...                  ...   \n",
       "58971         SINGLE     WHITE  2131-03-30 19:44:00  2131-03-30 22:41:00   \n",
       "58972        WIDOWED     WHITE  2151-03-05 17:23:00  2151-03-05 21:06:00   \n",
       "58973        MARRIED     WHITE                  NaN                  NaN   \n",
       "58974        MARRIED     WHITE  2128-11-10 23:48:00  2128-11-11 03:16:00   \n",
       "58975        MARRIED     WHITE  2131-10-25 00:08:00  2131-10-25 04:35:00   \n",
       "\n",
       "                                               DIAGNOSIS  \\\n",
       "0                                BENZODIAZEPINE OVERDOSE   \n",
       "1      CORONARY ARTERY DISEASE\\CORONARY ARTERY BYPASS...   \n",
       "2                                             BRAIN MASS   \n",
       "3                         INTERIOR MYOCARDIAL INFARCTION   \n",
       "4                                ACUTE CORONARY SYNDROME   \n",
       "...                                                  ...   \n",
       "58971                                             TRAUMA   \n",
       "58972                                                SAH   \n",
       "58973                                   RENAL CANCER/SDA   \n",
       "58974                                           S/P FALL   \n",
       "58975                            INTRACRANIAL HEMORRHAGE   \n",
       "\n",
       "       HOSPITAL_EXPIRE_FLAG  HAS_CHARTEVENTS_DATA  \n",
       "0                         0                     1  \n",
       "1                         0                     1  \n",
       "2                         0                     1  \n",
       "3                         0                     1  \n",
       "4                         0                     1  \n",
       "...                     ...                   ...  \n",
       "58971                     0                     1  \n",
       "58972                     1                     1  \n",
       "58973                     0                     1  \n",
       "58974                     0                     0  \n",
       "58975                     0                     1  \n",
       "\n",
       "[58976 rows x 19 columns]"
      ]
     },
     "execution_count": 30,
     "metadata": {},
     "output_type": "execute_result"
    }
   ],
   "source": [
    "#df_admissions.columns\n",
    "#df_noteevents.columns"
   ]
  },
  {
   "cell_type": "code",
   "execution_count": 32,
   "metadata": {},
   "outputs": [],
   "source": [
    "# merging admissions with noteevents to get ADMITTIME\n",
    "df_noteevents = pd.merge(df_noteevents, df_admissions[['HADM_ID', 'ADMITTIME']], on='HADM_ID', how='left')"
   ]
  },
  {
   "cell_type": "code",
   "execution_count": 34,
   "metadata": {},
   "outputs": [],
   "source": [
    "df_noteevents['CHARTTIME'] = pd.to_datetime(df_noteevents['CHARTTIME'])\n",
    "df_noteevents['ADMITTIME'] = pd.to_datetime(df_noteevents['ADMITTIME'])"
   ]
  },
  {
   "cell_type": "code",
   "execution_count": 36,
   "metadata": {},
   "outputs": [],
   "source": [
    "# Filter to 6 hours from ADMITTIME\n",
    "# keep NA values, as not sure how to handle them yet\n",
    "df_noteevents_filtered = df_noteevents[\n",
    "    (df_noteevents['CHARTTIME'].isna()) | \n",
    "    (df_noteevents['CHARTTIME'] <= df_noteevents['ADMITTIME'] + timedelta(hours=6))\n",
    "]"
   ]
  },
  {
   "cell_type": "code",
   "execution_count": 43,
   "metadata": {},
   "outputs": [
    {
     "name": "stdout",
     "output_type": "stream",
     "text": [
      "2083180 : Noteevents\n",
      "436942 : Noteevents Filtered\n"
     ]
    }
   ],
   "source": [
    "print(df_noteevents.shape[0], \": Noteevents\" )\n",
    "print(df_noteevents_filtered.shape[0], \": Noteevents Filtered\")"
   ]
  },
  {
   "cell_type": "code",
   "execution_count": 48,
   "metadata": {},
   "outputs": [
    {
     "data": {
      "text/plain": [
       "316566"
      ]
     },
     "execution_count": 48,
     "metadata": {},
     "output_type": "execute_result"
    }
   ],
   "source": [
    "# total NA values in dataframe\n",
    "df_noteevents_filtered['CHARTTIME'].isna().sum().sum()"
   ]
  },
  {
   "cell_type": "code",
   "execution_count": 52,
   "metadata": {},
   "outputs": [
    {
     "data": {
      "text/plain": [
       "array(['Discharge summary', 'Echo', 'ECG', 'Physician ', 'Nursing',\n",
       "       'Respiratory ', 'General', 'Social Work', 'Nutrition', 'Consult',\n",
       "       'Case Management ', 'Pharmacy', 'Rehab Services', 'Radiology',\n",
       "       'Nursing/other'], dtype=object)"
      ]
     },
     "execution_count": 52,
     "metadata": {},
     "output_type": "execute_result"
    }
   ],
   "source": [
    "df_noteevents_filtered['CATEGORY'].unique()"
   ]
  },
  {
   "cell_type": "code",
   "execution_count": 53,
   "metadata": {},
   "outputs": [],
   "source": [
    "# remove all rows with 'Discharge Summary'\n",
    "df_noteevents_filtered = df_noteevents_filtered[df_noteevents_filtered['CATEGORY'] != 'Discharge summary']"
   ]
  },
  {
   "cell_type": "code",
   "execution_count": 66,
   "metadata": {},
   "outputs": [
    {
     "name": "stdout",
     "output_type": "stream",
     "text": [
      "Length:  377290\n",
      "NA count:  256914\n"
     ]
    }
   ],
   "source": [
    "print(\"Length: \", df_noteevents_filtered.shape[0])\n",
    "print(\"NA count: \", df_noteevents_filtered['CHARTTIME'].isna().sum().sum())"
   ]
  },
  {
   "cell_type": "code",
   "execution_count": 58,
   "metadata": {},
   "outputs": [
    {
     "data": {
      "text/plain": [
       "array([[NaT, 'Discharge summary', 'Report',\n",
       "        'Admission Date:  [**2151-7-16**]       Discharge Date:  [**2151-8-4**]\\n\\n\\nService:\\nADDENDUM:\\n\\nRADIOLOGIC STUDIES:  Radiologic studies also included a chest\\nCT, which confirmed cavitary lesions in the left lung apex\\nconsistent with infectious process/tuberculosis.  This also\\nmoderate-sized left pleural effusion.\\n\\nHEAD CT:  Head CT showed no intracranial hemorrhage or mass\\neffect, but old infarction consistent with past medical\\nhistory.\\n\\nABDOMINAL CT:  Abdominal CT showed lesions of\\nT10 and sacrum most likely secondary to osteoporosis. These can\\nbe followed by repeat imaging as an outpatient.\\n\\n\\n\\n                            [**First Name8 (NamePattern2) **] [**First Name4 (NamePattern1) 1775**] [**Last Name (NamePattern1) **], M.D.  [**MD Number(1) 1776**]\\n\\nDictated By:[**Hospital 1807**]\\nMEDQUIST36\\n\\nD:  [**2151-8-5**]  12:11\\nT:  [**2151-8-5**]  12:21\\nJOB#:  [**Job Number 1808**]\\n',\n",
       "        Timestamp('2151-07-16 14:29:00')],\n",
       "       [NaT, 'Discharge summary', 'Report',\n",
       "        \"Admission Date:  [**2151-7-16**]       Discharge Date:  [**2151-8-4**]\\n\\n\\n\\nHISTORY OF PRESENT ILLNESS:  The patient is an 86 year old\\nAfrican American female who on the morning of [**7-16**], was\\nfound on the floor of her unair-conditioned home by a\\nrelative during the heat wave.  She was conscious but\\nThe family reports she had not been drinking much and had not\\nbeen feeling well one day prior to admission.  The family\\nalso reports a productive cough, 30 lb weight loss in the\\nlast three months, shortness of breath over the last few\\nmonths, worsened by exertion and increasing edema.\\n\\nThe patient was taken to the Emergency Department and rectal\\nand irregular.  Blood pressure was 137/76, respiratory rate 27.\\nCooling measures were started in the Emergency Department.\\nShe was placed on a 100% oxygen nonrebreather mask.  The\\npatient gradually became alert and oriented times two.  In\\nthe Emergency Department she subsequently became hypotensive\\nwith blood pressure of 80/49, heart rate 87 and irregular.\\nMore aggressive fluid resuscitation was started.  She was\\nbriefly placed on a Norepinephrine drip for hemodynamic\\ninstability which was later changed to a Levophed drip.  A\\ncentral line was placed.  The patient's temperature gradually\\ncame down to 98.6 over several hours.  Laboratory studies and\\nblood cultures were drawn.  Chest x-ray was done.\\nElectrocardiogram, urinalysis, arterial blood gases were doneand\\nthe patient was started on broad spectrum antibiotics.\\n\\nPAST MEDICAL HISTORY:  Cardiomyopathy- idiopathic, echocardiogram\\nin [**2141**] showed an ejection fraction of 20%.  Hypertension.\\nPulmonary hypertension. Chronic atrial fibrillation. Intermittent\\nleft bundle branch block. History of anemia and heme positive\\nstools (previously refused colonoscopy).  History of previous\\npulmonary embolism in [**2141**].  History of previous stroke in [**2141**].\\nHistory of previous myocardial infarction, (undocumented in\\n[**2144**]). Chronic right-sided pleural effusion, first found in\\n[**2150-11-12**].  History of multiple episodes of cellulitis.\\nClaustrophobia.\\n\\nMEDICATIONS ON ADMISSION:  Coumadin 6 mg alternating 4 mg\\nq.d., Lasix 20 mg q.d., Lisinopril 10 mg q.d., Diltiazem 300\\nmg q.d., Digoxin 0.125 mg q.d.\\n\\nALLERGIES:  No known drug allergies.\\n\\nSOCIAL HISTORY:  The patient is an African American female\\nwho lived alone.  Family checks on her often and lives\\nnearby.\\n\\nFAMILY HISTORY:  There is a family history of colon cancer.\\n\\nPHYSICAL EXAMINATION:  On physical examination (as noted in\\nEmergency Department/Medicine Intensive Care Unit notes).\\nGeneral, a thin malnourished African American female,\\ndisoriented.  Head, eyes, ears, nose and throat, pupils are\\nequal, round, and reactive to light, extraocular movements\\nintact.  Dry mucous membranes.  Oropharynx clear.  Neck\\nsupple.  Jugulovenous distension noted to be 6 cm.  Lungs,\\nbibasilar crackles, denies cough.  Rhonchi throughout.  No\\nwheezes.  Cardiovascular, irregularly, irregular rhythm,\\nII/VI systolic murmur.  Abdominal, positive bowel sounds,\\nsoft, nontender, nondistended, no rebound or guarding.  No\\nmasses.  Guaiac positive, rectal examination.  Extremities,\\nno edema, severe chronic venous insufficiency/stasis\\ndermatitis in the lower extremities, 1+ pulses bilaterally.\\nNeurological, no photophobia.  The patient waxes and wanes\\nwith her disorientation.\\n\\nLABORATORY DATA:  Complete blood count showed white count\\n7.2, hematocrit 34.2, platelets 285, differential 96\\nneutrophils, 3 lymphocytes, 1 monocyte.  Chem-7, sodium 140,\\npotassium 4.8, chloride 100, bicarbonate 27, BUN 38,\\ncreatinine 1.4, glucose 157.  PT 25.4, INR 4.5, PTT 40.\\nLactate 1.8, calcium 9, magnesium 1.7, prostate 3.  CK was\\n53, alkaline phosphatase 137, total bilirubin 0.3, ALT 15,\\nAST 18.  Electrocardiogram showed atrial fibrillation at a\\nrate of 144 with left bundle branch block.  Chest\\nx-ray showed possible interstitial edema, persistent right\\nbasilar opacity which could represent pleural thickening or\\neffusion, possible infection process in the right lung.\\nInfection could not be excluded. New opacities in the left lung\\napex which were concerning for acute infection.\\n\\nINTENSIVE CARE UNIT COURSE:  In the Medicine Intensive Care\\nUnit pressors were discontinued a few hours after admission\\nsecondary to improved hemodynamic instability.  Repeat chest\\nx-ray showed possible pneumonia in the lower lobes with a\\ncavitary lesion in the left upper lobe concerning for\\ntuberculosis.  The patient was subsequently placed in\\nnegative pressure room with respiratory precautions started.\\nThe patient also had three cycles of induced sputums for acid\\nfast bacillus, smear and culture.  Antibiotics were\\ncontinued.  On hospital day #2 the patient began taking p.o.\\nShe remained afebrile throughout her hospital course.  On\\nhospital day #4 the patient was transferred to the Medicine\\nService and acid fast bacillus smear from hospital day #2\\ncame back as moderately positive for acid fast bacilli.\\n\\nHOSPITAL COURSE:  Infectious disease - As noted above, repeat\\nchest x-ray showed cavitary lesions in the left apex.  On\\nhospital day #2 the patient was placed on\\nisolation/respiratory precautions with negative pressure\\nisolation room.  Acid fast sputums times three were taken for\\nacid fast bacilli.  On hospital day #4 sputum [**Doctor Last Name 1770**] from\\nhospital day #2 showed positive acid fast bacilli.\\nInfectious Disease consult was called. On hospital day #5 (\\n[**7-20**]), the patient was started on Isoniazid, Rifampin,\\nPyrazinamide for pulmonary TB, Ethambutol was started on hospital\\nday #6, Infectious Control and the Department of Public Health\\nwere notified and got in touch with the family members and\\nhospital staff.  The patient completed a seven day course of\\nCeftriaxone and Azithromycin for five days for question of\\naspiration pneumonia.  All of the patient's blood cultures\\nand sputum and urine cultures were.  She was Clostridium\\ndifficile negative and RPR negative.  There were three\\nattempts, one fluoroscopy guided, at lumbar puncture to evaluate\\nfor meningeal tuberculosis but were unsuccessful due to\\nsevere degenerative joint disease of the spine. Ultimately it was\\ndecided there was a low suspicion for CNS TB given the\\npatients improvement in mental status. Final recommendations for\\nduration of antituberculosis regimen will be given at a later\\ndate by Infectious Disease Service. Sensitivities are pending for\\ntuberculosis.  Tuberculosis was confirmed by PCR, gene probe. The\\npatient remained throughout the rest of the hospital day #2,\\nthroughout hospital course and isolation in negative pressure\\nroom with respiratory precautions.  She will remain so until she\\nhas negative acid fast bacillus cultures by three sputums.\\nSputum on hospital day #15 was positive for acid fast\\nbacilli and she thus remamined in isolation.\\n\\nPulmonary - The patient's initial acute respiratory acidosis\\nwas corrected with resolution of hypoventilation secondary to\\ncarbon dioxide retention and dehydration.  In the Medicine\\nIntensive Care Unit she was followed by repeated arterial\\nblood gases.  The patient denied shortness of breath\\nthroughout.  She was positive for productive cough.  The\\npatient did have an episode of somnolence when supplemental\\noxygen was turned up secondary to carbon dioxide retention.\\nSomnolence resolved with supplemental oxygen being decreased.\\nShe was kept on oxygen approximately .5 to 1 liter to keep\\nsaturations between 90 and 95%.  On hospital day #7 her\\nthoracentesis was performed on a new left effusion with no\\ncomplications, showed white blood cells of 50,l red blood\\ncells 2,500, differential of 16 neutrophils, 33 lymphocytes,\\nand 4 monocytes with 3 eosinophils.  Protein was 1.7, glucose\\n157, LDH 73, PH 7.8.  Gram stain negative.  [**Doctor First Name **] was negative.\\nSmear was negative.  Effusion consistent with a transudative\\nprocess.  On hospital day #12 thoracentesis was performed on\\nher right pleural effusion, red blood cells 50, red blood\\ncells of 3,200, protein 1.2, glucose 92, LDH 106, PH 7.26,\\ngram stain negative.  At the time of discharge [**Doctor First Name **] was still\\npending, smears were negative.  Cultures were at this time\\nstill pending and both pleural effusions were negative for\\nmalignant cells.\\n\\nCardiovascular - As noted above, the patient was in rapid\\natrial fibrillation initially.  By hospital day #2 and\\nthroughout course the patient remained in rate control atrial\\nfibrillation.  Digoxin, Lasix and Metoprolol were started.\\nLisinopril was also restarted.  Diltiazem was discontinued. The\\npatient was found to have a troponin leak.  Troponin peak was\\nnoted to be 14.6, CK MB ranged between 12 and 3.  CKs ranged\\nbetween 124 and 129.  It is thought that the high troponin\\nand CKs were secondary to myocardial damage suffered through\\nheat stroke.  Echocardiogram on hospital day #4 showed right\\natrium markedly dilated, mild symmetric left ventricular\\nhypertrophy, severe global ventricular hypokinesis, severely\\ndepressed left ventricular systolic function and pulmonary\\nhypertension. There was a question of a marantic endocarditis\\nversus degenerative changes on the aortic valve.  There was no\\nsignificant aortic valve stenosis, no aortic regurgitation. Prior\\nto previous report of [**2141-8-12**], there was no significant\\nchange in regards to left ventricular function.  On hospital day\\n#2 the patient underwent repeat echocardiogram which again showed\\nleft atrium moderately dilated, right atrium markedly dilated\\nwith left ventricular wall thickness normal.  The overall\\nleft ventricular systolic function at this time was\\nconsidered normal, greater than 55%.  There was mild to\\nmoderate mitral regurgitation, severe tricuspid regurgitation\\nand again this could not rule out marantic endocarditis\\nthough echogenic density is noted on aortic cusps and were\\nconsistent with degenerative changes.  The patient was\\nsubsequently evaluated for infective endocarditis by blood\\ncultures times three and computerized tomography scan of the\\nhead looking for signs of emboli.  Computerized tomography\\nscan of the head results are subsequently pending at the time\\nof this dictation.  Digoxin level at discharge was 0.6.  It\\nis the recommendation of the Medicine Staff to restart\\nCoumadin at 5 mg approximately two days after discharge at\\nthe rehabilitation hospital and then to follow INRs every day\\nuntil therapeutic range is met.  We have very low suspicion for\\ninfective endocarditis.\\n\\nHeme - Coumadin was held secondary to supertherapeutic INR.\\nINR peaked at 7.7.  Vitamin K times one was given.  INR had\\nnormalized by hospital day #6.  Hematocrit was stable at 29.9\\nto 34 until hospital day #15 when hematocrit was found to be\\n27.5 secondary to occult gastrointestinal bleed.  The patient\\nwas transfused 1 unit which was well tolerated.  Follow up\\nhematocrit was 32.2.  Hematocrit remained stable for the rest\\nof the hospital course.\\n\\nRenal - Baseline creatinine is 1 to 1.4.  She arrived with\\nmild prerenal azotemia, diuretics were held.  During the\\nhospital course she required several boluses for low urine\\noutput.  The patient started mobilizing fluids approximately\\nhospital day #12.  Urine outpatient remained good thereafter.\\n\\nFluids, electrolytes and nutrition - Initial dehydration was\\ntreated with intravenous fluids.  She tolerated p.o.\\nthroughout her placement and was placed on a thin pureed diet\\nwith supplemental Boost at breakfast, lunch and dinner.  This\\nwas following swallow and nutrition evaluations for\\nmalnutrition.  She was also placed on thiamine, folate and\\nmultivitamin supplements.  Asymptomatic hypercalcemia was\\nnoted, because of the low setting of albumin 2.4.  Free\\ncalcium was noted to be 1.4, free calcium on discharge was\\nnoted to be 1.9.  During hospital stay her potassium rose to\\n5.5 secondary to increased dosage of ACE inhibitor,\\nsubsequently Lisinopril was decreased to 5 mg at which time\\nher potassium normalized.  Other laboratory studies were as\\nfollows, B12 7.9, folate 7.5, PTH 15, 25 hydroxy vitamin D,\\nless than 7.\\n\\nNeurological - Change in mental status secondary to heat\\nstroke/malnutrition.  Throughout the hospital course the\\npatient's mental status was alert, awake and oriented to two,\\nsometimes to three.  On discharge she is awake, alert and\\noriented times three.  Head computerized tomography scan on\\nhospital day #20 was performed, results are pending at the\\ntime of this dictation.\\n\\nGastrointestinal - The patient has a history of heme positive\\nstools with refusal of colonoscopy.  She had intermittent\\nguaiac positive stools while in-house.  She was seen by\\nGastrointestinal Service for possible occult malignancy\\nversus tuberculosis colitis.  Colonoscopy was performed on\\nhospital day #20 which showed diverticulosis and two polyps\\nin the right colon that were subsequently removed and\\nbiopsied.  Liver function tests were followed q. two weeks\\nsecondary to antituberculosis medications.  Liver function\\ntests after tuberculosis medications were started were within\\nnormal limits.  ALT was 22, ALT 23, LDH 342, alkaline\\nphosphatase 158, bilirubin 0.5.  Our medical team recommended\\nrehabilitation hospital follow liver function tests q. two\\nweeks.  Endomysal antibody was 3, this was within normal\\nlimits.\\n\\nEndocrine - Free cortisol was noted to be 22. The hyperclcemia\\nwas likely due to granulomatous disease (TB) and improved with\\ntreatment of the TB.\\n\\nMusculoskeletal - The patient complained early on of hip\\nsoreness.  X-ray of the pelvis showed no fractures.  The\\npatient was followed by physical therapy.  This improved over\\ntime.\\n\\nProphylaxis - The with Zantac for stomach, heparin for deep\\nvein thrombosis and fall and aspiration precautions were\\nmaintained throughout the hospital stay.\\n\\nCONDITION ON DISCHARGE:  Stable to [**Hospital3 7**] for\\nrehabilitation..\\n\\nDISCHARGE INSTRUCTIONS:  Maintain respiratory precautions\\nwhile keeping patient in isolation/negative pressure room.\\nThe patient will continue to need physical therapy.  Her diet\\nshould be regular plus Boost t.i.d.\\n\\n\\nDISCHARGE MEDICATIONS:\\n1.  Isoniazid 300 mg p.o. q.d.\\n2.  Rifampin 600 mg p.o. q.d.\\n3.  Pyrazinamide [**2149**] mg q.d.\\n4.  Ethambutol 1600 mg p.o. q.d.\\n5.  Pyridoxine 50 mg q.d. - Note that tuberculosis\\nmedications should be given on an empty stomach\\n6.  Lisinopril 5 mg q.d.\\n7.  Digoxin 0.25 mg p.o. q.d.\\n8.  Metoprolol 25 mg b.i.d.\\n9.  Lasix 20 mg p.o. q.d.\\n10. Aspirin 325 mg p.o. q.d.\\n11. Heparin 5000 units subcutaneously q. 12 hours\\n12. Ranitidine 150 mg p.o. b.i.d.\\n13. Nitroglycerin sublingual 0.4 mg q. 5 minutes, maximum\\nthree doses\\n14. Colace 100 mg p.o. b.i.d. prn constipation\\n15. Folic 1 mg p.o. q.d.\\n16. Thiamine 100 mg p.o. q.d.\\n17. Multivitamin p.o. q.d.\\n18. Tylenol #3 one to two tablets p.o. q. 6 hours prn pain\\n19. Tylenol 325 mg to 650 mg p.o. q. 4-6 hours prn fever/pain\\n\\nIt is recommended that Coumadin be restarted on [**8-6**] at 5\\nmg p.o. q.d. with following INR daily, until therapeutic dose\\nis set.  The patient will also require liver function tests\\nchecked q. two weeks.  She is due for her next liver function\\ntests next week.  The patient's Digoxin level should be\\nfollowed q. one to two weeks. Goal digoxon level is 1.0-1.2\\n\\nFOLLOW UP:\\n1.  Follow up appointment with her primary care physician,\\n[**Last Name (NamePattern4) **]. [**First Name4 (NamePattern1) **] [**Last Name (NamePattern1) 1771**] [**8-25**] 3 PM at [**Hospital Ward Name 23**] Center on [**Location (un) 1772**].\\n2.  Pulmonary Dr. [**Last Name (STitle) **] on [**8-19**] at 9 AM in the [**Hospital1 **]\\nBuilding [**Location (un) 1773**].\\n3.  Infectious Disease, Dr. [**Last Name (STitle) 1774**] [**2159-9-9**] AM in the\\n[**Doctor Last Name 780**] Building, [**Location (un) **].\\n4.  Fall precautions to be maintained, the patient can not\\nbear her weight.\\n\\nDISCHARGE DIAGNOSIS:\\n1.  Pulmonary tuberculosis, reactivated\\n2.  Bilateral pleural effusions\\n3.  atrial fibrillation\\n4.  Cardiomyopathy\\n5.  Left bundle branch block\\n6.  hypercalcemia- resolved\\n7.  h/o CVA\\n8.  h/o PE\\n                            [**First Name8 (NamePattern2) **] [**First Name4 (NamePattern1) 1775**] [**Last Name (NamePattern1) **], M.D.  [**MD Number(1) 1776**]\\n\\nDictated By:[**Last Name (NamePattern1) 1777**]\\nMEDQUIST36\\n\\nD:  [**2151-8-4**]  15:52\\nT:  [**2151-8-4**]  16:10\\nJOB#:  [**Job Number 1778**]\\n\\n\",\n",
       "        Timestamp('2151-07-16 14:29:00')],\n",
       "       [NaT, 'Echo', 'Report',\n",
       "        'PATIENT/TEST INFORMATION:\\nIndication: Aortic valve disease. ?endocarditis\\nHeight: (in) 67\\nWeight (lb): 110\\nBSA (m2): 1.57 m2\\nBP (mm Hg): 106/72\\nStatus: Inpatient\\nDate/Time: [**2151-8-2**] at 17:09\\nTest: Portable TTE(Complete)\\nDoppler: Complete pulse and color flow\\nContrast: None\\nTechnical Quality: Adequate\\n\\n\\nINTERPRETATION:\\n\\nFindings:\\n\\nLEFT ATRIUM: The left atrium is moderately dilated. The left atrium is\\nelongated.\\n\\nRIGHT ATRIUM/INTERATRIAL SEPTUM: The right atrium is markedly dilated.\\n\\nLEFT VENTRICLE: Left ventricular wall thicknesses are normal. The left\\nventricular cavity size is normal. There is mild global left ventricular\\nhypokinesis. Overall left ventricular systolic function is moderately\\ndepressed.\\n\\nRIGHT VENTRICLE: The right ventricular free wall is hypertrophied. The right\\nventricular cavity is moderately dilated. There is moderate global right\\nventricular free wall hypokinesis.\\n\\nAORTA: The aortic root is normal in diameter.\\n\\nAORTIC VALVE: The aortic valve leaflets are moderately thickened. Trace aortic\\nregurgitation is seen.\\n\\nMITRAL VALVE: The mitral valve leaflets are mildly thickened. Mild to moderate\\n([**1-13**]+) mitral regurgitation is seen.\\n\\nTRICUSPID VALVE: Severe [4+] tricuspid regurgitation is seen. There is mild\\npulmonary artery systolic hypertension.\\n\\nPERICARDIUM: There is no pericardial effusion.\\n\\nConclusions:\\nThe left atrium is moderately dilated. The left atrium is elongated. The right\\natrium is markedly dilated. Left ventricular wall thicknesses are normal. The\\nleft ventricular cavity size is normal. Overall left ventricular systolic\\nfunction is normal (LVEF>55%). The right ventricular free wall is\\nhypertrophied. The right ventricular cavity is moderately dilated. There is\\nmoderate global right ventricular free wall hypokinesis. The aortic valve\\nleaflets are moderately thickened. Thereis an echogenic density on the aortic\\ncusp consistent with degenerative changes but can not rule out marantic\\nendocarditis.Trace aortic regurgitation is seen. The mitral valve leaflets are\\nmildly thickened. Mild to moderate ([**1-13**]+) mitral regurgitation is seen. Severe\\n[4+] tricuspid regurgitation is seen. There is mild pulmonary artery systolic\\nhypertension. There is no pericardial effusion.\\n\\nCompared to the previous study of [**2151-7-19**], there is no change in the aortic or\\nmitral valves nor is there any echocardiographic evidence of endocarditis. The\\nLV function has improved since the last study.\\n\\n\\n',\n",
       "        Timestamp('2151-07-16 14:29:00')],\n",
       "       [NaT, 'Echo', 'Report',\n",
       "        'PATIENT/TEST INFORMATION:\\nIndication: Endocarditis.  Left ventricular function.\\nWeight (lb): 1110\\nBP (mm Hg): 139/92\\nStatus: Inpatient\\nDate/Time: [**2151-7-19**] at 11:55\\nTest: TTE(Complete)\\nDoppler: Complete pulse and color flow\\nContrast: None\\nTechnical Quality: Adequate\\n\\n\\nINTERPRETATION:\\n\\nFindings:\\n\\nLEFT ATRIUM: The left atrium is mildly dilated.\\n\\nRIGHT ATRIUM/INTERATRIAL SEPTUM: The right atrium is markedly dilated.\\n\\nLEFT VENTRICLE: There is mild symmetric left ventricular hypertrophy. The left\\nventricular cavity size is normal. There is severe global left ventricular\\nhypokinesis. Overall left ventricular systolic function is severely depressed.\\n\\nRIGHT VENTRICLE: The right ventricular wall thickness is normal. Right\\nventricular chamber size is normal. There is moderate global right ventricular\\nfree wall hypokinesis.\\n\\nAORTA: The aortic root is normal in diameter. The ascending aorta is normal in\\ndiameter.\\n\\nAORTIC VALVE: The aortic valve leaflets are moderately thickened. There is no\\nsignificant aortic valve stenosis. No aortic regurgitation is seen.\\n\\nMITRAL VALVE: The mitral valve leaflets are mildly thickened. There is mild\\nmitral annular calcification. Moderate (2+) mitral regurgitation is seen.\\n\\nTRICUSPID VALVE: Severe [4+] tricuspid regurgitation is seen. There is\\nmoderate pulmonary artery systolic hypertension.\\n\\nPERICARDIUM: There is a trivial/physiologic pericardial effusion. There is an\\nanterior space which most likely represents a fat pad, though a loculated\\nanterior pericardial effusion cannot be excluded.\\n\\nConclusions:\\nThe left atrium is mildly dilated. The right atrium is markedly dilated. There\\nis mild symmetric left ventricular hypertrophy. The left ventricular cavity\\nsize is normal. There is severe global left ventricular hypokinesis. Overall\\nleft ventricular systolic function is severely depressed. There is moderate\\nglobal right ventricular free wall hypokinesis. The aortic valve leaflets are\\nmoderately thickened. There is an echogenic density on the non-coronary cusp\\nof the aortic valve on the aortic side (not LV side) consistent with marantic\\nendocarditis or degenerative changes. There is no significant aortic valve\\nstenosis. No aortic regurgitation is seen. The mitral valve leaflets are\\nmildly thickened. Moderate (2+) mitral regurgitation is seen. Severe [4+]\\ntricuspid regurgitation is seen. There is moderate pulmonary artery systolic\\nhypertension. There is a trivial/physiologic pericardial effusion.\\n\\nCompared to the previous report ([**8-/2141**]), there is no change with regard to the\\nLV function.. The severity of the MR is less while the pulmonary arterial\\npressures are greater.\\n\\n\\n',\n",
       "        Timestamp('2151-07-16 14:29:00')],\n",
       "       [NaT, 'ECG', 'Report',\n",
       "        'Atrial fibrillation with a slow ventricular response. Anterior T wave changes\\nmay be due to myocardial ischemia. Compared to the previous tracing of [**2151-7-17**]\\nT wave changes are slightly less prominent.\\n\\n',\n",
       "        Timestamp('2151-07-16 14:29:00')],\n",
       "       [NaT, 'ECG', 'Report',\n",
       "        'Atrial fibrillation with a slow ventricular response. More prominent T wave\\ninvresion in leads VI-V2. Rule out active anterior ischemic process and/or\\ninfarction. Clinical correlation is suggested.\\nTRACING #2\\n\\n',\n",
       "        Timestamp('2151-07-16 14:29:00')],\n",
       "       [NaT, 'ECG', 'Report',\n",
       "        'Atrial fibrillation with a slow ventricular response. Left ventricular\\nhypertrophy. Prior lateral myocardial infarction. T wave inversion in\\nleads VI-V4 which may represent active anterior ischemic process. Compared to\\nthe previous tracing of [**2151-7-16**] the ventricular response has slowed. The\\nT waves are no longer tall and peaked and left bundle-branch block is no longer\\nrecorded. However, the present tracing is different from the aspect of the\\nanterior T wave abnormalities compared to the previous tracing of [**2147-3-2**]\\nsimilarly in the absence of left bundle-branch block. Clinical correlation is\\nsuggested.\\nTRACING #1\\n\\n',\n",
       "        Timestamp('2151-07-16 14:29:00')],\n",
       "       [NaT, 'ECG', 'Report',\n",
       "        'Atrial fibrillation with a rapid ventricular response. Left bundle-branch block\\nsimilar to that appearing intermittently on [**2147-3-2**]. The rate has increased and\\nleft bundle-branch block persists.\\n\\n',\n",
       "        Timestamp('2151-07-16 14:29:00')],\n",
       "       [Timestamp('2151-07-16 05:01:00'), 'Radiology',\n",
       "        'CHEST (PORTABLE AP)',\n",
       "        '[**2151-7-16**] 5:01 AM\\n CHEST (PORTABLE AP)                                             Clip # [**0-0-**]\\n Reason: FEVER\\n ______________________________________________________________________________\\n [**Hospital 3**] MEDICAL CONDITION:\\n  86 year old woman with AFIB AND MS CHANGES\\n REASON FOR THIS EXAMINATION:\\n  R/O INFILTRATE\\n ______________________________________________________________________________\\n                                 FINAL REPORT\\n INDICATION: Atrial fibrillation and mental status changes. R/O infiltrate.\\n\\n COMPARISON: [**2150-11-26**].\\n\\n PORTABLE AP CHEST: The heart and mediastinal contours are within normal\\n limits. Bilateral hilar regions are prominent, but unchanged. Perihilar hazy\\n opacities could represent interstitial edema. Right basilar pleural based\\n opacity is unchanged and could represent pleural thickening or effusion.\\n Infectious process at right lung base cannot be excluded. New pleural-\\n parenchymal opacities with nodular components are seen at the left lung apex,\\n concerning for acute infection. Soft tissue and osseous structures are\\n unremarkable.\\n\\n IMPRESSION: 1) Possible interstitial edema.\\n 2) Persistent right basilar opacity could represent pleural thickening or\\n effusion.\\n 3) Infectious process at the right lung base cannot be excluded.\\n 4) New opacities at the left lung apex are concerning for acute infection.\\n Follow up films are recommended.\\n\\n\\n\\n\\n',\n",
       "        Timestamp('2151-07-16 14:29:00')],\n",
       "       [Timestamp('2151-08-04 15:39:00'), 'Radiology',\n",
       "        'CT ABDOMEN W/CONTRAST',\n",
       "        \"[**2151-8-4**] 3:39 PM\\n CT ABDOMEN W/CONTRAST; CT PELVIS W/CONTRAST                     Clip # [**Clip Number (Radiology) 13293**]\\n CT 150CC NONIONIC CONTRAST; CT RECONSTRUCTION\\n Reason: rule out malignancy in setting of guaiac positive stools and\\n Field of view: 38 Contrast: OPTIRAY Amt: 150CC\\n ______________________________________________________________________________\\n                                 FINAL ADDENDUM\\n ADDENDUM:\\n Cross-sectional images of the spine and sacrum were viewed and high resolution\\n coronal reconstructions were performed showing diffuse osteoporosis, vertebral\\n body bridging, especially on the left and mottled appearance of the T10 and\\n sacrum. This mottled appearance is more consistent with osteoporosis rather\\n than lytic or blastic lesion. Possibility of Paget's is also to be considered.\\n In addition, T10 is probably slightly collapsed producing high densities\\n within it. The findings are more consistent with osteoporosis and the\\n possibility of metastatic disease is unlikely. Plain films of the lumbosacral\\n spine may be helpful for confirmation.\\n\\n\\n [**2151-8-4**] 3:39 PM\\n CT ABDOMEN W/CONTRAST; CT PELVIS W/CONTRAST                     Clip # [**Clip Number (Radiology) 13293**]\\n CT 150CC NONIONIC CONTRAST; CT RECONSTRUCTION\\n Reason: rule out malignancy in setting of guaiac positive stools and\\n Field of view: 38 Contrast: OPTIRAY Amt: 150CC\\n ______________________________________________________________________________\\n                                 FINAL ADDENDUM\\n ADDENDUM:\\n\\n Additional information has been obtained from CareWeb Clinical Lookup since\\n the approval of the original report.  Reason for exam should also state occult\\n gastrointestinal bleed.\\n\\n\\n [**2151-8-4**] 3:39 PM\\n CT ABDOMEN W/CONTRAST; CT PELVIS W/CONTRAST                     Clip # [**Clip Number (Radiology) 13293**]\\n CT 150CC NONIONIC CONTRAST; CT RECONSTRUCTION\\n Reason: rule out malignancy in setting of guaiac positive stools and\\n Field of view: 38 Contrast: OPTIRAY Amt: 150CC\\n ______________________________________________________________________________\\n [**Hospital 2**] MEDICAL CONDITION:\\n  86 year old woman with multiple medical problems and TB. Maintain respiratory\\n  precautions\\n REASON FOR THIS EXAMINATION:\\n  rule out malignancy in setting of guaiac positive stools and marantic\\n  endocarditits\\n ______________________________________________________________________________\\n                                 FINAL REPORT\\n CT OF THE ABDOMEN AND PELVIS [**2151-8-4**].\\n\\n CLINICAL INDICATION:  Guaiac-positive stools, marantic endocarditis, multiple\\n medical problems and TB.\\n\\n TECHNIQUE:  CT images were acquired from the lung bases through the pubic\\n symphysis using 150 cc of IV Optiray contrast.\\n\\n CT OF THE ABDOMEN WITH IV CONTRAST:  There are moderate-sized bilateral\\n pleural effusions with partial loculation of the right pleural effusion. There\\n is partial collapse of the right lower lobe.  There is atelectasis of the left\\n lower lobe.  The heart size is enlarged.  There are multiple gallstones within\\n the gallbladder.  There is cortical scarring of the right kidney.  There is a\\n tiny low-attenuation lesion of the mid left kidney which measures 7 cm,\\n probably representing a simple renal cyst.  The spleen, liver, stomach, and\\n visualized portions of large and small bowel are unremarkable. The pancreas\\n appears normal.  There is no retroperitoneal or mesenteric lymphadenopathy.\\n There is no free air within the abdomen.\\n\\n CT OF THE PELVIS WITH IV CONTRAST:  A Foley catheter is present within the\\n bladder.  There are multiple calcified uterine fibroids.  The appendix and\\n visualized portions of large and small bowel are unremarkable.\\n\\n BONE WINDOWS:  There is a mottled appearance of the sacrum.\\n\\n IMPRESSIONS:\\n\\n 1) Lytic/blastic lesions of T10 and the sacrum.  This appearance is concerning\\n for metastatic disease.\\n\\n 2) Moderate-sized bilateral pleural effusions with partial consolidation of\\n the right lower lobe and atelectasis of the left lower lobe.\\n\\n 3) Cardiomegaly.\\n\\n 4) Multiple calcified uterine fibroids.\\n\\n 5) Cholelithiasis.\\n                                                             (Over)\\n\\n [**2151-8-4**] 3:39 PM\\n CT ABDOMEN W/CONTRAST; CT PELVIS W/CONTRAST                     Clip # [**Clip Number (Radiology) 13293**]\\n CT 150CC NONIONIC CONTRAST; CT RECONSTRUCTION\\n Reason: rule out malignancy in setting of guaiac positive stools and\\n Field of view: 38 Contrast: OPTIRAY Amt: 150CC\\n ______________________________________________________________________________\\n                                 FINAL REPORT\\n (Cont)\\n\\n\",\n",
       "        Timestamp('2151-07-16 14:29:00')],\n",
       "       [Timestamp('2151-08-04 15:38:00'), 'Radiology',\n",
       "        'CT HEAD W/ & W/O CONTRAST',\n",
       "        '[**2151-8-4**] 3:38 PM\\n CT HEAD W/ & W/O CONTRAST                                       Clip # [**Clip Number (Radiology) 51697**]\\n Reason: marantic endocarditis on [**7-19**] ECHO, please evaluate for embol\\n ______________________________________________________________________________\\n [**Hospital 3**] MEDICAL CONDITION:\\n  86 year old woman with multiple medical problems and TB. Maintain respiratory\\n  precautions\\n REASON FOR THIS EXAMINATION:\\n  marantic endocarditis on [**7-19**] ECHO, please evaluate for emboli or strokes\\n ______________________________________________________________________________\\n                                 FINAL REPORT\\n CT OF THE HEAD [**2151-8-4**].\\n\\n CLINICAL INDICATION:  Multiple medical problems, TB.  Marantic endocarditis.\\n\\n TECHNIQUE:  CT images of the head were acquired without and with IV contrast.\\n 150 cc of IV Optiray contrast was administered without immediate complication.\\n\\n FINDINGS:  There is low density within the brain of the left posterior frontal\\n and parietal lobes which appears to be encephalomalacia from an old stroke.\\n There is slight enlargement of the occipital [**Doctor Last Name 120**] of the left lateral\\n ventricle. There is no shift of the normal midline structures.  There is no\\n intraparenchymal or extraaxial hemorrhage.  The visualized paranasal sinuses,\\n soft-tissue and osseous structures are unremarkable.\\n\\n IMPRESSION:  No intracranial hemorrhage or mass effect.  Old infarction.\\n\\n',\n",
       "        Timestamp('2151-07-16 14:29:00')],\n",
       "       [Timestamp('2151-07-29 15:02:00'), 'Radiology',\n",
       "        'CHEST (PA & LAT)',\n",
       "        '[**2151-7-29**] 3:02 PM\\n CHEST (PA & LAT)                                                Clip # [**Clip Number (Radiology) 52073**]\\n Reason: signs of CHF\\n ______________________________________________________________________________\\n [**Hospital 3**] MEDICAL CONDITION:\\n  86 year old woman with multiple medical problems and TB\\n REASON FOR THIS EXAMINATION:\\n  signs of CHF\\n ______________________________________________________________________________\\n                                 FINAL REPORT\\n INDICATION:  Evaluate for CHF.\\n\\n CHEST, PA AND LATERAL:  Comparison is made to [**2151-7-27**].  There is persistent\\n cardiomegaly, interstitial pulmonary edema and moderate bilateral pleural\\n effusions.  There is persistent collapse and/or consolidation in both lung\\n bases.  A cavitary lesion is again noted in the left upper lobe.\\n\\n IMPRESSION:\\n\\n 1) CHF with interstitial edema.\\n 2) Moderate pleural effusions, right greater than left.\\n 3) bibasilar atelectasis vs. pneumonia.\\n 4) Left apical cavitary lesion.\\n\\n',\n",
       "        Timestamp('2151-07-16 14:29:00')],\n",
       "       [Timestamp('2151-08-02 14:32:00'), 'Radiology',\n",
       "        'CHEST (PA & LAT)',\n",
       "        '[**2151-8-2**] 2:32 PM\\n CHEST (PA & LAT)                                                Clip # [**Clip Number (Radiology) 51686**]\\n Reason: evaluate for CHF and change in effusions\\n ______________________________________________________________________________\\n [**Hospital 3**] MEDICAL CONDITION:\\n   86 year old woman with multiple medical problems and TB. CXR on [**7-29**] showed\\n  CHF and Bilateral effusions. Pt must be on respiratory precautions.\\n REASON FOR THIS EXAMINATION:\\n  evaluate for CHF and change in effusions\\n ______________________________________________________________________________\\n                                 FINAL REPORT\\n\\n TWO VIEWS OF CHEST:\\n\\n INDICATION:  Tuberculosis.\\n\\n The heart is enlarged.  There remains some prominence of the pulmonary\\n vascularity.  The lungs reveal a cavitary lesion in the apex and multifocal\\n consoldiation involving the right lung to a greater degree than the left\\n predominantly in the lower lobes.  There is a moderate size, partially\\n loculated right pleural effusion and a small left pleural effusion.\\n\\n Skeletal structures reveal degenerative changes in the spine.\\n\\n IMPRESSION:\\n 1)  Persistent cavitary lesion in left apex, consistent with tuberculosis.\\n\\n 2)  Bilateral asymmetric alveolar opacities, involving the right lower lobe to\\n a greater degree than the left, which may also be due to pulmonary infection,\\n given evidence of cavitary consolidation in right lower lobe on recent chest\\n CT.\\n\\n 3)  Persistent bilateral pleural effusions, right greater than left.\\n\\n 4)  Persistent cardiac enlargement with possible component of congestive heart\\n failure.\\n\\n\\n',\n",
       "        Timestamp('2151-07-16 14:29:00')],\n",
       "       [Timestamp('2151-07-16 10:10:00'), 'Radiology',\n",
       "        'CHEST (PORTABLE AP)',\n",
       "        \"[**2151-7-16**] 10:10 AM\\n CHEST (PORTABLE AP)                                             Clip # [**Clip Number (Radiology) 50818**]\\n Reason: Pt just had R IJ central line placed.  Please eval placement\\n ______________________________________________________________________________\\n [**Hospital 3**] MEDICAL CONDITION:\\n  86 year old woman with AFIB AND MS CHANGES\\n REASON FOR THIS EXAMINATION:\\n  Pt just had R IJ central line placed.  Please eval placement and r/o\\n  pneumothorax.\\n ______________________________________________________________________________\\n                                 FINAL REPORT\\n INDICATION:  A. fib and mental status changes with recent right IJ placement.\\n Evaluate position and rule out pneumothorax.\\n\\n COMPARISON:  Film from earlier the same day.\\n\\n AP UPRIGHT CHEST:  There has been interval placement of a right IJ line with\\n the tip in the distal SVC.  The mediastinal, hilar, and cardiac contours have\\n not changed.  Again, there is a left retrocardiac and left apical density new\\n from the prior image in [**2150**].  The left apical density has a lucent center\\n representing either a cavity or infiltrate around bullae.  There is no\\n definite evidence of a pneumothorax. There is a right basilar pleural- based\\n opacity that is unchanged from the prior two studies and may represent either\\n effusion or pleural thickening.  On today's radiograph, there is a lucency in\\n the right deep costophrenic sulcus that was not present on the earlier film.\\n This would be an atypical appearance for a pneumothorax.\\n\\n IMPRESSION:  1. No definite pneumothorax seen.  Unusual appearance to the\\n right costophrenic angle.  A left lateral decubitus film may be helpful.\\n\\n 2. Persistent right basilar opacity likely representing either pleural\\n thickening or effusion.\\n\\n 3. New opacities in the left lung apex and base concerning for acute\\n infection.\\n\\n\",\n",
       "        Timestamp('2151-07-16 14:29:00')],\n",
       "       [Timestamp('2151-07-27 09:21:00'), 'Radiology',\n",
       "        'CHEST (PORTABLE AP)',\n",
       "        '[**2151-7-27**] 9:21 AM\\n CHEST (PORTABLE AP)                                             Clip # [**Clip Number (Radiology) 51678**]\\n Reason: ASSESS FOR PNEUMO\\n ______________________________________________________________________________\\n [**Hospital 3**] MEDICAL CONDITION:\\n      86 year old woman with Tb s/p thoracentesis RIGHT\\n\\n REASON FOR THIS EXAMINATION:\\n  ASSESS FOR PNEUMO\\n ______________________________________________________________________________\\n                                 FINAL REPORT\\n INDICATION: 86 y/o female with history of tuberculosis s/p right\\n thoracentesis.\\n\\n AP PORTABLE ERECT CHEST RADIOGRAPH dated [**2151-7-27**] is compared to the prior\\n study performed on [**2151-7-22**] as well as the oldest available study dated\\n [**2150-11-26**].\\n\\n FINDINGS: There is cardiomegaly associated with bilateral diffuse interstitial\\n opacities and bilateral pleural effusions, right greater than left. The\\n appearance of the somewhat loculated right lower lobe effusion does not appear\\n to be significantly changed. Comparison with the oldest available study dated\\n [**11-12**] reveals a pleural effusion and pleural thickening present in the right\\n at that time. There is no evidence of pneumothorax s/p thoracentesis. Note is\\n again made of a left apical cavitation.\\n\\n IMPRESSION: 1) Cardiomegaly associated with bilateral diffuse interstitial\\n opacities. These findings are consistent with congestive heart failure. 2)\\n Persistence of a loculated right lower lobe effusion, likely with an element\\n of pleural scarring. This finding is not significantly changed as compared to\\n the prior study. 3) No evidence of pneumothorax.\\n\\n',\n",
       "        Timestamp('2151-07-16 14:29:00')],\n",
       "       [Timestamp('2151-07-17 06:15:00'), 'Radiology',\n",
       "        'CHEST (PORTABLE AP)',\n",
       "        '[**2151-7-17**] 6:15 AM\\n CHEST (PORTABLE AP)                                             Clip # [**Clip Number (Radiology) 13285**]\\n Reason: new pulm infiltrate\\n ______________________________________________________________________________\\n [**Hospital 2**] MEDICAL CONDITION:\\n    86 year old woman with AFIB AND MS CHANGES\\n\\n REASON FOR THIS EXAMINATION:\\n  new pulm infiltrate\\n ______________________________________________________________________________\\n                                 FINAL REPORT\\n Compared to previous study of one day earlier.\\n\\n CLINICAL INDICATION: Atrial fibrillation.\\n\\n The heart remains enlarged. The pulmonary vascularity appears less engorged\\n and more distinct in the interval, suggesting improved congestive heart\\n failure. There remains a moderate right pleural effusion and there is probably\\n a residual small left pleural effusion. Dense opacities persist in the\\n retrocardiac regions bilaterally.\\n\\n Again demonstrated is a cavitary lesion at the left apex.\\n\\n IMPRESSION: 1. Cavitary lesion in left apex, for which differential diagnosis\\n includes infection (e.g. reactivation tuberculosis) and cancer, although the\\n latter is less likely due to apparent rapid development since [**2150-11-12**].\\n This finding has been communicated to the clinical service caring for the\\n patient, along with recommendation for CT.\\n\\n 2. Improved congestive heart failure pattern. Residual pleural effusion and\\n bibasilar opacities, for which differential diagnosis includes atelectasis and\\n pneumonia.\\n\\n',\n",
       "        Timestamp('2151-07-16 14:29:00')],\n",
       "       [Timestamp('2151-07-18 16:50:00'), 'Radiology',\n",
       "        'CT CHEST W/CONTRAST',\n",
       "        \"[**2151-7-18**] 4:50 PM\\n CT CHEST W/CONTRAST; CT 100CC NON IONIC CONTRAST                Clip # [**Clip Number (Radiology) 13287**]\\n Reason: Please eval LUL cavity (? TB vs abscess) and LLL retrocardia\\n  Contrast: OPTIRAY Amt: 100\\n ______________________________________________________________________________\\n [**Hospital 2**] MEDICAL CONDITION:\\n  86 year old woman with hx PE, cardiomyopathy, dilated cardiomyopathy admitted\\n  with asp pna and heat stroke.\\n REASON FOR THIS EXAMINATION:\\n  Please eval LUL cavity (? TB vs abscess) and LLL retrocardiac infiltrate, and R\\n  pleural thickening/effusion.  ? malig.\\n ______________________________________________________________________________\\n                                 FINAL REPORT\\n INDICATION:  Left upper lobe cavity seen on chest X-ray.\\n\\n TECHNIQUE:  Chest CT with intravenous contrast.\\n\\n CONTRAST:  100 cc of Optiray was administered due to the patient's cardiac\\n history.\\n\\n CHEST CT WITH INTRAVENOUS CONTRAST:  There is no significant axillary\\n lymphadenopathy.  A few calcified hilar lymphnodes are identified. There are a\\n few small pretracheal lymph nodes present. The heart is mildly enlarged. The\\n great vessels are normal in appearance. There is a large loculated right\\n pleural effusion at the right lung base with mild peripheral enhancement.\\n There is a moderate sized left pleural effusion which layers posteriorly.\\n There is right lower lobe lung collapse with evidence of decreased enhancement\\n consistent with an infectious process. The left basilar atelectasis\\n demonstrates normal enhancement.  Within the posterior portion of the right\\n lower lobe there is a small fluid collection with air present superiorly. This\\n appears to connect with a dilated bronchiole. Within the superior portion of\\n the left upper lobe there is an irregular shaped cavitary lesion which\\n measures 4.6 cm x 3.9 cm.  Air is noted within the cavity.  No fluid is\\n identified within the cavity.  There is consolidation surrounding the cavity.\\n The airways appear patent to the level of the segmental bronchi bilaterally.\\n The osseous structures demonstrate moderate degenerative change involving the\\n thoracic spine.\\n\\n In the imaged portion of the upper abdomen the adrenal glands appear\\n unremarkable.\\n\\n IMPRESSION:\\n 1.  Cavitary lesion within the left lung apex most consistent with an\\n infectious process such as Tuberculosis.  However, a squamous cell carcinoma\\n cannot be excluded. There is no evidence of fluid within the cavity to suggest\\n abscess formation.\\n 2.  Loculated right basilar pleural effusion, an empyema cannot be excluded.\\n The decreased enhancement within the right lung base is concerning for an\\n infectious process. Within the right lung posteriorly there is a small rounded\\n area with fluid and air within it which may represent a second cavitary focus.\\n 3. There is moderate atelectasis at the left lung base with a moderate sized\\n left pleural effusion.\\n\\n                                                             (Over)\\n\\n [**2151-7-18**] 4:50 PM\\n CT CHEST W/CONTRAST; CT 100CC NON IONIC CONTRAST                Clip # [**Clip Number (Radiology) 13287**]\\n Reason: Please eval LUL cavity (? TB vs abscess) and LLL retrocardia\\n  Contrast: OPTIRAY Amt: 100\\n ______________________________________________________________________________\\n                                 FINAL REPORT\\n (Cont)\\n\\n\",\n",
       "        Timestamp('2151-07-16 14:29:00')],\n",
       "       [Timestamp('2151-07-17 12:03:00'), 'Radiology', 'PELVIS PORTABLE',\n",
       "        '[**2151-7-17**] 12:03 PM\\n PELVIS PORTABLE                                                 Clip # [**Clip Number (Radiology) 51623**]\\n Reason: PLEASE EVALUATE FOR HIP FRACTURE\\n ______________________________________________________________________________\\n [**Hospital 3**] MEDICAL CONDITION:\\n  86 year old woman with S/P FALL AND COMPLAINTS OF HIP PAIN\\n REASON FOR THIS EXAMINATION:\\n  PLEASE EVALUATE FOR HIP FRACTURE\\n ______________________________________________________________________________\\n                                 FINAL REPORT\\n INDICATION: Hip pain.\\n\\n PELVIS, AP PORTABLE: A single AP portable view of the pelvis is submitted for\\n interpretation. Examination is limited due to suboptimal positioning with\\n marked rotation.  No gross fracture or dislocation is evident in either hip. A\\n calcified structure within the pelvis probably represents a fibroid uterus.\\n There are additional smaller calcifications overlying the region of the right\\n scaroiliac joint which may be related to calcified lymph nodes.\\n\\n Degenerative changes are noted in the lower lumbar spine.\\n\\n IMPRESSION: No gross fracture or dislocation of either hip on this limited\\n single portable pelvic radiograph.  Dedicated complete hip series within the\\n department would be much more sensitive for detecting a fracture and is\\n suggested for more complete assessment.\\n\\n\\n',\n",
       "        Timestamp('2151-07-16 14:29:00')],\n",
       "       [Timestamp('2151-07-16 19:11:00'), 'Radiology',\n",
       "        'CHEST (PORTABLE AP)',\n",
       "        '[**2151-7-16**] 7:11 PM\\n CHEST (PORTABLE AP)                                             Clip # [**Clip Number (Radiology) 51612**]\\n Reason: follow pna\\n ______________________________________________________________________________\\n [**Hospital 3**] MEDICAL CONDITION:\\n   86 year old woman with AFIB AND MS CHANGES\\n REASON FOR THIS EXAMINATION:\\n  follow pna\\n ______________________________________________________________________________\\n                                 FINAL REPORT\\n Compared to previous study of earlier the same date.\\n\\n CLINICAL INDICATION: Pneumonia. Atrial fibrillation.\\n\\n The heart is enlarged, the pulmonary vascularity appears slightly engorged,\\n and there is some persistent perihilar haziness. Dense confluent opacity\\n persists in the right lower lobe, there is also persistent left retrocardiac\\n opacity. There is a moderate right pleural effusion and a small left pleural\\n effusion, unchanged. There is a rounded opacity at the left apex with a\\n central lucency, which is concerning for a cavity at this site.\\n\\n A central venous catheter is unchanged in position.\\n\\n IMPRESSION: 1. Cardiac enlargement with mild congestive heart failure.\\n\\n 2. It is difficult to exclude underlying pneumonia in the lower lobes.\\n\\n 3. Cavitary process in left upper lobe, for which differential diagnosis\\n includes infection, neoplasm, and vasculitis. Comparison PA and lateral chest\\n radiograph of [**2150-11-26**] demonstrates\\n no evidence of cavitary lesion in the left apex.  Given the\\n relatively rapid development of this cavity, an infectious process such as TB\\n or lung abscess is considered much more likely than a neoplastic process.\\n Recommend CT for further assessment, as communicated with house staff caring\\n for the patient.\\n\\n\\n\\n',\n",
       "        Timestamp('2151-07-16 14:29:00')],\n",
       "       [Timestamp('2151-07-22 09:54:00'), 'Radiology',\n",
       "        'CHEST (PORTABLE AP)',\n",
       "        '[**2151-7-22**] 9:54 AM\\n CHEST (PORTABLE AP)                                             Clip # [**Clip Number (Radiology) 51639**]\\n Reason: r/o pneumo\\n ______________________________________________________________________________\\n [**Hospital 3**] MEDICAL CONDITION:\\n     86 year old woman with Tb s/p thoracentesis\\n REASON FOR THIS EXAMINATION:\\n  r/o pneumo\\n ______________________________________________________________________________\\n                                 FINAL REPORT\\n PORTABLE CHEST, [**2151-7-22**] COMPARED TO PREVIOUS RADIOGRAPH OF 5 DAYS EARLIER:\\n\\n CLINICAL INDICATION:  TB.  Thoracentesis.\\n\\n An AP portable chest radiograph is submitted for interpretation.  Again\\n demonstrated is a moderate-sized right pleural effusion, not significantly\\n changed in the interval.  A smaller left pleural effusion is also stable.  No\\n pneumothorax is identified.\\n\\n The cardiac silhouette remains enlarged but is stable.  The lung parenchyma is\\n remarkable for a cavitary lesion at the left apex.  There remains increased\\n opacity in the right middle lobe and in both lower lobes.\\n\\n With regard to the right effusion, it has a loculated component laterally.\\n\\n IMPRESSION:  No significant interval change in pleural effusions following\\n thoracentesis.  No pneumothorax.\\n\\n Persistent cavitary lesion at left lung apex, likely due to reactivation TB\\n given provided history of TB. Differential diagnosis includes lung cancer.\\n\\n',\n",
       "        Timestamp('2151-07-16 14:29:00')],\n",
       "       [Timestamp('2151-07-23 13:43:00'), 'Radiology',\n",
       "        'LUNBAR SPINAL PUNCTURE',\n",
       "        \"[**2151-7-23**] 1:43 PM\\n [**Numeric Identifier 2678**] LUNBAR SPINAL PUNCTURE                                    Clip # [**Clip Number (Radiology) 13289**]\\n Reason: assess for meningitis\\n ______________________________________________________________________________\\n [**Hospital 2**] MEDICAL CONDITION:\\n  86 year old woman with tb\\n REASON FOR THIS EXAMINATION:\\n  assess for meningitis\\n ______________________________________________________________________________\\n                                 FINAL REPORT\\n CLINICAL HISTORY:  This is an 86 year old female with tuberculosis.  The INR\\n service attempted yesterday to do a lumbar puncture on the floor in this\\n patient who it was deemed difficult to turn prone.  This was not successful.\\n Therefore, today we were attempting to do it under fluoro.\\n\\n PROCEDURE:  The risks, benefits and alternatives of the procedure are\\n explained to the patient.\\n\\n The patient was brought to fluoro and the spine fluoroscope.  There is no\\n obvious space through which to put the needle.  It appears that her spinal\\n laminar space is closed.  Nonetheless attempts were made at two sites to place\\n 20 gauge spinal needles.  These did not successfully reach the CSF space.\\n\\n As we are at the patient's limit of tolerance, the procedure was discontinued.\\n If CSF is still considered necessary, we will consider cisternal tap.\\n\\n IMPRESSION:  Unsuccessful attempt at lumbar puncture under fluoro.\\n\\n\\n\",\n",
       "        Timestamp('2151-07-16 14:29:00')],\n",
       "       [Timestamp('2151-07-16 11:24:00'), 'Radiology',\n",
       "        'P CHEST (LAT DECUB ONLY) PORT',\n",
       "        '[**2151-7-16**] 11:24 AM\\n CHEST (LAT DECUB ONLY) PORT                                     Clip # [**Clip Number (Radiology) 13283**]\\n Reason: Left Lateral Decubitus film to evaluate for a PTX\\n ______________________________________________________________________________\\n [**Hospital 2**] MEDICAL CONDITION:\\n  86 year old woman s/p central line placement, now w/ question of PTX on AP\\n  film.  Please R/O PTX.\\n REASON FOR THIS EXAMINATION:\\n  Left Lateral Decubitus film to evaluate for a PTX\\n ______________________________________________________________________________\\n                                 FINAL REPORT\\n INDICATION:  Status post central line placement with ? of pneumothorax on AP\\n film.  Please perform left lateral decubitus.\\n\\n LEFT LATERAL DECUBITUS CHEST RADIOGRAPH:  No pneumothorax is identified.\\n Again, there is an elliptical opacity in the right lung base which does not\\n layer and thus represent pleural thickening and effusion.  There is a small\\n layering opacity in the left lung base representing a small left pleural\\n effusion.  The pulmonary parenchyma is difficult to evaluate due to decubitus\\n position; however, again there is the suggestion of a lucency in the left\\n apex.\\n\\n IMPRESSION:  1. No pneumothorax.\\n 2. Right pleural thickening.\\n 3. Small left layering pleural effusion.\\n 4. Lucency in left apex which likley represents bullous disease.\\n\\n',\n",
       "        Timestamp('2151-07-16 14:29:00')],\n",
       "       [Timestamp('2151-07-18 14:01:00'), 'Nursing/other', 'Report',\n",
       "        'resp note:spont mechanics(NIF,VC)performed by pt--NIF= -10,VC=300 pt appeared weak with poor effort displayed despite encouragement.\\n',\n",
       "        Timestamp('2151-07-16 14:29:00')],\n",
       "       [Timestamp('2151-07-18 18:53:00'), 'Nursing/other', 'Report',\n",
       "        \"pmicu nursing progress note\\ncardiac:  continues to maintain a bp off pressors---bp 103-120/48-54 with a pulse of 75-79 afib, with occasional pvcs.  K+ 4.4.  iv chang'd to d5ns at 100cc/hr.\\n\\nresp:  on 4l nasal prongs with o2 sats of96-99%, and a resp rate of 20-24.  lung sounds are clear, slightly deminished at the right base.  less secretions obtained by yankuar, but the second afb was sent.  down for a chest c-scan---pt did receive a total of 1mg of ativan prior/during procedure.  nif was -10 and vc was 300.\\n\\nid:  afebrile.  wbc was 8.1.  continues on same antibiotics.\\n\\ngi:  kept npo.  to be scheduled for a swallow study.  abdomin soft, + bowel sounds and no stool.\\n\\ngu:  urine output approx 15-20cc/hr.  bun 38 and creat 1.0\\n\\nheme:  inr 7.6. pt 33, and ptt 43.6.\\n\\nendo:  fs at 6p was 73---iv changed to d5ns\\n\",\n",
       "        Timestamp('2151-07-16 14:29:00')],\n",
       "       [Timestamp('2151-07-19 04:53:00'), 'Nursing/other', 'Report',\n",
       "        \"NPN-MICU\\nMrs.[**Known lastname **] has remained stable and rested overnight.\\nResp:she cont on 4L NP O2 with RR of 20-24 and no c/o SOB. Her sats cont to be 95-98%. Sputum is still yellow but appears to be less. She cont to be afebrile on IVAB\\nCV: she cont to maintain her BP on own 90-108/60's, HR when resting in the 80's. She is keepingher u/p up to 30cc/hr and cont on IVF.\\nGI:pt cont to be NPO but swallows pills fine, BS up to 98 now on D5NS. ?of swallowing study today\\nHeme: no signs of bleeding.\\nA/P:Stable at present, will finish up R/o TB by tomorrow(3rd spec today) Await results of CT scan and not cx results.\\n    Restart diet once swallow study done, note stool amts.\\n    Cont to follow hydration status and u/o.\\n\",\n",
       "        Timestamp('2151-07-16 14:29:00')],\n",
       "       [Timestamp('2151-07-19 16:32:00'), 'Nursing/other', 'Report',\n",
       "        \"NURSING PROGRESS NOTE\\n\\nNEURO: ALERT AND ORIENTED. SPEECH IS SLOW AT TIMES. DOES FOLLOW COMMANDS MAE EQUALLY AND PURPOSEFULLY. PUPILS EQUAL AND REACTIVE.\\n\\nRESP: LUNGS CLEAR TO DIMINISHED. O2 SAT 98% ON 4L/NC. PT COUGHING UP BLOOD TINGED SPUTUM. POSITIVE AFB SMEAR. IN A NEGATIVE PRESSURE ROOM.\\n\\nCV: AFIB ON TELE HR 70-125. OCCAS PVC'S. RECEIVED 25MG LOPRESSOR FOR RATE CONTROL. HR HAS DECREASED TO 70'S POST LOPRESSOR. SBP STABLE 120-140'S.\\n\\nGI: SWALLOW EVAL DONE TODAY. PT STARTED ON PUREE DIET. REQUIRES SOMEONE TO HELP HER EAT. BS ACTIVE. NO BM THIS SHIFT. DOES HAVE A HISTORY OF BLOOD TINGED STOOL IN ER.\\n\\nGU: FOLEY. UO SLUGGISH. CLEAR YELLOW.\\n\\nPAIN: HAS C/O HIP PAIN. PT FELL AT HOME PRIOR TO ADMISSION. OFFERED [**Name (NI) 1524**] PT [**Name (NI) 1525**].\\n\\nSOCIAL: FAMILY VISITED TODAY. UPDATED ON PTS CONDITION BY DR. [**Last Name (STitle) 1526**].\\n\\nPLAN: PT [**Name (NI) 364**] TO CC 707.\\n\",\n",
       "        Timestamp('2151-07-16 14:29:00')],\n",
       "       [Timestamp('2151-07-17 17:22:00'), 'Nursing/other', 'Report',\n",
       "        'PMICU NURSING PROGRESS NOTE\\nRESP: CHEST XRAY QUESTIONING TB VS ABSCESS--PT PLACED ON RESP PRECAUTIONS, AND PLACED IN A NEG PRESSURE ROOM. PRESENTLY ON 4L NASAL PRONGS WITH A RESP RATE OF 16-26 AND O2 SATS OF 96-99%.  LUNG SOUNDS ARE DEMINISHED AT THE BASES AND OTHERWISE CLEAR.  PT RAISING THICK YELLOW SPUTUM (NOT REALLY COUGHING), WHICH PT IS ABLE TO OBTAIN WITH A YANKAUR SUCTION CATHETER.  A SPUTUM WAS SENT FOR AFB.  PT NOTED TO BE SUCTIONING BACK FOOD IN THE CATHETER AFTER EATING [**Name (NI) 1523**] PT IS NOW JUST RECEIVING ICE CHIPS. AWAITING CHEST C-SCAN.\\nMOST RECENT ABG WAS 151 64 7.27 31 AND 1.\\n\\nCARDIAC: MAINTAINING A BP OFF LEVO---BP 88-112/40-50 WITH A PULSE OF 72-78 AFIB, WITH PVCS.  K+ 4.1. AND PT [**Name (NI) **] 2 AMPS OF CALCIUM GLUCONATE.  CVP 5-7.  IV OF NORMAL SALINE INFUSING AT 150CC/HR.  8A CPK WAS 129 AND MB OF 13 AND TROPONIN 10.3.  ROUTINE EKG DONE. EXTREMITIES COOL TO TOUCH (BOTH HANDS WERE VERY COOL TO TOUCH---TEAM MADE AWARE)\\n\\nID:  AT 8A TEMP WAS 95.5 AX AND 94 PO, AND AT 12P TE,P WAS 98 RECTALLY.  AT 4P TEMP 96.3 AX.  WBC WAS 7.5.  ON AZITHROMYCIN AND CEFTRIAXONE.  URINE CULTURE WAS NEG.  BLOOD CULTURES ARE PENDING.\\n\\nHEME:  HCT 29.9---TO HAVE A REPEAT DRAWN TONIGHT\\n\\nGI:  ABDOMIN SOFT, + BOWEL SOUNDS.  MADE NPO DUE TO ???? ASPIRATION.  NO STOOL PASSED.\\n\\nGU:  FOLEY IN PLACE.  URINE OUTPUT APPROX 15-30CC/HR.  BUN 40 AND CREAT 1.1.\\n\\nSKIN:  INTACT.  EXTREMITIES COOL.  PELVIS XRAY---PT HAVING HIP PAIN FROM FALL.\\n\\nENDO:  FS AT 1P WAS 104.\\n\\nNEURO:  ALERT AND ORIENTED.  GIVEN TYLENOL FOR DISCOMFORT FROM HIP PAIN.\\n',\n",
       "        Timestamp('2151-07-16 14:29:00')],\n",
       "       [Timestamp('2151-07-18 05:12:00'), 'Nursing/other', 'Report',\n",
       "        \"NPN-MICU\\nMrs.[**Known lastname **] has done well through the night.\\nResp: has remained on 4LNP o2 with no c/o SOB,clr lungs and O2 sats of >98%. Unable to find pt's son so CT was defered until tomorrow when he can go with her. She cont to have no cough and min white sputum so far. She was able to take her pills without difficulty and no signs of aspiration.\\nCV:Her BP has been 90-102/40's with HR in the 80's AF most of the shift.She did drop her u/o to 20cc and her BP to 82/ at 11pm so she was given another x1 IVB of NS and she has since had u/o of 25-30cc and an improved BP through the night. She denies any CP. Her CVP up to 8.\\nID: her temp is at 98 recally, she cont on IVAB\\nHeme:Her INR is still up but no signs of bleeding but her hct is up to 30\\nNEuro/Pain:she c/o mild hip pain espec with turning, taking tylenol which has helped.\\nA/P:Will cont to follow her Reps status for DX today via CT and Sputum specimens\\n    Asses for aspiration\\n    Treat as R/I MI, check for increased CP or SOB\\n    Cont to follow BP and u/o rsp, note CV for hydration status\\n\",\n",
       "        Timestamp('2151-07-16 14:29:00')],\n",
       "       [Timestamp('2151-07-16 15:27:00'), 'Nursing/other', 'Report',\n",
       "        \"FOCUS; ADMISSION NOTE.\\nRFA- MS CHANGES AND HOT\\nPMH- HTN, ANEMIA, CARDIOMYOPATHY EF 20%, CHRONIC AFIB, HX OF TIA. HX OF BILAT LEG CELLULITS.\\nALLERGIES- NKDA\\nHPI- FOUND BY FAMILY TO HAVE MS CHANGES AND FELT VERY HOT. BROUGHT TO ED WITH TEMP OF 108. CXR, URINE ALL NEG. GIVEN 1GM TYLENOL , 2GMS CEFTRIAXONE, AND 600MG CLINDAMYCIN. BP DROPPED TO 70 SYSTOLICALLY. SHE WAS TX WITH 3L FLUIDS. NO INCREASE IN BP. LEVOPHED WAS STARTED. TRANSFERRED TO MICU.\\nREVIEW OF SYSTEMS-\\nNEURO- ALERT AND ORIENTED TO PERSON AND PLACE. NOT ORIENTED TO TIME.\\nRESP- ON 4L NC SATS IN THE HIGH 90'S. RESP LOW 20'S. BS CLEAR UPPER.\\nCARDIAC- HR 60-80'S AFIB WITH NO ECTOPI. SBP > 100 ON LEVOPHED AT 0.089MCGS/KG/MIN. ALINE TO BE PLACED BY MICU TEAM. CL IN PLACE.\\nGI- ABD SOFT WITH POS BS.\\nGU- HAS FOLEY IN DRAINING ADEQUATE AMOUNTS CLEAR YELLOW URINE.\\nSKIN- SKIN INTACT. VENOUS STASIS IN BILATERAL LOWER EXTREMITIES.\\nACESS- HAS 2 # 18 GAUGE PERIPHERALS AND A RIGHT IJ CL.\\nDISPO- IN MICU A FULL CODE.\\nSOCIAL- MULTIPLE FAMILY MEMBERS IN TO VISIT AND PLEASED WITH THE PATIENT'S PROGRESS.\\nPLAN- ALINE TO BE PLACED. LEVO TO BE WEANED AS ABLE.\\n\\n\",\n",
       "        Timestamp('2151-07-16 14:29:00')],\n",
       "       [Timestamp('2151-07-17 02:05:00'), 'Nursing/other', 'Report',\n",
       "        \"nsg progress notes\\nneuro: very sleepy, arousable to loud stimulus. follows commands. strong handgrip but weak leg movements. oriented x 3. carries a normal conversation. calm and cooperative.\\n\\nresp: on nasal cannula; adequate o2 sats. adequate breath sounds on both sides decreased to bases. sputum culture sent. greenish secretions.\\n\\ncardiac: is in chronic a/fib; heart rate between 55 and 70  ; dr [**Last Name (STitle) 1522**] aware. shows frequent pvc's. levophed decreased from .093 to .094 mcg for map of 68. desired map is 65. pt is afebrile. asa 325mg given as ck's are elevated.\\n\\n\\n\",\n",
       "        Timestamp('2151-07-16 14:29:00')],\n",
       "       [Timestamp('2151-07-17 05:36:00'), 'Nursing/other', 'Report',\n",
       "        'addendum\\ncardiac: troponin 14 at [**2149**] came down to 11 at 0200; resident aware. troponin level to be drawn at 0800. pt is believed to have had an MI. denies any chest pain. levophed stopped at 0500 for a map of 74. afebrile. remains in her chronic a/fib state with a heart rate of 65.\\n\\nneuro: much more awake . follows commands. moves all limbs. is coherent.\\n\\ngi gu: abdomen is soft , faint bowel sounds heard. low urine output; n\\n250 n/s bolus given at 0500.\\n',\n",
       "        Timestamp('2151-07-16 14:29:00')],\n",
       "       [Timestamp('2151-07-17 05:47:00'), 'Nursing/other', 'Report',\n",
       "        'social: is a full code. grand daughter updated when called in evening\\n',\n",
       "        Timestamp('2151-07-16 14:29:00')]], dtype=object)"
      ]
     },
     "execution_count": 58,
     "metadata": {},
     "output_type": "execute_result"
    }
   ],
   "source": [
    "df_noteevents[df_noteevents['HADM_ID']==167853][['CHARTTIME','CATEGORY', 'DESCRIPTION','TEXT', 'ADMITTIME']].values"
   ]
  },
  {
   "cell_type": "code",
   "execution_count": 59,
   "metadata": {},
   "outputs": [
    {
     "data": {
      "text/plain": [
       "array([[NaT, 'Echo', 'Report',\n",
       "        'PATIENT/TEST INFORMATION:\\nIndication: Aortic valve disease. ?endocarditis\\nHeight: (in) 67\\nWeight (lb): 110\\nBSA (m2): 1.57 m2\\nBP (mm Hg): 106/72\\nStatus: Inpatient\\nDate/Time: [**2151-8-2**] at 17:09\\nTest: Portable TTE(Complete)\\nDoppler: Complete pulse and color flow\\nContrast: None\\nTechnical Quality: Adequate\\n\\n\\nINTERPRETATION:\\n\\nFindings:\\n\\nLEFT ATRIUM: The left atrium is moderately dilated. The left atrium is\\nelongated.\\n\\nRIGHT ATRIUM/INTERATRIAL SEPTUM: The right atrium is markedly dilated.\\n\\nLEFT VENTRICLE: Left ventricular wall thicknesses are normal. The left\\nventricular cavity size is normal. There is mild global left ventricular\\nhypokinesis. Overall left ventricular systolic function is moderately\\ndepressed.\\n\\nRIGHT VENTRICLE: The right ventricular free wall is hypertrophied. The right\\nventricular cavity is moderately dilated. There is moderate global right\\nventricular free wall hypokinesis.\\n\\nAORTA: The aortic root is normal in diameter.\\n\\nAORTIC VALVE: The aortic valve leaflets are moderately thickened. Trace aortic\\nregurgitation is seen.\\n\\nMITRAL VALVE: The mitral valve leaflets are mildly thickened. Mild to moderate\\n([**1-13**]+) mitral regurgitation is seen.\\n\\nTRICUSPID VALVE: Severe [4+] tricuspid regurgitation is seen. There is mild\\npulmonary artery systolic hypertension.\\n\\nPERICARDIUM: There is no pericardial effusion.\\n\\nConclusions:\\nThe left atrium is moderately dilated. The left atrium is elongated. The right\\natrium is markedly dilated. Left ventricular wall thicknesses are normal. The\\nleft ventricular cavity size is normal. Overall left ventricular systolic\\nfunction is normal (LVEF>55%). The right ventricular free wall is\\nhypertrophied. The right ventricular cavity is moderately dilated. There is\\nmoderate global right ventricular free wall hypokinesis. The aortic valve\\nleaflets are moderately thickened. Thereis an echogenic density on the aortic\\ncusp consistent with degenerative changes but can not rule out marantic\\nendocarditis.Trace aortic regurgitation is seen. The mitral valve leaflets are\\nmildly thickened. Mild to moderate ([**1-13**]+) mitral regurgitation is seen. Severe\\n[4+] tricuspid regurgitation is seen. There is mild pulmonary artery systolic\\nhypertension. There is no pericardial effusion.\\n\\nCompared to the previous study of [**2151-7-19**], there is no change in the aortic or\\nmitral valves nor is there any echocardiographic evidence of endocarditis. The\\nLV function has improved since the last study.\\n\\n\\n',\n",
       "        Timestamp('2151-07-16 14:29:00')],\n",
       "       [NaT, 'Echo', 'Report',\n",
       "        'PATIENT/TEST INFORMATION:\\nIndication: Endocarditis.  Left ventricular function.\\nWeight (lb): 1110\\nBP (mm Hg): 139/92\\nStatus: Inpatient\\nDate/Time: [**2151-7-19**] at 11:55\\nTest: TTE(Complete)\\nDoppler: Complete pulse and color flow\\nContrast: None\\nTechnical Quality: Adequate\\n\\n\\nINTERPRETATION:\\n\\nFindings:\\n\\nLEFT ATRIUM: The left atrium is mildly dilated.\\n\\nRIGHT ATRIUM/INTERATRIAL SEPTUM: The right atrium is markedly dilated.\\n\\nLEFT VENTRICLE: There is mild symmetric left ventricular hypertrophy. The left\\nventricular cavity size is normal. There is severe global left ventricular\\nhypokinesis. Overall left ventricular systolic function is severely depressed.\\n\\nRIGHT VENTRICLE: The right ventricular wall thickness is normal. Right\\nventricular chamber size is normal. There is moderate global right ventricular\\nfree wall hypokinesis.\\n\\nAORTA: The aortic root is normal in diameter. The ascending aorta is normal in\\ndiameter.\\n\\nAORTIC VALVE: The aortic valve leaflets are moderately thickened. There is no\\nsignificant aortic valve stenosis. No aortic regurgitation is seen.\\n\\nMITRAL VALVE: The mitral valve leaflets are mildly thickened. There is mild\\nmitral annular calcification. Moderate (2+) mitral regurgitation is seen.\\n\\nTRICUSPID VALVE: Severe [4+] tricuspid regurgitation is seen. There is\\nmoderate pulmonary artery systolic hypertension.\\n\\nPERICARDIUM: There is a trivial/physiologic pericardial effusion. There is an\\nanterior space which most likely represents a fat pad, though a loculated\\nanterior pericardial effusion cannot be excluded.\\n\\nConclusions:\\nThe left atrium is mildly dilated. The right atrium is markedly dilated. There\\nis mild symmetric left ventricular hypertrophy. The left ventricular cavity\\nsize is normal. There is severe global left ventricular hypokinesis. Overall\\nleft ventricular systolic function is severely depressed. There is moderate\\nglobal right ventricular free wall hypokinesis. The aortic valve leaflets are\\nmoderately thickened. There is an echogenic density on the non-coronary cusp\\nof the aortic valve on the aortic side (not LV side) consistent with marantic\\nendocarditis or degenerative changes. There is no significant aortic valve\\nstenosis. No aortic regurgitation is seen. The mitral valve leaflets are\\nmildly thickened. Moderate (2+) mitral regurgitation is seen. Severe [4+]\\ntricuspid regurgitation is seen. There is moderate pulmonary artery systolic\\nhypertension. There is a trivial/physiologic pericardial effusion.\\n\\nCompared to the previous report ([**8-/2141**]), there is no change with regard to the\\nLV function.. The severity of the MR is less while the pulmonary arterial\\npressures are greater.\\n\\n\\n',\n",
       "        Timestamp('2151-07-16 14:29:00')],\n",
       "       [NaT, 'ECG', 'Report',\n",
       "        'Atrial fibrillation with a slow ventricular response. Anterior T wave changes\\nmay be due to myocardial ischemia. Compared to the previous tracing of [**2151-7-17**]\\nT wave changes are slightly less prominent.\\n\\n',\n",
       "        Timestamp('2151-07-16 14:29:00')],\n",
       "       [NaT, 'ECG', 'Report',\n",
       "        'Atrial fibrillation with a slow ventricular response. More prominent T wave\\ninvresion in leads VI-V2. Rule out active anterior ischemic process and/or\\ninfarction. Clinical correlation is suggested.\\nTRACING #2\\n\\n',\n",
       "        Timestamp('2151-07-16 14:29:00')],\n",
       "       [NaT, 'ECG', 'Report',\n",
       "        'Atrial fibrillation with a slow ventricular response. Left ventricular\\nhypertrophy. Prior lateral myocardial infarction. T wave inversion in\\nleads VI-V4 which may represent active anterior ischemic process. Compared to\\nthe previous tracing of [**2151-7-16**] the ventricular response has slowed. The\\nT waves are no longer tall and peaked and left bundle-branch block is no longer\\nrecorded. However, the present tracing is different from the aspect of the\\nanterior T wave abnormalities compared to the previous tracing of [**2147-3-2**]\\nsimilarly in the absence of left bundle-branch block. Clinical correlation is\\nsuggested.\\nTRACING #1\\n\\n',\n",
       "        Timestamp('2151-07-16 14:29:00')],\n",
       "       [NaT, 'ECG', 'Report',\n",
       "        'Atrial fibrillation with a rapid ventricular response. Left bundle-branch block\\nsimilar to that appearing intermittently on [**2147-3-2**]. The rate has increased and\\nleft bundle-branch block persists.\\n\\n',\n",
       "        Timestamp('2151-07-16 14:29:00')],\n",
       "       [Timestamp('2151-07-16 05:01:00'), 'Radiology',\n",
       "        'CHEST (PORTABLE AP)',\n",
       "        '[**2151-7-16**] 5:01 AM\\n CHEST (PORTABLE AP)                                             Clip # [**0-0-**]\\n Reason: FEVER\\n ______________________________________________________________________________\\n [**Hospital 3**] MEDICAL CONDITION:\\n  86 year old woman with AFIB AND MS CHANGES\\n REASON FOR THIS EXAMINATION:\\n  R/O INFILTRATE\\n ______________________________________________________________________________\\n                                 FINAL REPORT\\n INDICATION: Atrial fibrillation and mental status changes. R/O infiltrate.\\n\\n COMPARISON: [**2150-11-26**].\\n\\n PORTABLE AP CHEST: The heart and mediastinal contours are within normal\\n limits. Bilateral hilar regions are prominent, but unchanged. Perihilar hazy\\n opacities could represent interstitial edema. Right basilar pleural based\\n opacity is unchanged and could represent pleural thickening or effusion.\\n Infectious process at right lung base cannot be excluded. New pleural-\\n parenchymal opacities with nodular components are seen at the left lung apex,\\n concerning for acute infection. Soft tissue and osseous structures are\\n unremarkable.\\n\\n IMPRESSION: 1) Possible interstitial edema.\\n 2) Persistent right basilar opacity could represent pleural thickening or\\n effusion.\\n 3) Infectious process at the right lung base cannot be excluded.\\n 4) New opacities at the left lung apex are concerning for acute infection.\\n Follow up films are recommended.\\n\\n\\n\\n\\n',\n",
       "        Timestamp('2151-07-16 14:29:00')],\n",
       "       [Timestamp('2151-07-16 10:10:00'), 'Radiology',\n",
       "        'CHEST (PORTABLE AP)',\n",
       "        \"[**2151-7-16**] 10:10 AM\\n CHEST (PORTABLE AP)                                             Clip # [**Clip Number (Radiology) 50818**]\\n Reason: Pt just had R IJ central line placed.  Please eval placement\\n ______________________________________________________________________________\\n [**Hospital 3**] MEDICAL CONDITION:\\n  86 year old woman with AFIB AND MS CHANGES\\n REASON FOR THIS EXAMINATION:\\n  Pt just had R IJ central line placed.  Please eval placement and r/o\\n  pneumothorax.\\n ______________________________________________________________________________\\n                                 FINAL REPORT\\n INDICATION:  A. fib and mental status changes with recent right IJ placement.\\n Evaluate position and rule out pneumothorax.\\n\\n COMPARISON:  Film from earlier the same day.\\n\\n AP UPRIGHT CHEST:  There has been interval placement of a right IJ line with\\n the tip in the distal SVC.  The mediastinal, hilar, and cardiac contours have\\n not changed.  Again, there is a left retrocardiac and left apical density new\\n from the prior image in [**2150**].  The left apical density has a lucent center\\n representing either a cavity or infiltrate around bullae.  There is no\\n definite evidence of a pneumothorax. There is a right basilar pleural- based\\n opacity that is unchanged from the prior two studies and may represent either\\n effusion or pleural thickening.  On today's radiograph, there is a lucency in\\n the right deep costophrenic sulcus that was not present on the earlier film.\\n This would be an atypical appearance for a pneumothorax.\\n\\n IMPRESSION:  1. No definite pneumothorax seen.  Unusual appearance to the\\n right costophrenic angle.  A left lateral decubitus film may be helpful.\\n\\n 2. Persistent right basilar opacity likely representing either pleural\\n thickening or effusion.\\n\\n 3. New opacities in the left lung apex and base concerning for acute\\n infection.\\n\\n\",\n",
       "        Timestamp('2151-07-16 14:29:00')],\n",
       "       [Timestamp('2151-07-16 19:11:00'), 'Radiology',\n",
       "        'CHEST (PORTABLE AP)',\n",
       "        '[**2151-7-16**] 7:11 PM\\n CHEST (PORTABLE AP)                                             Clip # [**Clip Number (Radiology) 51612**]\\n Reason: follow pna\\n ______________________________________________________________________________\\n [**Hospital 3**] MEDICAL CONDITION:\\n   86 year old woman with AFIB AND MS CHANGES\\n REASON FOR THIS EXAMINATION:\\n  follow pna\\n ______________________________________________________________________________\\n                                 FINAL REPORT\\n Compared to previous study of earlier the same date.\\n\\n CLINICAL INDICATION: Pneumonia. Atrial fibrillation.\\n\\n The heart is enlarged, the pulmonary vascularity appears slightly engorged,\\n and there is some persistent perihilar haziness. Dense confluent opacity\\n persists in the right lower lobe, there is also persistent left retrocardiac\\n opacity. There is a moderate right pleural effusion and a small left pleural\\n effusion, unchanged. There is a rounded opacity at the left apex with a\\n central lucency, which is concerning for a cavity at this site.\\n\\n A central venous catheter is unchanged in position.\\n\\n IMPRESSION: 1. Cardiac enlargement with mild congestive heart failure.\\n\\n 2. It is difficult to exclude underlying pneumonia in the lower lobes.\\n\\n 3. Cavitary process in left upper lobe, for which differential diagnosis\\n includes infection, neoplasm, and vasculitis. Comparison PA and lateral chest\\n radiograph of [**2150-11-26**] demonstrates\\n no evidence of cavitary lesion in the left apex.  Given the\\n relatively rapid development of this cavity, an infectious process such as TB\\n or lung abscess is considered much more likely than a neoplastic process.\\n Recommend CT for further assessment, as communicated with house staff caring\\n for the patient.\\n\\n\\n\\n',\n",
       "        Timestamp('2151-07-16 14:29:00')],\n",
       "       [Timestamp('2151-07-16 11:24:00'), 'Radiology',\n",
       "        'P CHEST (LAT DECUB ONLY) PORT',\n",
       "        '[**2151-7-16**] 11:24 AM\\n CHEST (LAT DECUB ONLY) PORT                                     Clip # [**Clip Number (Radiology) 13283**]\\n Reason: Left Lateral Decubitus film to evaluate for a PTX\\n ______________________________________________________________________________\\n [**Hospital 2**] MEDICAL CONDITION:\\n  86 year old woman s/p central line placement, now w/ question of PTX on AP\\n  film.  Please R/O PTX.\\n REASON FOR THIS EXAMINATION:\\n  Left Lateral Decubitus film to evaluate for a PTX\\n ______________________________________________________________________________\\n                                 FINAL REPORT\\n INDICATION:  Status post central line placement with ? of pneumothorax on AP\\n film.  Please perform left lateral decubitus.\\n\\n LEFT LATERAL DECUBITUS CHEST RADIOGRAPH:  No pneumothorax is identified.\\n Again, there is an elliptical opacity in the right lung base which does not\\n layer and thus represent pleural thickening and effusion.  There is a small\\n layering opacity in the left lung base representing a small left pleural\\n effusion.  The pulmonary parenchyma is difficult to evaluate due to decubitus\\n position; however, again there is the suggestion of a lucency in the left\\n apex.\\n\\n IMPRESSION:  1. No pneumothorax.\\n 2. Right pleural thickening.\\n 3. Small left layering pleural effusion.\\n 4. Lucency in left apex which likley represents bullous disease.\\n\\n',\n",
       "        Timestamp('2151-07-16 14:29:00')],\n",
       "       [Timestamp('2151-07-16 15:27:00'), 'Nursing/other', 'Report',\n",
       "        \"FOCUS; ADMISSION NOTE.\\nRFA- MS CHANGES AND HOT\\nPMH- HTN, ANEMIA, CARDIOMYOPATHY EF 20%, CHRONIC AFIB, HX OF TIA. HX OF BILAT LEG CELLULITS.\\nALLERGIES- NKDA\\nHPI- FOUND BY FAMILY TO HAVE MS CHANGES AND FELT VERY HOT. BROUGHT TO ED WITH TEMP OF 108. CXR, URINE ALL NEG. GIVEN 1GM TYLENOL , 2GMS CEFTRIAXONE, AND 600MG CLINDAMYCIN. BP DROPPED TO 70 SYSTOLICALLY. SHE WAS TX WITH 3L FLUIDS. NO INCREASE IN BP. LEVOPHED WAS STARTED. TRANSFERRED TO MICU.\\nREVIEW OF SYSTEMS-\\nNEURO- ALERT AND ORIENTED TO PERSON AND PLACE. NOT ORIENTED TO TIME.\\nRESP- ON 4L NC SATS IN THE HIGH 90'S. RESP LOW 20'S. BS CLEAR UPPER.\\nCARDIAC- HR 60-80'S AFIB WITH NO ECTOPI. SBP > 100 ON LEVOPHED AT 0.089MCGS/KG/MIN. ALINE TO BE PLACED BY MICU TEAM. CL IN PLACE.\\nGI- ABD SOFT WITH POS BS.\\nGU- HAS FOLEY IN DRAINING ADEQUATE AMOUNTS CLEAR YELLOW URINE.\\nSKIN- SKIN INTACT. VENOUS STASIS IN BILATERAL LOWER EXTREMITIES.\\nACESS- HAS 2 # 18 GAUGE PERIPHERALS AND A RIGHT IJ CL.\\nDISPO- IN MICU A FULL CODE.\\nSOCIAL- MULTIPLE FAMILY MEMBERS IN TO VISIT AND PLEASED WITH THE PATIENT'S PROGRESS.\\nPLAN- ALINE TO BE PLACED. LEVO TO BE WEANED AS ABLE.\\n\\n\",\n",
       "        Timestamp('2151-07-16 14:29:00')]], dtype=object)"
      ]
     },
     "execution_count": 59,
     "metadata": {},
     "output_type": "execute_result"
    }
   ],
   "source": [
    "df_noteevents_filtered[df_noteevents_filtered['HADM_ID']==167853][['CHARTTIME','CATEGORY', 'DESCRIPTION','TEXT', 'ADMITTIME']].values"
   ]
  },
  {
   "cell_type": "markdown",
   "metadata": {},
   "source": [
    "The last note, a report starting with 'FOCUS; ADMISSION NOTE', is likely to be of significant use. \n",
    "\n",
    "We have to be aware of the medical terminologies used during the triage procedure, and clarify that this is standardised.\n",
    "\n",
    "Medical Terminologies from this example: \n",
    "* \"MS CHANGES\" refers to changes in mental state. \n",
    "\n",
    "* \"PMH\" refers to past medical history\n",
    "* \"HX\" refers to history\n",
    "  * hypertention (HTN)\n",
    "  * chronic atrial fibrillation (Chronic AFIB)\n",
    "  * transient ischemic attack (TIA)\n",
    "\n",
    "* \"HPI\" refers to History of Present Illness\n",
    "* ED: Emergency Department\n",
    "* MICU: Medical Intensive Care Unit"
   ]
  },
  {
   "cell_type": "markdown",
   "metadata": {},
   "source": [
    "Manually inspecting a patient diagnosed with sepsis:"
   ]
  },
  {
   "cell_type": "code",
   "execution_count": 61,
   "metadata": {},
   "outputs": [],
   "source": [
    "df_sepsis_patients = pd.read_csv(Path(ROOT_DIR / 'data' / 'sepsis_patients.csv'))"
   ]
  },
  {
   "cell_type": "code",
   "execution_count": 62,
   "metadata": {},
   "outputs": [],
   "source": [
    "sepsis_admissions = df_sepsis_patients['HADM_ID'].values"
   ]
  },
  {
   "cell_type": "code",
   "execution_count": 68,
   "metadata": {},
   "outputs": [],
   "source": [
    "df_noteevents_sepsis = df_noteevents_filtered[df_noteevents_filtered['HADM_ID'].isin(sepsis_admissions)]"
   ]
  },
  {
   "cell_type": "code",
   "execution_count": 71,
   "metadata": {},
   "outputs": [
    {
     "data": {
      "text/plain": [
       "array([[NaT, 'Echo', 'Report',\n",
       "        'PATIENT/TEST INFORMATION:\\nIndication: Cerebrovascular event/TIA. Streptococcal bacteremia. Evaluate for endocarditis.\\nHeight: (in) 72\\nWeight (lb): 187\\nBSA (m2): 2.07 m2\\nBP (mm Hg): 147/87\\nHR (bpm): 90\\nStatus: Inpatient\\nDate/Time: [**2158-2-16**] at 13:48\\nTest: Portable TEE (Complete)\\nDoppler: Full Doppler and color Doppler\\nContrast: None\\nTechnical Quality: Adequate\\n\\n\\nINTERPRETATION:\\n\\nFindings:\\n\\nLEFT ATRIUM: Dilated LA. Mild spontaneous echo contrast in the LAA. No\\nthrombus in the LAA.\\n\\nRIGHT ATRIUM/INTERATRIAL SEPTUM: No mass or thrombus in the RA or RAA. No ASD\\nby 2D or color Doppler.\\n\\nAORTA: No atheroma in descending aorta.\\n\\nAORTIC VALVE: Bicuspid aortic valve. Mildly thickened aortic valve leaflets.\\nNo masses or vegetations on aortic valve. Trace AR.\\n\\nMITRAL VALVE: Mildly thickened mitral valve leaflets. No mass or vegetation on\\nmitral valve. Mild (1+) MR.\\n\\nTRICUSPID VALVE: Normal tricuspid valve leaflets with trivial TR.\\n\\nPERICARDIUM: No pericardial effusion.\\n\\nGENERAL COMMENTS: A TEE was performed in the location listed above. I certify\\nI was present in compliance with HCFA regulations. The patient was monitored\\nby a nurse [**First Name (Titles) 1**] [**Last Name (Titles) 2**] throughout the procedure. The patient was monitored\\nby a nurse [**First Name (Titles) 1**] [**Last Name (Titles) 2**] throughout the procedure. The patient was under\\ngeneral anesthesia throughout the procedure. No glycopyrrolate was\\nadministered. No TEE related complications.\\n\\nConclusions:\\nThe left atrium is dilated. Mild spontaneous echo contrast is present in the\\nleft atrial appendage. No thrombus is seen in the left atrial appendage. No\\nmass or thrombus is seen in the right atrium or right atrial appendage. No\\natrial septal defect is seen by 2D or color Doppler. The Aortic valve is\\nbicuspid. The aortic valve leaflets are mildly thickened. No masses or\\nvegetations are seen on the aortic valve. Trace aortic regurgitation is seen.\\nThe mitral valve leaflets are mildly thickened. No mass or vegetation is seen\\non the mitral valve. Mild (1+) mitral regurgitation is seen. There is no\\npericardial effusion.\\n\\nIMPRESSION: No vegetation or mass visualized. Bicuspid aortic valve with trace\\naortic regurgitation. Mild mitral regurgitation.\\n\\n\\n',\n",
       "        Timestamp('2158-02-14 23:05:00')],\n",
       "       [NaT, 'ECG', 'Report',\n",
       "        'Atrial fibrillation with a controlled ventricular response.  Non-specific\\nST-T wave changes.  Compared to the previous tracing of [**2143-9-9**] the rate is\\nslower.\\n\\n',\n",
       "        Timestamp('2158-02-14 23:05:00')],\n",
       "       [Timestamp('2158-02-15 01:52:00'), 'Radiology',\n",
       "        'MR HEAD W/O CONTRAST',\n",
       "        '[**2158-2-15**] 1:52 AM\\n MR HEAD W/O CONTRAST; -59 DISTINCT PROCEDURAL SERVICE           Clip # [**Clip Number (Radiology) 11520**]\\n MRA BRAIN W/O CONTRAST; MRV HEAD W/O CONTRAST\\n -59 DISTINCT PROCEDURAL SERVICE\\n Reason: eval for age of stroke in Left temporal cortex (looks to be\\n Admitting Diagnosis: STROKE;TELEMETRY;TELEMETRY;SEIZURES\\n ______________________________________________________________________________\\n [**Hospital 2**] MEDICAL CONDITION:\\n  86 year old man with GTC-seizure at OSH in the setting of workup/Tx for\\n  mastoiditis. Has a h/o one prior GTC in [**2-/2156**], which may or may not be [**2-15**] old\\n  stroke (seen on prior MRI, unavailable), but unclear where old stroke is\\n  located.\\n REASON FOR THIS EXAMINATION:\\n  eval for age of stroke in Left temporal cortex (looks to be old); uncertain\\n  whether this is the \"old stroke\" seen on [**2156**] MRI from OSH in [**State 11521**] by\\n  report, or if there is a separate old stroke elsewhere\\n No contraindications for IV contrast\\n ______________________________________________________________________________\\n WET READ: IPf WED [**2158-2-15**] 4:39 AM\\n  No evidence of acute ischemia.\\n  Old ischemia in the right temporal lobe.\\n  Small focus of susceptability at left occipital [**Doctor Last Name 377**] corresponding to small\\n  amount of intraventricular hemorrhage seen on CT from [**Last Name (un) 11522**] (11:14).\\n  No evidence of venous sinus thrombosis on source images; 3D recon suboptimal.\\n ______________________________________________________________________________\\n                                 FINAL REPORT\\n CLINICAL INFORMATION:  86-year-old male with seizure and questionable history\\n of prior infarction.\\n\\n COMPARISON:  [**Location (un) 1291**] head CT performed [**2158-2-14**].\\n\\n TECHNIQUE:  Multisequence multiplanar MR images were acquired of the head\\n without intravenous contrast.  Images were reformatted in sagittal, coronal,\\n and axial maximum intensity projection images.\\n\\n FINDINGS:  Subtle susceptibility artifact is seen in the occipital [**Doctor Last Name 377**] of the\\n left lateral ventricle corresponding to the small amount of intraventricular\\n hemorrhage noted on the patient\\'s recent head CT.  There is no diffusion\\n abnormality to suggest an acute infarct.  Encephalomalacia is noted from an\\n old right temporal infarction.  The ventricles and sulci are prominent\\n consistent with atrophy.  There is periventricular FLAIR signal abnormality\\n consistent with chronic small vessel ischemic change.  The visualized orbits\\n are normal in appearance.  The paranasal sinuses demonstrate mucosal\\n thickening of the ethmoid and maxillary air cells.  The left mastoid air cells\\n are entirely opacified and additionally there is diffusion abnormality within\\n this.  The patient is intubated.  The visualized contents of the posterior\\n fossa, brainstem, and cervical cord are normal in appearance.  The visualized\\n osseous structures are unremarkable.\\n\\n MRA:  The intracranial arteries are patent without occlusion or apparent\\n flow-limiting stenosis, though limitations in technique limit the\\n characterization of the distal cerebral arterial branches. Note is made of an\\n azygous ACA with hypoplastic right A1 segment.\\n                                                             (Over)\\n\\n [**2158-2-15**] 1:52 AM\\n MR HEAD W/O CONTRAST; -59 DISTINCT PROCEDURAL SERVICE           Clip # [**Clip Number (Radiology) 11520**]\\n MRA BRAIN W/O CONTRAST; MRV HEAD W/O CONTRAST\\n -59 DISTINCT PROCEDURAL SERVICE\\n Reason: eval for age of stroke in Left temporal cortex (looks to be\\n Admitting Diagnosis: STROKE;TELEMETRY;TELEMETRY;SEIZURES\\n ______________________________________________________________________________\\n                                 FINAL REPORT\\n (Cont)\\n\\n MRV:  Limited again by technique, though the venous sinuses appear patent.\\n\\n IMPRESSION:\\n 1.  No acute infarction.\\n 2.  Redemonstration of susceptibility and fluid-fluid layering within the\\n bilateral occipital [**Doctor Last Name 377**] consistent with a scant amount of intraventricular\\n hemorrhage.\\n 3.  Opacification of the left mastoid which given the central diffusion\\n abnormality may represent acute mastoiditis as there is no evidence that this\\n is chronic, recommend clinical correlation.\\n\\n',\n",
       "        Timestamp('2158-02-14 23:05:00')]], dtype=object)"
      ]
     },
     "execution_count": 71,
     "metadata": {},
     "output_type": "execute_result"
    }
   ],
   "source": [
    "sepsis_patient_01 = df_noteevents_sepsis.iloc[0]['HADM_ID']\n",
    "sepsis_patient_02 = df_noteevents_sepsis.iloc[1]['HADM_ID']\n",
    "sepsis_patient_03 = df_noteevents_sepsis.iloc[2]['HADM_ID']\n",
    "\n",
    "df_noteevents_filtered[df_noteevents_filtered['HADM_ID']==sepsis_patient_01][['CHARTTIME','CATEGORY', 'DESCRIPTION','TEXT', 'ADMITTIME']].values"
   ]
  },
  {
   "cell_type": "code",
   "execution_count": 74,
   "metadata": {},
   "outputs": [
    {
     "data": {
      "text/plain": [
       "array([[NaT, 'Echo', 'Report',\n",
       "        \"PATIENT/TEST INFORMATION:\\nIndication: Left ventricular function.\\nHeight: (in) 63\\nWeight (lb): 126\\nBSA (m2): 1.59 m2\\nBP (mm Hg): 88/53\\nHR (bpm): 115\\nStatus: Inpatient\\nDate/Time: [**2119-6-7**] at 14:59\\nTest: Portable TTE (Complete)\\nDoppler: Full Doppler and color Doppler\\nContrast: None\\nTechnical Quality: Adequate\\n\\n\\nINTERPRETATION:\\n\\nFindings:\\n\\nThis study was compared to the prior study of [**2118-1-26**].\\n\\n\\nLEFT ATRIUM: Elongated LA.\\n\\nRIGHT ATRIUM/INTERATRIAL SEPTUM: Normal RA size.\\n\\nLEFT VENTRICLE: Normal LV wall thickness, cavity size and regional/global\\nsystolic function (LVEF >55%). Estimated cardiac index is high (>4.0L/min/m2).\\nTDI E/e' < 8, suggesting normal PCWP (<12mmHg). Doppler parameters are most\\nconsistent with normal LV diastolic function. No resting LVOT gradient.\\n\\nRIGHT VENTRICLE: Normal RV chamber size and free wall motion.\\n\\nAORTIC VALVE: Mildly thickened aortic valve leaflets (3). No AS. No AR.\\n\\nMITRAL VALVE: Normal mitral valve leaflets with trivial MR. No MVP.\\n\\nTRICUSPID VALVE: Normal tricuspid valve leaflets. Mild [1+] TR. Normal PA\\nsystolic pressure.\\n\\nPULMONIC VALVE/PULMONARY ARTERY: Pulmonic valve not well seen.\\n\\nPERICARDIUM: No pericardial effusion.\\n\\nGENERAL COMMENTS: Resting tachycardia (HR>100bpm).\\n\\nConclusions:\\nThe left atrium is elongated. Left ventricular wall thickness, cavity size and\\nregional/global systolic function are normal (LVEF >55%). The estimated\\ncardiac index is high (>4.0L/min/m2). Tissue Doppler imaging suggests a normal\\nleft ventricular filling pressure (PCWP<12mmHg). Doppler parameters are most\\nconsistent with normal left ventricular diastolic function. Right ventricular\\nchamber size and free wall motion are normal. The aortic valve leaflets (3)\\nare mildly thickened but aortic stenosis is not present. No aortic\\nregurgitation is seen. The mitral valve appears structurally normal with\\ntrivial mitral regurgitation. There is no mitral valve prolapse. The estimated\\npulmonary artery systolic pressure is normal. There is no pericardial\\neffusion.\\n\\nIMPRESSION: Normal regional and global biventricular systolic function. Normal\\ndiastolic function.\\n\\nCompared with the prior report (images unable to be reviewed) of [**2118-1-26**],\\nheart rate is slower, and estimated pulmonary artery pressure is lower.\\n\\n\\n\",\n",
       "        Timestamp('2119-06-07 02:43:00')],\n",
       "       [NaT, 'ECG', 'Report',\n",
       "        'Sinus tachycardia. Left atrial abnormality. Right ventricular conduction delay.\\nLow QRS voltage in limb leads. Diffuse non-diagnostic repolarization\\nabnormalities. Cannot exclude prior anterior wall myocardial infarction.\\nCompared to the previous tracing of [**2119-7-1**] multiple abnormalities as noted\\npersist without major change.\\n\\n',\n",
       "        Timestamp('2119-06-07 02:43:00')],\n",
       "       [NaT, 'ECG', 'Report',\n",
       "        'Relative sinus tachycardia. Non-specific ST-T wave changes not present compared\\nto the previous tracing of [**2119-6-25**]. Tracing is within normal limits.\\n\\n',\n",
       "        Timestamp('2119-06-07 02:43:00')],\n",
       "       [NaT, 'ECG', 'Report',\n",
       "        'Sinus rhythm with atrial premature beats.  Non-specific ST-T wave changes.\\nCompared to the previous tracing of [**2119-6-23**] the rate is now slower with\\nno other diagnostic differences.\\n\\n',\n",
       "        Timestamp('2119-06-07 02:43:00')],\n",
       "       [NaT, 'ECG', 'Report',\n",
       "        'Sinus tachycardia with minor non-diagnostic repolarization abnormalities.\\nCompared to the previous tracing of [**2119-6-19**] there is no significant change.\\n\\n',\n",
       "        Timestamp('2119-06-07 02:43:00')],\n",
       "       [NaT, 'ECG', 'Report',\n",
       "        'Marked baseline artifact. The rhythm is probably sinus with frequent multifocal\\natrial premature beats. Diffuse non-specific ST-T wave abnormality. Compared to\\nthe previous tracing of [**2119-6-9**] the rhythm now appears to be sinus and there\\nhas been a decrease in rate.\\n\\n',\n",
       "        Timestamp('2119-06-07 02:43:00')],\n",
       "       [NaT, 'ECG', 'Report',\n",
       "        'Regular supraventricular rhythm, possibly atrial flutter with 2:1 block.\\nLead VI was not obtained.  Diffuse non-specific ST-T wave abnormalities, likely\\nsecondary to rate.  Compared to the previous tracing the rhythm is now regular\\nbut sinus P waves are still not seen.\\nTRACING #3\\n\\n',\n",
       "        Timestamp('2119-06-07 02:43:00')],\n",
       "       [NaT, 'ECG', 'Report',\n",
       "        \"Atrial fibrillation with rapid ventricular response.  RSR' pattern in lead V1,\\nlikely a normal variant.  Diffuse non-specific ST-T wave abnormalities, likely\\nsecondary to rate.  Compared to the previous tracing no diagnostic interim\\nchange.\\nTRACING #2\\n\\n\",\n",
       "        Timestamp('2119-06-07 02:43:00')],\n",
       "       [NaT, 'ECG', 'Report',\n",
       "        'Atrial fibrillation with rapid ventricular rate.  Diffuse non-specific\\nST-T wave abnormalities likely secondary to rate.  Compared to the previous\\ntracing of [**2119-6-7**] the rhythm is now atrial fibrillation.\\nTRACING #1\\n\\n',\n",
       "        Timestamp('2119-06-07 02:43:00')],\n",
       "       [NaT, 'ECG', 'Report',\n",
       "        'Sinus tachycardia.  Compared to tracing #1 the rate is slower.  The other\\nfindings are similar.\\nTRACING #2\\n\\n',\n",
       "        Timestamp('2119-06-07 02:43:00')],\n",
       "       [NaT, 'ECG', 'Report',\n",
       "        'Very poor quality tracing with significant underying artifact.  There is most\\nlikely sinus tachycardia with non-specific ST-T wave changes.  Compared to the\\nprevious tracing of [**2118-2-4**] the rate is faster.\\nTRACING #1\\n\\n',\n",
       "        Timestamp('2119-06-07 02:43:00')],\n",
       "       [NaT, 'ECG', 'Report',\n",
       "        \"Sinus tachycardia. Leftward axis. RSR' pattern in lead VI, probably a normal\\nvariant. Poor R wave progression which is probably a normal variant. Anterior\\nnon-specific ST-T wave changes. Compared to the previous tracing of [**2119-7-11**] no\\nsignificant change.\\n\\n\",\n",
       "        Timestamp('2119-06-07 02:43:00')],\n",
       "       [NaT, 'ECG', 'Report',\n",
       "        'Sinus tachycardia.  Poor R wave progression.  Cannot exclude prior anteroseptal\\nmyocardial infarction.  Low QRS voltages in the limb leads.  Compared to\\ntracing #1 no significant interim change.\\nTRACING #2\\n\\n',\n",
       "        Timestamp('2119-06-07 02:43:00')],\n",
       "       [NaT, 'ECG', 'Report',\n",
       "        'Sinus tachycardia.  Possible left atrial abnormality.  Poor R wave progression\\nlikely a normal variant.  Cannot exclude prior anteroseptal myocardial\\ninfarction.  Low QRS voltage in the limb leads.  Compared to the previous\\ntracing of [**2119-7-11**] ST segment changes in the anterior leads have resolved\\ntowards normal.  Other abnormalities persist.\\nTRACING #1\\n\\n',\n",
       "        Timestamp('2119-06-07 02:43:00')],\n",
       "       [Timestamp('2119-06-07 00:26:00'), 'Radiology',\n",
       "        'CT HEAD W/O CONTRAST',\n",
       "        '[**2119-6-7**] 12:26 AM\\n CT HEAD W/O CONTRAST                                            Clip # [**Clip Number (Radiology) 11978**]\\n Reason: bleed?\\n ______________________________________________________________________________\\n [**Hospital 2**] MEDICAL CONDITION:\\n  55 year old woman found unresponsive, hypotensive, has TIPs procedure in [**2117**]\\n  for etoh, coffee ground emesis\\n REASON FOR THIS EXAMINATION:\\n  bleed?\\n No contraindications for IV contrast\\n ______________________________________________________________________________\\n WET READ: IPf WED [**2119-6-7**] 1:39 AM\\n  no acute intracranial process\\n ______________________________________________________________________________\\n                                 FINAL REPORT\\n HISTORY:  Unresponsive, hypotensive, status post TIPS in [**2117**].\\n \"Coffee-grounds\" emesis.\\n\\n TECHNIQUE:  Contiguous axial images were obtained through the brain.  No\\n intravenous contrast was administered. Several initial acquisitions were\\n degraded by patient motion artifact and were repeated, with better result.\\n\\n COMPARISON:  No prior.\\n\\n FINDINGS:  There is no evidence of acute hemorrhage, large acute territorial\\n infarction or large mass.  There is no shift of midline structures.\\n Ventricles and sulci are normal in size and configuration.  There is no\\n evidence of fracture.  There is mucosal thickening in the ethmoidal air cells.\\n\\n IMPRESSION:  No acute intracranial process.\\n\\n NOTE ADDED IN ATTENDING REVIEW: There is global cortical atrophy, unexpected\\n in a patient of this age, which may relate to past alcohol (or other\\n substance) abuse, given the history of TIPS. There is layering fluid with\\n aerosolized secrtetions in the nasopharynx, nasal choanae, pterygoid reces of\\n the right sphenoid air cell, fronto-ethmoidal recesses and scattered anterior\\n ethmoidal air cells, some of which may relate to intubation and supine\\n positioning.\\n\\n',\n",
       "        Timestamp('2119-06-07 02:43:00')],\n",
       "       [Timestamp('2119-06-07 00:28:00'), 'Radiology',\n",
       "        'CT CHEST W/O CONTRAST',\n",
       "        '[**2119-6-7**] 12:28 AM\\n CT CHEST W/O CONTRAST; CT ABD & PELVIS W/O CONTRAST             Clip # [**Clip Number (Radiology) 80316**]\\n Reason: clotted tips? retroperitoneal bleed?\\n ______________________________________________________________________________\\n [**Hospital 3**] MEDICAL CONDITION:\\n  55 year old woman found unresponsive, hypotensive, has TIPs procedure in [**2117**]\\n  for etoh, coffee ground emesis\\n REASON FOR THIS EXAMINATION:\\n  clotted tips? retroperitoneal bleed?\\n CONTRAINDICATIONS for IV CONTRAST:\\n  creatinine 3\\n ______________________________________________________________________________\\n WET READ: IPf WED [**2119-6-7**] 1:37 AM\\n  Bilateral small pleural effusions and bibasilar opacities, can be atelecatsis,\\n  cannot exclude superinfection or aspiration.\\n  Fatty liver\\n  TIPS seen\\n  Suboptimal scan due to lack of iv and suboptimal oral contrast; however no\\n  large RP bleed is seen\\n  Small aomunt of free fluid in the abdomen\\n  Multilevel vertebral bodies compression fractures, worst at T12, of uncertain\\n  chroncity correlate clinically with point tenderness\\n ______________________________________________________________________________\\n                                 FINAL REPORT\\n HISTORY:  Unresponisve, hypotensive with TIPS procedure in [**2117**].\\n Coffee-ground emesis.\\n\\n TECHNIQUE:  CT torso with no IV or oral contrast.  Coronal and sagittal\\n reformatted images provided.\\n\\n COMPARISON:  No prior.\\n\\n FINDINGS:  The study is suboptimal due to lack of IV and oral contrast.\\n\\n CT CHEST:  There is a line with tip terminating at the cavoatrial junction.\\n The patient is intubated.  There is a nasogastric tube terminating in the\\n stomach.\\n\\n The airways are patent up to subsegmental level.  There are bilateral small\\n pleural effusions and bibasilar opacities, can be atelectasis, cannot exclude\\n superinfection or aspiration.  There are no pathologically enlarged lymph\\n nodes in the mediastinum, hilum, or axilla according to CT size criteria.\\n There is trace pericardial effusion within physiologic range.\\n\\n CT ABDOMEN:  There is a large liver with fatty infiltration.  There is no\\n intra- or extra-hepatic biliary duct dilatation, TIPS is visualized.  The\\n spleen is not enlarged.  Pancreas is suboptimally evaluated due to summation\\n of shadows, however appears within normal size.  The right adrenal gland is\\n normal.  The left adrenal gland is not well seen.  There is no hydronephrosis\\n in the kidneys.  There is a small amount of free fluid in the abdomen.  There\\n is no free air.  Scattered atherosclerotic changes are seen in the abdominal\\n aorta.  The gallbladder is distended; non-specific.  There are no\\n pathologically enlarged lymph nodes in the retroperitoneum.  Evaluation for\\n                                                             (Over)\\n\\n [**2119-6-7**] 12:28 AM\\n CT CHEST W/O CONTRAST; CT ABD & PELVIS W/O CONTRAST             Clip # [**Clip Number (Radiology) 80316**]\\n Reason: clotted tips? retroperitoneal bleed?\\n ______________________________________________________________________________\\n                                 FINAL REPORT\\n (Cont)\\n mesenteric lymph nodes is suboptimal due to summation of densities.  There is\\n no evidence of a large retroperitoneal bleed.\\n\\n CT PELVIS:  Small amount of free fluid in the pelvis.  There is Foley catheter\\n in the urinary bladder.  There are no pathologically enlarged lymph nodes in\\n the pelvis or inguinal area.  The uterus appears within normal limits.\\n\\n OSSEOUS STRUCTURES:  Multilevel vertebral body compression fractures are seen\\n worst at level T12 of uncertain chronicity, correlate clinically with point\\n tenderness.\\n\\n IMPRESSION:\\n 1.  Bilateral small pleural effusions and bibasilar opacities can be\\n atelectasis, cannot exclude superinfection or aspiration.\\n 2.  Fatty liver.  TIPS seen.\\n 3.  No large retroperitoneal bleed is seen.\\n 4.  Small amount of free fluid in the abdomen.\\n 5.  Multilevel vertebral body compression fractures worse at T12 of uncertain\\n chronicity, correlate clinically with point tenderness.\\n\\n',\n",
       "        Timestamp('2119-06-07 02:43:00')],\n",
       "       [Timestamp('2119-06-07 01:33:00'), 'Radiology',\n",
       "        'LIVER OR GALLBLADDER US (SINGLE ORGAN)',\n",
       "        '[**2119-6-7**] 1:33 AM\\n LIVER OR GALLBLADDER US (SINGLE ORGAN); DUPLEX DOP ABD/PEL LIMITEDClip # [**Telephone/Fax (1) 81415**]\\n Reason: with dopplers please eval TIPS patency, please eval for ston\\n ______________________________________________________________________________\\n [**Hospital 3**] MEDICAL CONDITION:\\n  55 year old woman with liver failure and unresponsiveness\\n REASON FOR THIS EXAMINATION:\\n  with dopplers please eval TIPS patency, please eval for stones, cholecystitis\\n ______________________________________________________________________________\\n WET READ: IPf WED [**2119-6-7**] 4:34 AM\\n  TIPS patent\\n  no prior study to compare velocities\\n  liver vessels open; right posterior portal branch not seen (breathing)\\n  no biliary duct dilatation\\n  GB circumferential thickening of the wall likely due to chronic liver disease\\n  cholelithasis\\n WET READ VERSION #1 IPf WED [**2119-6-7**] 2:16 AM\\n  TIPS patent\\n  no prior study to compare velocities\\n  liver vessels open; right posterior portal branch not seen (breathing)\\n  no biliary duct dilatation\\n  GB circumferential thickening of the wall likely due to chronic liver disease\\n ______________________________________________________________________________\\n                                 FINAL REPORT\\n HISTORY:  Liver failure and unresponsiveness.\\n\\n TECHNIQUE:  Right upper quadrant ultrasound.\\n\\n COMPARISON:  CT torso [**2119-6-7**].\\n\\n FINDINGS:  There is diffusely fatty liver.  There is no intrahepatic biliary\\n duct dilatation.  The common bile duct measures 6 mm.  There is a\\n circumferential symmetric wall thickening in the gallbladder likely related to\\n chronic liver disease.  There is a small gallbladder stone in the neck of the\\n gallbladder, image 42.  The spleen measures 10 cm.  The main portal vein, left\\n portal vein, right anterior portal vein, IVC, main hepatic artery and its\\n branches are patent.  There is a reverse flow in the left portal and right\\n anterior portal vein.  The right posterior portal vein is not seen due to\\n breathing and motion artifact.\\n\\n There is a TIPS in place.  The TIPS appears patent.  The velocities are as\\n follows:  Proximal 57.9 cm/sec, middle 231 cm/sec and distal 199 cm/sec.\\n There is a trace free fluid.\\n\\n IMPRESSION:\\n 1.  TIPS patent.  No prior ultrasound is available to compare the velocities.\\n High velocities can suggest interval hyperplasia in the TIPS.\\n 2.  Cholelithiasis.\\n 3.  Diffuse symmetric thickening of the wall of the gallbladder, likely\\n related to chronic liver disease.\\n 4.  Fatty liver.  Other forms of more advanced liver disease such as fibrosis\\n or cirrhosis cannot be excluded.\\n 5.  Liver vessels are patent.  Reverse flow is seen in the left and right\\n                                                             (Over)\\n\\n [**2119-6-7**] 1:33 AM\\n LIVER OR GALLBLADDER US (SINGLE ORGAN); DUPLEX DOP ABD/PEL LIMITEDClip # [**Telephone/Fax (1) 81415**]\\n Reason: with dopplers please eval TIPS patency, please eval for ston\\n ______________________________________________________________________________\\n                                 FINAL REPORT\\n (Cont)\\n anterior portal vein.  The right posterior portal vein is not visualized due\\n to breathing artifact.\\n\\n',\n",
       "        Timestamp('2119-06-07 02:43:00')],\n",
       "       [Timestamp('2119-06-06 22:10:00'), 'Radiology',\n",
       "        'TRAUMA #3 (PORT CHEST ONLY)',\n",
       "        '[**2119-6-6**] 10:10 PM\\n TRAUMA #3 (PORT CHEST ONLY)                                     Clip # [**Clip Number (Radiology) 11813**]\\n Reason: eval tube placement\\n ______________________________________________________________________________\\n [**Hospital 2**] MEDICAL CONDITION:\\n  55 year old woman with unresponsiveness\\n REASON FOR THIS EXAMINATION:\\n  eval tube placement\\n ______________________________________________________________________________\\n                                 FINAL REPORT\\n INDICATION:  Patient found unresponsive, status post ET tube placement.\\n Assess for tube position.\\n\\n COMPARISONS:  None available.\\n\\n FINDINGS:\\n\\n Single portable view of the chest demonstrates an ET tube tip terminating 5 cm\\n above the carina.  An NG tube courses through the esophagus into the stomach,\\n tip out of view.  Side port appears to be in the stomach.  Right IJ tip\\n projects over low SVC.  TIPS catheter projects over right upper abdomen.\\n\\n Low lung volumes.  There is no pleural effusion, pneumothorax or focal\\n consolidation.  The pulmonary vasculature appears engorged.  The mediastinal\\n silhouettes are normal.  The heart size is normal.  Left lung base opacity is\\n present.  Multiple left-sided rib fractures are noted, likely remote.\\n\\n IMPRESSION:\\n\\n 1.  Appropriately positioned ET tube 5 cm above the carina.\\n\\n 2.  Mild pulmonary vascular congestion.\\n\\n 3.  Left lung base opacity, may represent atelectasis, however infection\\n cannot be excluded.\\n\\n\\n\\n',\n",
       "        Timestamp('2119-06-07 02:43:00')]], dtype=object)"
      ]
     },
     "execution_count": 74,
     "metadata": {},
     "output_type": "execute_result"
    }
   ],
   "source": [
    "df_noteevents_filtered[df_noteevents_filtered['HADM_ID']==sepsis_patient_02][['CHARTTIME','CATEGORY', 'DESCRIPTION','TEXT', 'ADMITTIME']].values"
   ]
  },
  {
   "cell_type": "markdown",
   "metadata": {},
   "source": [
    "MEDICAL CONDITION\n",
    "* etoh: ethanol, referring to alcohol-related conditions\n",
    "* WET READ:  refers to a preliminary report or reading of a radiological study. It's a quick review meant to identify any urgent or significant findings."
   ]
  },
  {
   "cell_type": "code",
   "execution_count": 80,
   "metadata": {},
   "outputs": [
    {
     "data": {
      "text/plain": [
       "array([['PATIENT/TEST INFORMATION:\\nIndication: Acute MR worsening,ESRD, on HD, NSLS lung Ca, DM2,HTN,respiratory distress\\nHeight: (in) 59\\nWeight (lb): 136\\nBSA (m2): 1.57 m2\\nBP (mm Hg): 126/61\\nHR (bpm): 95\\nStatus: Inpatient\\nDate/Time: [**2200-10-22**] at 15:14\\nTest: Portable TTE (Complete)\\nDoppler: Full Doppler and color Doppler\\nContrast: None\\nTechnical Quality: Adequate\\n\\n\\nINTERPRETATION:\\n\\nFindings:\\n\\nThis study was compared to the prior study of [**2200-1-2**].\\n\\n\\nLEFT ATRIUM: Normal LA size.\\n\\nRIGHT ATRIUM/INTERATRIAL SEPTUM: Normal RA size.\\n\\nLEFT VENTRICLE: Mild symmetric LVH with normal cavity size. Moderately\\ndepressed LVEF. No resting LVOT gradient.\\n\\nRIGHT VENTRICLE: Normal RV chamber size and free wall motion.\\n\\nAORTA: Normal aortic diameter at the sinus level. Normal ascending aorta\\ndiameter.\\n\\nAORTIC VALVE: Mildly thickened aortic valve leaflets (3). No AS. Trace AR.\\n\\nMITRAL VALVE: Mildly thickened mitral valve leaflets. No MVP. Physiologic MR\\n(within normal limits).\\n\\nTRICUSPID VALVE: Mildly thickened tricuspid valve leaflets. Indeterminate PA\\nsystolic pressure.\\n\\nPULMONIC VALVE/PULMONARY ARTERY: Pulmonic valve not visualized. No PS.\\nPhysiologic PR.\\n\\nPERICARDIUM: Trivial/physiologic pericardial effusion.\\n\\nConclusions:\\nThe left atrium is normal in size. There is mild symmetric left ventricular\\nhypertrophy with normal cavity size. Overall left ventricular systolic\\nfunction is moderately depressed (LVEF= XX %). Right ventricular chamber size\\nand free wall motion are normal. The aortic valve leaflets (3) are mildly\\nthickened but aortic stenosis is not present. Trace aortic regurgitation is\\nseen. The mitral valve leaflets are mildly thickened. There is no mitral valve\\nprolapse. Physiologic mitral regurgitation is seen (within normal limits). The\\ntricuspid valve leaflets are mildly thickened. The pulmonary artery systolic\\npressure could not be determined. There is a trivial/physiologic pericardial\\neffusion.\\n\\nIMPRESSION: Mild symmetric LVH with moderate to severe global hypokinesis.\\nLateral wall function is relatively better. No significant mitral\\nregurgitation seen.\\n\\nCompared with the prior study (images reviewed) of [**2200-1-2**], the degree of\\nmitral regurgitation has decreased. LV systolic dysfunction is similar.\\n\\n\\n'],\n",
       "       ['Sinus rhythm.  Modest intraventricular conduction delay.  Left ventricular\\nhypertrophy with ST-T wave abnormalities.  The ST-T wave changes are diffuse\\nand cannot exclude ischemia.  Clinical correlation is suggested.  Since the\\nprevious tracing of [**2200-10-21**] right bundle-branch block and left anterior\\nfascicular block are now absent and ST-T wave changes appear less prominent.\\nTRACING #3\\n\\n'],\n",
       "       ['Sinus rhythm.  Right bundle-branch block.  Left anterior fascicular block.\\nLeft ventricular hypertrophy.  Diffuse ST-T wave abnormalities may be due\\nto ischemia, intraventricular conduction delay and left ventricular\\nhypertrophy.  Clinical correlation is suggested.  Since the previous tracing\\nof the same date right bundle-branch block, left anterior fascicular block and\\nfurther ST-T wave changes are all now present.\\nTRACING #2\\n\\n'],\n",
       "       ['Sinus tachycardia.  Intraventricular conduction delay.  Left ventricular\\nhypertrophy.  ST-T wave abnormalities may be due to intraventricular conduction\\ndelay, left ventricular hypertrophy and possible ischemia.  Clinical\\ncorrelation is suggested.  Since the previous tracing of [**2200-7-29**] sinus\\ntachycardia is now present and ST-T wave abnormalities are more prominent.\\nTRACING #1\\n\\n'],\n",
       "       ['[**2200-10-21**] 6:48 PM\\n CHEST (PORTABLE AP); -77 BY DIFFERENT PHYSICIAN                 [**Name Initial (PRE) 42**] # [**Clip Number (Radiology) 11896**]\\n Reason: assess for fluid status given pulm edema noted on prior\\n Admitting Diagnosis: RESPIRATORY DISTRESS\\n ______________________________________________________________________________\\n [**Hospital 2**] MEDICAL CONDITION:\\n  61 year old woman with HD-dependent CKD, RLL dx by CXR today\\n REASON FOR THIS EXAMINATION:\\n  assess for fluid status given pulm edema noted on prior\\n ______________________________________________________________________________\\n WET READ: YGd TUE [**2200-10-21**] 7:43 PM\\n  New HD catheter tip at lower SVC.  R port-A-cath and other lines and tubes\\n  stable in position.  Persistent RUL consolidation.  Improved interstitial\\n  edema.  Likely new R pleural effusion.  RUL nodule obscured by consolidation,\\n  but seen on CT from [**2200-5-28**].  d/[**Initials (NamePattern4) **] [**Last Name (NamePattern4) **] [**Last Name (NamePattern1) 3088**] by [**Doctor Last Name 6763**] x [**Numeric Identifier 6764**] at 7p on\\n  [**2200-10-21**].\\n ______________________________________________________________________________\\n                                 FINAL REPORT\\n HISTORY:  Catheter placement.\\n\\n FINDINGS:  The new hemodialysis catheter tip is in the lower portion of the\\n SVC.  Port-A-Cath and other lines are stable in position.  Persistent right\\n upper lobe consolidation with some increase in aeration in the area.  The\\n degree of pulmonary vascular congestion has decreased.  Obscuration of the\\n right hemidiaphragm is consistent with a developing pleural effusion.  The\\n consolidation obscures the right upper lobe nodule seen on CT scan from [**Month (only) 763**].\\n\\n This information was discussed with Dr. [**First Name (STitle) 3088**] by the resident on call.\\n\\n\\n'],\n",
       "       ['[**2200-10-21**] 12:01 PM\\n CHEST (PORTABLE AP); -76 BY SAME PHYSICIAN                      [**Name Initial (PRE) 1**] # [**Clip Number (Radiology) 74755**]\\n Reason: sp ett check placement\\n ______________________________________________________________________________\\n [**Hospital 3**] MEDICAL CONDITION:\\n  63 year old woman with acute sob, dialysis patient\\n REASON FOR THIS EXAMINATION:\\n  sp ett check placement\\n ______________________________________________________________________________\\n                                 FINAL REPORT\\n AP PORTABLE CHEST [**2200-10-21**] AT 1209 HOURS.\\n\\n HISTORY:  Acute shortness of breath in this dialysis patient.  Endotracheal\\n tube placement.\\n\\n COMPARISON:  Earlier same day.\\n\\n FINDINGS:  Consistent with the given history, an endotracheal tube is now\\n present with the distal tip situated approximately 3.8 cm from the carina.  A\\n nasogastric tube has also been inserted with the sidehole projecting over the\\n gastric fundus.  There is a dense right upper lobe consolidation, consistent\\n with pneumonia.  Diffuse interstitial opacities remain present, consistent\\n with underlying pulmonary edema.  The mediastinum is grossly stable.  The\\n cardiac silhouette is enlarged.  No large effusion or pneumothorax is seen.\\n The Port-A-Cath previously noted is stable in position.  Incidental note is\\n made of prior cholecystectomy.\\n\\n IMPRESSION:  Right upper lobe pneumonia with associated significant pulmonary\\n edema from volume overload, possibly due to cardiogenic or nephrogenic\\n etiologies.\\n\\n\\n'],\n",
       "       [\"[**2200-10-21**] 11:44 AM\\n CHEST (PORTABLE AP)                                             Clip # [**Clip Number (Radiology) 74685**]\\n Reason: acute CT process?\\n ______________________________________________________________________________\\n [**Hospital 3**] MEDICAL CONDITION:\\n  63 year old woman with dyspnea, ams, eval for acute CT process\\n REASON FOR THIS EXAMINATION:\\n  acute CT process?\\n ______________________________________________________________________________\\n                                 FINAL REPORT\\n AP PORTABLE CHEST, [**2200-10-21**] AT 11:45 A.M.\\n\\n HISTORY:  Dyspnea and altered mental status.\\n\\n COMPARISON:  None.\\n\\n FINDINGS:  Please note the patient was unable to comply with technologist's\\n instructions and therefore the study is limited by positioning.  The patient's\\n chin overlies the lung apices, particularly on the right.  The patient is also\\n markedly rotated.  Lung volumes are markedly diminished.  There is extensive\\n reticular interstitial opacity throughout both lungs, most consistent with\\n severe pulmonary edema.  More dense consolidation is seen in the mid and upper\\n right lung, which is visible.  Please note again the right lung apex is\\n obscured.  There is an indwelling Port-A-Cath from a right subclavian approach\\n with the distal tip of the catheter at the superior cavoatrial junction.  The\\n mediastinum is difficult to assess.  The cardiac silhouette is borderline\\n enlarged.  The acuity of this finding is unknown.  There is no definite large\\n effusion.  No large pneumothorax is seen.\\n\\n IMPRESSION:  Multiple limitations as above.  There is diffuse and severe\\n pulmonary edema.  A dense consolidation on the right may indicate confluent\\n edema, although pneumonia or underlying mass lesion cannot be excluded.\\n\\n\\n\"]],\n",
       "      dtype=object)"
      ]
     },
     "execution_count": 80,
     "metadata": {},
     "output_type": "execute_result"
    }
   ],
   "source": [
    "test_notes = df_noteevents_filtered[df_noteevents_filtered['HADM_ID']==sepsis_patient_03][['TEXT']].values\n",
    "test_notes"
   ]
  },
  {
   "cell_type": "markdown",
   "metadata": {},
   "source": [
    "* HD-dependent CKD, RLL dx by CXR\n",
    "* sp ett check placement\n",
    "* MEDICAL CONDITION:\\n  63 year old woman with acute sob, dialysis patient\n",
    "* MEDICAL CONDITION: 63 year old woman with dyspnea, ams, eval for acute CT process\n",
    "\n",
    "Potential Stop words:\n",
    "Reason:\n",
    "PATIENT/TEST INFORMATION:\n",
    "* Indication:\n",
    "* INTERPRETATION:\n",
    "* Findings:\n",
    "MEDICAL CONDITION:\n",
    "HISTORY:\n",
    "IMPRESSION:\n",
    "COMPARISON:\n",
    "\n",
    "FINAL REPORT:\n",
    "FINAL REPORT HISTORY:\n",
    "FINDINGS:"
   ]
  },
  {
   "cell_type": "markdown",
   "metadata": {},
   "source": [
    "# Preprocessing Note Events"
   ]
  },
  {
   "cell_type": "markdown",
   "metadata": {},
   "source": [
    "\n",
    "Text cleaning: \n",
    "* Remove special characters\n",
    "* Converting entire text to uppercase\n",
    "* Handling medical abbreviations\n",
    "    *  Consider expanding them, or ensuring that they're standardised\n",
    "    *  Remove extra whitespace\n",
    "\n",
    "Tokenization: Convert the notes into tokens (words or phrases).\n",
    "\n",
    "Remove Stop Words: Words like \"and\", \"or\", \"the\" can be removed to reduce dimensionality.\n",
    "\n",
    "Lemmatization: Convert words to their base form. For example, \"running\" becomes \"run\".\n",
    "\n",
    "Vectorization: Convert the text data into numerical form. For logistic regression, TF-IDF (Term Frequency-Inverse Document Frequency) is commonly used. For LSTM, you can use word embeddings such as Word2Vec, GloVe, or embeddings from transformers like BERT."
   ]
  },
  {
   "cell_type": "code",
   "execution_count": 75,
   "metadata": {},
   "outputs": [],
   "source": [
    "import re"
   ]
  },
  {
   "cell_type": "code",
   "execution_count": 94,
   "metadata": {},
   "outputs": [],
   "source": [
    "def remove_patterns(text):\n",
    "    patterns_to_remove = [\n",
    "        r'Clip #',\n",
    "        r'BY DIFFERENT PHYSICIAN #',\n",
    "        r'BY SAME PHYSICIAN #'\n",
    "    ]\n",
    "    for pattern in patterns_to_remove:\n",
    "        text = re.sub(pattern, '', text)\n",
    "    return text"
   ]
  },
  {
   "cell_type": "code",
   "execution_count": 95,
   "metadata": {},
   "outputs": [],
   "source": [
    "def clean_text(text):\n",
    "    # text = re.sub(r'[^a-z0-9\\s]', '', text.upper())\n",
    "    text = re.sub(r'_{2,}', '', text) # remove sequence of underscores\n",
    "    text = re.sub(r'\\[\\*\\*.*?\\*\\*\\]', '', text) # remove confidential text\n",
    "    text = re.sub(r'\\s+', ' ', text).strip()\n",
    "    return text"
   ]
  },
  {
   "cell_type": "code",
   "execution_count": 83,
   "metadata": {},
   "outputs": [],
   "source": [
    "# Consider expanding abbreviations\n",
    "# Due to the large number of them, we likely won't utilise this\n",
    "\n",
    "abbreviation_map = {\n",
    "    \"htn\": \"hypertension\",\n",
    "    \"tia\": \"transient ischemic attack\",\n",
    "    # add more abbreviations as needed\n",
    "}\n",
    "\n",
    "def expand_abbreviations(text):\n",
    "    for abbr, expansion in abbreviation_map.items():\n",
    "        text = text.replace(abbr, expansion)\n",
    "    return text\n"
   ]
  },
  {
   "cell_type": "code",
   "execution_count": 96,
   "metadata": {},
   "outputs": [],
   "source": [
    "def preprocess_text(text):\n",
    "    text = clean_text(text)\n",
    "    text = remove_patterns(text)\n",
    "    # text = expand_abbreviations(text)\n",
    "    return text"
   ]
  },
  {
   "cell_type": "code",
   "execution_count": 90,
   "metadata": {},
   "outputs": [
    {
     "data": {
      "text/plain": [
       "array([['PATIENT/TEST INFORMATION:\\nIndication: Acute MR worsening,ESRD, on HD, NSLS lung Ca, DM2,HTN,respiratory distress\\nHeight: (in) 59\\nWeight (lb): 136\\nBSA (m2): 1.57 m2\\nBP (mm Hg): 126/61\\nHR (bpm): 95\\nStatus: Inpatient\\nDate/Time: [**2200-10-22**] at 15:14\\nTest: Portable TTE (Complete)\\nDoppler: Full Doppler and color Doppler\\nContrast: None\\nTechnical Quality: Adequate\\n\\n\\nINTERPRETATION:\\n\\nFindings:\\n\\nThis study was compared to the prior study of [**2200-1-2**].\\n\\n\\nLEFT ATRIUM: Normal LA size.\\n\\nRIGHT ATRIUM/INTERATRIAL SEPTUM: Normal RA size.\\n\\nLEFT VENTRICLE: Mild symmetric LVH with normal cavity size. Moderately\\ndepressed LVEF. No resting LVOT gradient.\\n\\nRIGHT VENTRICLE: Normal RV chamber size and free wall motion.\\n\\nAORTA: Normal aortic diameter at the sinus level. Normal ascending aorta\\ndiameter.\\n\\nAORTIC VALVE: Mildly thickened aortic valve leaflets (3). No AS. Trace AR.\\n\\nMITRAL VALVE: Mildly thickened mitral valve leaflets. No MVP. Physiologic MR\\n(within normal limits).\\n\\nTRICUSPID VALVE: Mildly thickened tricuspid valve leaflets. Indeterminate PA\\nsystolic pressure.\\n\\nPULMONIC VALVE/PULMONARY ARTERY: Pulmonic valve not visualized. No PS.\\nPhysiologic PR.\\n\\nPERICARDIUM: Trivial/physiologic pericardial effusion.\\n\\nConclusions:\\nThe left atrium is normal in size. There is mild symmetric left ventricular\\nhypertrophy with normal cavity size. Overall left ventricular systolic\\nfunction is moderately depressed (LVEF= XX %). Right ventricular chamber size\\nand free wall motion are normal. The aortic valve leaflets (3) are mildly\\nthickened but aortic stenosis is not present. Trace aortic regurgitation is\\nseen. The mitral valve leaflets are mildly thickened. There is no mitral valve\\nprolapse. Physiologic mitral regurgitation is seen (within normal limits). The\\ntricuspid valve leaflets are mildly thickened. The pulmonary artery systolic\\npressure could not be determined. There is a trivial/physiologic pericardial\\neffusion.\\n\\nIMPRESSION: Mild symmetric LVH with moderate to severe global hypokinesis.\\nLateral wall function is relatively better. No significant mitral\\nregurgitation seen.\\n\\nCompared with the prior study (images reviewed) of [**2200-1-2**], the degree of\\nmitral regurgitation has decreased. LV systolic dysfunction is similar.\\n\\n\\n'],\n",
       "       ['Sinus rhythm.  Modest intraventricular conduction delay.  Left ventricular\\nhypertrophy with ST-T wave abnormalities.  The ST-T wave changes are diffuse\\nand cannot exclude ischemia.  Clinical correlation is suggested.  Since the\\nprevious tracing of [**2200-10-21**] right bundle-branch block and left anterior\\nfascicular block are now absent and ST-T wave changes appear less prominent.\\nTRACING #3\\n\\n'],\n",
       "       ['Sinus rhythm.  Right bundle-branch block.  Left anterior fascicular block.\\nLeft ventricular hypertrophy.  Diffuse ST-T wave abnormalities may be due\\nto ischemia, intraventricular conduction delay and left ventricular\\nhypertrophy.  Clinical correlation is suggested.  Since the previous tracing\\nof the same date right bundle-branch block, left anterior fascicular block and\\nfurther ST-T wave changes are all now present.\\nTRACING #2\\n\\n'],\n",
       "       ['Sinus tachycardia.  Intraventricular conduction delay.  Left ventricular\\nhypertrophy.  ST-T wave abnormalities may be due to intraventricular conduction\\ndelay, left ventricular hypertrophy and possible ischemia.  Clinical\\ncorrelation is suggested.  Since the previous tracing of [**2200-7-29**] sinus\\ntachycardia is now present and ST-T wave abnormalities are more prominent.\\nTRACING #1\\n\\n'],\n",
       "       ['[**2200-10-21**] 6:48 PM\\n CHEST (PORTABLE AP); -77 BY DIFFERENT PHYSICIAN                 [**Name Initial (PRE) 42**] # [**Clip Number (Radiology) 11896**]\\n Reason: assess for fluid status given pulm edema noted on prior\\n Admitting Diagnosis: RESPIRATORY DISTRESS\\n ______________________________________________________________________________\\n [**Hospital 2**] MEDICAL CONDITION:\\n  61 year old woman with HD-dependent CKD, RLL dx by CXR today\\n REASON FOR THIS EXAMINATION:\\n  assess for fluid status given pulm edema noted on prior\\n ______________________________________________________________________________\\n WET READ: YGd TUE [**2200-10-21**] 7:43 PM\\n  New HD catheter tip at lower SVC.  R port-A-cath and other lines and tubes\\n  stable in position.  Persistent RUL consolidation.  Improved interstitial\\n  edema.  Likely new R pleural effusion.  RUL nodule obscured by consolidation,\\n  but seen on CT from [**2200-5-28**].  d/[**Initials (NamePattern4) **] [**Last Name (NamePattern4) **] [**Last Name (NamePattern1) 3088**] by [**Doctor Last Name 6763**] x [**Numeric Identifier 6764**] at 7p on\\n  [**2200-10-21**].\\n ______________________________________________________________________________\\n                                 FINAL REPORT\\n HISTORY:  Catheter placement.\\n\\n FINDINGS:  The new hemodialysis catheter tip is in the lower portion of the\\n SVC.  Port-A-Cath and other lines are stable in position.  Persistent right\\n upper lobe consolidation with some increase in aeration in the area.  The\\n degree of pulmonary vascular congestion has decreased.  Obscuration of the\\n right hemidiaphragm is consistent with a developing pleural effusion.  The\\n consolidation obscures the right upper lobe nodule seen on CT scan from [**Month (only) 763**].\\n\\n This information was discussed with Dr. [**First Name (STitle) 3088**] by the resident on call.\\n\\n\\n'],\n",
       "       ['[**2200-10-21**] 12:01 PM\\n CHEST (PORTABLE AP); -76 BY SAME PHYSICIAN                      [**Name Initial (PRE) 1**] # [**Clip Number (Radiology) 74755**]\\n Reason: sp ett check placement\\n ______________________________________________________________________________\\n [**Hospital 3**] MEDICAL CONDITION:\\n  63 year old woman with acute sob, dialysis patient\\n REASON FOR THIS EXAMINATION:\\n  sp ett check placement\\n ______________________________________________________________________________\\n                                 FINAL REPORT\\n AP PORTABLE CHEST [**2200-10-21**] AT 1209 HOURS.\\n\\n HISTORY:  Acute shortness of breath in this dialysis patient.  Endotracheal\\n tube placement.\\n\\n COMPARISON:  Earlier same day.\\n\\n FINDINGS:  Consistent with the given history, an endotracheal tube is now\\n present with the distal tip situated approximately 3.8 cm from the carina.  A\\n nasogastric tube has also been inserted with the sidehole projecting over the\\n gastric fundus.  There is a dense right upper lobe consolidation, consistent\\n with pneumonia.  Diffuse interstitial opacities remain present, consistent\\n with underlying pulmonary edema.  The mediastinum is grossly stable.  The\\n cardiac silhouette is enlarged.  No large effusion or pneumothorax is seen.\\n The Port-A-Cath previously noted is stable in position.  Incidental note is\\n made of prior cholecystectomy.\\n\\n IMPRESSION:  Right upper lobe pneumonia with associated significant pulmonary\\n edema from volume overload, possibly due to cardiogenic or nephrogenic\\n etiologies.\\n\\n\\n'],\n",
       "       [\"[**2200-10-21**] 11:44 AM\\n CHEST (PORTABLE AP)                                             Clip # [**Clip Number (Radiology) 74685**]\\n Reason: acute CT process?\\n ______________________________________________________________________________\\n [**Hospital 3**] MEDICAL CONDITION:\\n  63 year old woman with dyspnea, ams, eval for acute CT process\\n REASON FOR THIS EXAMINATION:\\n  acute CT process?\\n ______________________________________________________________________________\\n                                 FINAL REPORT\\n AP PORTABLE CHEST, [**2200-10-21**] AT 11:45 A.M.\\n\\n HISTORY:  Dyspnea and altered mental status.\\n\\n COMPARISON:  None.\\n\\n FINDINGS:  Please note the patient was unable to comply with technologist's\\n instructions and therefore the study is limited by positioning.  The patient's\\n chin overlies the lung apices, particularly on the right.  The patient is also\\n markedly rotated.  Lung volumes are markedly diminished.  There is extensive\\n reticular interstitial opacity throughout both lungs, most consistent with\\n severe pulmonary edema.  More dense consolidation is seen in the mid and upper\\n right lung, which is visible.  Please note again the right lung apex is\\n obscured.  There is an indwelling Port-A-Cath from a right subclavian approach\\n with the distal tip of the catheter at the superior cavoatrial junction.  The\\n mediastinum is difficult to assess.  The cardiac silhouette is borderline\\n enlarged.  The acuity of this finding is unknown.  There is no definite large\\n effusion.  No large pneumothorax is seen.\\n\\n IMPRESSION:  Multiple limitations as above.  There is diffuse and severe\\n pulmonary edema.  A dense consolidation on the right may indicate confluent\\n edema, although pneumonia or underlying mass lesion cannot be excluded.\\n\\n\\n\"]],\n",
       "      dtype=object)"
      ]
     },
     "execution_count": 90,
     "metadata": {},
     "output_type": "execute_result"
    }
   ],
   "source": [
    "test_notes"
   ]
  },
  {
   "cell_type": "code",
   "execution_count": 97,
   "metadata": {},
   "outputs": [
    {
     "data": {
      "text/plain": [
       "['PATIENT/TEST INFORMATION: Indication: Acute MR worsening,ESRD, on HD, NSLS lung Ca, DM2,HTN,respiratory distress Height: (in) 59 Weight (lb): 136 BSA (m2): 1.57 m2 BP (mm Hg): 126/61 HR (bpm): 95 Status: Inpatient Date/Time: at 15:14 Test: Portable TTE (Complete) Doppler: Full Doppler and color Doppler Contrast: None Technical Quality: Adequate INTERPRETATION: Findings: This study was compared to the prior study of . LEFT ATRIUM: Normal LA size. RIGHT ATRIUM/INTERATRIAL SEPTUM: Normal RA size. LEFT VENTRICLE: Mild symmetric LVH with normal cavity size. Moderately depressed LVEF. No resting LVOT gradient. RIGHT VENTRICLE: Normal RV chamber size and free wall motion. AORTA: Normal aortic diameter at the sinus level. Normal ascending aorta diameter. AORTIC VALVE: Mildly thickened aortic valve leaflets (3). No AS. Trace AR. MITRAL VALVE: Mildly thickened mitral valve leaflets. No MVP. Physiologic MR (within normal limits). TRICUSPID VALVE: Mildly thickened tricuspid valve leaflets. Indeterminate PA systolic pressure. PULMONIC VALVE/PULMONARY ARTERY: Pulmonic valve not visualized. No PS. Physiologic PR. PERICARDIUM: Trivial/physiologic pericardial effusion. Conclusions: The left atrium is normal in size. There is mild symmetric left ventricular hypertrophy with normal cavity size. Overall left ventricular systolic function is moderately depressed (LVEF= XX %). Right ventricular chamber size and free wall motion are normal. The aortic valve leaflets (3) are mildly thickened but aortic stenosis is not present. Trace aortic regurgitation is seen. The mitral valve leaflets are mildly thickened. There is no mitral valve prolapse. Physiologic mitral regurgitation is seen (within normal limits). The tricuspid valve leaflets are mildly thickened. The pulmonary artery systolic pressure could not be determined. There is a trivial/physiologic pericardial effusion. IMPRESSION: Mild symmetric LVH with moderate to severe global hypokinesis. Lateral wall function is relatively better. No significant mitral regurgitation seen. Compared with the prior study (images reviewed) of , the degree of mitral regurgitation has decreased. LV systolic dysfunction is similar.',\n",
       " 'Sinus rhythm. Modest intraventricular conduction delay. Left ventricular hypertrophy with ST-T wave abnormalities. The ST-T wave changes are diffuse and cannot exclude ischemia. Clinical correlation is suggested. Since the previous tracing of right bundle-branch block and left anterior fascicular block are now absent and ST-T wave changes appear less prominent. TRACING #3',\n",
       " 'Sinus rhythm. Right bundle-branch block. Left anterior fascicular block. Left ventricular hypertrophy. Diffuse ST-T wave abnormalities may be due to ischemia, intraventricular conduction delay and left ventricular hypertrophy. Clinical correlation is suggested. Since the previous tracing of the same date right bundle-branch block, left anterior fascicular block and further ST-T wave changes are all now present. TRACING #2',\n",
       " 'Sinus tachycardia. Intraventricular conduction delay. Left ventricular hypertrophy. ST-T wave abnormalities may be due to intraventricular conduction delay, left ventricular hypertrophy and possible ischemia. Clinical correlation is suggested. Since the previous tracing of sinus tachycardia is now present and ST-T wave abnormalities are more prominent. TRACING #1',\n",
       " '6:48 PM CHEST (PORTABLE AP); -77  Reason: assess for fluid status given pulm edema noted on prior Admitting Diagnosis: RESPIRATORY DISTRESS MEDICAL CONDITION: 61 year old woman with HD-dependent CKD, RLL dx by CXR today REASON FOR THIS EXAMINATION: assess for fluid status given pulm edema noted on prior WET READ: YGd TUE 7:43 PM New HD catheter tip at lower SVC. R port-A-cath and other lines and tubes stable in position. Persistent RUL consolidation. Improved interstitial edema. Likely new R pleural effusion. RUL nodule obscured by consolidation, but seen on CT from . d/ by x at 7p on . FINAL REPORT HISTORY: Catheter placement. FINDINGS: The new hemodialysis catheter tip is in the lower portion of the SVC. Port-A-Cath and other lines are stable in position. Persistent right upper lobe consolidation with some increase in aeration in the area. The degree of pulmonary vascular congestion has decreased. Obscuration of the right hemidiaphragm is consistent with a developing pleural effusion. The consolidation obscures the right upper lobe nodule seen on CT scan from . This information was discussed with Dr. by the resident on call.',\n",
       " '12:01 PM CHEST (PORTABLE AP); -76  Reason: sp ett check placement MEDICAL CONDITION: 63 year old woman with acute sob, dialysis patient REASON FOR THIS EXAMINATION: sp ett check placement FINAL REPORT AP PORTABLE CHEST AT 1209 HOURS. HISTORY: Acute shortness of breath in this dialysis patient. Endotracheal tube placement. COMPARISON: Earlier same day. FINDINGS: Consistent with the given history, an endotracheal tube is now present with the distal tip situated approximately 3.8 cm from the carina. A nasogastric tube has also been inserted with the sidehole projecting over the gastric fundus. There is a dense right upper lobe consolidation, consistent with pneumonia. Diffuse interstitial opacities remain present, consistent with underlying pulmonary edema. The mediastinum is grossly stable. The cardiac silhouette is enlarged. No large effusion or pneumothorax is seen. The Port-A-Cath previously noted is stable in position. Incidental note is made of prior cholecystectomy. IMPRESSION: Right upper lobe pneumonia with associated significant pulmonary edema from volume overload, possibly due to cardiogenic or nephrogenic etiologies.',\n",
       " \"11:44 AM CHEST (PORTABLE AP)  Reason: acute CT process? MEDICAL CONDITION: 63 year old woman with dyspnea, ams, eval for acute CT process REASON FOR THIS EXAMINATION: acute CT process? FINAL REPORT AP PORTABLE CHEST, AT 11:45 A.M. HISTORY: Dyspnea and altered mental status. COMPARISON: None. FINDINGS: Please note the patient was unable to comply with technologist's instructions and therefore the study is limited by positioning. The patient's chin overlies the lung apices, particularly on the right. The patient is also markedly rotated. Lung volumes are markedly diminished. There is extensive reticular interstitial opacity throughout both lungs, most consistent with severe pulmonary edema. More dense consolidation is seen in the mid and upper right lung, which is visible. Please note again the right lung apex is obscured. There is an indwelling Port-A-Cath from a right subclavian approach with the distal tip of the catheter at the superior cavoatrial junction. The mediastinum is difficult to assess. The cardiac silhouette is borderline enlarged. The acuity of this finding is unknown. There is no definite large effusion. No large pneumothorax is seen. IMPRESSION: Multiple limitations as above. There is diffuse and severe pulmonary edema. A dense consolidation on the right may indicate confluent edema, although pneumonia or underlying mass lesion cannot be excluded.\"]"
      ]
     },
     "execution_count": 97,
     "metadata": {},
     "output_type": "execute_result"
    }
   ],
   "source": [
    "[preprocess_text(note[0]) for note in test_notes]"
   ]
  },
  {
   "cell_type": "code",
   "execution_count": 2,
   "metadata": {},
   "outputs": [],
   "source": [
    "import nltk"
   ]
  },
  {
   "cell_type": "code",
   "execution_count": 4,
   "metadata": {},
   "outputs": [
    {
     "name": "stderr",
     "output_type": "stream",
     "text": [
      "[nltk_data] Error loading punkt: <urlopen error [SSL:\n",
      "[nltk_data]     CERTIFICATE_VERIFY_FAILED] certificate verify failed:\n",
      "[nltk_data]     unable to get local issuer certificate (_ssl.c:997)>\n"
     ]
    },
    {
     "data": {
      "text/plain": [
       "False"
      ]
     },
     "execution_count": 4,
     "metadata": {},
     "output_type": "execute_result"
    }
   ],
   "source": [
    "nltk.__path__\n",
    "nltk.download('punkt')"
   ]
  },
  {
   "cell_type": "code",
   "execution_count": 10,
   "metadata": {},
   "outputs": [
    {
     "name": "stdout",
     "output_type": "stream",
     "text": [
      "showing info https://raw.githubusercontent.com/nltk/nltk_data/gh-pages/index.xml\n"
     ]
    },
    {
     "ename": "",
     "evalue": "",
     "output_type": "error",
     "traceback": [
      "\u001b[1;31mThe Kernel crashed while executing code in the the current cell or a previous cell. Please review the code in the cell(s) to identify a possible cause of the failure. Click <a href='https://aka.ms/vscodeJupyterKernelCrash'>here</a> for more info. View Jupyter <a href='command:jupyter.viewOutput'>log</a> for further details."
     ]
    }
   ],
   "source": [
    "\n",
    "import nltk\n",
    "import ssl\n",
    "\n",
    "try:\n",
    "    _create_unverified_https_context = ssl._create_unverified_context\n",
    "except AttributeError:\n",
    "    pass\n",
    "else:\n",
    "    ssl._create_default_https_context = _create_unverified_https_context\n",
    "\n",
    "nltk.download()\n"
   ]
  },
  {
   "cell_type": "code",
   "execution_count": 99,
   "metadata": {},
   "outputs": [],
   "source": [
    "from nltk.tokenize import word_tokenize\n",
    "\n",
    "def nltk_tokenize(text):\n",
    "    return word_tokenize(text)"
   ]
  },
  {
   "cell_type": "code",
   "execution_count": 100,
   "metadata": {},
   "outputs": [
    {
     "ename": "LookupError",
     "evalue": "\n**********************************************************************\n  Resource \u001b[93mpunkt\u001b[0m not found.\n  Please use the NLTK Downloader to obtain the resource:\n\n  \u001b[31m>>> import nltk\n  >>> nltk.download('punkt')\n  \u001b[0m\n  For more information see: https://www.nltk.org/data.html\n\n  Attempted to load \u001b[93mtokenizers/punkt/PY3/english.pickle\u001b[0m\n\n  Searched in:\n    - '/Users/alexturner/nltk_data'\n    - '/Users/alexturner/CITS5553/Project/data-science-capstone-project/.venv/nltk_data'\n    - '/Users/alexturner/CITS5553/Project/data-science-capstone-project/.venv/share/nltk_data'\n    - '/Users/alexturner/CITS5553/Project/data-science-capstone-project/.venv/lib/nltk_data'\n    - '/usr/share/nltk_data'\n    - '/usr/local/share/nltk_data'\n    - '/usr/lib/nltk_data'\n    - '/usr/local/lib/nltk_data'\n    - ''\n**********************************************************************\n",
     "output_type": "error",
     "traceback": [
      "\u001b[0;31m---------------------------------------------------------------------------\u001b[0m",
      "\u001b[0;31mLookupError\u001b[0m                               Traceback (most recent call last)",
      "\u001b[1;32m/Users/alexturner/CITS5553/Project/data-science-capstone-project/AlexTurner/topic_modelling.ipynb Cell 44\u001b[0m line \u001b[0;36m2\n\u001b[1;32m      <a href='vscode-notebook-cell:/Users/alexturner/CITS5553/Project/data-science-capstone-project/AlexTurner/topic_modelling.ipynb#Y114sZmlsZQ%3D%3D?line=0'>1</a>\u001b[0m sample_note \u001b[39m=\u001b[39m \u001b[39m\"\u001b[39m\u001b[39mThis is a note. It has two sentences.\u001b[39m\u001b[39m\"\u001b[39m\n\u001b[0;32m----> <a href='vscode-notebook-cell:/Users/alexturner/CITS5553/Project/data-science-capstone-project/AlexTurner/topic_modelling.ipynb#Y114sZmlsZQ%3D%3D?line=1'>2</a>\u001b[0m tokens \u001b[39m=\u001b[39m nltk_tokenize(sample_note)\n\u001b[1;32m      <a href='vscode-notebook-cell:/Users/alexturner/CITS5553/Project/data-science-capstone-project/AlexTurner/topic_modelling.ipynb#Y114sZmlsZQ%3D%3D?line=2'>3</a>\u001b[0m \u001b[39mprint\u001b[39m(tokens)\n",
      "\u001b[1;32m/Users/alexturner/CITS5553/Project/data-science-capstone-project/AlexTurner/topic_modelling.ipynb Cell 44\u001b[0m line \u001b[0;36m4\n\u001b[1;32m      <a href='vscode-notebook-cell:/Users/alexturner/CITS5553/Project/data-science-capstone-project/AlexTurner/topic_modelling.ipynb#Y114sZmlsZQ%3D%3D?line=2'>3</a>\u001b[0m \u001b[39mdef\u001b[39;00m \u001b[39mnltk_tokenize\u001b[39m(text):\n\u001b[0;32m----> <a href='vscode-notebook-cell:/Users/alexturner/CITS5553/Project/data-science-capstone-project/AlexTurner/topic_modelling.ipynb#Y114sZmlsZQ%3D%3D?line=3'>4</a>\u001b[0m     \u001b[39mreturn\u001b[39;00m word_tokenize(text)\n",
      "File \u001b[0;32m~/CITS5553/Project/data-science-capstone-project/.venv/lib/python3.10/site-packages/nltk/tokenize/__init__.py:129\u001b[0m, in \u001b[0;36mword_tokenize\u001b[0;34m(text, language, preserve_line)\u001b[0m\n\u001b[1;32m    114\u001b[0m \u001b[39mdef\u001b[39;00m \u001b[39mword_tokenize\u001b[39m(text, language\u001b[39m=\u001b[39m\u001b[39m\"\u001b[39m\u001b[39menglish\u001b[39m\u001b[39m\"\u001b[39m, preserve_line\u001b[39m=\u001b[39m\u001b[39mFalse\u001b[39;00m):\n\u001b[1;32m    115\u001b[0m \u001b[39m    \u001b[39m\u001b[39m\"\"\"\u001b[39;00m\n\u001b[1;32m    116\u001b[0m \u001b[39m    Return a tokenized copy of *text*,\u001b[39;00m\n\u001b[1;32m    117\u001b[0m \u001b[39m    using NLTK's recommended word tokenizer\u001b[39;00m\n\u001b[0;32m   (...)\u001b[0m\n\u001b[1;32m    127\u001b[0m \u001b[39m    :type preserve_line: bool\u001b[39;00m\n\u001b[1;32m    128\u001b[0m \u001b[39m    \"\"\"\u001b[39;00m\n\u001b[0;32m--> 129\u001b[0m     sentences \u001b[39m=\u001b[39m [text] \u001b[39mif\u001b[39;00m preserve_line \u001b[39melse\u001b[39;00m sent_tokenize(text, language)\n\u001b[1;32m    130\u001b[0m     \u001b[39mreturn\u001b[39;00m [\n\u001b[1;32m    131\u001b[0m         token \u001b[39mfor\u001b[39;00m sent \u001b[39min\u001b[39;00m sentences \u001b[39mfor\u001b[39;00m token \u001b[39min\u001b[39;00m _treebank_word_tokenizer\u001b[39m.\u001b[39mtokenize(sent)\n\u001b[1;32m    132\u001b[0m     ]\n",
      "File \u001b[0;32m~/CITS5553/Project/data-science-capstone-project/.venv/lib/python3.10/site-packages/nltk/tokenize/__init__.py:106\u001b[0m, in \u001b[0;36msent_tokenize\u001b[0;34m(text, language)\u001b[0m\n\u001b[1;32m     96\u001b[0m \u001b[39mdef\u001b[39;00m \u001b[39msent_tokenize\u001b[39m(text, language\u001b[39m=\u001b[39m\u001b[39m\"\u001b[39m\u001b[39menglish\u001b[39m\u001b[39m\"\u001b[39m):\n\u001b[1;32m     97\u001b[0m \u001b[39m    \u001b[39m\u001b[39m\"\"\"\u001b[39;00m\n\u001b[1;32m     98\u001b[0m \u001b[39m    Return a sentence-tokenized copy of *text*,\u001b[39;00m\n\u001b[1;32m     99\u001b[0m \u001b[39m    using NLTK's recommended sentence tokenizer\u001b[39;00m\n\u001b[0;32m   (...)\u001b[0m\n\u001b[1;32m    104\u001b[0m \u001b[39m    :param language: the model name in the Punkt corpus\u001b[39;00m\n\u001b[1;32m    105\u001b[0m \u001b[39m    \"\"\"\u001b[39;00m\n\u001b[0;32m--> 106\u001b[0m     tokenizer \u001b[39m=\u001b[39m load(\u001b[39mf\u001b[39;49m\u001b[39m\"\u001b[39;49m\u001b[39mtokenizers/punkt/\u001b[39;49m\u001b[39m{\u001b[39;49;00mlanguage\u001b[39m}\u001b[39;49;00m\u001b[39m.pickle\u001b[39;49m\u001b[39m\"\u001b[39;49m)\n\u001b[1;32m    107\u001b[0m     \u001b[39mreturn\u001b[39;00m tokenizer\u001b[39m.\u001b[39mtokenize(text)\n",
      "File \u001b[0;32m~/CITS5553/Project/data-science-capstone-project/.venv/lib/python3.10/site-packages/nltk/data.py:750\u001b[0m, in \u001b[0;36mload\u001b[0;34m(resource_url, format, cache, verbose, logic_parser, fstruct_reader, encoding)\u001b[0m\n\u001b[1;32m    747\u001b[0m     \u001b[39mprint\u001b[39m(\u001b[39mf\u001b[39m\u001b[39m\"\u001b[39m\u001b[39m<<Loading \u001b[39m\u001b[39m{\u001b[39;00mresource_url\u001b[39m}\u001b[39;00m\u001b[39m>>\u001b[39m\u001b[39m\"\u001b[39m)\n\u001b[1;32m    749\u001b[0m \u001b[39m# Load the resource.\u001b[39;00m\n\u001b[0;32m--> 750\u001b[0m opened_resource \u001b[39m=\u001b[39m _open(resource_url)\n\u001b[1;32m    752\u001b[0m \u001b[39mif\u001b[39;00m \u001b[39mformat\u001b[39m \u001b[39m==\u001b[39m \u001b[39m\"\u001b[39m\u001b[39mraw\u001b[39m\u001b[39m\"\u001b[39m:\n\u001b[1;32m    753\u001b[0m     resource_val \u001b[39m=\u001b[39m opened_resource\u001b[39m.\u001b[39mread()\n",
      "File \u001b[0;32m~/CITS5553/Project/data-science-capstone-project/.venv/lib/python3.10/site-packages/nltk/data.py:876\u001b[0m, in \u001b[0;36m_open\u001b[0;34m(resource_url)\u001b[0m\n\u001b[1;32m    873\u001b[0m protocol, path_ \u001b[39m=\u001b[39m split_resource_url(resource_url)\n\u001b[1;32m    875\u001b[0m \u001b[39mif\u001b[39;00m protocol \u001b[39mis\u001b[39;00m \u001b[39mNone\u001b[39;00m \u001b[39mor\u001b[39;00m protocol\u001b[39m.\u001b[39mlower() \u001b[39m==\u001b[39m \u001b[39m\"\u001b[39m\u001b[39mnltk\u001b[39m\u001b[39m\"\u001b[39m:\n\u001b[0;32m--> 876\u001b[0m     \u001b[39mreturn\u001b[39;00m find(path_, path \u001b[39m+\u001b[39;49m [\u001b[39m\"\u001b[39;49m\u001b[39m\"\u001b[39;49m])\u001b[39m.\u001b[39mopen()\n\u001b[1;32m    877\u001b[0m \u001b[39melif\u001b[39;00m protocol\u001b[39m.\u001b[39mlower() \u001b[39m==\u001b[39m \u001b[39m\"\u001b[39m\u001b[39mfile\u001b[39m\u001b[39m\"\u001b[39m:\n\u001b[1;32m    878\u001b[0m     \u001b[39m# urllib might not use mode='rb', so handle this one ourselves:\u001b[39;00m\n\u001b[1;32m    879\u001b[0m     \u001b[39mreturn\u001b[39;00m find(path_, [\u001b[39m\"\u001b[39m\u001b[39m\"\u001b[39m])\u001b[39m.\u001b[39mopen()\n",
      "File \u001b[0;32m~/CITS5553/Project/data-science-capstone-project/.venv/lib/python3.10/site-packages/nltk/data.py:583\u001b[0m, in \u001b[0;36mfind\u001b[0;34m(resource_name, paths)\u001b[0m\n\u001b[1;32m    581\u001b[0m sep \u001b[39m=\u001b[39m \u001b[39m\"\u001b[39m\u001b[39m*\u001b[39m\u001b[39m\"\u001b[39m \u001b[39m*\u001b[39m \u001b[39m70\u001b[39m\n\u001b[1;32m    582\u001b[0m resource_not_found \u001b[39m=\u001b[39m \u001b[39mf\u001b[39m\u001b[39m\"\u001b[39m\u001b[39m\\n\u001b[39;00m\u001b[39m{\u001b[39;00msep\u001b[39m}\u001b[39;00m\u001b[39m\\n\u001b[39;00m\u001b[39m{\u001b[39;00mmsg\u001b[39m}\u001b[39;00m\u001b[39m\\n\u001b[39;00m\u001b[39m{\u001b[39;00msep\u001b[39m}\u001b[39;00m\u001b[39m\\n\u001b[39;00m\u001b[39m\"\u001b[39m\n\u001b[0;32m--> 583\u001b[0m \u001b[39mraise\u001b[39;00m \u001b[39mLookupError\u001b[39;00m(resource_not_found)\n",
      "\u001b[0;31mLookupError\u001b[0m: \n**********************************************************************\n  Resource \u001b[93mpunkt\u001b[0m not found.\n  Please use the NLTK Downloader to obtain the resource:\n\n  \u001b[31m>>> import nltk\n  >>> nltk.download('punkt')\n  \u001b[0m\n  For more information see: https://www.nltk.org/data.html\n\n  Attempted to load \u001b[93mtokenizers/punkt/PY3/english.pickle\u001b[0m\n\n  Searched in:\n    - '/Users/alexturner/nltk_data'\n    - '/Users/alexturner/CITS5553/Project/data-science-capstone-project/.venv/nltk_data'\n    - '/Users/alexturner/CITS5553/Project/data-science-capstone-project/.venv/share/nltk_data'\n    - '/Users/alexturner/CITS5553/Project/data-science-capstone-project/.venv/lib/nltk_data'\n    - '/usr/share/nltk_data'\n    - '/usr/local/share/nltk_data'\n    - '/usr/lib/nltk_data'\n    - '/usr/local/lib/nltk_data'\n    - ''\n**********************************************************************\n"
     ]
    }
   ],
   "source": [
    "sample_note = \"This is a note. It has two sentences.\"\n",
    "tokens = nltk_tokenize(sample_note)\n",
    "print(tokens)"
   ]
  },
  {
   "cell_type": "code",
   "execution_count": null,
   "metadata": {},
   "outputs": [],
   "source": [
    "def remstopwords(text):\n",
    "        text = re.sub('\\*\\*[^]*\\*\\*\\]', '', text)\n",
    "        text = re.sub('<[^>]*>', '', text)\n",
    "        text = re.sub('[\\W]+', ' ', text.lower()) \n",
    "        text = re.sub(\" \\d+\", \" \", text)\n",
    "        return \" \".join([i for i in text.split() if i not in stopwords])"
   ]
  },
  {
   "cell_type": "code",
   "execution_count": 60,
   "metadata": {},
   "outputs": [
    {
     "ename": "KeyboardInterrupt",
     "evalue": "",
     "output_type": "error",
     "traceback": [
      "\u001b[0;31m---------------------------------------------------------------------------\u001b[0m",
      "\u001b[0;31mKeyboardInterrupt\u001b[0m                         Traceback (most recent call last)",
      "\u001b[1;32m/Users/alexturner/CITS5553/Project/data-science-capstone-project/AlexTurner/topic_modelling.ipynb Cell 24\u001b[0m line \u001b[0;36m1\n\u001b[0;32m----> <a href='vscode-notebook-cell:/Users/alexturner/CITS5553/Project/data-science-capstone-project/AlexTurner/topic_modelling.ipynb#W6sZmlsZQ%3D%3D?line=0'>1</a>\u001b[0m \u001b[39mfrom\u001b[39;00m \u001b[39msklearn\u001b[39;00m\u001b[39m.\u001b[39;00m\u001b[39mfeature_extraction\u001b[39;00m\u001b[39m.\u001b[39;00m\u001b[39mtext\u001b[39;00m \u001b[39mimport\u001b[39;00m CountVectorizer\n\u001b[1;32m      <a href='vscode-notebook-cell:/Users/alexturner/CITS5553/Project/data-science-capstone-project/AlexTurner/topic_modelling.ipynb#W6sZmlsZQ%3D%3D?line=1'>2</a>\u001b[0m \u001b[39mfrom\u001b[39;00m \u001b[39msklearn\u001b[39;00m\u001b[39m.\u001b[39;00m\u001b[39mdecomposition\u001b[39;00m \u001b[39mimport\u001b[39;00m LatentDirichletAllocation\n\u001b[1;32m      <a href='vscode-notebook-cell:/Users/alexturner/CITS5553/Project/data-science-capstone-project/AlexTurner/topic_modelling.ipynb#W6sZmlsZQ%3D%3D?line=3'>4</a>\u001b[0m \u001b[39m# for the language NLP part\u001b[39;00m\n\u001b[1;32m      <a href='vscode-notebook-cell:/Users/alexturner/CITS5553/Project/data-science-capstone-project/AlexTurner/topic_modelling.ipynb#W6sZmlsZQ%3D%3D?line=4'>5</a>\u001b[0m \n\u001b[1;32m      <a href='vscode-notebook-cell:/Users/alexturner/CITS5553/Project/data-science-capstone-project/AlexTurner/topic_modelling.ipynb#W6sZmlsZQ%3D%3D?line=5'>6</a>\u001b[0m \u001b[39m# (a lazy function) specify fields from dataset\u001b[39;00m\n\u001b[0;32m   (...)\u001b[0m\n\u001b[1;32m     <a href='vscode-notebook-cell:/Users/alexturner/CITS5553/Project/data-science-capstone-project/AlexTurner/topic_modelling.ipynb#W6sZmlsZQ%3D%3D?line=16'>17</a>\u001b[0m \n\u001b[1;32m     <a href='vscode-notebook-cell:/Users/alexturner/CITS5553/Project/data-science-capstone-project/AlexTurner/topic_modelling.ipynb#W6sZmlsZQ%3D%3D?line=17'>18</a>\u001b[0m \u001b[39m# topic modelling\u001b[39;00m\n",
      "File \u001b[0;32m~/CITS5553/Project/data-science-capstone-project/.venv/lib/python3.10/site-packages/sklearn/__init__.py:83\u001b[0m\n\u001b[1;32m     69\u001b[0m     \u001b[39m# We are not importing the rest of scikit-learn during the build\u001b[39;00m\n\u001b[1;32m     70\u001b[0m     \u001b[39m# process, as it may not be compiled yet\u001b[39;00m\n\u001b[1;32m     71\u001b[0m \u001b[39melse\u001b[39;00m:\n\u001b[0;32m   (...)\u001b[0m\n\u001b[1;32m     77\u001b[0m     \u001b[39m# later is linked to the OpenMP runtime to make it possible to introspect\u001b[39;00m\n\u001b[1;32m     78\u001b[0m     \u001b[39m# it and importing it first would fail if the OpenMP dll cannot be found.\u001b[39;00m\n\u001b[1;32m     79\u001b[0m     \u001b[39mfrom\u001b[39;00m \u001b[39m.\u001b[39;00m \u001b[39mimport\u001b[39;00m (\n\u001b[1;32m     80\u001b[0m         __check_build,  \u001b[39m# noqa: F401\u001b[39;00m\n\u001b[1;32m     81\u001b[0m         _distributor_init,  \u001b[39m# noqa: F401\u001b[39;00m\n\u001b[1;32m     82\u001b[0m     )\n\u001b[0;32m---> 83\u001b[0m     \u001b[39mfrom\u001b[39;00m \u001b[39m.\u001b[39;00m\u001b[39mbase\u001b[39;00m \u001b[39mimport\u001b[39;00m clone\n\u001b[1;32m     84\u001b[0m     \u001b[39mfrom\u001b[39;00m \u001b[39m.\u001b[39;00m\u001b[39mutils\u001b[39;00m\u001b[39m.\u001b[39;00m\u001b[39m_show_versions\u001b[39;00m \u001b[39mimport\u001b[39;00m show_versions\n\u001b[1;32m     86\u001b[0m     __all__ \u001b[39m=\u001b[39m [\n\u001b[1;32m     87\u001b[0m         \u001b[39m\"\u001b[39m\u001b[39mcalibration\u001b[39m\u001b[39m\"\u001b[39m,\n\u001b[1;32m     88\u001b[0m         \u001b[39m\"\u001b[39m\u001b[39mcluster\u001b[39m\u001b[39m\"\u001b[39m,\n\u001b[0;32m   (...)\u001b[0m\n\u001b[1;32m    129\u001b[0m         \u001b[39m\"\u001b[39m\u001b[39mshow_versions\u001b[39m\u001b[39m\"\u001b[39m,\n\u001b[1;32m    130\u001b[0m     ]\n",
      "File \u001b[0;32m~/CITS5553/Project/data-science-capstone-project/.venv/lib/python3.10/site-packages/sklearn/base.py:19\u001b[0m\n\u001b[1;32m     17\u001b[0m \u001b[39mfrom\u001b[39;00m \u001b[39m.\u001b[39;00m\u001b[39m_config\u001b[39;00m \u001b[39mimport\u001b[39;00m config_context, get_config\n\u001b[1;32m     18\u001b[0m \u001b[39mfrom\u001b[39;00m \u001b[39m.\u001b[39;00m\u001b[39mexceptions\u001b[39;00m \u001b[39mimport\u001b[39;00m InconsistentVersionWarning\n\u001b[0;32m---> 19\u001b[0m \u001b[39mfrom\u001b[39;00m \u001b[39m.\u001b[39;00m\u001b[39mutils\u001b[39;00m \u001b[39mimport\u001b[39;00m _IS_32BIT\n\u001b[1;32m     20\u001b[0m \u001b[39mfrom\u001b[39;00m \u001b[39m.\u001b[39;00m\u001b[39mutils\u001b[39;00m\u001b[39m.\u001b[39;00m\u001b[39m_estimator_html_repr\u001b[39;00m \u001b[39mimport\u001b[39;00m estimator_html_repr\n\u001b[1;32m     21\u001b[0m \u001b[39mfrom\u001b[39;00m \u001b[39m.\u001b[39;00m\u001b[39mutils\u001b[39;00m\u001b[39m.\u001b[39;00m\u001b[39m_metadata_requests\u001b[39;00m \u001b[39mimport\u001b[39;00m _MetadataRequester\n",
      "File \u001b[0;32m~/CITS5553/Project/data-science-capstone-project/.venv/lib/python3.10/site-packages/sklearn/utils/__init__.py:22\u001b[0m\n\u001b[1;32m     20\u001b[0m \u001b[39mfrom\u001b[39;00m \u001b[39m.\u001b[39;00m\u001b[39m_bunch\u001b[39;00m \u001b[39mimport\u001b[39;00m Bunch\n\u001b[1;32m     21\u001b[0m \u001b[39mfrom\u001b[39;00m \u001b[39m.\u001b[39;00m\u001b[39m_estimator_html_repr\u001b[39;00m \u001b[39mimport\u001b[39;00m estimator_html_repr\n\u001b[0;32m---> 22\u001b[0m \u001b[39mfrom\u001b[39;00m \u001b[39m.\u001b[39;00m\u001b[39m_param_validation\u001b[39;00m \u001b[39mimport\u001b[39;00m Interval, validate_params\n\u001b[1;32m     23\u001b[0m \u001b[39mfrom\u001b[39;00m \u001b[39m.\u001b[39;00m\u001b[39mclass_weight\u001b[39;00m \u001b[39mimport\u001b[39;00m compute_class_weight, compute_sample_weight\n\u001b[1;32m     24\u001b[0m \u001b[39mfrom\u001b[39;00m \u001b[39m.\u001b[39;00m\u001b[39mdeprecation\u001b[39;00m \u001b[39mimport\u001b[39;00m deprecated\n",
      "File \u001b[0;32m~/CITS5553/Project/data-science-capstone-project/.venv/lib/python3.10/site-packages/sklearn/utils/_param_validation.py:15\u001b[0m\n\u001b[1;32m     12\u001b[0m \u001b[39mfrom\u001b[39;00m \u001b[39mscipy\u001b[39;00m\u001b[39m.\u001b[39;00m\u001b[39msparse\u001b[39;00m \u001b[39mimport\u001b[39;00m csr_matrix, issparse\n\u001b[1;32m     14\u001b[0m \u001b[39mfrom\u001b[39;00m \u001b[39m.\u001b[39;00m\u001b[39m.\u001b[39;00m\u001b[39m_config\u001b[39;00m \u001b[39mimport\u001b[39;00m config_context, get_config\n\u001b[0;32m---> 15\u001b[0m \u001b[39mfrom\u001b[39;00m \u001b[39m.\u001b[39;00m\u001b[39mvalidation\u001b[39;00m \u001b[39mimport\u001b[39;00m _is_arraylike_not_scalar\n\u001b[1;32m     18\u001b[0m \u001b[39mclass\u001b[39;00m \u001b[39mInvalidParameterError\u001b[39;00m(\u001b[39mValueError\u001b[39;00m, \u001b[39mTypeError\u001b[39;00m):\n\u001b[1;32m     19\u001b[0m \u001b[39m    \u001b[39m\u001b[39m\"\"\"Custom exception to be raised when the parameter of a class/method/function\u001b[39;00m\n\u001b[1;32m     20\u001b[0m \u001b[39m    does not have a valid type or value.\u001b[39;00m\n\u001b[1;32m     21\u001b[0m \u001b[39m    \"\"\"\u001b[39;00m\n",
      "File \u001b[0;32m~/CITS5553/Project/data-science-capstone-project/.venv/lib/python3.10/site-packages/sklearn/utils/validation.py:28\u001b[0m\n\u001b[1;32m     26\u001b[0m \u001b[39mfrom\u001b[39;00m \u001b[39m.\u001b[39;00m\u001b[39m.\u001b[39;00m \u001b[39mimport\u001b[39;00m get_config \u001b[39mas\u001b[39;00m _get_config\n\u001b[1;32m     27\u001b[0m \u001b[39mfrom\u001b[39;00m \u001b[39m.\u001b[39;00m\u001b[39m.\u001b[39;00m\u001b[39mexceptions\u001b[39;00m \u001b[39mimport\u001b[39;00m DataConversionWarning, NotFittedError, PositiveSpectrumWarning\n\u001b[0;32m---> 28\u001b[0m \u001b[39mfrom\u001b[39;00m \u001b[39m.\u001b[39;00m\u001b[39m.\u001b[39;00m\u001b[39mutils\u001b[39;00m\u001b[39m.\u001b[39;00m\u001b[39m_array_api\u001b[39;00m \u001b[39mimport\u001b[39;00m _asarray_with_order, _is_numpy_namespace, get_namespace\n\u001b[1;32m     29\u001b[0m \u001b[39mfrom\u001b[39;00m \u001b[39m.\u001b[39;00m\u001b[39m_isfinite\u001b[39;00m \u001b[39mimport\u001b[39;00m FiniteStatus, cy_isfinite\n\u001b[1;32m     30\u001b[0m \u001b[39mfrom\u001b[39;00m \u001b[39m.\u001b[39;00m\u001b[39mfixes\u001b[39;00m \u001b[39mimport\u001b[39;00m _object_dtype_isnan\n",
      "File \u001b[0;32m~/CITS5553/Project/data-science-capstone-project/.venv/lib/python3.10/site-packages/sklearn/utils/_array_api.py:9\u001b[0m\n\u001b[1;32m      6\u001b[0m \u001b[39mimport\u001b[39;00m \u001b[39mscipy\u001b[39;00m\u001b[39m.\u001b[39;00m\u001b[39mspecial\u001b[39;00m \u001b[39mas\u001b[39;00m \u001b[39mspecial\u001b[39;00m\n\u001b[1;32m      8\u001b[0m \u001b[39mfrom\u001b[39;00m \u001b[39m.\u001b[39;00m\u001b[39m.\u001b[39;00m\u001b[39m_config\u001b[39;00m \u001b[39mimport\u001b[39;00m get_config\n\u001b[0;32m----> 9\u001b[0m \u001b[39mfrom\u001b[39;00m \u001b[39m.\u001b[39;00m\u001b[39mfixes\u001b[39;00m \u001b[39mimport\u001b[39;00m parse_version\n\u001b[1;32m     12\u001b[0m \u001b[39mdef\u001b[39;00m \u001b[39m_check_array_api_dispatch\u001b[39m(array_api_dispatch):\n\u001b[1;32m     13\u001b[0m \u001b[39m    \u001b[39m\u001b[39m\"\"\"Check that array_api_compat is installed and NumPy version is compatible.\u001b[39;00m\n\u001b[1;32m     14\u001b[0m \n\u001b[1;32m     15\u001b[0m \u001b[39m    array_api_compat follows NEP29, which has a higher minimum NumPy version than\u001b[39;00m\n\u001b[1;32m     16\u001b[0m \u001b[39m    scikit-learn.\u001b[39;00m\n\u001b[1;32m     17\u001b[0m \u001b[39m    \"\"\"\u001b[39;00m\n",
      "File \u001b[0;32m~/CITS5553/Project/data-science-capstone-project/.venv/lib/python3.10/site-packages/sklearn/utils/fixes.py:18\u001b[0m\n\u001b[1;32m     16\u001b[0m \u001b[39mimport\u001b[39;00m \u001b[39mnumpy\u001b[39;00m \u001b[39mas\u001b[39;00m \u001b[39mnp\u001b[39;00m\n\u001b[1;32m     17\u001b[0m \u001b[39mimport\u001b[39;00m \u001b[39mscipy\u001b[39;00m\n\u001b[0;32m---> 18\u001b[0m \u001b[39mimport\u001b[39;00m \u001b[39mscipy\u001b[39;00m\u001b[39m.\u001b[39;00m\u001b[39mstats\u001b[39;00m\n\u001b[1;32m     19\u001b[0m \u001b[39mimport\u001b[39;00m \u001b[39mthreadpoolctl\u001b[39;00m\n\u001b[1;32m     21\u001b[0m \u001b[39mimport\u001b[39;00m \u001b[39msklearn\u001b[39;00m\n",
      "File \u001b[0;32m~/CITS5553/Project/data-science-capstone-project/.venv/lib/python3.10/site-packages/scipy/stats/__init__.py:608\u001b[0m\n\u001b[1;32m      1\u001b[0m \u001b[39m\"\"\"\u001b[39;00m\n\u001b[1;32m      2\u001b[0m \u001b[39m.. _statsrefmanual:\u001b[39;00m\n\u001b[1;32m      3\u001b[0m \n\u001b[0;32m   (...)\u001b[0m\n\u001b[1;32m    603\u001b[0m \n\u001b[1;32m    604\u001b[0m \u001b[39m\"\"\"\u001b[39;00m\n\u001b[1;32m    606\u001b[0m \u001b[39mfrom\u001b[39;00m \u001b[39m.\u001b[39;00m\u001b[39m_warnings_errors\u001b[39;00m \u001b[39mimport\u001b[39;00m (ConstantInputWarning, NearConstantInputWarning,\n\u001b[1;32m    607\u001b[0m                                DegenerateDataWarning, FitError)\n\u001b[0;32m--> 608\u001b[0m \u001b[39mfrom\u001b[39;00m \u001b[39m.\u001b[39;00m\u001b[39m_stats_py\u001b[39;00m \u001b[39mimport\u001b[39;00m \u001b[39m*\u001b[39m\n\u001b[1;32m    609\u001b[0m \u001b[39mfrom\u001b[39;00m \u001b[39m.\u001b[39;00m\u001b[39m_variation\u001b[39;00m \u001b[39mimport\u001b[39;00m variation\n\u001b[1;32m    610\u001b[0m \u001b[39mfrom\u001b[39;00m \u001b[39m.\u001b[39;00m\u001b[39mdistributions\u001b[39;00m \u001b[39mimport\u001b[39;00m \u001b[39m*\u001b[39m\n",
      "File \u001b[0;32m~/CITS5553/Project/data-science-capstone-project/.venv/lib/python3.10/site-packages/scipy/stats/_stats_py.py:46\u001b[0m\n\u001b[1;32m     44\u001b[0m \u001b[39mimport\u001b[39;00m \u001b[39mscipy\u001b[39;00m\u001b[39m.\u001b[39;00m\u001b[39mspecial\u001b[39;00m \u001b[39mas\u001b[39;00m \u001b[39mspecial\u001b[39;00m\n\u001b[1;32m     45\u001b[0m \u001b[39mfrom\u001b[39;00m \u001b[39mscipy\u001b[39;00m \u001b[39mimport\u001b[39;00m linalg\n\u001b[0;32m---> 46\u001b[0m \u001b[39mfrom\u001b[39;00m \u001b[39m.\u001b[39;00m \u001b[39mimport\u001b[39;00m distributions\n\u001b[1;32m     47\u001b[0m \u001b[39mfrom\u001b[39;00m \u001b[39m.\u001b[39;00m \u001b[39mimport\u001b[39;00m _mstats_basic \u001b[39mas\u001b[39;00m mstats_basic\n\u001b[1;32m     48\u001b[0m \u001b[39mfrom\u001b[39;00m \u001b[39m.\u001b[39;00m\u001b[39m_stats_mstats_common\u001b[39;00m \u001b[39mimport\u001b[39;00m (_find_repeats, linregress, theilslopes,\n\u001b[1;32m     49\u001b[0m                                    siegelslopes)\n",
      "File \u001b[0;32m~/CITS5553/Project/data-science-capstone-project/.venv/lib/python3.10/site-packages/scipy/stats/distributions.py:11\u001b[0m\n\u001b[1;32m      8\u001b[0m \u001b[39mfrom\u001b[39;00m \u001b[39m.\u001b[39;00m\u001b[39m_distn_infrastructure\u001b[39;00m \u001b[39mimport\u001b[39;00m (rv_discrete, rv_continuous, rv_frozen)  \u001b[39m# noqa: F401\u001b[39;00m\n\u001b[1;32m     10\u001b[0m \u001b[39mfrom\u001b[39;00m \u001b[39m.\u001b[39;00m \u001b[39mimport\u001b[39;00m _continuous_distns\n\u001b[0;32m---> 11\u001b[0m \u001b[39mfrom\u001b[39;00m \u001b[39m.\u001b[39;00m \u001b[39mimport\u001b[39;00m _discrete_distns\n\u001b[1;32m     13\u001b[0m \u001b[39mfrom\u001b[39;00m \u001b[39m.\u001b[39;00m\u001b[39m_continuous_distns\u001b[39;00m \u001b[39mimport\u001b[39;00m \u001b[39m*\u001b[39m\n\u001b[1;32m     14\u001b[0m \u001b[39mfrom\u001b[39;00m \u001b[39m.\u001b[39;00m\u001b[39m_levy_stable\u001b[39;00m \u001b[39mimport\u001b[39;00m levy_stable\n",
      "File \u001b[0;32m~/CITS5553/Project/data-science-capstone-project/.venv/lib/python3.10/site-packages/scipy/stats/_discrete_distns.py:10\u001b[0m\n\u001b[1;32m      8\u001b[0m \u001b[39mfrom\u001b[39;00m \u001b[39mscipy\u001b[39;00m\u001b[39m.\u001b[39;00m\u001b[39mspecial\u001b[39;00m \u001b[39mimport\u001b[39;00m entr, logsumexp, betaln, gammaln \u001b[39mas\u001b[39;00m gamln, zeta\n\u001b[1;32m      9\u001b[0m \u001b[39mfrom\u001b[39;00m \u001b[39mscipy\u001b[39;00m\u001b[39m.\u001b[39;00m\u001b[39m_lib\u001b[39;00m\u001b[39m.\u001b[39;00m\u001b[39m_util\u001b[39;00m \u001b[39mimport\u001b[39;00m _lazywhere, rng_integers\n\u001b[0;32m---> 10\u001b[0m \u001b[39mfrom\u001b[39;00m \u001b[39mscipy\u001b[39;00m\u001b[39m.\u001b[39;00m\u001b[39minterpolate\u001b[39;00m \u001b[39mimport\u001b[39;00m interp1d\n\u001b[1;32m     12\u001b[0m \u001b[39mfrom\u001b[39;00m \u001b[39mnumpy\u001b[39;00m \u001b[39mimport\u001b[39;00m floor, ceil, log, exp, sqrt, log1p, expm1, tanh, cosh, sinh\n\u001b[1;32m     14\u001b[0m \u001b[39mimport\u001b[39;00m \u001b[39mnumpy\u001b[39;00m \u001b[39mas\u001b[39;00m \u001b[39mnp\u001b[39;00m\n",
      "File \u001b[0;32m~/CITS5553/Project/data-science-capstone-project/.venv/lib/python3.10/site-packages/scipy/interpolate/__init__.py:167\u001b[0m\n\u001b[1;32m      1\u001b[0m \u001b[39m\"\"\"\u001b[39;00m\n\u001b[1;32m      2\u001b[0m \u001b[39m========================================\u001b[39;00m\n\u001b[1;32m      3\u001b[0m \u001b[39mInterpolation (:mod:`scipy.interpolate`)\u001b[39;00m\n\u001b[0;32m   (...)\u001b[0m\n\u001b[1;32m    165\u001b[0m \u001b[39m(should not be used in new code).\u001b[39;00m\n\u001b[1;32m    166\u001b[0m \u001b[39m\"\"\"\u001b[39;00m\n\u001b[0;32m--> 167\u001b[0m \u001b[39mfrom\u001b[39;00m \u001b[39m.\u001b[39;00m\u001b[39m_interpolate\u001b[39;00m \u001b[39mimport\u001b[39;00m \u001b[39m*\u001b[39m\n\u001b[1;32m    168\u001b[0m \u001b[39mfrom\u001b[39;00m \u001b[39m.\u001b[39;00m\u001b[39m_fitpack_py\u001b[39;00m \u001b[39mimport\u001b[39;00m \u001b[39m*\u001b[39m\n\u001b[1;32m    170\u001b[0m \u001b[39m# New interface to fitpack library:\u001b[39;00m\n",
      "File \u001b[0;32m~/CITS5553/Project/data-science-capstone-project/.venv/lib/python3.10/site-packages/scipy/interpolate/_interpolate.py:12\u001b[0m\n\u001b[1;32m      9\u001b[0m \u001b[39mimport\u001b[39;00m \u001b[39mscipy\u001b[39;00m\u001b[39m.\u001b[39;00m\u001b[39mspecial\u001b[39;00m \u001b[39mas\u001b[39;00m \u001b[39mspec\u001b[39;00m\n\u001b[1;32m     10\u001b[0m \u001b[39mfrom\u001b[39;00m \u001b[39mscipy\u001b[39;00m\u001b[39m.\u001b[39;00m\u001b[39mspecial\u001b[39;00m \u001b[39mimport\u001b[39;00m comb\n\u001b[0;32m---> 12\u001b[0m \u001b[39mfrom\u001b[39;00m \u001b[39m.\u001b[39;00m \u001b[39mimport\u001b[39;00m _fitpack_py\n\u001b[1;32m     13\u001b[0m \u001b[39mfrom\u001b[39;00m \u001b[39m.\u001b[39;00m \u001b[39mimport\u001b[39;00m dfitpack\n\u001b[1;32m     14\u001b[0m \u001b[39mfrom\u001b[39;00m \u001b[39m.\u001b[39;00m\u001b[39m_polyint\u001b[39;00m \u001b[39mimport\u001b[39;00m _Interpolator1D\n",
      "File \u001b[0;32m~/CITS5553/Project/data-science-capstone-project/.venv/lib/python3.10/site-packages/scipy/interpolate/_fitpack_py.py:8\u001b[0m\n\u001b[1;32m      5\u001b[0m \u001b[39mimport\u001b[39;00m \u001b[39mnumpy\u001b[39;00m \u001b[39mas\u001b[39;00m \u001b[39mnp\u001b[39;00m\n\u001b[1;32m      7\u001b[0m \u001b[39m# These are in the API for fitpack even if not used in fitpack.py itself.\u001b[39;00m\n\u001b[0;32m----> 8\u001b[0m \u001b[39mfrom\u001b[39;00m \u001b[39m.\u001b[39;00m\u001b[39m_fitpack_impl\u001b[39;00m \u001b[39mimport\u001b[39;00m bisplrep, bisplev, dblint  \u001b[39m# noqa: F401\u001b[39;00m\n\u001b[1;32m      9\u001b[0m \u001b[39mfrom\u001b[39;00m \u001b[39m.\u001b[39;00m \u001b[39mimport\u001b[39;00m _fitpack_impl \u001b[39mas\u001b[39;00m _impl\n\u001b[1;32m     10\u001b[0m \u001b[39mfrom\u001b[39;00m \u001b[39m.\u001b[39;00m\u001b[39m_bsplines\u001b[39;00m \u001b[39mimport\u001b[39;00m BSpline\n",
      "File \u001b[0;32m~/CITS5553/Project/data-science-capstone-project/.venv/lib/python3.10/site-packages/scipy/interpolate/_fitpack_impl.py:35\u001b[0m\n\u001b[1;32m     30\u001b[0m \u001b[39mfrom\u001b[39;00m \u001b[39mnumpy\u001b[39;00m \u001b[39mimport\u001b[39;00m (atleast_1d, array, ones, zeros, sqrt, ravel, transpose,\n\u001b[1;32m     31\u001b[0m                    empty, iinfo, asarray)\n\u001b[1;32m     33\u001b[0m \u001b[39m# Try to replace _fitpack interface with\u001b[39;00m\n\u001b[1;32m     34\u001b[0m \u001b[39m#  f2py-generated version\u001b[39;00m\n\u001b[0;32m---> 35\u001b[0m \u001b[39mfrom\u001b[39;00m \u001b[39m.\u001b[39;00m \u001b[39mimport\u001b[39;00m dfitpack\n\u001b[1;32m     38\u001b[0m dfitpack_int \u001b[39m=\u001b[39m dfitpack\u001b[39m.\u001b[39mtypes\u001b[39m.\u001b[39mintvar\u001b[39m.\u001b[39mdtype\n\u001b[1;32m     41\u001b[0m \u001b[39mdef\u001b[39;00m \u001b[39m_int_overflow\u001b[39m(x, msg\u001b[39m=\u001b[39m\u001b[39mNone\u001b[39;00m):\n",
      "\u001b[0;31mKeyboardInterrupt\u001b[0m: "
     ]
    }
   ],
   "source": [
    "from sklearn.feature_extraction.text import CountVectorizer, TfidfVectorizer\n",
    "from sklearn.decomposition import LatentDirichletAllocation\n",
    "\n",
    "# for the language NLP part\n",
    "\n",
    "# (a lazy function) specify fields from dataset\n",
    "# Every operation returns back a new key. Takes a dictionary, gives a key back\n",
    "\n",
    "# binaryEncode\n",
    "# OHEv\n",
    "# testtrainsplit\n",
    "# dropnans\n",
    "# drop columns - drop target\n",
    "# runmodels (LR, adaboost, RF)\n",
    "# print metrics\n",
    "\n",
    "\n",
    "# topic modelling\n",
    "vectorizer = TfidfVectorizer()\n",
    "vectorizer.fit_transform()\n",
    "num_topics = 15\n",
    "lda_model = LatentDiric\n",
    "\n",
    "\n",
    "# use topics instead\n",
    "# categorises or groups words together (with LDA)\n",
    "# co-ocurrence of the words - heart and cardiac\n",
    "# reduces the dimensionality\n",
    "\n",
    "# will get accuracy for each model"
   ]
  },
  {
   "cell_type": "code",
   "execution_count": null,
   "metadata": {},
   "outputs": [],
   "source": [
    "# Sample data: list of sentences\n",
    "documents = [\"apple orange fruit\", \"dog cat animal\", \"apple banana fruit\", \"lion tiger animal\"]\n",
    "\n",
    "# Vectorize the documents\n",
    "vectorizer = CountVectorizer()\n",
    "data_vectorized = vectorizer.fit_transform(documents)\n",
    "\n",
    "# Train the LDA model\n",
    "lda = LatentDirichletAllocation(n_components=2, max_iter=10)\n",
    "lda.fit(data_vectorized)\n",
    "\n",
    "# Print topics\n",
    "feature_names = vectorizer.get_feature_names_out()\n",
    "for topic_idx, topic in enumerate(lda.components_):\n",
    "    print(f\"Topic {topic_idx}:\")\n",
    "    print(\" \".join([feature_names[i] for i in topic.argsort()[:-3 - 1:-1]]))"
   ]
  },
  {
   "cell_type": "code",
   "execution_count": 5,
   "metadata": {},
   "outputs": [],
   "source": [
    "from sklearn.feature_extraction.text import CountVectorizer\n",
    "from sklearn.decomposition import LatentDirichletAllocation\n",
    "import numpy as np\n",
    "\n",
    "\n",
    "#from nltk.stem import WordNetLemmatizer\n",
    "#import nltk\n",
    "#nltk.download()\n",
    "\n",
    "def preprocess_text(text):\n",
    "    text = re.sub(r'\\W', ' ', str(text))\n",
    "    text = text.lower()\n",
    "    text = re.sub(r'\\s+', ' ', text)\n",
    "    return text\n",
    "\n",
    "# Assume triage_notes is a list containing the text data\n",
    "triage_notes = ['Sample text 1', 'Sample text 2']\n",
    "lab_results = [[1.2, 3.4], [2.3, 4.5]] \n",
    "\n",
    "# Step 1: Preprocess the Text Data\n",
    "triage_notes = [preprocess_text(note) for note in triage_notes]\n",
    "\n",
    "# Step 2: Vectorize the Text Data\n",
    "vectorizer = CountVectorizer(max_features=5000)\n",
    "X_text = vectorizer.fit_transform(triage_notes)\n",
    "\n",
    "# Step 3: Perform LDA for Topic Modeling\n",
    "num_topics = 15\n",
    "lda_model = LatentDirichletAllocation(n_components=num_topics, random_state=0)\n",
    "X_topics = lda_model.fit_transform(X_text)\n",
    "\n",
    "# Step 4: Combine Topic Features with Numerical Data\n",
    "X_numeric = np.array(lab_results)\n",
    "X_combined = np.hstack((X_numeric, X_topics))"
   ]
  }
 ],
 "metadata": {
  "kernelspec": {
   "display_name": ".venv",
   "language": "python",
   "name": "python3"
  },
  "language_info": {
   "codemirror_mode": {
    "name": "ipython",
    "version": 3
   },
   "file_extension": ".py",
   "mimetype": "text/x-python",
   "name": "python",
   "nbconvert_exporter": "python",
   "pygments_lexer": "ipython3",
   "version": "3.10.5"
  },
  "orig_nbformat": 4
 },
 "nbformat": 4,
 "nbformat_minor": 2
}
