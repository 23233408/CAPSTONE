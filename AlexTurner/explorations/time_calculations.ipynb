{
 "cells": [
  {
   "cell_type": "markdown",
   "metadata": {},
   "source": [
    "This notebook shows how to:\n",
    "\n",
    "- Calculate the average time of each test and the final test.\n",
    "\n",
    "- To calculate how many tests are taken over all, the time between tests, and the average time between each test. \n",
    "\n",
    "- Differs from length of stay. It is the time between the first and last test done."
   ]
  },
  {
   "cell_type": "code",
   "execution_count": null,
   "metadata": {},
   "outputs": [],
   "source": [
    "def computeTdiff(x):\n",
    "    x = x['CHARTTIME']\n",
    "    x = x.dropna()\n",
    "    x = sorted(x)\n",
    "    \n",
    "    if len(x)>1:\n",
    "        #return datetime.strptime(x[-1]['CHARTTIME'], '%Y-%m-%d %H:%M%:%S').timestamp() - datetime.strptime(x[0]['CHARTTIME'], '%Y-%m-%d %H:%M%:%S').timestamp()\n",
    "        return datetime.strptime(x[-1], '%Y-%m-%d %H:%M:%S').timestamp() - datetime.strptime(x[0], '%Y-%m-%d %H:%M:%S').timestamp()\n",
    "    else:\n",
    "        return float(\"nan\")"
   ]
  },
  {
   "cell_type": "code",
   "execution_count": null,
   "metadata": {},
   "outputs": [
    {
     "data": {
      "text/plain": [
       "4158547560.0"
      ]
     },
     "metadata": {},
     "output_type": "display_data"
    }
   ],
   "source": [
    "datetime.strptime('2101-10-12 16:06:00', '%Y-%m-%d %H:%M:%S').timestamp()\n"
   ]
  },
  {
   "cell_type": "code",
   "execution_count": null,
   "metadata": {},
   "outputs": [
    {
     "data": {
      "text/plain": [
       "HADM_ID\n",
       "103251.0     0.000000\n",
       "107064.0    15.914583\n",
       "109235.0     2.923611\n",
       "109451.0    12.885417\n",
       "112213.0    12.672917\n",
       "118037.0     0.000000\n",
       "143045.0     6.463194\n",
       "145834.0    10.510417\n",
       "150750.0     4.939583\n",
       "157681.0     4.754861\n",
       "159514.0     3.875000\n",
       "161087.0     3.961806\n",
       "163353.0     0.015278\n",
       "178980.0     0.000000\n",
       "184167.0     6.697917\n",
       "185777.0     6.616667\n",
       "188822.0     1.839583\n",
       "194023.0     3.597222\n",
       "194540.0    25.347222\n",
       "dtype: float64"
      ]
     },
     "metadata": {},
     "output_type": "display_data"
    }
   ],
   "source": [
    "#np.nanmean(df_lab.iloc[:10000].groupby('HADM_ID').apply(lambda x:computeTdiff(x)).values())/(24*3600)\n",
    "df_lab.iloc[:10000].groupby('HADM_ID').apply(lambda x:computeTdiff(x.dropna()))/(24*3600)"
   ]
  }
 ],
 "metadata": {
  "language_info": {
   "name": "python"
  },
  "orig_nbformat": 4
 },
 "nbformat": 4,
 "nbformat_minor": 2
}
