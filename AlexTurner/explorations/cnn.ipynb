{
 "cells": [
  {
   "cell_type": "code",
   "execution_count": null,
   "metadata": {},
   "outputs": [],
   "source": [
    "import numpy as np"
   ]
  },
  {
   "cell_type": "code",
   "execution_count": null,
   "metadata": {},
   "outputs": [],
   "source": [
    "inp = Input(shape=[256,1])\n",
    "out = inp\n",
    "for _ in range(3):\n",
    "  out = MaxPool1D(2)(out)\n",
    "  \n",
    "model_full.compile(loss='mse', optimizer='adam')"
   ]
  },
  {
   "cell_type": "code",
   "execution_count": null,
   "metadata": {},
   "outputs": [],
   "source": [
    "# predicting the future of X\n",
    "model_full.predict(X[:4])\n",
    "plt.plot(model_full.predict(X[:4])).transpose())"
   ]
  },
  {
   "cell_type": "markdown",
   "metadata": {},
   "source": [
    "If you have an image, shrink it twice. Expand it back to the original size. \n",
    "\n",
    "Pass one image, predo\n",
    "\n",
    "compressing the information. "
   ]
  },
  {
   "cell_type": "markdown",
   "metadata": {},
   "source": [
    "Use fully dense network to compress. \n",
    "\n",
    "Will condense and discode\n",
    "Very powerful in autoencoding.\n",
    "\n",
    "Chunking the information, creating a vector of 100 values. For the next page, you are creating another 100 balues. \n",
    "\n",
    "Categorical \n",
    "Age - standardise field. \n",
    "\n",
    "Dense network. Fully dense. MLP.\n",
    "\n",
    "\n",
    "Optimisation in Neural network:\n",
    "2 inputs, 2 weights, output. \n",
    "fitting. \n",
    "(I1W1 + I2W2)+bias\n",
    "\n",
    "\n",
    "\n",
    "Inpu = Input(shape=[10])\n",
    "  out = inp\n",
    "  for _ in range(3):\n",
    "    out = Dense(3)(out)\n",
    "\n",
    "\n",
    "\n",
    "Becuase you want to take all 100 features and then condense them down into 20 features. \n",
    "\n",
    "\n",
    "Survival and cumulative hazard function\n",
    "\n",
    "T(o) with all features is top left. Lines represent sepsis patients. \n",
    "\n",
    "\n"
   ]
  },
  {
   "cell_type": "markdown",
   "metadata": {},
   "source": [
    "exactly same as - here the target is TTE. The time till discharge or death. \n",
    "\n",
    "(t, T)\n",
    "First feature is time (Y value)\n",
    "Colour code for sepsis patients\n",
    "\n",
    "\n"
   ]
  },
  {
   "cell_type": "markdown",
   "metadata": {},
   "source": [
    "Learn on toy models. \n",
    "\n",
    "Thought experiments. If you want to understand, create the dream of the small problem that is representative of the larger problem.\n",
    "\n",
    "\n",
    "\n",
    "Compression ratio should be approximately 10. "
   ]
  }
 ],
 "metadata": {
  "language_info": {
   "name": "python"
  },
  "orig_nbformat": 4
 },
 "nbformat": 4,
 "nbformat_minor": 2
}
