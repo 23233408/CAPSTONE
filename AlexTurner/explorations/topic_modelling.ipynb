{
 "cells": [
  {
   "cell_type": "code",
   "execution_count": null,
   "metadata": {},
   "outputs": [],
   "source": [
    "from sklearn.feature_extraction.text import CountVectorizer\n",
    "from sklearn.decomposition import LatentDirichletAllocation\n",
    "\n",
    "# for the language NLP part\n",
    "\n",
    "# (a lazy function) specify fields from dataset\n",
    "# Every operation returns back a new key. Takes a dictionary, gives a key back\n",
    "\n",
    "# binaryEncode\n",
    "# OHE\n",
    "# testtrainsplit\n",
    "# dropnans\n",
    "# drop columns - drop target\n",
    "# runmodels (LR, adaboost, RF)\n",
    "# print metrics\n",
    "\n",
    "\n",
    "\n",
    "# topic modelling\n",
    "vectorizer = TfidfVectorizer()\n",
    "vectorizer.fit_transform()\n",
    "num_topics = 15\n",
    "lda_model = LatentDiric\n",
    "\n",
    "\n",
    "# use topics instead\n",
    "# categorises or groups words together (with LDA)\n",
    "# co-ocurrence of the words - heart and cardiac\n",
    "# reduces the dimensionality\n",
    "\n",
    "# will get accuracy for each model"
   ]
  },
  {
   "cell_type": "code",
   "execution_count": null,
   "metadata": {},
   "outputs": [],
   "source": [
    "# Sample data: list of sentences\n",
    "documents = [\"apple orange fruit\", \"dog cat animal\", \"apple banana fruit\", \"lion tiger animal\"]\n",
    "\n",
    "# Vectorize the documents\n",
    "vectorizer = CountVectorizer()\n",
    "data_vectorized = vectorizer.fit_transform(documents)\n",
    "\n",
    "# Train the LDA model\n",
    "lda = LatentDirichletAllocation(n_components=2, max_iter=10)\n",
    "lda.fit(data_vectorized)\n",
    "\n",
    "# Print topics\n",
    "feature_names = vectorizer.get_feature_names_out()\n",
    "for topic_idx, topic in enumerate(lda.components_):\n",
    "    print(f\"Topic {topic_idx}:\")\n",
    "    print(\" \".join([feature_names[i] for i in topic.argsort()[:-3 - 1:-1]]))"
   ]
  }
 ],
 "metadata": {
  "language_info": {
   "name": "python"
  },
  "orig_nbformat": 4
 },
 "nbformat": 4,
 "nbformat_minor": 2
}
