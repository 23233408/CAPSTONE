{
 "cells": [
  {
   "cell_type": "markdown",
   "metadata": {},
   "source": [
    "Exploring tensorflow syntax for working with time series data. "
   ]
  },
  {
   "cell_type": "code",
   "execution_count": null,
   "metadata": {},
   "outputs": [],
   "source": [
    "import tensorflow as tf\n",
    "import os\n",
    "import pandas as pd\n",
    "import numpy as np"
   ]
  },
  {
   "cell_type": "code",
   "execution_count": null,
   "metadata": {},
   "outputs": [],
   "source": [
    "# import data\n",
    "df = pd.read_csv(csv_path)"
   ]
  },
  {
   "cell_type": "markdown",
   "metadata": {},
   "source": [
    "* format date time\n",
    "* what granularity are we using for time? Every 10 minutes?\n",
    "\n",
    "temperature, HR, blood pressure\n",
    "\n",
    "X matrix (input)                               y vector (output)\n",
    "[[[1,1,1], [2,2,2], [3,3,3], [4,4,4]]]        [5]\n",
    "[[2, 3, 4, 5]]                                [6]\n",
    "[[3, 4, 5, 6]]                                [7]"
   ]
  },
  {
   "cell_type": "code",
   "execution_count": null,
   "metadata": {},
   "outputs": [],
   "source": [
    "\n",
    "def df_to_x_y(df, window_size=5):\n",
    "    df_as_np = df.to_numpy()\n",
    "    X = []\n",
    "    y = []\n",
    "    \n",
    "    for i in range(len(df_as_np)-window_size):\n",
    "        # whatever i is, take that value, plus the next n\n",
    "        row = [[a] for a in df_as_np[i:i+window_size]]\n",
    "        X.append(row)\n",
    "        label =  df_as_np[i+window_size]\n",
    "    return np.array(X), np.array(y)"
   ]
  },
  {
   "cell_type": "code",
   "execution_count": null,
   "metadata": {},
   "outputs": [],
   "source": [
    "WINDOW_SIZE = 5\n",
    "X, y = df_to_x_y(temp, WINDOW_SIZE)\n",
    "x.shape, y.shape"
   ]
  },
  {
   "cell_type": "code",
   "execution_count": null,
   "metadata": {},
   "outputs": [],
   "source": [
    "# Split to train, val, test\n",
    "\n",
    "# Can this be done using random sampling? \n",
    "# Wouldn't the time series data need to be in order?\n",
    "X_train, y_train = X[:split_val], y[:split_val]\n",
    "X_val, y_val     = X[], y[]\n",
    "X_test, y_test   = X[], "
   ]
  },
  {
   "cell_type": "code",
   "execution_count": null,
   "metadata": {},
   "outputs": [],
   "source": [
    "from tensorflow.keras.models import Sequential"
   ]
  }
 ],
 "metadata": {
  "language_info": {
   "name": "python"
  },
  "orig_nbformat": 4
 },
 "nbformat": 4,
 "nbformat_minor": 2
}
