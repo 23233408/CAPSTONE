{
 "cells": [
  {
   "cell_type": "markdown",
   "metadata": {
    "id": "iLSvrFtkoJCq"
   },
   "source": [
    "# PREDICTING SEPSIS RISK DURING IN-PATIENT ADMISSIONS\n",
    "*Client: Royal Perth Hospital*\n",
    "\n",
    "*Team: Group 7*"
   ]
  },
  {
   "cell_type": "markdown",
   "metadata": {
    "id": "Bh5XhpzXoJCs"
   },
   "source": [
    "# Readme\n",
    "The following libraries need to be installed in order to run the source code."
   ]
  },
  {
   "cell_type": "code",
   "execution_count": 1,
   "metadata": {
    "id": "dez_74VxoJCs"
   },
   "outputs": [],
   "source": [
    "import pandas as pd\n",
    "import numpy as np, warnings\n",
    "import pathlib\n",
    "import os\n",
    "import sweetviz as sv\n",
    "\n",
    "np.warnings = warnings"
   ]
  },
  {
   "cell_type": "code",
   "execution_count": 62,
   "metadata": {},
   "outputs": [],
   "source": [
    "# setup OS agnostic pathnames\n",
    "ROOT_DIR = Path('..')\n",
    "\n",
    "# Note: to run main notebook from root directory, use:\n",
    "# ROOT_DIR = Path('')\n",
    "\n",
    "path_patients = ROOT_DIR / 'data' / \"PATIENTS.csv\"  \n",
    "path_admissions = ROOT_DIR / 'data' / \"ADMISSIONS.csv\"\n",
    "path_diagnoses_icd = ROOT_DIR / 'data' / \"DIAGNOSES_ICD.csv\"\n",
    "path_labevents = ROOT_DIR / 'data' / \"LABEVENTS.csv\"\n",
    "path_microbiologyevents = ROOT_DIR / 'data' / \"MICROBIOLOGYEVENTS.csv\"\n",
    "path_desc_icd = ROOT_DIR / 'data' / \"D_ICD_DIAGNOSES.csv\"\n",
    "path_desc_labitems = ROOT_DIR / 'data' / \"D_LABITEMS.csv\"\n",
    "path_desc_items = ROOT_DIR / 'data' /  \"D_ITEMS.csv\""
   ]
  },
  {
   "cell_type": "markdown",
   "metadata": {
    "id": "j5Qkb70boJCt"
   },
   "source": [
    "# 1.Dataset Processing"
   ]
  },
  {
   "cell_type": "markdown",
   "metadata": {
    "id": "fzimIvgloJCt"
   },
   "source": [
    "## 1.1 Data Cleaning"
   ]
  },
  {
   "cell_type": "markdown",
   "metadata": {},
   "source": [
    "Load the dataset. The following tables are loaded for this project:\n",
    "- PATIENTS\n",
    "- ADMISSIONS\n",
    "- DIAGNOSES_ICD\n",
    "- LABEVENTS\n",
    "- MICROBIOLOGYEVENTS\n",
    "- D_ICD_DIAGNOSES\n",
    "- D_ITEMS"
   ]
  },
  {
   "cell_type": "code",
   "execution_count": 63,
   "metadata": {},
   "outputs": [],
   "source": [
    "# load transaction dataset\n",
    "df_patients = pd.read_csv(path_patients)\n",
    "df_admissions = pd.read_csv(path_admissions)\n",
    "df_diagnoses_icd = pd.read_csv(path_diagnoses_icd)\n",
    "df_labevents = pd.read_csv(path_labevents)\n",
    "df_microbiologyevents = pd.read_csv(path_microbiologyevents)\n",
    "\n",
    "# load description tables\n",
    "df_desc_icd = pd.read_csv(path_desc_icd)\n",
    "df_desc_labitems = pd.read_csv(path_desc_labitems)\n",
    "df_desc_items = pd.read_csv(path_desc_items)"
   ]
  },
  {
   "cell_type": "code",
   "execution_count": 3,
   "metadata": {},
   "outputs": [],
   "source": [
    "# Convert the following datetime columns to datetime format\n",
    "# patients: DOB to date format, we not care about the birth time\n",
    "df_patients['DOB'] = pd.to_datetime(df_patients['DOB'], format='%Y-%m-%d %H:%M:%S')\n",
    "# admissions: ADMITTIME, DISCHTIME, EDREGTIME, EDOUTTIME\n",
    "df_admissions['ADMITTIME'] = pd.to_datetime(df_admissions['ADMITTIME'], format='%Y-%m-%d %H:%M:%S')\n",
    "df_admissions['DISCHTIME'] = pd.to_datetime(df_admissions['DISCHTIME'], format='%Y-%m-%d %H:%M:%S')\n",
    "# labevents: CHARTTIME\n",
    "df_labevents['CHARTTIME'] = pd.to_datetime(df_labevents['CHARTTIME'], format='%Y-%m-%d %H:%M:%S')\n",
    "# microbiologyevents: CHARTDATE to date format and CHARTTIME to datetime format\n",
    "df_microbiologyevents['CHARTDATE'] = pd.to_datetime(df_microbiologyevents['CHARTDATE'], format='%Y-%m-%d')\n",
    "df_microbiologyevents['CHARTTIME'] = pd.to_datetime(df_microbiologyevents['CHARTTIME'], format='%Y-%m-%d %H:%M:%S')"
   ]
  },
  {
   "cell_type": "code",
   "execution_count": null,
   "metadata": {},
   "outputs": [],
   "source": []
  },
  {
   "cell_type": "markdown",
   "metadata": {},
   "source": [
    "The DIAGNOSES_ICD tables has a column ICD9_CODE which is the code for each disease diagnosed for the patient.\n",
    "\n",
    "The Sepsis has 6 codes: ['77181', '99591', '99592', '67020', '67022', '67024']\n",
    "\n",
    "We'll introduce a new column, IS_SEPSIS, as a binary classifier (1 for 6 sepsis ICD9 codes, 0 otherwise) for the target variable."
   ]
  },
  {
   "cell_type": "code",
   "execution_count": 4,
   "metadata": {},
   "outputs": [],
   "source": [
    "# retrieve all sepsis icd code\n",
    "sepsis_icd =  df_desc_icd[df_desc_icd.apply(lambda x:'sepsis' in x['SHORT_TITLE'].lower(),axis=1)]['ICD9_CODE'].values\n",
    "# add new binary classifier target variable\n",
    "df_diagnoses_icd['IS_SEPSIS'] = df_diagnoses_icd.apply(lambda x: 1 if x['ICD9_CODE'] in sepsis_icd else 0, axis=1)"
   ]
  },
  {
   "cell_type": "code",
   "execution_count": 9,
   "metadata": {},
   "outputs": [],
   "source": [
    "df_demographic = pd.merge(df_admissions, df_patients[['SUBJECT_ID', 'GENDER', 'DOB', 'EXPIRE_FLAG']], on='SUBJECT_ID')"
   ]
  },
  {
   "cell_type": "code",
   "execution_count": 5,
   "metadata": {},
   "outputs": [],
   "source": [
    "# filter missing data from Labevents table\n",
    "missing_hadm_df = df_labevents[df_labevents['HADM_ID'].isnull()]"
   ]
  },
  {
   "cell_type": "markdown",
   "metadata": {
    "id": "BynxBJyjoJCt"
   },
   "source": [
    "## 1.2 Data Exploration"
   ]
  },
  {
   "cell_type": "code",
   "execution_count": 81,
   "metadata": {},
   "outputs": [
    {
     "data": {
      "text/plain": [
       "FLAG\n",
       "abnormal    0.351101\n",
       "delta       0.002318\n",
       "Name: count, dtype: float64"
      ]
     },
     "execution_count": 81,
     "metadata": {},
     "output_type": "execute_result"
    }
   ],
   "source": [
    "variables = ['CARDIACOUTPUT', 'TVSET', 'CHLORIDE', 'HEMATOCRIT', 'HEMOGLOBIN', 'ck_mb', 'fibrinogen', 'po2_bloodgas', 'troponin_t']"
   ]
  },
  {
   "cell_type": "code",
   "execution_count": null,
   "metadata": {},
   "outputs": [],
   "source": [
    "sns.kdeplot(data=full_labvitals_static_variables, x='cardiacoutput', hue='gender', shade=True)\n",
    "plt.show()"
   ]
  },
  {
   "cell_type": "code",
   "execution_count": null,
   "metadata": {},
   "outputs": [],
   "source": [
    "def kdeplot_features_static_variable(df, static_feature, features):\n",
    "    fig, axes = plt.subplots(len(features), 1, figsize=(10,65))\n",
    "    fig.suptitle('')\n",
    "    \n",
    "    i=0\n",
    "    for feature in features:\n",
    "        sns.kdeplot(data=df, x=feature, hue=static_feature, shade=True, legend=True, ax=axes[i])\n",
    "        plt.title('')\n",
    "        i+=1\n",
    "    plt.show()\n",
    "\n",
    "full_labvitals_static_variables = full_labvitals.merge(static_variables_df, on=['icustay_id', 'subject_id'], how='left')\n",
    "kdeplot_features_static_variable(full_labvitals_static_variables, 'gender', all_features)"
   ]
  },
  {
   "cell_type": "code",
   "execution_count": null,
   "metadata": {},
   "outputs": [],
   "source": []
  },
  {
   "cell_type": "code",
   "execution_count": 66,
   "metadata": {},
   "outputs": [
    {
     "data": {
      "text/plain": [
       "{\"['SUBJECT_ID']\": 12456, \"['HADM_ID']\": 0, \"['SUBJECT_ID', 'HADM_ID']\": 0}"
      ]
     },
     "execution_count": 66,
     "metadata": {},
     "output_type": "execute_result"
    }
   ],
   "source": [
    "\n",
    "# Static variables related\n",
    "def get_duplicates_count_ids(df):\n",
    "    '''\n",
    "    Returns a dictionary with the count of duplicated ids\n",
    "\n",
    "    Parameters\n",
    "    ----------\n",
    "    df : pandas.DataFrame\n",
    "        Dataframe with the ids to be counted\n",
    "    \n",
    "    Returns\n",
    "    -------\n",
    "    dict\n",
    "        Dictionary with the count of duplicated ids\n",
    "    '''\n",
    "    columns_possibilites = [['SUBJECT_ID'],\n",
    "              ['HADM_ID'],\n",
    "              ['SUBJECT_ID','HADM_ID']]\n",
    "    \n",
    "    duplicated_per_id = {}\n",
    "    \n",
    "    for columns in columns_possibilites:\n",
    "        duplicates_count = df.duplicated(subset=columns).sum()\n",
    "        duplicated_per_id[str(columns)] = duplicates_count\n",
    "\n",
    "    return duplicated_per_id\n",
    "\n",
    "# dupicate ID\n",
    "get_duplicates_count_ids(df_admissions)\n",
    "\n",
    "#duplicated_ids_barplot(static_variables_ids_duplicates, 'Unique entries by ID')\n",
    "\n",
    "#-- count the number of blood gas measurements\n",
    "#-- abg_count - number of labs with pH/PCO2/PO2\n",
    "#-- vbg_count - number of times VBG appears in chartevents\n"
   ]
  },
  {
   "cell_type": "markdown",
   "metadata": {},
   "source": [
    "Identifying missing time series values"
   ]
  },
  {
   "cell_type": "code",
   "execution_count": null,
   "metadata": {},
   "outputs": [],
   "source": [
    "import missingno as msno\n",
    "msno.bar(df_labevents)\n",
    "\n",
    "msno.bar(df_cases_labvitals)\n",
    "plt.show()\n",
    "msno.bar(df_controls_labvitals)\n",
    "plt.show()"
   ]
  },
  {
   "cell_type": "markdown",
   "metadata": {},
   "source": [
    "### Visualise univariate features\n"
   ]
  },
  {
   "cell_type": "code",
   "execution_count": null,
   "metadata": {},
   "outputs": [],
   "source": [
    "plot_univariate_features(full_labvitals[full_labvitals['icustay_id']==200087], ['label'] + vitals_features, '')\n",
    "\n",
    "variables = ['sysbp', 'diabp', 'resprate', 'heartrate', 'spo2_pulsoxy', 'tempc', 'fio2', 'totalpeeplevel']\n",
    "\n",
    "plot_variables_evolution(full_labvitals, 200087, variables, 'Series temporales de diversas constantes vitales y resultados de laboratorio.', show=True)"
   ]
  },
  {
   "cell_type": "markdown",
   "metadata": {
    "id": "sa0vmSCyoJCt"
   },
   "source": [
    "## 1.3 Feature Selection"
   ]
  },
  {
   "cell_type": "code",
   "execution_count": null,
   "metadata": {},
   "outputs": [],
   "source": []
  },
  {
   "cell_type": "markdown",
   "metadata": {
    "id": "SN271srIoJCu"
   },
   "source": [
    "# 2.Sepsis Risk Predicting Model Implementation"
   ]
  },
  {
   "cell_type": "markdown",
   "metadata": {
    "id": "t6U0mrw1oJCu"
   },
   "source": [
    "## 2.1 Logistics Regression Model"
   ]
  },
  {
   "cell_type": "code",
   "execution_count": null,
   "metadata": {},
   "outputs": [],
   "source": []
  },
  {
   "cell_type": "markdown",
   "metadata": {
    "id": "j60ILnKZoJCu"
   },
   "source": [
    "## 2.2 Random Forest Model"
   ]
  },
  {
   "cell_type": "code",
   "execution_count": null,
   "metadata": {},
   "outputs": [],
   "source": []
  },
  {
   "cell_type": "markdown",
   "metadata": {
    "id": "9KRDjGP_oJCu"
   },
   "source": [
    "## 2.3 Gradient Boosted Model"
   ]
  },
  {
   "cell_type": "code",
   "execution_count": null,
   "metadata": {},
   "outputs": [],
   "source": []
  },
  {
   "cell_type": "markdown",
   "metadata": {
    "id": "fgaUcAAeoJCu"
   },
   "source": [
    "## 2.4 LSTM Model"
   ]
  },
  {
   "cell_type": "code",
   "execution_count": null,
   "metadata": {},
   "outputs": [],
   "source": []
  },
  {
   "cell_type": "markdown",
   "metadata": {
    "id": "n3DakgKuoJCu"
   },
   "source": [
    "## 2.5 LSTM + Attention Model"
   ]
  },
  {
   "cell_type": "code",
   "execution_count": null,
   "metadata": {},
   "outputs": [],
   "source": []
  },
  {
   "cell_type": "markdown",
   "metadata": {
    "id": "m9P86G5VoJCu"
   },
   "source": [
    "# 3.Clustering Model"
   ]
  },
  {
   "cell_type": "code",
   "execution_count": null,
   "metadata": {},
   "outputs": [],
   "source": []
  },
  {
   "cell_type": "markdown",
   "metadata": {
    "id": "pGsW9n1zoJCu"
   },
   "source": [
    "# 4.Model Testing"
   ]
  },
  {
   "cell_type": "code",
   "execution_count": null,
   "metadata": {},
   "outputs": [],
   "source": []
  },
  {
   "cell_type": "markdown",
   "metadata": {
    "id": "k56f3Pj_oJCu"
   },
   "source": [
    "# 5.Local and Global Feature Explanation"
   ]
  },
  {
   "cell_type": "code",
   "execution_count": null,
   "metadata": {},
   "outputs": [],
   "source": []
  }
 ],
 "metadata": {
  "colab": {
   "provenance": [],
   "toc_visible": true
  },
  "kernelspec": {
   "display_name": "Python 3 (ipykernel)",
   "language": "python",
   "name": "python3"
  },
  "language_info": {
   "codemirror_mode": {
    "name": "ipython",
    "version": 3
   },
   "file_extension": ".py",
   "mimetype": "text/x-python",
   "name": "python",
   "nbconvert_exporter": "python",
   "pygments_lexer": "ipython3",
   "version": "3.10.5"
  }
 },
 "nbformat": 4,
 "nbformat_minor": 1
}
