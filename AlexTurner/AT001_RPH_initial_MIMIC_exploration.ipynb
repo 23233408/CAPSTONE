{
 "cells": [
  {
   "cell_type": "markdown",
   "id": "e1d7d421",
   "metadata": {},
   "source": [
    "# 23-08-11\n",
    "\n",
    "An initial exploration of the MIMIC-III dataset with Shiv Meka at RPH."
   ]
  },
  {
   "cell_type": "code",
   "execution_count": null,
   "id": "6de5e1e0",
   "metadata": {},
   "outputs": [],
   "source": [
    "import pandas as pd\n",
    "import numpy as np"
   ]
  },
  {
   "cell_type": "code",
   "execution_count": null,
   "id": "a72ccd25",
   "metadata": {},
   "outputs": [],
   "source": [
    "!ls"
   ]
  },
  {
   "cell_type": "markdown",
   "id": "977829da",
   "metadata": {},
   "source": [
    "## Loading Data\n",
    "\n",
    "**ADMISSIONS**: \n",
    "* Each row corresponds to a specific hospital admission, uniquely identified by `HADM_ID`\n",
    "\n",
    "**DIAGNOSES_ICD**: \n",
    "* Each row corresponds to a diagnosis code associated with a specific hospital admission. \n",
    "* `SEQ_NUM` indicates the order in which the diagnosis codes were recorded during that specific patient's admission. \n",
    "* We could use this to provide context about the chronological sequence of diagnoses given to a patient during their hospital stay. We would have to look at what point in time these were updated."
   ]
  },
  {
   "cell_type": "code",
   "execution_count": null,
   "id": "54aceadc",
   "metadata": {},
   "outputs": [],
   "source": [
    "# Patient Admissions\n",
    "# 58976 recorded admissions\n",
    "df_admissions = pd.read_csv('data/ADMISSIONS.csv')"
   ]
  },
  {
   "cell_type": "code",
   "execution_count": null,
   "id": "acc76656",
   "metadata": {
    "scrolled": true
   },
   "outputs": [],
   "source": [
    "# Admission Information\n",
    "df_disease = pd.read_csv('data/DIAGNOSES_ICD.csv')"
   ]
  },
  {
   "cell_type": "code",
   "execution_count": null,
   "id": "cb37256b",
   "metadata": {},
   "outputs": [],
   "source": [
    "# Dictionary for ICD9 Codes\n",
    "df_ICD_desc = pd.read_csv('data/D_ICD_DIAGNOSES.csv')"
   ]
  },
  {
   "cell_type": "code",
   "execution_count": null,
   "id": "06657c36",
   "metadata": {},
   "outputs": [],
   "source": [
    "# Merging admission info with descriptions\n",
    "full_df = pd.merge(df_disease, df_ICD_desc, on='ICD9_CODE')\n",
    "full_df"
   ]
  },
  {
   "cell_type": "markdown",
   "id": "839754fa",
   "metadata": {},
   "source": [
    "## ICD9 Codes"
   ]
  },
  {
   "cell_type": "code",
   "execution_count": null,
   "id": "2d4c2dc5",
   "metadata": {},
   "outputs": [],
   "source": [
    "# A single admission can have multiple ICD codes associated with it\n",
    "df_disease[df_disease['HADM_ID'].values == 172335]"
   ]
  },
  {
   "cell_type": "code",
   "execution_count": null,
   "id": "39ce179a",
   "metadata": {},
   "outputs": [],
   "source": [
    "# ICD9 codes related to sepsis\n",
    "df_ICD_desc[df_ICD_desc['SHORT_TITLE'].apply(lambda x:True if 'sepsis' in x or 'Sepsis' in x else False)]"
   ]
  },
  {
   "cell_type": "code",
   "execution_count": null,
   "id": "7f0e567d",
   "metadata": {},
   "outputs": [],
   "source": [
    "# store values to an array\n",
    "icd_sepsis = df_ICD_desc[df_ICD_desc.apply(lambda x:'seps' in x['SHORT_TITLE'].lower(),axis=1)]['ICD9_CODE'].values"
   ]
  },
  {
   "cell_type": "code",
   "execution_count": null,
   "id": "fccd582b",
   "metadata": {
    "scrolled": false
   },
   "outputs": [],
   "source": [
    "# Filter admission incidences based on sepsis codes\n",
    "df_t01 = df_disease[df_disease.apply(lambda x:x['ICD9_CODE'] in icd_sepsis, axis=1)]"
   ]
  },
  {
   "cell_type": "code",
   "execution_count": null,
   "id": "b9a83d3e",
   "metadata": {},
   "outputs": [],
   "source": [
    "print(df_t01.shape[0], 'incidences of sepsis')\n",
    "print(df_t01['SUBJECT_ID'].unique().shape[0], 'individuals that have had sepsis')"
   ]
  },
  {
   "cell_type": "code",
   "execution_count": null,
   "id": "12a8a8aa",
   "metadata": {},
   "outputs": [],
   "source": [
    "# Patients who have been admitted on multiple occassions\n",
    "df_admissions.groupby('SUBJECT_ID').filter(lambda x: len(x) >= 2)['SUBJECT_ID']\n",
    "print(df_admissions.groupby('SUBJECT_ID').filter(lambda x: len(x) >= 2)['SUBJECT_ID'].unique().shape[0], 'patients have been admitted on multiple occassions')"
   ]
  },
  {
   "cell_type": "markdown",
   "id": "299a6b6c",
   "metadata": {},
   "source": [
    "<span style=\"color:red; font-size:30px;\"> I don't think that I got everything from here! <span>"
   ]
  },
  {
   "cell_type": "code",
   "execution_count": null,
   "id": "9988337d",
   "metadata": {},
   "outputs": [],
   "source": [
    "# Getting patients who have had sepsis\n",
    "full_df[full_df['SHORT_TITLE'].str.contains('sepsis')]['SUBJECT_ID'].unique()"
   ]
  },
  {
   "cell_type": "code",
   "execution_count": null,
   "id": "1b8e7da0",
   "metadata": {},
   "outputs": [],
   "source": [
    "# Merge with admissions, because we don't have time variable"
   ]
  },
  {
   "cell_type": "code",
   "execution_count": null,
   "id": "a4cad404",
   "metadata": {},
   "outputs": [],
   "source": [
    "# multiple admissions per patient. Each admission has multiple ICD Codes\n",
    "# look at pathways in neo4j"
   ]
  },
  {
   "cell_type": "markdown",
   "id": "5dbef7ab",
   "metadata": {},
   "source": [
    "## Sweetviz EDA\n",
    "\n",
    "An auto EDA tool. Click 'association' for all the correlation matrices. "
   ]
  },
  {
   "cell_type": "code",
   "execution_count": null,
   "id": "c14605f3",
   "metadata": {},
   "outputs": [],
   "source": [
    "import sweetviz"
   ]
  },
  {
   "cell_type": "code",
   "execution_count": null,
   "id": "8dad097a",
   "metadata": {
    "scrolled": true
   },
   "outputs": [],
   "source": [
    "# sweetviz.analyze(df_lab)\n",
    "# - will take a while to process all instances\n",
    "analysis = sweetviz.analyze(df_lab.iloc[:10000])"
   ]
  },
  {
   "cell_type": "code",
   "execution_count": null,
   "id": "4144ea17",
   "metadata": {},
   "outputs": [],
   "source": [
    "analysis.show_notebook()"
   ]
  },
  {
   "cell_type": "markdown",
   "id": "0c08d2e8",
   "metadata": {},
   "source": [
    "# LABEVENTS"
   ]
  },
  {
   "cell_type": "code",
   "execution_count": null,
   "id": "07316ce3",
   "metadata": {},
   "outputs": [],
   "source": [
    "df_lab = pd.read_csv('data/LABEVENTS.csv')\n",
    "df_lab_desc = pd.read_csv('data/D_LABITEMS.csv')"
   ]
  },
  {
   "cell_type": "code",
   "execution_count": null,
   "id": "88d6dbab",
   "metadata": {},
   "outputs": [],
   "source": [
    "df_lab_desc"
   ]
  },
  {
   "cell_type": "code",
   "execution_count": null,
   "id": "e0929308",
   "metadata": {
    "scrolled": true
   },
   "outputs": [],
   "source": [
    "pd.merge(df_lab, df_lab_desc, on='ITEMID')"
   ]
  },
  {
   "cell_type": "code",
   "execution_count": null,
   "id": "20b651b0",
   "metadata": {
    "scrolled": true
   },
   "outputs": [],
   "source": [
    "# REF RANGE value \n",
    "# - An indicator for abnormalities\n",
    "# - Is there a reference range field in MIMIC-III?\n",
    "\n",
    "df_lab['FLAG'].unique()"
   ]
  },
  {
   "cell_type": "code",
   "execution_count": null,
   "id": "0e683915",
   "metadata": {},
   "outputs": [],
   "source": [
    "# to know if it is abnormal, it is referenced in the 'FLAG' -> labevents"
   ]
  },
  {
   "cell_type": "markdown",
   "id": "f1238d90",
   "metadata": {},
   "source": [
    "# LABITEMS\n",
    "Tells you about organisms in the blood\n",
    "MICROBIOLOGYEVENTS.csv"
   ]
  },
  {
   "cell_type": "code",
   "execution_count": null,
   "id": "f8d7f9cc",
   "metadata": {},
   "outputs": [],
   "source": [
    "\n",
    "df_lab_desc\n",
    "df_lab_desc['ITEMID'].unique()"
   ]
  },
  {
   "cell_type": "code",
   "execution_count": null,
   "id": "8c80e93d",
   "metadata": {},
   "outputs": [],
   "source": [
    "pd.merge(df_lab, df_items, left_on='SPEC_ITEMID', right_on='ITEM_ID')"
   ]
  },
  {
   "cell_type": "code",
   "execution_count": null,
   "id": "bc5c222a",
   "metadata": {},
   "outputs": [],
   "source": [
    "df_items[df_items['LINKSTO']=='microbiologyevents']"
   ]
  },
  {
   "cell_type": "code",
   "execution_count": null,
   "id": "da106327",
   "metadata": {},
   "outputs": [],
   "source": [
    "# CAREVU is the bedside monitor"
   ]
  },
  {
   "cell_type": "code",
   "execution_count": null,
   "id": "79fe58d1",
   "metadata": {},
   "outputs": [],
   "source": [
    "df_items['LINKSTO'].unique()"
   ]
  },
  {
   "cell_type": "code",
   "execution_count": null,
   "id": "6e4c82c6",
   "metadata": {},
   "outputs": [],
   "source": [
    "# sepsis patients\n",
    "df_sepsis = full_df[full_df['SHORT_TITLE'].apply(lambda x:'sepsis' in x or 'Sepsis' in x)]"
   ]
  },
  {
   "cell_type": "code",
   "execution_count": null,
   "id": "96cba5ff",
   "metadata": {},
   "outputs": [],
   "source": [
    "df_sepsis"
   ]
  },
  {
   "cell_type": "code",
   "execution_count": null,
   "id": "8619487f",
   "metadata": {
    "scrolled": true
   },
   "outputs": [],
   "source": [
    "entity_relation = full_df[full_df]\n",
    "entity_relation.groupby(['SUBJECT_ID','HADM_ID']).apply()"
   ]
  },
  {
   "cell_type": "code",
   "execution_count": null,
   "id": "32a86262",
   "metadata": {},
   "outputs": [],
   "source": []
  }
 ],
 "metadata": {
  "kernelspec": {
   "display_name": "Python 3 (ipykernel)",
   "language": "python",
   "name": "python3"
  },
  "language_info": {
   "codemirror_mode": {
    "name": "ipython",
    "version": 3
   },
   "file_extension": ".py",
   "mimetype": "text/x-python",
   "name": "python",
   "nbconvert_exporter": "python",
   "pygments_lexer": "ipython3",
   "version": "3.10.9"
  },
  "widgets": {
   "application/vnd.jupyter.widget-state+json": {
    "state": {
     "04385e27a5e44564ae453e5f641bef93": {
      "model_module": "@jupyter-widgets/controls",
      "model_module_version": "1.5.0",
      "model_name": "FloatProgressModel",
      "state": {
       "bar_style": "danger",
       "layout": "IPY_MODEL_9580afeeafac4c9a82703bead6d80cb0",
       "max": 10,
       "style": "IPY_MODEL_1ba039aa0f1d491096aa536432c07b29",
       "value": 1
      }
     },
     "117d8881195d4829bf0c0c41801f5f82": {
      "model_module": "@jupyter-widgets/controls",
      "model_module_version": "1.5.0",
      "model_name": "HTMLModel",
      "state": {
       "layout": "IPY_MODEL_5486fb7b19154b648df80f397b43b397",
       "style": "IPY_MODEL_4c0f6789f9754c31b39e8cc964ee66c9",
       "value": "Feature: ROW_ID                              "
      }
     },
     "1ba039aa0f1d491096aa536432c07b29": {
      "model_module": "@jupyter-widgets/controls",
      "model_module_version": "1.5.0",
      "model_name": "ProgressStyleModel",
      "state": {
       "description_width": ""
      }
     },
     "4c0f6789f9754c31b39e8cc964ee66c9": {
      "model_module": "@jupyter-widgets/controls",
      "model_module_version": "1.5.0",
      "model_name": "DescriptionStyleModel",
      "state": {
       "description_width": ""
      }
     },
     "4f18c90b4ac8431880b70a3e28cbb0e7": {
      "model_module": "@jupyter-widgets/controls",
      "model_module_version": "1.5.0",
      "model_name": "HTMLModel",
      "state": {
       "layout": "IPY_MODEL_d7631beb6fc4426baae88853edf665cd",
       "style": "IPY_MODEL_8b2b8e7db6f54bec816b37dfde0aee3c",
       "value": " [ 10%]   51:41 -&gt; (7:45:09 left)"
      }
     },
     "5486fb7b19154b648df80f397b43b397": {
      "model_module": "@jupyter-widgets/base",
      "model_module_version": "1.2.0",
      "model_name": "LayoutModel",
      "state": {}
     },
     "715b674b53674cdd8c673e3d054b7ce3": {
      "model_module": "@jupyter-widgets/base",
      "model_module_version": "1.2.0",
      "model_name": "LayoutModel",
      "state": {
       "display": "inline-flex",
       "flex_flow": "row wrap",
       "width": "100%"
      }
     },
     "8b2b8e7db6f54bec816b37dfde0aee3c": {
      "model_module": "@jupyter-widgets/controls",
      "model_module_version": "1.5.0",
      "model_name": "DescriptionStyleModel",
      "state": {
       "description_width": ""
      }
     },
     "9580afeeafac4c9a82703bead6d80cb0": {
      "model_module": "@jupyter-widgets/base",
      "model_module_version": "1.2.0",
      "model_name": "LayoutModel",
      "state": {
       "flex": "2"
      }
     },
     "d7631beb6fc4426baae88853edf665cd": {
      "model_module": "@jupyter-widgets/base",
      "model_module_version": "1.2.0",
      "model_name": "LayoutModel",
      "state": {}
     },
     "dd3f87d47620412abbf3ee239d131073": {
      "model_module": "@jupyter-widgets/controls",
      "model_module_version": "1.5.0",
      "model_name": "HBoxModel",
      "state": {
       "children": [
        "IPY_MODEL_117d8881195d4829bf0c0c41801f5f82",
        "IPY_MODEL_04385e27a5e44564ae453e5f641bef93",
        "IPY_MODEL_4f18c90b4ac8431880b70a3e28cbb0e7"
       ],
       "layout": "IPY_MODEL_715b674b53674cdd8c673e3d054b7ce3"
      }
     }
    },
    "version_major": 2,
    "version_minor": 0
   }
  }
 },
 "nbformat": 4,
 "nbformat_minor": 5
}
