{
 "cells": [
  {
   "cell_type": "markdown",
   "id": "e1d7d421",
   "metadata": {},
   "source": [
    "# 23-08-11\n",
    "\n",
    "An initial exploration of the MIMIC-III / synthesised RPH dataset."
   ]
  },
  {
   "cell_type": "code",
   "execution_count": 5,
   "id": "6de5e1e0",
   "metadata": {},
   "outputs": [],
   "source": [
    "import pandas as pd\n",
    "import numpy as np\n",
    "from pathlib import Path"
   ]
  },
  {
   "cell_type": "code",
   "execution_count": null,
   "id": "a72ccd25",
   "metadata": {},
   "outputs": [],
   "source": [
    "!ls"
   ]
  },
  {
   "cell_type": "code",
   "execution_count": 6,
   "id": "3447a14f",
   "metadata": {},
   "outputs": [],
   "source": [
    "# setup OS agnostic pathnames\n",
    "ROOT_DIR = Path('..')\n",
    "\n",
    "# Note: to run main notebook from root directory, use:\n",
    "#ROOT_DIR = Path('')"
   ]
  },
  {
   "cell_type": "markdown",
   "id": "977829da",
   "metadata": {},
   "source": [
    "## Loading Data\n",
    "\n",
    "**ADMISSIONS**: \n",
    "* Each row corresponds to a specific hospital admission, uniquely identified by `HADM_ID`\n",
    "\n",
    "**DIAGNOSES_ICD**: \n",
    "* Each row corresponds to a diagnosis code associated with a specific hospital admission. \n",
    "* `SEQ_NUM` indicates the order in which the diagnosis codes were recorded during that specific patient's admission. \n",
    "* We could use this to provide context about the chronological sequence of diagnoses given to a patient during their hospital stay. We would have to look at what point in time these were updated."
   ]
  },
  {
   "cell_type": "code",
   "execution_count": 8,
   "id": "54aceadc",
   "metadata": {},
   "outputs": [],
   "source": [
    "# Patient Admissions\n",
    "# 58976 recorded admissions\n",
    "df_admissions = pd.read_csv(Path(ROOT_DIR / 'data' / 'ADMISSIONS.csv'))"
   ]
  },
  {
   "cell_type": "code",
   "execution_count": 9,
   "id": "acc76656",
   "metadata": {
    "scrolled": true
   },
   "outputs": [],
   "source": [
    "# Admission Information\n",
    "df_disease = pd.read_csv(Path(ROOT_DIR / 'data' / 'DIAGNOSES_ICD.csv'))"
   ]
  },
  {
   "cell_type": "code",
   "execution_count": 10,
   "id": "cb37256b",
   "metadata": {},
   "outputs": [],
   "source": [
    "# Dictionary for ICD9 Codes\n",
    "df_ICD_desc = pd.read_csv(Path(ROOT_DIR / 'data' / 'D_ICD_DIAGNOSES.csv'))"
   ]
  },
  {
   "cell_type": "code",
   "execution_count": 11,
   "id": "798b1f96",
   "metadata": {},
   "outputs": [],
   "source": [
    "df_labevents = pd.read_csv(Path(ROOT_DIR / 'data' / 'LABEVENTS.csv'))\n",
    "df_lab_desc = pd.read_csv(Path(ROOT_DIR / 'data' / 'D_LABITEMS.csv'))"
   ]
  },
  {
   "cell_type": "code",
   "execution_count": null,
   "id": "06657c36",
   "metadata": {},
   "outputs": [],
   "source": [
    "# Merging admission info with descriptions\n",
    "full_df = pd.merge(df_disease, df_ICD_desc, on='ICD9_CODE')\n",
    "full_df"
   ]
  },
  {
   "cell_type": "markdown",
   "id": "839754fa",
   "metadata": {},
   "source": [
    "## ICD9 Codes\n",
    "\n",
    "A single admission can have multiple ICD codes associated with it. We will filter for ICD9 codes related to sepsis, identify the proportion of patients with sepsis, \n"
   ]
  },
  {
   "cell_type": "code",
   "execution_count": null,
   "id": "2d4c2dc5",
   "metadata": {},
   "outputs": [],
   "source": [
    "df_disease[df_disease['HADM_ID'].values == 172335]"
   ]
  },
  {
   "cell_type": "code",
   "execution_count": 12,
   "id": "39ce179a",
   "metadata": {},
   "outputs": [
    {
     "data": {
      "text/html": [
       "<div>\n",
       "<style scoped>\n",
       "    .dataframe tbody tr th:only-of-type {\n",
       "        vertical-align: middle;\n",
       "    }\n",
       "\n",
       "    .dataframe tbody tr th {\n",
       "        vertical-align: top;\n",
       "    }\n",
       "\n",
       "    .dataframe thead th {\n",
       "        text-align: right;\n",
       "    }\n",
       "</style>\n",
       "<table border=\"1\" class=\"dataframe\">\n",
       "  <thead>\n",
       "    <tr style=\"text-align: right;\">\n",
       "      <th></th>\n",
       "      <th>ROW_ID</th>\n",
       "      <th>ICD9_CODE</th>\n",
       "      <th>SHORT_TITLE</th>\n",
       "      <th>LONG_TITLE</th>\n",
       "    </tr>\n",
       "  </thead>\n",
       "  <tbody>\n",
       "    <tr>\n",
       "      <th>9049</th>\n",
       "      <td>9050</td>\n",
       "      <td>77181</td>\n",
       "      <td>NB septicemia [sepsis]</td>\n",
       "      <td>Septicemia [sepsis] of newborn</td>\n",
       "    </tr>\n",
       "    <tr>\n",
       "      <th>10304</th>\n",
       "      <td>11403</td>\n",
       "      <td>99591</td>\n",
       "      <td>Sepsis</td>\n",
       "      <td>Sepsis</td>\n",
       "    </tr>\n",
       "    <tr>\n",
       "      <th>10305</th>\n",
       "      <td>11404</td>\n",
       "      <td>99592</td>\n",
       "      <td>Severe sepsis</td>\n",
       "      <td>Severe sepsis</td>\n",
       "    </tr>\n",
       "    <tr>\n",
       "      <th>13293</th>\n",
       "      <td>13564</td>\n",
       "      <td>67020</td>\n",
       "      <td>Puerperal sepsis-unsp</td>\n",
       "      <td>Puerperal sepsis, unspecified as to episode of...</td>\n",
       "    </tr>\n",
       "    <tr>\n",
       "      <th>13294</th>\n",
       "      <td>13565</td>\n",
       "      <td>67022</td>\n",
       "      <td>Puerprl sepsis-del w p/p</td>\n",
       "      <td>Puerperal sepsis, delivered, with mention of p...</td>\n",
       "    </tr>\n",
       "    <tr>\n",
       "      <th>13295</th>\n",
       "      <td>13566</td>\n",
       "      <td>67024</td>\n",
       "      <td>Puerperl sepsis-postpart</td>\n",
       "      <td>Puerperal sepsis, postpartum condition or comp...</td>\n",
       "    </tr>\n",
       "  </tbody>\n",
       "</table>\n",
       "</div>"
      ],
      "text/plain": [
       "       ROW_ID ICD9_CODE               SHORT_TITLE  \\\n",
       "9049     9050     77181    NB septicemia [sepsis]   \n",
       "10304   11403     99591                    Sepsis   \n",
       "10305   11404     99592             Severe sepsis   \n",
       "13293   13564     67020     Puerperal sepsis-unsp   \n",
       "13294   13565     67022  Puerprl sepsis-del w p/p   \n",
       "13295   13566     67024  Puerperl sepsis-postpart   \n",
       "\n",
       "                                              LONG_TITLE  \n",
       "9049                      Septicemia [sepsis] of newborn  \n",
       "10304                                             Sepsis  \n",
       "10305                                      Severe sepsis  \n",
       "13293  Puerperal sepsis, unspecified as to episode of...  \n",
       "13294  Puerperal sepsis, delivered, with mention of p...  \n",
       "13295  Puerperal sepsis, postpartum condition or comp...  "
      ]
     },
     "execution_count": 12,
     "metadata": {},
     "output_type": "execute_result"
    }
   ],
   "source": [
    "# ICD9 codes related to sepsis\n",
    "df_ICD_desc[df_ICD_desc['SHORT_TITLE'].apply(lambda x:True if 'sepsis' in x or 'Sepsis' in x else False)]"
   ]
  },
  {
   "cell_type": "code",
   "execution_count": 14,
   "id": "7f0e567d",
   "metadata": {},
   "outputs": [
    {
     "data": {
      "text/plain": [
       "array(['77181', '99591', '99592', '67020', '67022', '67024'], dtype=object)"
      ]
     },
     "execution_count": 14,
     "metadata": {},
     "output_type": "execute_result"
    }
   ],
   "source": [
    "# store ICD-9 values to an array\n",
    "icd_sepsis = df_ICD_desc[df_ICD_desc.apply(lambda x:'seps' in x['SHORT_TITLE'].lower(),axis=1)]['ICD9_CODE'].values\n",
    "icd_sepsis"
   ]
  },
  {
   "cell_type": "code",
   "execution_count": 15,
   "id": "fccd582b",
   "metadata": {
    "scrolled": false
   },
   "outputs": [],
   "source": [
    "# Filter admission incidences based on sepsis codes\n",
    "df_t01 = df_disease[df_disease.apply(lambda x:x['ICD9_CODE'] in icd_sepsis, axis=1)]"
   ]
  },
  {
   "cell_type": "code",
   "execution_count": 18,
   "id": "4848c827",
   "metadata": {},
   "outputs": [
    {
     "data": {
      "text/html": [
       "<div>\n",
       "<style scoped>\n",
       "    .dataframe tbody tr th:only-of-type {\n",
       "        vertical-align: middle;\n",
       "    }\n",
       "\n",
       "    .dataframe tbody tr th {\n",
       "        vertical-align: top;\n",
       "    }\n",
       "\n",
       "    .dataframe thead th {\n",
       "        text-align: right;\n",
       "    }\n",
       "</style>\n",
       "<table border=\"1\" class=\"dataframe\">\n",
       "  <thead>\n",
       "    <tr style=\"text-align: right;\">\n",
       "      <th></th>\n",
       "      <th>ROW_ID</th>\n",
       "      <th>SUBJECT_ID</th>\n",
       "      <th>HADM_ID</th>\n",
       "      <th>SEQ_NUM</th>\n",
       "      <th>ICD9_CODE</th>\n",
       "    </tr>\n",
       "  </thead>\n",
       "  <tbody>\n",
       "    <tr>\n",
       "      <th>87</th>\n",
       "      <td>1547</td>\n",
       "      <td>117</td>\n",
       "      <td>164853</td>\n",
       "      <td>16.0</td>\n",
       "      <td>99592</td>\n",
       "    </tr>\n",
       "    <tr>\n",
       "      <th>144</th>\n",
       "      <td>1604</td>\n",
       "      <td>124</td>\n",
       "      <td>138376</td>\n",
       "      <td>6.0</td>\n",
       "      <td>99592</td>\n",
       "    </tr>\n",
       "    <tr>\n",
       "      <th>276</th>\n",
       "      <td>505</td>\n",
       "      <td>64</td>\n",
       "      <td>172056</td>\n",
       "      <td>3.0</td>\n",
       "      <td>99591</td>\n",
       "    </tr>\n",
       "    <tr>\n",
       "      <th>450</th>\n",
       "      <td>679</td>\n",
       "      <td>85</td>\n",
       "      <td>112077</td>\n",
       "      <td>18.0</td>\n",
       "      <td>99591</td>\n",
       "    </tr>\n",
       "    <tr>\n",
       "      <th>497</th>\n",
       "      <td>726</td>\n",
       "      <td>92</td>\n",
       "      <td>142807</td>\n",
       "      <td>2.0</td>\n",
       "      <td>77181</td>\n",
       "    </tr>\n",
       "  </tbody>\n",
       "</table>\n",
       "</div>"
      ],
      "text/plain": [
       "     ROW_ID  SUBJECT_ID  HADM_ID  SEQ_NUM ICD9_CODE\n",
       "87     1547         117   164853     16.0     99592\n",
       "144    1604         124   138376      6.0     99592\n",
       "276     505          64   172056      3.0     99591\n",
       "450     679          85   112077     18.0     99591\n",
       "497     726          92   142807      2.0     77181"
      ]
     },
     "execution_count": 18,
     "metadata": {},
     "output_type": "execute_result"
    }
   ],
   "source": [
    "df_t01.head()"
   ]
  },
  {
   "cell_type": "code",
   "execution_count": null,
   "id": "b9a83d3e",
   "metadata": {},
   "outputs": [],
   "source": [
    "print(df_t01.shape[0], 'incidences of sepsis')\n",
    "print(df_t01['SUBJECT_ID'].unique().shape[0], 'individuals that have had sepsis')"
   ]
  },
  {
   "cell_type": "code",
   "execution_count": 16,
   "id": "12a8a8aa",
   "metadata": {},
   "outputs": [
    {
     "name": "stdout",
     "output_type": "stream",
     "text": [
      "7537 patients have been admitted on multiple occassions\n"
     ]
    }
   ],
   "source": [
    "# Patients who have been admitted on multiple occassions\n",
    "df_admissions.groupby('SUBJECT_ID').filter(lambda x: len(x) >= 2)['SUBJECT_ID']\n",
    "print(df_admissions.groupby('SUBJECT_ID').filter(lambda x: len(x) >= 2)['SUBJECT_ID'].unique().shape[0], 'patients have been admitted on multiple occassions')"
   ]
  },
  {
   "cell_type": "code",
   "execution_count": null,
   "id": "9988337d",
   "metadata": {},
   "outputs": [],
   "source": [
    "# Getting patients who have had sepsis\n",
    "full_df[full_df['SHORT_TITLE'].str.contains('sepsis')]['SUBJECT_ID'].unique()"
   ]
  },
  {
   "cell_type": "code",
   "execution_count": null,
   "id": "1b8e7da0",
   "metadata": {},
   "outputs": [],
   "source": [
    "# Merge with admissions, because we don't have time variable"
   ]
  },
  {
   "cell_type": "code",
   "execution_count": null,
   "id": "a4cad404",
   "metadata": {},
   "outputs": [],
   "source": [
    "# multiple admissions per patient. Each admission has multiple ICD Codes\n",
    "# We need use graph analysis to identify pathways"
   ]
  },
  {
   "cell_type": "markdown",
   "id": "5dbef7ab",
   "metadata": {},
   "source": [
    "## Sweetviz EDA"
   ]
  },
  {
   "cell_type": "code",
   "execution_count": null,
   "id": "c14605f3",
   "metadata": {},
   "outputs": [],
   "source": [
    "import sweetviz"
   ]
  },
  {
   "cell_type": "code",
   "execution_count": null,
   "id": "8dad097a",
   "metadata": {
    "scrolled": true
   },
   "outputs": [],
   "source": [
    "# sweetviz.analyze(df_lab)\n",
    "# Use a subset of the data instead of processing all instances\n",
    "\n",
    "analysis = sweetviz.analyze(df_lab.iloc[:10000])"
   ]
  },
  {
   "cell_type": "code",
   "execution_count": null,
   "id": "4144ea17",
   "metadata": {},
   "outputs": [],
   "source": [
    "# Click 'association' for all the correlation matrices\n",
    "\n",
    "analysis.show_notebook()"
   ]
  },
  {
   "cell_type": "markdown",
   "id": "0c08d2e8",
   "metadata": {},
   "source": [
    "# LABEVENTS\n",
    "\n",
    "Abnormalities in test results are referenced in the `FLAG` feature. "
   ]
  },
  {
   "cell_type": "code",
   "execution_count": null,
   "id": "88d6dbab",
   "metadata": {},
   "outputs": [],
   "source": [
    "df_lab_desc"
   ]
  },
  {
   "cell_type": "code",
   "execution_count": null,
   "id": "e0929308",
   "metadata": {
    "scrolled": true
   },
   "outputs": [],
   "source": [
    "pd.merge(df_labevents, df_lab_desc, on='ITEMID')"
   ]
  },
  {
   "cell_type": "code",
   "execution_count": null,
   "id": "20b651b0",
   "metadata": {
    "scrolled": true
   },
   "outputs": [],
   "source": [
    "# REF RANGE value \n",
    "# - An indicator for abnormalities\n",
    "# - Is there a reference range field in MIMIC-III?\n",
    "\n",
    "df_labevents['FLAG'].unique()"
   ]
  },
  {
   "cell_type": "code",
   "execution_count": null,
   "id": "6ee917c4",
   "metadata": {},
   "outputs": [],
   "source": [
    "# https://www.ncbi.nlm.nih.gov/pmc/articles/PMC3307229/\n",
    "\n",
    "# proportion of flag labels in lab events\n",
    "print(\"Proportion of abnormal and delta flagged tests: \", df_labevents['FLAG'].value_counts() / df_labevents.shape[0])\n",
    "\n",
    "\n",
    "# Abnormal flags are recorded when comparing lab values against threshold ranges. The threshold ranges are not static, may vary based on reagents, and unfortunately are not known to us at present.\n",
    "\n",
    "# get mean value of delta events\n",
    "df_labevents[df_labevents.apply(lambda x:'delta' in x['FLAG'],axis=1)]"
   ]
  },
  {
   "cell_type": "markdown",
   "id": "f1238d90",
   "metadata": {},
   "source": [
    "# LABITEMS\n",
    "Tells you about organisms in the blood\n",
    "MICROBIOLOGYEVENTS.csv"
   ]
  },
  {
   "cell_type": "code",
   "execution_count": null,
   "id": "f8d7f9cc",
   "metadata": {},
   "outputs": [],
   "source": [
    "\n",
    "df_lab_desc\n",
    "df_lab_desc['ITEMID'].unique()"
   ]
  },
  {
   "cell_type": "code",
   "execution_count": null,
   "id": "8c80e93d",
   "metadata": {},
   "outputs": [],
   "source": [
    "pd.merge(df_labevents, df_items, left_on='SPEC_ITEMID', right_on='ITEM_ID')"
   ]
  },
  {
   "cell_type": "code",
   "execution_count": null,
   "id": "bc5c222a",
   "metadata": {},
   "outputs": [],
   "source": [
    "df_items[df_items['LINKSTO']=='microbiologyevents']"
   ]
  },
  {
   "cell_type": "code",
   "execution_count": null,
   "id": "da106327",
   "metadata": {},
   "outputs": [],
   "source": [
    "# CAREVU is the bedside monitor"
   ]
  },
  {
   "cell_type": "code",
   "execution_count": null,
   "id": "79fe58d1",
   "metadata": {},
   "outputs": [],
   "source": [
    "df_items['LINKSTO'].unique()"
   ]
  },
  {
   "cell_type": "code",
   "execution_count": null,
   "id": "6e4c82c6",
   "metadata": {},
   "outputs": [],
   "source": [
    "# sepsis patients\n",
    "df_sepsis = full_df[full_df['SHORT_TITLE'].apply(lambda x:'sepsis' in x or 'Sepsis' in x)]\n",
    "df_sepsis"
   ]
  },
  {
   "cell_type": "code",
   "execution_count": null,
   "id": "8619487f",
   "metadata": {
    "scrolled": true
   },
   "outputs": [],
   "source": [
    "entity_relation = full_df[full_df]\n",
    "entity_relation.groupby(['SUBJECT_ID','HADM_ID']).apply()"
   ]
  },
  {
   "cell_type": "markdown",
   "id": "d525b05f",
   "metadata": {},
   "source": [
    "# Missing Data\n",
    "\n",
    "## HADM_ID"
   ]
  },
  {
   "cell_type": "code",
   "execution_count": null,
   "id": "64121826",
   "metadata": {},
   "outputs": [],
   "source": [
    "# filter missing HADM_ID data\n",
    "missing_hadm_df = df_labevents[df_labevents['HADM_ID'].isnull()]\n",
    "\n",
    "# join tables for existing HADM_IDs\n",
    "joined_df = pd.merge(df_labevents[df_labevents['HADM_ID'].notnull()], df_admission, on=['SUBJECT_ID', 'HADM_ID'], how='left')\n",
    "\n",
    "# find rows with missing HADM_ID\n",
    "def find_hadm_id(row):\n",
    "    possible_admissions = df_admission[df_admission['SUBJECT_ID'] == row['SUBJECT_ID']]\n",
    "    for _, admission_row in possible_admissions.iterrows():\n",
    "        if admission_row['ADMITTIME'] <= row['CHARTTIME'] <= admission_row['DISCHTIME']:\n",
    "            return admission_row['HADM_ID']\n",
    "    return None\n",
    "\n",
    "missing_hadm_df['HADM_ID'] = missing_hadm_df.apply(find_hadm_id, axis=1)\n",
    "\n",
    "# combine the dataframes\n",
    "final_df = pd.concat([joined_df, missing_hadm_df], ignore_index=True)\n",
    "\n",
    "print(final_df)"
   ]
  }
 ],
 "metadata": {
  "kernelspec": {
   "display_name": "Python 3 (ipykernel)",
   "language": "python",
   "name": "python3"
  },
  "language_info": {
   "codemirror_mode": {
    "name": "ipython",
    "version": 3
   },
   "file_extension": ".py",
   "mimetype": "text/x-python",
   "name": "python",
   "nbconvert_exporter": "python",
   "pygments_lexer": "ipython3",
   "version": "3.10.5"
  },
  "widgets": {
   "application/vnd.jupyter.widget-state+json": {
    "state": {
     "04385e27a5e44564ae453e5f641bef93": {
      "model_module": "@jupyter-widgets/controls",
      "model_module_version": "1.5.0",
      "model_name": "FloatProgressModel",
      "state": {
       "bar_style": "danger",
       "layout": "IPY_MODEL_9580afeeafac4c9a82703bead6d80cb0",
       "max": 10,
       "style": "IPY_MODEL_1ba039aa0f1d491096aa536432c07b29",
       "value": 1
      }
     },
     "117d8881195d4829bf0c0c41801f5f82": {
      "model_module": "@jupyter-widgets/controls",
      "model_module_version": "1.5.0",
      "model_name": "HTMLModel",
      "state": {
       "layout": "IPY_MODEL_5486fb7b19154b648df80f397b43b397",
       "style": "IPY_MODEL_4c0f6789f9754c31b39e8cc964ee66c9",
       "value": "Feature: ROW_ID                              "
      }
     },
     "1ba039aa0f1d491096aa536432c07b29": {
      "model_module": "@jupyter-widgets/controls",
      "model_module_version": "1.5.0",
      "model_name": "ProgressStyleModel",
      "state": {
       "description_width": ""
      }
     },
     "4c0f6789f9754c31b39e8cc964ee66c9": {
      "model_module": "@jupyter-widgets/controls",
      "model_module_version": "1.5.0",
      "model_name": "DescriptionStyleModel",
      "state": {
       "description_width": ""
      }
     },
     "4f18c90b4ac8431880b70a3e28cbb0e7": {
      "model_module": "@jupyter-widgets/controls",
      "model_module_version": "1.5.0",
      "model_name": "HTMLModel",
      "state": {
       "layout": "IPY_MODEL_d7631beb6fc4426baae88853edf665cd",
       "style": "IPY_MODEL_8b2b8e7db6f54bec816b37dfde0aee3c",
       "value": " [ 10%]   51:41 -&gt; (7:45:09 left)"
      }
     },
     "5486fb7b19154b648df80f397b43b397": {
      "model_module": "@jupyter-widgets/base",
      "model_module_version": "1.2.0",
      "model_name": "LayoutModel",
      "state": {}
     },
     "715b674b53674cdd8c673e3d054b7ce3": {
      "model_module": "@jupyter-widgets/base",
      "model_module_version": "1.2.0",
      "model_name": "LayoutModel",
      "state": {
       "display": "inline-flex",
       "flex_flow": "row wrap",
       "width": "100%"
      }
     },
     "8b2b8e7db6f54bec816b37dfde0aee3c": {
      "model_module": "@jupyter-widgets/controls",
      "model_module_version": "1.5.0",
      "model_name": "DescriptionStyleModel",
      "state": {
       "description_width": ""
      }
     },
     "9580afeeafac4c9a82703bead6d80cb0": {
      "model_module": "@jupyter-widgets/base",
      "model_module_version": "1.2.0",
      "model_name": "LayoutModel",
      "state": {
       "flex": "2"
      }
     },
     "d7631beb6fc4426baae88853edf665cd": {
      "model_module": "@jupyter-widgets/base",
      "model_module_version": "1.2.0",
      "model_name": "LayoutModel",
      "state": {}
     },
     "dd3f87d47620412abbf3ee239d131073": {
      "model_module": "@jupyter-widgets/controls",
      "model_module_version": "1.5.0",
      "model_name": "HBoxModel",
      "state": {
       "children": [
        "IPY_MODEL_117d8881195d4829bf0c0c41801f5f82",
        "IPY_MODEL_04385e27a5e44564ae453e5f641bef93",
        "IPY_MODEL_4f18c90b4ac8431880b70a3e28cbb0e7"
       ],
       "layout": "IPY_MODEL_715b674b53674cdd8c673e3d054b7ce3"
      }
     }
    },
    "version_major": 2,
    "version_minor": 0
   }
  }
 },
 "nbformat": 4,
 "nbformat_minor": 5
}
